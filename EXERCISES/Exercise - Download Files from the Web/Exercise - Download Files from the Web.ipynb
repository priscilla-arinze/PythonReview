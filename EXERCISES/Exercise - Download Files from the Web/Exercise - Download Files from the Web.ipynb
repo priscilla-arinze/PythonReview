{
 "cells": [
  {
   "cell_type": "markdown",
   "metadata": {},
   "source": [
    "# EXERCISE - Download Files from the Web"
   ]
  },
  {
   "cell_type": "markdown",
   "metadata": {},
   "source": [
    "### Downloading NHL goalies dataset for the 2021-2022 season (CSV file)"
   ]
  },
  {
   "cell_type": "markdown",
   "metadata": {},
   "source": [
    "Source: [Money Puck](https://moneypuck.com/data.htm)"
   ]
  },
  {
   "cell_type": "code",
   "execution_count": 8,
   "metadata": {},
   "outputs": [],
   "source": [
    "from urllib.request import Request, urlopen"
   ]
  },
  {
   "cell_type": "code",
   "execution_count": 12,
   "metadata": {},
   "outputs": [],
   "source": [
    "nhl_goalies_url = Request('https://moneypuck.com/moneypuck/playerData/seasonSummary/2021/regular/goalies.csv', headers={'User-Agent': 'Mozilla/6.0'})"
   ]
  },
  {
   "cell_type": "code",
   "execution_count": 18,
   "metadata": {},
   "outputs": [],
   "source": [
    "def download_nhl_data(csv_url):\n",
    "    # store connection to csv webpage via urllib import above\n",
    "    response = urlopen(csv_url)\n",
    "\n",
    "    # read & store data from webpage connection\n",
    "    csv_data = response.read()\n",
    "\n",
    "    # convert data to string\n",
    "    csv_data_str = str(csv_data)\n",
    "\n",
    "    # splits string for every new line (remember: need another backslash for escape character)\n",
    "    lines = csv_data_str.split(\"\\\\n\")\n",
    "\n",
    "    # 'r' for raw string; doesn't require escape characters (great for urls & file paths)\n",
    "    destination_url = r'nhl_goalies.csv'\n",
    "\n",
    "    # open file for writing purposes\n",
    "    fw = open(destination_url, 'w')\n",
    "\n",
    "    # write each line to file; including new line\n",
    "    for line in lines:\n",
    "        fw.write(line + \"\\n\")\n",
    "    \n",
    "    fw.close()\n"
   ]
  },
  {
   "cell_type": "code",
   "execution_count": 19,
   "metadata": {},
   "outputs": [],
   "source": [
    "download_nhl_data(nhl_goalies_url)"
   ]
  },
  {
   "cell_type": "markdown",
   "metadata": {},
   "source": [
    "## __`nhl_goalies.csv`__ has now been saved to the same folder as this exercise notebook"
   ]
  }
 ],
 "metadata": {
  "interpreter": {
   "hash": "3b806cc711b465e66e8252dff191d8681f8b41038e9cbc25fa942edafd26a2d7"
  },
  "kernelspec": {
   "display_name": "Python 3.9.10 ('base')",
   "language": "python",
   "name": "python3"
  },
  "language_info": {
   "codemirror_mode": {
    "name": "ipython",
    "version": 3
   },
   "file_extension": ".py",
   "mimetype": "text/x-python",
   "name": "python",
   "nbconvert_exporter": "python",
   "pygments_lexer": "ipython3",
   "version": "3.9.10"
  },
  "orig_nbformat": 4
 },
 "nbformat": 4,
 "nbformat_minor": 2
}
