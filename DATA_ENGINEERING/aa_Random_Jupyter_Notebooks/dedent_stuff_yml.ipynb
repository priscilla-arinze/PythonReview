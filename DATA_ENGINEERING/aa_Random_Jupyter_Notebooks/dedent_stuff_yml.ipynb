{
 "cells": [
  {
   "cell_type": "code",
   "execution_count": 1,
   "metadata": {},
   "outputs": [],
   "source": [
    "from textwrap import dedent"
   ]
  },
  {
   "cell_type": "code",
   "execution_count": 8,
   "metadata": {},
   "outputs": [],
   "source": [
    "def yaml_for2(name):\n",
    "    return dedent(\n",
    "        f\"\"\"\\\n",
    "        Component01:\n",
    "            component_build_directive_file: build\n",
    "            component_dependencies:\n",
    "            component_name: {name}\n",
    "            component_root_paths:\n",
    "                include01: {name}\n",
    "            component_type:\n",
    "            public_interfaces:\"\"\")"
   ]
  },
  {
   "cell_type": "code",
   "execution_count": 9,
   "metadata": {},
   "outputs": [
    {
     "name": "stdout",
     "output_type": "stream",
     "text": [
      "Component01:\n",
      "    component_build_directive_file: build\n",
      "    component_dependencies:\n",
      "    component_name: bleh\n",
      "    component_root_paths:\n",
      "        include01: bleh\n",
      "    component_type:\n",
      "    public_interfaces:\n"
     ]
    }
   ],
   "source": [
    "print(yaml_for2(\"bleh\"))"
   ]
  }
 ],
 "metadata": {
  "kernelspec": {
   "display_name": "windev",
   "language": "python",
   "name": "python3"
  },
  "language_info": {
   "codemirror_mode": {
    "name": "ipython",
    "version": 3
   },
   "file_extension": ".py",
   "mimetype": "text/x-python",
   "name": "python",
   "nbconvert_exporter": "python",
   "pygments_lexer": "ipython3",
   "version": "3.10.0"
  },
  "orig_nbformat": 4
 },
 "nbformat": 4,
 "nbformat_minor": 2
}
