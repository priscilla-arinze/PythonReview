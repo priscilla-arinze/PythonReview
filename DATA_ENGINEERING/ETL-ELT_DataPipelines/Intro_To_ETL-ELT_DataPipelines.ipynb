{
 "cells": [
  {
   "cell_type": "markdown",
   "metadata": {},
   "source": [
    "# Intro to ETL & ELT Data Pipelines (*and SQLAlchemy ORM*)\n",
    "\n",
    "### ETL: Extract --> Transform --> Load\n",
    "* Traditional data pipeline process\n",
    "* Strict schema\n",
    "* Typically loaded to data warehouses and/or relational databases after transformation\n",
    "* Schema-on-write technique\n",
    "\n",
    "### ELT: Extract --> Load --> Transform\n",
    "* Newer data pipeline process, particularly for big data datasets\n",
    "* Flexible schema, dependent on end-user's specific needs\n",
    "* Typically loaded to a data lake then is transformed by the end user to fit their needs\n",
    "* Schema-on-read technique"
   ]
  },
  {
   "cell_type": "code",
   "execution_count": 18,
   "metadata": {},
   "outputs": [],
   "source": [
    "import os\n",
    "from sqlalchemy import create_engine\n",
    "import pandas as pd\n",
    "import logging\n",
    "import datetime as dt"
   ]
  },
  {
   "cell_type": "markdown",
   "metadata": {},
   "source": [
    "*Get username, password, etc from separate file*"
   ]
  },
  {
   "cell_type": "code",
   "execution_count": 2,
   "metadata": {},
   "outputs": [],
   "source": [
    "secrets = \"\"\n",
    "secrets_dict = dict()\n",
    "\n",
    "with open(f\"{os.getcwd()}\\\\..\\\\SECRETS.txt\", \"r\") as f:\n",
    "    secrets = f.readlines()\n",
    "\n",
    "for secret in secrets:\n",
    "    secret_no_newline_char = secret.replace(\"\\n\", \"\")\n",
    "    key_value_pair = secret_no_newline_char.split(\" = \")\n",
    "    key = key_value_pair[0]\n",
    "    value = key_value_pair[1]\n",
    "\n",
    "    secrets_dict[key] = value"
   ]
  },
  {
   "cell_type": "markdown",
   "metadata": {},
   "source": [
    "*Globals*"
   ]
  },
  {
   "cell_type": "code",
   "execution_count": 3,
   "metadata": {},
   "outputs": [],
   "source": [
    "POSTGRES_USERNAME = secrets_dict[\"PostgreSQL Username\"]\n",
    "POSTGRES_PASSWORD = secrets_dict[\"PostgreSQL Password\"]\n",
    "POSTGRES_HOST = secrets_dict[\"PostgreSQL Host\"]\n",
    "POSTGRES_PORT = secrets_dict[\"PostgreSQL Port\"]"
   ]
  },
  {
   "cell_type": "code",
   "execution_count": 19,
   "metadata": {},
   "outputs": [],
   "source": [
    "def logger(log_level: str, msg):\n",
    "    current_datetimestamp = dt.datetime.now().strftime(\"%m/%d/%Y %H:%M:%S\")\n",
    "    timestamped_message = f\"{current_datetimestamp} -- {msg}\"\n",
    "\n",
    "    log_level = log_level.lower()\n",
    "\n",
    "    if log_level == \"info\":\n",
    "        logging.info(timestamped_message)\n",
    "        print(timestamped_message) # for jupyter notebook output\n",
    "    elif log_level == \"debug\":\n",
    "        logging.debug(timestamped_message)\n",
    "        print(timestamped_message) # for jupyter notebook output\n",
    "    elif log_level == \"warn\" or log_level == \"warning\":\n",
    "        logging.warning(timestamped_message)\n",
    "        print(timestamped_message) # for jupyter notebook output\n",
    "    elif log_level == \"error\":\n",
    "        logging.error(timestamped_message)\n",
    "        print(timestamped_message) # for jupyter notebook output\n",
    "    elif log_level == \"critical\":\n",
    "        logging.critical(timestamped_message)\n",
    "        print(timestamped_message) # for jupyter notebook output\n",
    "    else:\n",
    "        print(\"INVALID LOG TYPE. Choose from the following: info, debug, warn, warning, error, critical\")\n",
    "        return"
   ]
  },
  {
   "cell_type": "markdown",
   "metadata": {},
   "source": [
    "*Get PostgreSQL database connection object*"
   ]
  },
  {
   "cell_type": "code",
   "execution_count": 20,
   "metadata": {},
   "outputs": [],
   "source": [
    "def get_postgres_db_connection(username, password, host, port, db_name):\n",
    "    connection_url = f'postgresql://{username}:{password}@{host}:{port}/{db_name}'\n",
    "\n",
    "    try:\n",
    "\n",
    "        engine = create_engine(connection_url)\n",
    "        logger(\"info\", \"Create database engine\")\n",
    "        connection = engine.connect() # Connect to the database\n",
    "        logger(\"info\", \"DB Connection was successful.\")\n",
    "    except Exception as e:\n",
    "        logger(\"error\", f\"DB Connection was unsuccessful.\\nEXCEPTION: {e}\")\n",
    "        return None\n",
    "\n",
    "    return connection"
   ]
  },
  {
   "cell_type": "markdown",
   "metadata": {},
   "source": [
    "## Extraction"
   ]
  },
  {
   "cell_type": "code",
   "execution_count": 21,
   "metadata": {},
   "outputs": [
    {
     "name": "stdout",
     "output_type": "stream",
     "text": [
      "10/11/2024 12:37:13 -- Starting extraction.\n",
      "10/11/2024 12:37:13 -- Create database engine\n",
      "10/11/2024 12:37:13 -- DB Connection was successful.\n",
      "10/11/2024 12:37:13 -- Extraction completed.\n"
     ]
    },
    {
     "data": {
      "text/html": [
       "<div>\n",
       "<style scoped>\n",
       "    .dataframe tbody tr th:only-of-type {\n",
       "        vertical-align: middle;\n",
       "    }\n",
       "\n",
       "    .dataframe tbody tr th {\n",
       "        vertical-align: top;\n",
       "    }\n",
       "\n",
       "    .dataframe thead th {\n",
       "        text-align: right;\n",
       "    }\n",
       "</style>\n",
       "<table border=\"1\" class=\"dataframe\">\n",
       "  <thead>\n",
       "    <tr style=\"text-align: right;\">\n",
       "      <th></th>\n",
       "      <th>author_id</th>\n",
       "      <th>first_name</th>\n",
       "      <th>middle_name</th>\n",
       "      <th>last_name</th>\n",
       "    </tr>\n",
       "  </thead>\n",
       "  <tbody>\n",
       "    <tr>\n",
       "      <th>0</th>\n",
       "      <td>2</td>\n",
       "      <td>Linda</td>\n",
       "      <td>None</td>\n",
       "      <td>Mul</td>\n",
       "    </tr>\n",
       "    <tr>\n",
       "      <th>1</th>\n",
       "      <td>1</td>\n",
       "      <td>Merrit</td>\n",
       "      <td>None</td>\n",
       "      <td>Eric</td>\n",
       "    </tr>\n",
       "    <tr>\n",
       "      <th>2</th>\n",
       "      <td>3</td>\n",
       "      <td>Alecos</td>\n",
       "      <td>None</td>\n",
       "      <td>Papadatos</td>\n",
       "    </tr>\n",
       "    <tr>\n",
       "      <th>3</th>\n",
       "      <td>4</td>\n",
       "      <td>Paul</td>\n",
       "      <td>C.van</td>\n",
       "      <td>Oorschot</td>\n",
       "    </tr>\n",
       "    <tr>\n",
       "      <th>4</th>\n",
       "      <td>5</td>\n",
       "      <td>David</td>\n",
       "      <td>None</td>\n",
       "      <td>Cronin</td>\n",
       "    </tr>\n",
       "  </tbody>\n",
       "</table>\n",
       "</div>"
      ],
      "text/plain": [
       "   author_id first_name middle_name  last_name\n",
       "0          2      Linda        None        Mul\n",
       "1          1     Merrit        None       Eric\n",
       "2          3     Alecos        None  Papadatos\n",
       "3          4       Paul       C.van   Oorschot\n",
       "4          5      David        None     Cronin"
      ]
     },
     "execution_count": 21,
     "metadata": {},
     "output_type": "execute_result"
    }
   ],
   "source": [
    "logger(\"info\", \"Starting extraction.\")\n",
    "books_db_name = \"Books\"\n",
    "books_conn = get_postgres_db_connection(POSTGRES_USERNAME, POSTGRES_PASSWORD, POSTGRES_HOST, POSTGRES_PORT, books_db_name)\n",
    "authors_df = pd.read_sql(\"SELECT * FROM myauthors\", books_conn)\n",
    "\n",
    "logger(\"info\", \"Extraction completed.\")\n",
    "authors_df.head()"
   ]
  },
  {
   "cell_type": "code",
   "execution_count": 22,
   "metadata": {},
   "outputs": [
    {
     "name": "stdout",
     "output_type": "stream",
     "text": [
      "10/11/2024 12:37:15 -- Closed DB connection.\n"
     ]
    }
   ],
   "source": [
    "books_conn.close()\n",
    "logger(\"info\", \"Closed DB connection.\")"
   ]
  },
  {
   "cell_type": "code",
   "execution_count": 15,
   "metadata": {},
   "outputs": [
    {
     "name": "stdout",
     "output_type": "stream",
     "text": [
      "Connection successful: <sqlalchemy.engine.base.Connection object at 0x0000026DBAF94730>\n"
     ]
    },
    {
     "data": {
      "text/html": [
       "<div>\n",
       "<style scoped>\n",
       "    .dataframe tbody tr th:only-of-type {\n",
       "        vertical-align: middle;\n",
       "    }\n",
       "\n",
       "    .dataframe tbody tr th {\n",
       "        vertical-align: top;\n",
       "    }\n",
       "\n",
       "    .dataframe thead th {\n",
       "        text-align: right;\n",
       "    }\n",
       "</style>\n",
       "<table border=\"1\" class=\"dataframe\">\n",
       "  <thead>\n",
       "    <tr style=\"text-align: right;\">\n",
       "      <th></th>\n",
       "      <th>product_id</th>\n",
       "      <th>product_name</th>\n",
       "      <th>description</th>\n",
       "      <th>price</th>\n",
       "      <th>product_type_id</th>\n",
       "    </tr>\n",
       "  </thead>\n",
       "  <tbody>\n",
       "    <tr>\n",
       "      <th>0</th>\n",
       "      <td>1</td>\n",
       "      <td>Brazilian - Organic</td>\n",
       "      <td>It's like Carnival in a cup. Clean and smooth.</td>\n",
       "      <td>18.00</td>\n",
       "      <td>1</td>\n",
       "    </tr>\n",
       "    <tr>\n",
       "      <th>1</th>\n",
       "      <td>2</td>\n",
       "      <td>Our Old Time Diner Blend</td>\n",
       "      <td>Our packed blend of beans that is reminiscent ...</td>\n",
       "      <td>18.00</td>\n",
       "      <td>2</td>\n",
       "    </tr>\n",
       "    <tr>\n",
       "      <th>2</th>\n",
       "      <td>3</td>\n",
       "      <td>Espresso Roast</td>\n",
       "      <td>Our house blend for a good espresso shot.</td>\n",
       "      <td>14.75</td>\n",
       "      <td>3</td>\n",
       "    </tr>\n",
       "    <tr>\n",
       "      <th>3</th>\n",
       "      <td>4</td>\n",
       "      <td>Primo Espresso Roast</td>\n",
       "      <td>Our premium single source of hand roasted beans.</td>\n",
       "      <td>20.45</td>\n",
       "      <td>3</td>\n",
       "    </tr>\n",
       "    <tr>\n",
       "      <th>4</th>\n",
       "      <td>5</td>\n",
       "      <td>Columbian Medium Roast</td>\n",
       "      <td>A smooth cup of coffee any time of day.</td>\n",
       "      <td>15.00</td>\n",
       "      <td>4</td>\n",
       "    </tr>\n",
       "  </tbody>\n",
       "</table>\n",
       "</div>"
      ],
      "text/plain": [
       "   product_id              product_name  \\\n",
       "0           1       Brazilian - Organic   \n",
       "1           2  Our Old Time Diner Blend   \n",
       "2           3            Espresso Roast   \n",
       "3           4      Primo Espresso Roast   \n",
       "4           5    Columbian Medium Roast   \n",
       "\n",
       "                                         description  price  product_type_id  \n",
       "0     It's like Carnival in a cup. Clean and smooth.  18.00                1  \n",
       "1  Our packed blend of beans that is reminiscent ...  18.00                2  \n",
       "2          Our house blend for a good espresso shot.  14.75                3  \n",
       "3   Our premium single source of hand roasted beans.  20.45                3  \n",
       "4           A smooth cup of coffee any time of day.   15.00                4  "
      ]
     },
     "execution_count": 15,
     "metadata": {},
     "output_type": "execute_result"
    }
   ],
   "source": [
    "coffee_db_name = \"COFFEE_Final_Project\"\n",
    "coffee_conn = get_postgres_db_connection(POSTGRES_USERNAME, POSTGRES_PASSWORD, POSTGRES_HOST, POSTGRES_PORT, coffee_db_name)\n",
    "products_df = pd.read_sql(\"SELECT * FROM products\", coffee_conn)\n",
    "\n",
    "products_df.head()"
   ]
  },
  {
   "cell_type": "code",
   "execution_count": 16,
   "metadata": {},
   "outputs": [
    {
     "data": {
      "text/html": [
       "<div>\n",
       "<style scoped>\n",
       "    .dataframe tbody tr th:only-of-type {\n",
       "        vertical-align: middle;\n",
       "    }\n",
       "\n",
       "    .dataframe tbody tr th {\n",
       "        vertical-align: top;\n",
       "    }\n",
       "\n",
       "    .dataframe thead th {\n",
       "        text-align: right;\n",
       "    }\n",
       "</style>\n",
       "<table border=\"1\" class=\"dataframe\">\n",
       "  <thead>\n",
       "    <tr style=\"text-align: right;\">\n",
       "      <th></th>\n",
       "      <th>product_id</th>\n",
       "      <th>product_name</th>\n",
       "      <th>description</th>\n",
       "      <th>price</th>\n",
       "      <th>product_type_id</th>\n",
       "    </tr>\n",
       "  </thead>\n",
       "  <tbody>\n",
       "    <tr>\n",
       "      <th>0</th>\n",
       "      <td>4</td>\n",
       "      <td>Primo Espresso Roast</td>\n",
       "      <td>Our premium single source of hand roasted beans.</td>\n",
       "      <td>20.45</td>\n",
       "      <td>3</td>\n",
       "    </tr>\n",
       "    <tr>\n",
       "      <th>1</th>\n",
       "      <td>6</td>\n",
       "      <td>Ethiopia</td>\n",
       "      <td>From the home of coffee.</td>\n",
       "      <td>21.00</td>\n",
       "      <td>4</td>\n",
       "    </tr>\n",
       "    <tr>\n",
       "      <th>2</th>\n",
       "      <td>8</td>\n",
       "      <td>Civet Cat</td>\n",
       "      <td>The most expensive coffee in the world, the ca...</td>\n",
       "      <td>45.00</td>\n",
       "      <td>5</td>\n",
       "    </tr>\n",
       "    <tr>\n",
       "      <th>3</th>\n",
       "      <td>9</td>\n",
       "      <td>Organic Decaf Blend</td>\n",
       "      <td>Our blend of hand picked organic beans that ha...</td>\n",
       "      <td>28.00</td>\n",
       "      <td>6</td>\n",
       "    </tr>\n",
       "    <tr>\n",
       "      <th>4</th>\n",
       "      <td>80</td>\n",
       "      <td>I Need My Bean! Toque</td>\n",
       "      <td>keep your head bean warm</td>\n",
       "      <td>23.00</td>\n",
       "      <td>31</td>\n",
       "    </tr>\n",
       "  </tbody>\n",
       "</table>\n",
       "</div>"
      ],
      "text/plain": [
       "   product_id           product_name  \\\n",
       "0           4   Primo Espresso Roast   \n",
       "1           6               Ethiopia   \n",
       "2           8              Civet Cat   \n",
       "3           9    Organic Decaf Blend   \n",
       "4          80  I Need My Bean! Toque   \n",
       "\n",
       "                                         description  price  product_type_id  \n",
       "0   Our premium single source of hand roasted beans.  20.45                3  \n",
       "1                           From the home of coffee.  21.00                4  \n",
       "2  The most expensive coffee in the world, the ca...  45.00                5  \n",
       "3  Our blend of hand picked organic beans that ha...  28.00                6  \n",
       "4                           keep your head bean warm  23.00               31  "
      ]
     },
     "execution_count": 16,
     "metadata": {},
     "output_type": "execute_result"
    }
   ],
   "source": [
    "expensive_products_df = pd.read_sql(\"SELECT * FROM products WHERE price > 20\", coffee_conn)\n",
    "\n",
    "expensive_products_df.head()"
   ]
  },
  {
   "cell_type": "code",
   "execution_count": 17,
   "metadata": {},
   "outputs": [],
   "source": [
    "coffee_conn.close()"
   ]
  },
  {
   "cell_type": "markdown",
   "metadata": {},
   "source": [
    "*Reusable, modular extract function*"
   ]
  },
  {
   "cell_type": "code",
   "execution_count": 18,
   "metadata": {},
   "outputs": [],
   "source": [
    "def extract_data_to_df(db_name, sql_query):\n",
    "    conn = get_postgres_db_connection(POSTGRES_USERNAME, POSTGRES_PASSWORD, POSTGRES_HOST, POSTGRES_PORT, db_name)\n",
    "    try:\n",
    "        df = pd.read_sql(sql_query, conn)\n",
    "    except Exception as e:\n",
    "        print(f\"Query failed.\\nEXCEPTION: {e}\")\n",
    "        conn.close()\n",
    "        return None\n",
    "    \n",
    "    conn.close()\n",
    "    \n",
    "    return df"
   ]
  },
  {
   "cell_type": "code",
   "execution_count": 19,
   "metadata": {},
   "outputs": [
    {
     "name": "stdout",
     "output_type": "stream",
     "text": [
      "Connection successful: <sqlalchemy.engine.base.Connection object at 0x0000026DBB0A4700>\n"
     ]
    },
    {
     "data": {
      "text/html": [
       "<div>\n",
       "<style scoped>\n",
       "    .dataframe tbody tr th:only-of-type {\n",
       "        vertical-align: middle;\n",
       "    }\n",
       "\n",
       "    .dataframe tbody tr th {\n",
       "        vertical-align: top;\n",
       "    }\n",
       "\n",
       "    .dataframe thead th {\n",
       "        text-align: right;\n",
       "    }\n",
       "</style>\n",
       "<table border=\"1\" class=\"dataframe\">\n",
       "  <thead>\n",
       "    <tr style=\"text-align: right;\">\n",
       "      <th></th>\n",
       "      <th>customer_id</th>\n",
       "      <th>customer_name</th>\n",
       "      <th>email</th>\n",
       "      <th>reg_date</th>\n",
       "      <th>card_number</th>\n",
       "      <th>date_of_birth</th>\n",
       "      <th>gender</th>\n",
       "    </tr>\n",
       "  </thead>\n",
       "  <tbody>\n",
       "    <tr>\n",
       "      <th>0</th>\n",
       "      <td>0</td>\n",
       "      <td>None</td>\n",
       "      <td>None</td>\n",
       "      <td>None</td>\n",
       "      <td>None</td>\n",
       "      <td>None</td>\n",
       "      <td>None</td>\n",
       "    </tr>\n",
       "    <tr>\n",
       "      <th>1</th>\n",
       "      <td>3001</td>\n",
       "      <td>Kelly Key</td>\n",
       "      <td>Venus@adipiscing.edu</td>\n",
       "      <td>2017-01-04</td>\n",
       "      <td>908-424-2890</td>\n",
       "      <td>1950-05-29</td>\n",
       "      <td>M</td>\n",
       "    </tr>\n",
       "    <tr>\n",
       "      <th>2</th>\n",
       "      <td>3002</td>\n",
       "      <td>Clark Schroeder</td>\n",
       "      <td>Nora@fames.gov</td>\n",
       "      <td>2017-01-07</td>\n",
       "      <td>032-732-6308</td>\n",
       "      <td>1950-07-30</td>\n",
       "      <td>M</td>\n",
       "    </tr>\n",
       "    <tr>\n",
       "      <th>3</th>\n",
       "      <td>3003</td>\n",
       "      <td>Elvis Cardenas</td>\n",
       "      <td>Brianna@tellus.edu</td>\n",
       "      <td>2017-01-10</td>\n",
       "      <td>459-375-9187</td>\n",
       "      <td>1950-09-30</td>\n",
       "      <td>M</td>\n",
       "    </tr>\n",
       "    <tr>\n",
       "      <th>4</th>\n",
       "      <td>3004</td>\n",
       "      <td>Rafael Estes</td>\n",
       "      <td>Ina@non.gov</td>\n",
       "      <td>2017-01-13</td>\n",
       "      <td>576-640-9226</td>\n",
       "      <td>1950-12-01</td>\n",
       "      <td>M</td>\n",
       "    </tr>\n",
       "  </tbody>\n",
       "</table>\n",
       "</div>"
      ],
      "text/plain": [
       "   customer_id    customer_name                 email    reg_date  \\\n",
       "0            0             None                  None        None   \n",
       "1         3001        Kelly Key  Venus@adipiscing.edu  2017-01-04   \n",
       "2         3002  Clark Schroeder        Nora@fames.gov  2017-01-07   \n",
       "3         3003   Elvis Cardenas    Brianna@tellus.edu  2017-01-10   \n",
       "4         3004     Rafael Estes           Ina@non.gov  2017-01-13   \n",
       "\n",
       "    card_number date_of_birth gender  \n",
       "0          None          None   None  \n",
       "1  908-424-2890    1950-05-29      M  \n",
       "2  032-732-6308    1950-07-30      M  \n",
       "3  459-375-9187    1950-09-30      M  \n",
       "4  576-640-9226    1950-12-01      M  "
      ]
     },
     "execution_count": 19,
     "metadata": {},
     "output_type": "execute_result"
    }
   ],
   "source": [
    "customers_sql_query = \"SELECT * FROM customers\"\n",
    "customers_df = extract_data_to_df(coffee_db_name, customers_sql_query)\n",
    "customers_df.head()"
   ]
  },
  {
   "cell_type": "markdown",
   "metadata": {},
   "source": [
    "## Transformation"
   ]
  },
  {
   "cell_type": "markdown",
   "metadata": {},
   "source": [
    "*Remove first null row in customers dataframe*"
   ]
  },
  {
   "cell_type": "code",
   "execution_count": 20,
   "metadata": {},
   "outputs": [],
   "source": [
    "customers_df = customers_df.drop(0)"
   ]
  },
  {
   "cell_type": "code",
   "execution_count": 21,
   "metadata": {},
   "outputs": [
    {
     "data": {
      "text/html": [
       "<div>\n",
       "<style scoped>\n",
       "    .dataframe tbody tr th:only-of-type {\n",
       "        vertical-align: middle;\n",
       "    }\n",
       "\n",
       "    .dataframe tbody tr th {\n",
       "        vertical-align: top;\n",
       "    }\n",
       "\n",
       "    .dataframe thead th {\n",
       "        text-align: right;\n",
       "    }\n",
       "</style>\n",
       "<table border=\"1\" class=\"dataframe\">\n",
       "  <thead>\n",
       "    <tr style=\"text-align: right;\">\n",
       "      <th></th>\n",
       "      <th>customer_id</th>\n",
       "      <th>customer_name</th>\n",
       "      <th>email</th>\n",
       "      <th>reg_date</th>\n",
       "      <th>card_number</th>\n",
       "      <th>date_of_birth</th>\n",
       "      <th>gender</th>\n",
       "    </tr>\n",
       "  </thead>\n",
       "  <tbody>\n",
       "    <tr>\n",
       "      <th>1</th>\n",
       "      <td>3001</td>\n",
       "      <td>Kelly Key</td>\n",
       "      <td>Venus@adipiscing.edu</td>\n",
       "      <td>2017-01-04</td>\n",
       "      <td>908-424-2890</td>\n",
       "      <td>1950-05-29</td>\n",
       "      <td>M</td>\n",
       "    </tr>\n",
       "    <tr>\n",
       "      <th>2</th>\n",
       "      <td>3002</td>\n",
       "      <td>Clark Schroeder</td>\n",
       "      <td>Nora@fames.gov</td>\n",
       "      <td>2017-01-07</td>\n",
       "      <td>032-732-6308</td>\n",
       "      <td>1950-07-30</td>\n",
       "      <td>M</td>\n",
       "    </tr>\n",
       "    <tr>\n",
       "      <th>3</th>\n",
       "      <td>3003</td>\n",
       "      <td>Elvis Cardenas</td>\n",
       "      <td>Brianna@tellus.edu</td>\n",
       "      <td>2017-01-10</td>\n",
       "      <td>459-375-9187</td>\n",
       "      <td>1950-09-30</td>\n",
       "      <td>M</td>\n",
       "    </tr>\n",
       "    <tr>\n",
       "      <th>4</th>\n",
       "      <td>3004</td>\n",
       "      <td>Rafael Estes</td>\n",
       "      <td>Ina@non.gov</td>\n",
       "      <td>2017-01-13</td>\n",
       "      <td>576-640-9226</td>\n",
       "      <td>1950-12-01</td>\n",
       "      <td>M</td>\n",
       "    </tr>\n",
       "    <tr>\n",
       "      <th>5</th>\n",
       "      <td>3005</td>\n",
       "      <td>Colin Lynn</td>\n",
       "      <td>Dale@Integer.com</td>\n",
       "      <td>2017-01-15</td>\n",
       "      <td>344-674-6569</td>\n",
       "      <td>1951-02-01</td>\n",
       "      <td>M</td>\n",
       "    </tr>\n",
       "  </tbody>\n",
       "</table>\n",
       "</div>"
      ],
      "text/plain": [
       "   customer_id    customer_name                 email    reg_date  \\\n",
       "1         3001        Kelly Key  Venus@adipiscing.edu  2017-01-04   \n",
       "2         3002  Clark Schroeder        Nora@fames.gov  2017-01-07   \n",
       "3         3003   Elvis Cardenas    Brianna@tellus.edu  2017-01-10   \n",
       "4         3004     Rafael Estes           Ina@non.gov  2017-01-13   \n",
       "5         3005       Colin Lynn      Dale@Integer.com  2017-01-15   \n",
       "\n",
       "    card_number date_of_birth gender  \n",
       "1  908-424-2890    1950-05-29      M  \n",
       "2  032-732-6308    1950-07-30      M  \n",
       "3  459-375-9187    1950-09-30      M  \n",
       "4  576-640-9226    1950-12-01      M  \n",
       "5  344-674-6569    1951-02-01      M  "
      ]
     },
     "execution_count": 21,
     "metadata": {},
     "output_type": "execute_result"
    }
   ],
   "source": [
    "customers_df.head()"
   ]
  },
  {
   "cell_type": "markdown",
   "metadata": {},
   "source": [
    "*Filter for female customers*"
   ]
  },
  {
   "cell_type": "code",
   "execution_count": 23,
   "metadata": {},
   "outputs": [
    {
     "data": {
      "text/html": [
       "<div>\n",
       "<style scoped>\n",
       "    .dataframe tbody tr th:only-of-type {\n",
       "        vertical-align: middle;\n",
       "    }\n",
       "\n",
       "    .dataframe tbody tr th {\n",
       "        vertical-align: top;\n",
       "    }\n",
       "\n",
       "    .dataframe thead th {\n",
       "        text-align: right;\n",
       "    }\n",
       "</style>\n",
       "<table border=\"1\" class=\"dataframe\">\n",
       "  <thead>\n",
       "    <tr style=\"text-align: right;\">\n",
       "      <th></th>\n",
       "      <th>customer_id</th>\n",
       "      <th>customer_name</th>\n",
       "      <th>email</th>\n",
       "      <th>reg_date</th>\n",
       "      <th>card_number</th>\n",
       "      <th>date_of_birth</th>\n",
       "      <th>gender</th>\n",
       "    </tr>\n",
       "  </thead>\n",
       "  <tbody>\n",
       "    <tr>\n",
       "      <th>301</th>\n",
       "      <td>3301</td>\n",
       "      <td>Alika Rivas</td>\n",
       "      <td>Yoshi@aliquam.us</td>\n",
       "      <td>2017-01-04</td>\n",
       "      <td>021-443-0682</td>\n",
       "      <td>1950-05-13</td>\n",
       "      <td>F</td>\n",
       "    </tr>\n",
       "    <tr>\n",
       "      <th>302</th>\n",
       "      <td>3302</td>\n",
       "      <td>Sacha Wall</td>\n",
       "      <td>Yvette@erat.org</td>\n",
       "      <td>2017-01-06</td>\n",
       "      <td>433-102-9277</td>\n",
       "      <td>1950-06-29</td>\n",
       "      <td>F</td>\n",
       "    </tr>\n",
       "    <tr>\n",
       "      <th>303</th>\n",
       "      <td>3303</td>\n",
       "      <td>Raya Hampton</td>\n",
       "      <td>Martina@malesuada.com</td>\n",
       "      <td>2017-01-08</td>\n",
       "      <td>478-762-8984</td>\n",
       "      <td>1950-08-14</td>\n",
       "      <td>F</td>\n",
       "    </tr>\n",
       "    <tr>\n",
       "      <th>304</th>\n",
       "      <td>3304</td>\n",
       "      <td>Belle Reyes</td>\n",
       "      <td>Sierra@sodales.net</td>\n",
       "      <td>2017-01-10</td>\n",
       "      <td>930-000-5889</td>\n",
       "      <td>1950-09-30</td>\n",
       "      <td>F</td>\n",
       "    </tr>\n",
       "    <tr>\n",
       "      <th>305</th>\n",
       "      <td>3305</td>\n",
       "      <td>Brooke Munoz</td>\n",
       "      <td>William@montes.com</td>\n",
       "      <td>2017-01-12</td>\n",
       "      <td>573-552-0754</td>\n",
       "      <td>1950-11-16</td>\n",
       "      <td>F</td>\n",
       "    </tr>\n",
       "  </tbody>\n",
       "</table>\n",
       "</div>"
      ],
      "text/plain": [
       "     customer_id customer_name                  email    reg_date  \\\n",
       "301         3301   Alika Rivas       Yoshi@aliquam.us  2017-01-04   \n",
       "302         3302    Sacha Wall        Yvette@erat.org  2017-01-06   \n",
       "303         3303  Raya Hampton  Martina@malesuada.com  2017-01-08   \n",
       "304         3304   Belle Reyes     Sierra@sodales.net  2017-01-10   \n",
       "305         3305  Brooke Munoz     William@montes.com  2017-01-12   \n",
       "\n",
       "      card_number date_of_birth gender  \n",
       "301  021-443-0682    1950-05-13      F  \n",
       "302  433-102-9277    1950-06-29      F  \n",
       "303  478-762-8984    1950-08-14      F  \n",
       "304  930-000-5889    1950-09-30      F  \n",
       "305  573-552-0754    1950-11-16      F  "
      ]
     },
     "execution_count": 23,
     "metadata": {},
     "output_type": "execute_result"
    }
   ],
   "source": [
    "female_customers_df = customers_df.loc[customers_df[\"gender\"] == \"F\", :]\n",
    "female_customers_df.head()"
   ]
  },
  {
   "cell_type": "markdown",
   "metadata": {},
   "source": [
    "*Sort female customer names in alphabetical order*"
   ]
  },
  {
   "cell_type": "code",
   "execution_count": 24,
   "metadata": {},
   "outputs": [
    {
     "data": {
      "text/html": [
       "<div>\n",
       "<style scoped>\n",
       "    .dataframe tbody tr th:only-of-type {\n",
       "        vertical-align: middle;\n",
       "    }\n",
       "\n",
       "    .dataframe tbody tr th {\n",
       "        vertical-align: top;\n",
       "    }\n",
       "\n",
       "    .dataframe thead th {\n",
       "        text-align: right;\n",
       "    }\n",
       "</style>\n",
       "<table border=\"1\" class=\"dataframe\">\n",
       "  <thead>\n",
       "    <tr style=\"text-align: right;\">\n",
       "      <th></th>\n",
       "      <th>customer_id</th>\n",
       "      <th>customer_name</th>\n",
       "      <th>email</th>\n",
       "      <th>reg_date</th>\n",
       "      <th>card_number</th>\n",
       "      <th>date_of_birth</th>\n",
       "      <th>gender</th>\n",
       "    </tr>\n",
       "  </thead>\n",
       "  <tbody>\n",
       "    <tr>\n",
       "      <th>1318</th>\n",
       "      <td>5518</td>\n",
       "      <td>Abra</td>\n",
       "      <td>Denise@bibendum.edu</td>\n",
       "      <td>2017-02-05</td>\n",
       "      <td>069-289-4592</td>\n",
       "      <td>1952-05-12</td>\n",
       "      <td>F</td>\n",
       "    </tr>\n",
       "    <tr>\n",
       "      <th>347</th>\n",
       "      <td>3347</td>\n",
       "      <td>Abra Dotson</td>\n",
       "      <td>Penelope@taciti.org</td>\n",
       "      <td>2017-04-09</td>\n",
       "      <td>659-894-5363</td>\n",
       "      <td>1956-03-26</td>\n",
       "      <td>F</td>\n",
       "    </tr>\n",
       "    <tr>\n",
       "      <th>660</th>\n",
       "      <td>3660</td>\n",
       "      <td>Abra Schwartz</td>\n",
       "      <td>Orson@feugiat.com</td>\n",
       "      <td>2019-01-16</td>\n",
       "      <td>703-569-1850</td>\n",
       "      <td>1996-03-02</td>\n",
       "      <td>F</td>\n",
       "    </tr>\n",
       "    <tr>\n",
       "      <th>1886</th>\n",
       "      <td>8141</td>\n",
       "      <td>Adara</td>\n",
       "      <td>Emily@non.net</td>\n",
       "      <td>2018-10-02</td>\n",
       "      <td>524-204-1696</td>\n",
       "      <td>1990-02-25</td>\n",
       "      <td>F</td>\n",
       "    </tr>\n",
       "    <tr>\n",
       "      <th>1241</th>\n",
       "      <td>5441</td>\n",
       "      <td>Adara</td>\n",
       "      <td>Jaime@egestas.edu</td>\n",
       "      <td>2018-07-23</td>\n",
       "      <td>504-533-2969</td>\n",
       "      <td>1985-04-02</td>\n",
       "      <td>F</td>\n",
       "    </tr>\n",
       "  </tbody>\n",
       "</table>\n",
       "</div>"
      ],
      "text/plain": [
       "      customer_id  customer_name                email    reg_date  \\\n",
       "1318         5518           Abra  Denise@bibendum.edu  2017-02-05   \n",
       "347          3347    Abra Dotson  Penelope@taciti.org  2017-04-09   \n",
       "660          3660  Abra Schwartz    Orson@feugiat.com  2019-01-16   \n",
       "1886         8141          Adara        Emily@non.net  2018-10-02   \n",
       "1241         5441          Adara    Jaime@egestas.edu  2018-07-23   \n",
       "\n",
       "       card_number date_of_birth gender  \n",
       "1318  069-289-4592    1952-05-12      F  \n",
       "347   659-894-5363    1956-03-26      F  \n",
       "660   703-569-1850    1996-03-02      F  \n",
       "1886  524-204-1696    1990-02-25      F  \n",
       "1241  504-533-2969    1985-04-02      F  "
      ]
     },
     "execution_count": 24,
     "metadata": {},
     "output_type": "execute_result"
    }
   ],
   "source": [
    "female_customers_sorted_df = female_customers_df.sort_values(by=\"customer_name\", ascending=True)\n",
    "female_customers_sorted_df.head()"
   ]
  },
  {
   "cell_type": "markdown",
   "metadata": {},
   "source": [
    "## Loading"
   ]
  },
  {
   "cell_type": "markdown",
   "metadata": {},
   "source": [
    "*Load transformed data to a CSV file*\n",
    "\n",
    "Parameters:\n",
    "* `header`: column headers *(default value is True)*\n",
    "* `index`: row indicies *(default value is True)*\n",
    "* `sep`: delimiter *(default value is \",\")*"
   ]
  },
  {
   "cell_type": "code",
   "execution_count": 26,
   "metadata": {},
   "outputs": [],
   "source": [
    "female_customers_sorted_df.to_csv(f\"./datasets/female_customers.csv\", header=True, index=False, sep=\",\")"
   ]
  },
  {
   "cell_type": "code",
   "execution_count": 27,
   "metadata": {},
   "outputs": [
    {
     "name": "stdout",
     "output_type": "stream",
     "text": [
      "True\n"
     ]
    }
   ],
   "source": [
    "file_exists = os.path.exists(\"./datasets/female_customers.csv\")\n",
    "print(file_exists)"
   ]
  },
  {
   "cell_type": "markdown",
   "metadata": {},
   "source": [
    "*Load transformed data to a JSON file*"
   ]
  },
  {
   "cell_type": "markdown",
   "metadata": {},
   "source": [
    "*Load transformed data to a PostgreSQL database*"
   ]
  }
 ],
 "metadata": {
  "kernelspec": {
   "display_name": "base",
   "language": "python",
   "name": "python3"
  },
  "language_info": {
   "codemirror_mode": {
    "name": "ipython",
    "version": 3
   },
   "file_extension": ".py",
   "mimetype": "text/x-python",
   "name": "python",
   "nbconvert_exporter": "python",
   "pygments_lexer": "ipython3",
   "version": "3.9.13"
  }
 },
 "nbformat": 4,
 "nbformat_minor": 2
}
