{
 "cells": [
  {
   "cell_type": "code",
   "execution_count": 2,
   "metadata": {},
   "outputs": [],
   "source": [
    "import os\n",
    "\n",
    "if os.path.exists(\"ghfywruoyg9phvjf\"):\n",
    "    print(\"banana\")"
   ]
  },
  {
   "cell_type": "code",
   "execution_count": 2,
   "metadata": {},
   "outputs": [],
   "source": [
    "import sys\n",
    "\n",
    "sys.path.append(\"D:/Users/priscillaw/CMRIDeps/understand/scitools/bin/pc-win64/Python\")"
   ]
  }
 ],
 "metadata": {
  "kernelspec": {
   "display_name": "windev",
   "language": "python",
   "name": "python3"
  },
  "language_info": {
   "codemirror_mode": {
    "name": "ipython",
    "version": 3
   },
   "file_extension": ".py",
   "mimetype": "text/x-python",
   "name": "python",
   "nbconvert_exporter": "python",
   "pygments_lexer": "ipython3",
   "version": "3.7.15"
  },
  "orig_nbformat": 4,
  "vscode": {
   "interpreter": {
    "hash": "e6e2b6170c96a6c1e16e4dfcfea50f1a8c5dd00d04acd239aaf991367abb7a97"
   }
  }
 },
 "nbformat": 4,
 "nbformat_minor": 2
}
