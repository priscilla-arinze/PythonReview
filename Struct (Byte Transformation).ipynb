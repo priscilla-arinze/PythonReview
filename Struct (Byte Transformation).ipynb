{
 "cells": [
  {
   "cell_type": "markdown",
   "metadata": {},
   "source": [
    "# Struct\n",
    "\n",
    "A way to take Python data values (text, numbers, etc.) and transform it into bytes (binary in-memory formats)\n",
    "* *Note: Not the exact same thing as structs in C, BUT this library can be used to parse a binary file of C structs data*\n",
    "\n",
    "Needed for network & cybersecurity applications (e.g. to obfuscate [or conceal] passwords)\n",
    "\n",
    "__Resources:__\n",
    "* [TutorialPoint](https://www.tutorialspoint.com/struct-module-in-python)\n",
    "* [StackOverflow (Python vs C structs)](https://stackoverflow.com/questions/52004279/python-similar-functionality-in-struct-and-array-vs-ctypes)\n",
    "* [Educative.io](https://www.educative.io/answers/what-is-the-python-struct-module)\n",
    "* [Everything to know about struct.pack()](https://www.pythonpool.com/struct-pack/)"
   ]
  },
  {
   "cell_type": "code",
   "execution_count": 1,
   "metadata": {},
   "outputs": [],
   "source": [
    "from struct import *"
   ]
  },
  {
   "cell_type": "markdown",
   "metadata": {},
   "source": [
    "### Store data in byte format using `pack()`\n",
    "* Takes 2 parameters:\n",
    "    * fmt --> 'i' for integer, 'f' for float, 's' for string, 'c' for char (see more formats [here](https://www.golinuxcloud.com/python-struct-module/)) \n",
    "        * repeat letters in 1st parameter based on the number of integers/floats after 1st parameter\n",
    "    * *values --> integer/float values, comma-separated"
   ]
  },
  {
   "cell_type": "code",
   "execution_count": 2,
   "metadata": {},
   "outputs": [
    {
     "name": "stdout",
     "output_type": "stream",
     "text": [
      "b'\\x06\\x00\\x00\\x00H\\x00\\x00\\x00\\xb8\\x1ee@'\n"
     ]
    }
   ],
   "source": [
    "packed_data = pack('iif', 6, 72, 3.58)\n",
    "# OR: packed_data = pack('2if', 6, 72, 3.58)\n",
    "print(packed_data) # will print byte format with a preceding \" b' \""
   ]
  },
  {
   "cell_type": "markdown",
   "metadata": {},
   "source": [
    "### Find out how many bytes are needed to store a value using `calcsize()`:"
   ]
  },
  {
   "cell_type": "code",
   "execution_count": 4,
   "metadata": {},
   "outputs": [
    {
     "name": "stdout",
     "output_type": "stream",
     "text": [
      "4 bytes are needed\n",
      "4 bytes are needed\n",
      "12 bytes are needed\n"
     ]
    }
   ],
   "source": [
    "print(calcsize('i'), \"bytes are needed\")\n",
    "print(calcsize('f'), \"bytes are needed\")\n",
    "print(calcsize('iif'), \"bytes are needed\")"
   ]
  },
  {
   "cell_type": "markdown",
   "metadata": {},
   "source": [
    "### Convert byte data to human-readable text using `unpack()`:\n",
    "\n",
    "Returns a tuple of values"
   ]
  },
  {
   "cell_type": "code",
   "execution_count": 7,
   "metadata": {},
   "outputs": [
    {
     "name": "stdout",
     "output_type": "stream",
     "text": [
      "(6, 72, 3.5799999237060547)\n",
      "(6, 72, 3.5799999237060547)\n"
     ]
    }
   ],
   "source": [
    "original_data = unpack('iif', packed_data)\n",
    "print(original_data)\n",
    "\n",
    "## OR\n",
    "\n",
    "print(unpack('iif', b'\\x06\\x00\\x00\\x00H\\x00\\x00\\x00\\xb8\\x1ee@'))"
   ]
  }
 ],
 "metadata": {
  "kernelspec": {
   "display_name": "Python 3.9.10 ('base')",
   "language": "python",
   "name": "python3"
  },
  "language_info": {
   "codemirror_mode": {
    "name": "ipython",
    "version": 3
   },
   "file_extension": ".py",
   "mimetype": "text/x-python",
   "name": "python",
   "nbconvert_exporter": "python",
   "pygments_lexer": "ipython3",
   "version": "3.9.10"
  },
  "orig_nbformat": 4,
  "vscode": {
   "interpreter": {
    "hash": "3b806cc711b465e66e8252dff191d8681f8b41038e9cbc25fa942edafd26a2d7"
   }
  }
 },
 "nbformat": 4,
 "nbformat_minor": 2
}
