{
 "cells": [
  {
   "cell_type": "markdown",
   "metadata": {},
   "source": [
    "# Python Review"
   ]
  },
  {
   "cell_type": "code",
   "execution_count": 62,
   "metadata": {},
   "outputs": [],
   "source": [
    "from IPython.display import Image\n",
    "from IPython.core.display import HTML \n",
    "# Image(filename=\"test.png\")"
   ]
  },
  {
   "cell_type": "code",
   "execution_count": 63,
   "metadata": {},
   "outputs": [
    {
     "name": "stdout",
     "output_type": "stream",
     "text": [
      "yuh\n"
     ]
    }
   ],
   "source": [
    "print(\"yuh\")"
   ]
  },
  {
   "cell_type": "markdown",
   "metadata": {},
   "source": [
    "## Comments"
   ]
  },
  {
   "cell_type": "code",
   "execution_count": 64,
   "metadata": {},
   "outputs": [],
   "source": [
    "# vine boom sound effect\n",
    "\n",
    "# Ctrl + / for toggling comments on and off\n",
    "# vine boom\n",
    "# sound effect"
   ]
  },
  {
   "cell_type": "markdown",
   "metadata": {},
   "source": [
    "## Numbers"
   ]
  },
  {
   "cell_type": "code",
   "execution_count": 65,
   "metadata": {},
   "outputs": [
    {
     "data": {
      "text/plain": [
       "7"
      ]
     },
     "execution_count": 65,
     "metadata": {},
     "output_type": "execute_result"
    }
   ],
   "source": [
    "3 + 4"
   ]
  },
  {
   "cell_type": "code",
   "execution_count": 66,
   "metadata": {},
   "outputs": [
    {
     "data": {
      "text/plain": [
       "60"
      ]
     },
     "execution_count": 66,
     "metadata": {},
     "output_type": "execute_result"
    }
   ],
   "source": [
    "3 * 20"
   ]
  },
  {
   "cell_type": "code",
   "execution_count": 67,
   "metadata": {},
   "outputs": [
    {
     "data": {
      "text/plain": [
       "3.0"
      ]
     },
     "execution_count": 67,
     "metadata": {},
     "output_type": "execute_result"
    }
   ],
   "source": [
    "12 / 4"
   ]
  },
  {
   "cell_type": "code",
   "execution_count": 68,
   "metadata": {},
   "outputs": [
    {
     "data": {
      "text/plain": [
       "28"
      ]
     },
     "execution_count": 68,
     "metadata": {},
     "output_type": "execute_result"
    }
   ],
   "source": [
    "8 + 2 * 10"
   ]
  },
  {
   "cell_type": "code",
   "execution_count": 69,
   "metadata": {},
   "outputs": [
    {
     "data": {
      "text/plain": [
       "100"
      ]
     },
     "execution_count": 69,
     "metadata": {},
     "output_type": "execute_result"
    }
   ],
   "source": [
    "(8 + 2) * 10"
   ]
  },
  {
   "cell_type": "code",
   "execution_count": 70,
   "metadata": {},
   "outputs": [
    {
     "data": {
      "text/plain": [
       "4.5"
      ]
     },
     "execution_count": 70,
     "metadata": {},
     "output_type": "execute_result"
    }
   ],
   "source": [
    "18 / 4"
   ]
  },
  {
   "cell_type": "markdown",
   "metadata": {},
   "source": [
    "Division (rounded to whole number)"
   ]
  },
  {
   "cell_type": "code",
   "execution_count": 71,
   "metadata": {},
   "outputs": [
    {
     "data": {
      "text/plain": [
       "4"
      ]
     },
     "execution_count": 71,
     "metadata": {},
     "output_type": "execute_result"
    }
   ],
   "source": [
    "18 // 4"
   ]
  },
  {
   "cell_type": "markdown",
   "metadata": {},
   "source": [
    "Modulus: Division remainder"
   ]
  },
  {
   "cell_type": "code",
   "execution_count": 72,
   "metadata": {},
   "outputs": [
    {
     "data": {
      "text/plain": [
       "2"
      ]
     },
     "execution_count": 72,
     "metadata": {},
     "output_type": "execute_result"
    }
   ],
   "source": [
    "18 % 4"
   ]
  },
  {
   "cell_type": "markdown",
   "metadata": {},
   "source": [
    "Exponent:"
   ]
  },
  {
   "cell_type": "code",
   "execution_count": 73,
   "metadata": {},
   "outputs": [
    {
     "data": {
      "text/plain": [
       "125"
      ]
     },
     "execution_count": 73,
     "metadata": {},
     "output_type": "execute_result"
    }
   ],
   "source": [
    "5 ** 3"
   ]
  },
  {
   "cell_type": "markdown",
   "metadata": {},
   "source": [
    "Variables"
   ]
  },
  {
   "cell_type": "code",
   "execution_count": 74,
   "metadata": {},
   "outputs": [
    {
     "data": {
      "text/plain": [
       "25"
      ]
     },
     "execution_count": 74,
     "metadata": {},
     "output_type": "execute_result"
    }
   ],
   "source": [
    "tuna = 5\n",
    "20 + tuna"
   ]
  },
  {
   "cell_type": "code",
   "execution_count": 75,
   "metadata": {},
   "outputs": [
    {
     "data": {
      "text/plain": [
       "3.6"
      ]
     },
     "execution_count": 75,
     "metadata": {},
     "output_type": "execute_result"
    }
   ],
   "source": [
    "bacon = 18\n",
    "bacon / tuna"
   ]
  },
  {
   "cell_type": "markdown",
   "metadata": {},
   "source": [
    "## Strings"
   ]
  },
  {
   "cell_type": "code",
   "execution_count": 76,
   "metadata": {},
   "outputs": [
    {
     "data": {
      "text/plain": [
       "'Priscilla Arinze'"
      ]
     },
     "execution_count": 76,
     "metadata": {},
     "output_type": "execute_result"
    }
   ],
   "source": [
    "'Priscilla Arinze'\n",
    "# OR\n",
    "\"Priscilla Arinze\""
   ]
  },
  {
   "cell_type": "code",
   "execution_count": 77,
   "metadata": {},
   "outputs": [
    {
     "data": {
      "text/plain": [
       "\"I don't like cream cheese\""
      ]
     },
     "execution_count": 77,
     "metadata": {},
     "output_type": "execute_result"
    }
   ],
   "source": [
    "# 'I don't like cream cheese' --- INVALID\n",
    "\"I don't like cream cheese\" #VALID"
   ]
  },
  {
   "cell_type": "markdown",
   "metadata": {},
   "source": [
    "Use of escape characters:"
   ]
  },
  {
   "cell_type": "code",
   "execution_count": 78,
   "metadata": {},
   "outputs": [
    {
     "data": {
      "text/plain": [
       "'I said, \"You wouldn\\'t download a house'"
      ]
     },
     "execution_count": 78,
     "metadata": {},
     "output_type": "execute_result"
    }
   ],
   "source": [
    "# \"I said, \"You wouldn't download a house\"\" --- INVALID\n",
    "'I said, \"You wouldn\\'t download a house' # VALID, Escape character"
   ]
  },
  {
   "cell_type": "code",
   "execution_count": 79,
   "metadata": {},
   "outputs": [
    {
     "name": "stdout",
     "output_type": "stream",
     "text": [
      "hey now you're a rockstar\n"
     ]
    }
   ],
   "source": [
    "print(\"hey now you're a rockstar\")"
   ]
  },
  {
   "cell_type": "markdown",
   "metadata": {},
   "source": [
    "Accidental use of escape character (pretty common w/ file paths)"
   ]
  },
  {
   "cell_type": "code",
   "execution_count": 80,
   "metadata": {},
   "outputs": [
    {
     "name": "stdout",
     "output_type": "stream",
     "text": [
      "C:\\Documents\n",
      "utella\n"
     ]
    }
   ],
   "source": [
    "print('C:\\Documents\\nutella')"
   ]
  },
  {
   "cell_type": "markdown",
   "metadata": {},
   "source": [
    "To fix above accidental escape character:"
   ]
  },
  {
   "cell_type": "code",
   "execution_count": 81,
   "metadata": {},
   "outputs": [
    {
     "name": "stdout",
     "output_type": "stream",
     "text": [
      "C:\\Documents\\nutella\n"
     ]
    }
   ],
   "source": [
    "print(r'C:\\Documents\\nutella')"
   ]
  },
  {
   "cell_type": "code",
   "execution_count": 82,
   "metadata": {},
   "outputs": [
    {
     "data": {
      "text/plain": [
       "'Priscilla Arinze'"
      ]
     },
     "execution_count": 82,
     "metadata": {},
     "output_type": "execute_result"
    }
   ],
   "source": [
    "firstName = \"Priscilla \"\n",
    "firstName + \"Arinze\""
   ]
  },
  {
   "cell_type": "code",
   "execution_count": 83,
   "metadata": {},
   "outputs": [
    {
     "data": {
      "text/plain": [
       "'Priscilla Dingle'"
      ]
     },
     "execution_count": 83,
     "metadata": {},
     "output_type": "execute_result"
    }
   ],
   "source": [
    "firstName + \"Dingle\""
   ]
  },
  {
   "cell_type": "code",
   "execution_count": 84,
   "metadata": {},
   "outputs": [
    {
     "data": {
      "text/plain": [
       "'Priscilla Priscilla Priscilla Priscilla Priscilla '"
      ]
     },
     "execution_count": 84,
     "metadata": {},
     "output_type": "execute_result"
    }
   ],
   "source": [
    "firstName * 5"
   ]
  },
  {
   "cell_type": "code",
   "execution_count": 85,
   "metadata": {},
   "outputs": [
    {
     "data": {
      "text/plain": [
       "'I'"
      ]
     },
     "execution_count": 85,
     "metadata": {},
     "output_type": "execute_result"
    }
   ],
   "source": [
    "activity = \"Insert cash or select payment type\"\n",
    "activity[0]"
   ]
  },
  {
   "cell_type": "code",
   "execution_count": 86,
   "metadata": {},
   "outputs": [
    {
     "data": {
      "text/plain": [
       "'t'"
      ]
     },
     "execution_count": 86,
     "metadata": {},
     "output_type": "execute_result"
    }
   ],
   "source": [
    "activity[5]"
   ]
  },
  {
   "cell_type": "markdown",
   "metadata": {},
   "source": [
    "Access last character in string:"
   ]
  },
  {
   "cell_type": "code",
   "execution_count": 87,
   "metadata": {},
   "outputs": [
    {
     "data": {
      "text/plain": [
       "'e'"
      ]
     },
     "execution_count": 87,
     "metadata": {},
     "output_type": "execute_result"
    }
   ],
   "source": [
    "activity[-1]"
   ]
  },
  {
   "cell_type": "markdown",
   "metadata": {},
   "source": [
    "Splicing:"
   ]
  },
  {
   "cell_type": "code",
   "execution_count": 88,
   "metadata": {},
   "outputs": [
    {
     "data": {
      "text/plain": [
       "'cas'"
      ]
     },
     "execution_count": 88,
     "metadata": {},
     "output_type": "execute_result"
    }
   ],
   "source": [
    "# Does NOT include character for the 2nd index; e.g. only includes index 7, 8, and 9 (does not include 10)\n",
    "activity[7:10]"
   ]
  },
  {
   "cell_type": "code",
   "execution_count": 89,
   "metadata": {},
   "outputs": [
    {
     "data": {
      "text/plain": [
       "'Insert cas'"
      ]
     },
     "execution_count": 89,
     "metadata": {},
     "output_type": "execute_result"
    }
   ],
   "source": [
    "# Start from beginning until before 2nd index (does not include 2nd index like above)\n",
    "activity[:10]"
   ]
  },
  {
   "cell_type": "code",
   "execution_count": 90,
   "metadata": {},
   "outputs": [
    {
     "data": {
      "text/plain": [
       "'h or select payment type'"
      ]
     },
     "execution_count": 90,
     "metadata": {},
     "output_type": "execute_result"
    }
   ],
   "source": [
    "# Start from index until end of string\n",
    "activity[10:]"
   ]
  },
  {
   "cell_type": "code",
   "execution_count": 91,
   "metadata": {},
   "outputs": [
    {
     "data": {
      "text/plain": [
       "'Insert cash or select payment type'"
      ]
     },
     "execution_count": 91,
     "metadata": {},
     "output_type": "execute_result"
    }
   ],
   "source": [
    "# FUll string\n",
    "activity[:]"
   ]
  },
  {
   "cell_type": "code",
   "execution_count": 92,
   "metadata": {},
   "outputs": [
    {
     "data": {
      "text/plain": [
       "34"
      ]
     },
     "execution_count": 92,
     "metadata": {},
     "output_type": "execute_result"
    }
   ],
   "source": [
    "len(activity)"
   ]
  },
  {
   "cell_type": "code",
   "execution_count": 93,
   "metadata": {},
   "outputs": [
    {
     "data": {
      "text/plain": [
       "8"
      ]
     },
     "execution_count": 93,
     "metadata": {},
     "output_type": "execute_result"
    }
   ],
   "source": [
    "len(\"activity\")"
   ]
  },
  {
   "cell_type": "markdown",
   "metadata": {},
   "source": [
    "## Lists (Arrays)"
   ]
  },
  {
   "cell_type": "code",
   "execution_count": 94,
   "metadata": {},
   "outputs": [],
   "source": [
    "players = [29, 58, 66, 71, 87]"
   ]
  },
  {
   "cell_type": "code",
   "execution_count": 95,
   "metadata": {},
   "outputs": [
    {
     "data": {
      "text/plain": [
       "29"
      ]
     },
     "execution_count": 95,
     "metadata": {},
     "output_type": "execute_result"
    }
   ],
   "source": [
    "players[0]"
   ]
  },
  {
   "cell_type": "code",
   "execution_count": 96,
   "metadata": {},
   "outputs": [],
   "source": [
    "players[2] = 68"
   ]
  },
  {
   "cell_type": "code",
   "execution_count": 97,
   "metadata": {},
   "outputs": [
    {
     "data": {
      "text/plain": [
       "[29, 58, 68, 71, 87]"
      ]
     },
     "execution_count": 97,
     "metadata": {},
     "output_type": "execute_result"
    }
   ],
   "source": [
    "players"
   ]
  },
  {
   "cell_type": "code",
   "execution_count": 98,
   "metadata": {},
   "outputs": [
    {
     "data": {
      "text/plain": [
       "[29, 58, 68, 71, 87, 90, 91, 98]"
      ]
     },
     "execution_count": 98,
     "metadata": {},
     "output_type": "execute_result"
    }
   ],
   "source": [
    "# TEMPORARY CHANGE\n",
    "players + [90, 91, 98]"
   ]
  },
  {
   "cell_type": "code",
   "execution_count": 99,
   "metadata": {},
   "outputs": [
    {
     "data": {
      "text/plain": [
       "[29, 58, 68, 71, 87]"
      ]
     },
     "execution_count": 99,
     "metadata": {},
     "output_type": "execute_result"
    }
   ],
   "source": [
    "players"
   ]
  },
  {
   "cell_type": "code",
   "execution_count": 100,
   "metadata": {},
   "outputs": [],
   "source": [
    "# PERMANENT CHANGE/OVERRIDE (append() only takes one parameter)\n",
    "players.append(120)"
   ]
  },
  {
   "cell_type": "code",
   "execution_count": 101,
   "metadata": {},
   "outputs": [
    {
     "data": {
      "text/plain": [
       "[29, 58, 68, 71, 87, 120]"
      ]
     },
     "execution_count": 101,
     "metadata": {},
     "output_type": "execute_result"
    }
   ],
   "source": [
    "players"
   ]
  },
  {
   "cell_type": "code",
   "execution_count": 102,
   "metadata": {},
   "outputs": [
    {
     "data": {
      "text/plain": [
       "[29, 58]"
      ]
     },
     "execution_count": 102,
     "metadata": {},
     "output_type": "execute_result"
    }
   ],
   "source": [
    "players[:2]"
   ]
  },
  {
   "cell_type": "code",
   "execution_count": 103,
   "metadata": {},
   "outputs": [],
   "source": [
    "players[:2] = [0, 0]"
   ]
  },
  {
   "cell_type": "code",
   "execution_count": 104,
   "metadata": {},
   "outputs": [
    {
     "data": {
      "text/plain": [
       "[0, 0, 68, 71, 87, 120]"
      ]
     },
     "execution_count": 104,
     "metadata": {},
     "output_type": "execute_result"
    }
   ],
   "source": [
    "players"
   ]
  },
  {
   "cell_type": "markdown",
   "metadata": {},
   "source": [
    "Remove items from list:"
   ]
  },
  {
   "cell_type": "code",
   "execution_count": 105,
   "metadata": {},
   "outputs": [],
   "source": [
    "players[:2] = []"
   ]
  },
  {
   "cell_type": "code",
   "execution_count": 106,
   "metadata": {},
   "outputs": [
    {
     "data": {
      "text/plain": [
       "[68, 71, 87, 120]"
      ]
     },
     "execution_count": 106,
     "metadata": {},
     "output_type": "execute_result"
    }
   ],
   "source": [
    "players"
   ]
  },
  {
   "cell_type": "markdown",
   "metadata": {},
   "source": [
    "Clear an entire list of all items:"
   ]
  },
  {
   "cell_type": "code",
   "execution_count": 107,
   "metadata": {},
   "outputs": [],
   "source": [
    "players[:] = []"
   ]
  },
  {
   "cell_type": "code",
   "execution_count": 108,
   "metadata": {},
   "outputs": [
    {
     "data": {
      "text/plain": [
       "[]"
      ]
     },
     "execution_count": 108,
     "metadata": {},
     "output_type": "execute_result"
    }
   ],
   "source": [
    "players"
   ]
  },
  {
   "cell_type": "markdown",
   "metadata": {},
   "source": [
    "## If, Elif (Else If), Else"
   ]
  },
  {
   "cell_type": "code",
   "execution_count": 109,
   "metadata": {},
   "outputs": [
    {
     "name": "stdout",
     "output_type": "stream",
     "text": [
      "Hell yeah, liver damage!\n"
     ]
    }
   ],
   "source": [
    "age = 23\n",
    "\n",
    "if age < 21:\n",
    "    print(\"No beer for you!\")\n",
    "else:\n",
    "    print(\"Hell yeah, liver damage!\")"
   ]
  },
  {
   "cell_type": "code",
   "execution_count": 110,
   "metadata": {},
   "outputs": [
    {
     "name": "stdout",
     "output_type": "stream",
     "text": [
      "Why are you a refrigerator?\n"
     ]
    }
   ],
   "source": [
    "name = \"Refrigerator\"\n",
    "\n",
    "if name == \"Priscilla\":\n",
    "    print(\"You are not a refrigerator, sorry.\")\n",
    "elif name == \"Refrigerator\":\n",
    "    print(\"Why are you a refrigerator?\")\n",
    "elif name == \"Quandale\":\n",
    "    print(\"Barbeque bacon burger\")\n",
    "else:\n",
    "    print(\"Thank you for shopping at Walmart.\")"
   ]
  },
  {
   "cell_type": "markdown",
   "metadata": {},
   "source": [
    "## For Loops"
   ]
  },
  {
   "cell_type": "code",
   "execution_count": 111,
   "metadata": {},
   "outputs": [
    {
     "name": "stdout",
     "output_type": "stream",
     "text": [
      "cheese\n",
      "6\n",
      "tuna\n",
      "4\n",
      "rice\n",
      "4\n",
      "beef\n",
      "4\n"
     ]
    }
   ],
   "source": [
    "foods = ['cheese', 'tuna', 'rice', 'beef']\n",
    "\n",
    "for f in foods:\n",
    "    print(f)\n",
    "    print(len(f))"
   ]
  },
  {
   "cell_type": "code",
   "execution_count": 112,
   "metadata": {},
   "outputs": [
    {
     "name": "stdout",
     "output_type": "stream",
     "text": [
      "cheese\n",
      "6\n",
      "tuna\n",
      "4\n"
     ]
    }
   ],
   "source": [
    "foods = ['cheese', 'tuna', 'rice', 'beef']\n",
    "\n",
    "for f in foods[:2]:\n",
    "    print(f)\n",
    "    print(len(f))"
   ]
  },
  {
   "cell_type": "code",
   "execution_count": 113,
   "metadata": {},
   "outputs": [
    {
     "name": "stdout",
     "output_type": "stream",
     "text": [
      "I have committed 1 Geneva Convention violations.\n",
      "I have committed 2 Geneva Convention violations.\n",
      "I have committed 3 Geneva Convention violations.\n",
      "I have committed 4 Geneva Convention violations.\n",
      "I have committed 5 Geneva Convention violations.\n",
      "I have committed 6 Geneva Convention violations.\n",
      "I have committed 7 Geneva Convention violations.\n",
      "I have committed 8 Geneva Convention violations.\n",
      "I have committed 9 Geneva Convention violations.\n",
      "I have committed 10 Geneva Convention violations.\n"
     ]
    }
   ],
   "source": [
    "for i in range(10):\n",
    "    print(\"I have committed \"+str(i+1)+\" Geneva Convention violations.\")"
   ]
  },
  {
   "cell_type": "code",
   "execution_count": 114,
   "metadata": {},
   "outputs": [
    {
     "name": "stdout",
     "output_type": "stream",
     "text": [
      "5\n",
      "6\n",
      "7\n",
      "8\n",
      "9\n",
      "10\n",
      "11\n"
     ]
    }
   ],
   "source": [
    "for i in range(5,12):\n",
    "    print(i)"
   ]
  },
  {
   "cell_type": "markdown",
   "metadata": {},
   "source": [
    "Third number in range is how much to count by within the first two numbers; e.g. count by 5"
   ]
  },
  {
   "cell_type": "code",
   "execution_count": 115,
   "metadata": {},
   "outputs": [
    {
     "name": "stdout",
     "output_type": "stream",
     "text": [
      "10\n",
      "15\n",
      "20\n",
      "25\n",
      "30\n",
      "35\n"
     ]
    }
   ],
   "source": [
    "for i in range(10, 40, 5):\n",
    "    print(i)"
   ]
  },
  {
   "cell_type": "markdown",
   "metadata": {},
   "source": [
    "Finding smallest value\n",
    "\n",
    "*Hint: store first variable & go based on of that*"
   ]
  },
  {
   "cell_type": "code",
   "execution_count": 116,
   "metadata": {},
   "outputs": [
    {
     "name": "stdout",
     "output_type": "stream",
     "text": [
      "Begin\n",
      "9 --> 9\n",
      "41 --> 9\n",
      "12 --> 9\n",
      "3 --> 3\n",
      "74 --> 3\n",
      "15 --> 3\n",
      "End; Smallest number = 3\n"
     ]
    }
   ],
   "source": [
    "smallest = None\n",
    "\n",
    "print('Begin')\n",
    "\n",
    "for value in [9, 41, 12, 3, 74, 15]:\n",
    "    if smallest == None:\n",
    "        smallest = value\n",
    "    elif value < smallest:\n",
    "        smallest = value\n",
    "    print(value, \"-->\", smallest)\n",
    "\n",
    "print('End; Smallest number =', smallest)"
   ]
  },
  {
   "cell_type": "markdown",
   "metadata": {},
   "source": [
    "### Break statement:"
   ]
  },
  {
   "cell_type": "code",
   "execution_count": 117,
   "metadata": {},
   "outputs": [
    {
     "name": "stdout",
     "output_type": "stream",
     "text": [
      "0\n",
      "1\n",
      "2\n",
      "3\n",
      "4\n",
      "5\n",
      "6\n",
      "7\n",
      "8 is the magic number!\n"
     ]
    }
   ],
   "source": [
    "magicNumber = 8\n",
    "\n",
    "for n in range(101):\n",
    "    if n is magicNumber:\n",
    "        print(n, \"is the magic number!\")\n",
    "        break # stop loop when condition is true\n",
    "        print(\"swag like ohio\")\n",
    "    else:\n",
    "        print(n)"
   ]
  },
  {
   "cell_type": "code",
   "execution_count": 118,
   "metadata": {},
   "outputs": [
    {
     "name": "stdout",
     "output_type": "stream",
     "text": [
      "0\n",
      "4\n",
      "8\n",
      "12\n",
      "16\n",
      "20\n",
      "24\n",
      "28\n",
      "32\n",
      "36\n",
      "40\n",
      "44\n",
      "48\n",
      "52\n",
      "56\n",
      "60\n",
      "64\n",
      "68\n",
      "72\n",
      "76\n",
      "80\n",
      "84\n",
      "88\n",
      "92\n",
      "96\n",
      "100\n"
     ]
    }
   ],
   "source": [
    "# Mini-project: Print numbers divisible by 4 within a range of 0 to 100\n",
    "\n",
    "for i in range(101):\n",
    "    if i % 4 == 0:\n",
    "        print(i)"
   ]
  },
  {
   "cell_type": "markdown",
   "metadata": {},
   "source": [
    "### Continue statement:"
   ]
  },
  {
   "cell_type": "code",
   "execution_count": 119,
   "metadata": {},
   "outputs": [
    {
     "name": "stdout",
     "output_type": "stream",
     "text": [
      "Here are the jersey numbers still available: \n",
      "swag like ohio\n",
      "1\n",
      "swag like ohio\n",
      "3\n",
      "swag like ohio\n",
      "4\n",
      "swag like ohio\n",
      "6\n",
      "swag like ohio\n",
      "7\n",
      "swag like ohio\n",
      "8\n",
      "swag like ohio\n",
      "9\n",
      "swag like ohio\n",
      "10\n",
      "swag like ohio\n",
      "11\n",
      "swag like ohio\n",
      "13\n",
      "swag like ohio\n",
      "14\n",
      "swag like ohio\n",
      "15\n",
      "swag like ohio\n",
      "16\n",
      "swag like ohio\n",
      "18\n",
      "swag like ohio\n",
      "19\n"
     ]
    }
   ],
   "source": [
    "numbersTaken = [2, 5, 12, 33, 17]\n",
    "\n",
    "print(\"Here are the jersey numbers still available: \")\n",
    "\n",
    "for n in range(1, 20):\n",
    "    if n in numbersTaken:\n",
    "        continue # once condition is true, skip that condition and re-run loop until end\n",
    "    print(\"swag like ohio\")\n",
    "    print(n)"
   ]
  },
  {
   "cell_type": "markdown",
   "metadata": {},
   "source": [
    "## While Loops\n",
    "*make sure to have a logical condition that will eventually be False to avoid infinite loop*"
   ]
  },
  {
   "cell_type": "code",
   "execution_count": 120,
   "metadata": {},
   "outputs": [
    {
     "name": "stdout",
     "output_type": "stream",
     "text": [
      "5\n",
      "6\n",
      "7\n",
      "8\n",
      "9\n"
     ]
    }
   ],
   "source": [
    "ahhhhhh = 5\n",
    "\n",
    "while ahhhhhh < 10:\n",
    "    print(ahhhhhh)\n",
    "    ahhhhhh += 1"
   ]
  },
  {
   "cell_type": "code",
   "execution_count": 121,
   "metadata": {},
   "outputs": [
    {
     "name": "stdout",
     "output_type": "stream",
     "text": [
      "5\n",
      "4\n",
      "3\n",
      "2\n",
      "1\n",
      "bank account balance:\n",
      "0\n"
     ]
    }
   ],
   "source": [
    "n = 5\n",
    "\n",
    "while n > 0:\n",
    "    print(n)\n",
    "    n = n-1\n",
    "\n",
    "print(\"bank account balance:\")\n",
    "print(n)"
   ]
  },
  {
   "cell_type": "markdown",
   "metadata": {},
   "source": [
    "## Type Conversion (Int to String & String to Int)"
   ]
  },
  {
   "cell_type": "code",
   "execution_count": 122,
   "metadata": {},
   "outputs": [
    {
     "ename": "TypeError",
     "evalue": "can only concatenate str (not \"int\") to str",
     "output_type": "error",
     "traceback": [
      "\u001b[1;31m---------------------------------------------------------------------------\u001b[0m",
      "\u001b[1;31mTypeError\u001b[0m                                 Traceback (most recent call last)",
      "\u001b[1;32m~\\AppData\\Local\\Temp\\ipykernel_25520\\2191960748.py\u001b[0m in \u001b[0;36m<module>\u001b[1;34m\u001b[0m\n\u001b[0;32m      1\u001b[0m \u001b[0mx\u001b[0m \u001b[1;33m=\u001b[0m \u001b[1;36m2\u001b[0m\u001b[1;33m\u001b[0m\u001b[1;33m\u001b[0m\u001b[0m\n\u001b[0;32m      2\u001b[0m \u001b[1;33m\u001b[0m\u001b[0m\n\u001b[1;32m----> 3\u001b[1;33m \u001b[0mprint\u001b[0m\u001b[1;33m(\u001b[0m\u001b[1;34m\"I have \"\u001b[0m\u001b[1;33m+\u001b[0m\u001b[0mx\u001b[0m\u001b[1;33m+\u001b[0m\u001b[1;34m\" dollars in my bank account.\"\u001b[0m\u001b[1;33m)\u001b[0m\u001b[1;33m\u001b[0m\u001b[1;33m\u001b[0m\u001b[0m\n\u001b[0m",
      "\u001b[1;31mTypeError\u001b[0m: can only concatenate str (not \"int\") to str"
     ]
    }
   ],
   "source": [
    "x = 2\n",
    "\n",
    "print(\"I have \"+x+\" dollars in my bank account.\")"
   ]
  },
  {
   "cell_type": "markdown",
   "metadata": {},
   "source": [
    "To fix above TypeError (int to string):"
   ]
  },
  {
   "cell_type": "code",
   "execution_count": 123,
   "metadata": {},
   "outputs": [
    {
     "name": "stdout",
     "output_type": "stream",
     "text": [
      "I have 2 dollars in my bank account.\n",
      "I have 2 dollars in my bank account.\n"
     ]
    }
   ],
   "source": [
    "# Option 1:\n",
    "print(\"I have\", x, \"dollars in my bank account.\")\n",
    "\n",
    "# Option 2:\n",
    "print(\"I have \"+str(x)+\" dollars in my bank account.\")"
   ]
  },
  {
   "cell_type": "code",
   "execution_count": 124,
   "metadata": {},
   "outputs": [
    {
     "ename": "TypeError",
     "evalue": "can only concatenate str (not \"int\") to str",
     "output_type": "error",
     "traceback": [
      "\u001b[1;31m---------------------------------------------------------------------------\u001b[0m",
      "\u001b[1;31mTypeError\u001b[0m                                 Traceback (most recent call last)",
      "\u001b[1;32m~\\AppData\\Local\\Temp\\ipykernel_25520\\594302384.py\u001b[0m in \u001b[0;36m<module>\u001b[1;34m\u001b[0m\n\u001b[0;32m      1\u001b[0m \u001b[0mtaxesEvaded\u001b[0m \u001b[1;33m=\u001b[0m \u001b[1;34m'450000'\u001b[0m\u001b[1;33m\u001b[0m\u001b[1;33m\u001b[0m\u001b[0m\n\u001b[1;32m----> 2\u001b[1;33m \u001b[0mprint\u001b[0m\u001b[1;33m(\u001b[0m\u001b[0mtaxesEvaded\u001b[0m \u001b[1;33m+\u001b[0m \u001b[1;36m2000000\u001b[0m\u001b[1;33m)\u001b[0m\u001b[1;33m\u001b[0m\u001b[1;33m\u001b[0m\u001b[0m\n\u001b[0m",
      "\u001b[1;31mTypeError\u001b[0m: can only concatenate str (not \"int\") to str"
     ]
    }
   ],
   "source": [
    "taxesEvaded = '450000'\n",
    "print(taxesEvaded + 2000000)"
   ]
  },
  {
   "cell_type": "markdown",
   "metadata": {},
   "source": [
    "To fix above TypeError (str to int):"
   ]
  },
  {
   "cell_type": "code",
   "execution_count": 125,
   "metadata": {},
   "outputs": [
    {
     "name": "stdout",
     "output_type": "stream",
     "text": [
      "2450000\n"
     ]
    }
   ],
   "source": [
    "print(int(taxesEvaded) + 2000000)"
   ]
  },
  {
   "cell_type": "markdown",
   "metadata": {},
   "source": [
    "## Try / Except (Error Catching)"
   ]
  },
  {
   "cell_type": "markdown",
   "metadata": {},
   "source": [
    "Doesn't show cryptic python errors to users & continues program"
   ]
  },
  {
   "cell_type": "code",
   "execution_count": 126,
   "metadata": {},
   "outputs": [
    {
     "name": "stdout",
     "output_type": "stream",
     "text": [
      "Enter a valid age bozo.\n"
     ]
    }
   ],
   "source": [
    "ageInput = input(\"Enter your age: \")\n",
    "\n",
    "try:\n",
    "    age = int(ageInput)\n",
    "except:\n",
    "    age = -1\n",
    "\n",
    "if age > 0:\n",
    "    print(\"You're old.\")\n",
    "else:\n",
    "    print(\"Enter a valid age bozo.\")"
   ]
  },
  {
   "cell_type": "markdown",
   "metadata": {},
   "source": [
    "## Functions"
   ]
  },
  {
   "cell_type": "code",
   "execution_count": 127,
   "metadata": {},
   "outputs": [
    {
     "name": "stdout",
     "output_type": "stream",
     "text": [
      "Gordon Ramsey moment\n",
      "Gordon Ramsey moment\n",
      "Gordon Ramsey moment\n"
     ]
    }
   ],
   "source": [
    "def beefwellington():\n",
    "    print(\"Gordon Ramsey moment\")\n",
    "\n",
    "beefwellington()\n",
    "beefwellington()\n",
    "beefwellington()"
   ]
  },
  {
   "cell_type": "code",
   "execution_count": 128,
   "metadata": {},
   "outputs": [
    {
     "name": "stdout",
     "output_type": "stream",
     "text": [
      "Gordon Ramsey moment\n",
      "669.29\n",
      "527\n",
      "11067\n"
     ]
    }
   ],
   "source": [
    "def bitcoin_to_usd(btcValue):\n",
    "    amount = btcValue * 527\n",
    "    print(amount)\n",
    "\n",
    "beefwellington()\n",
    "bitcoin_to_usd(1.27)\n",
    "bitcoin_to_usd(1)\n",
    "bitcoin_to_usd(21)"
   ]
  },
  {
   "cell_type": "code",
   "execution_count": 129,
   "metadata": {},
   "outputs": [
    {
     "name": "stdout",
     "output_type": "stream",
     "text": [
      ": The Court™ has sentenced you to having great endurance, but legally required to wear shoes with multiple pebbles in each shoe\n"
     ]
    }
   ],
   "source": [
    "import random\n",
    "\n",
    "\n",
    "def randomizedPunishment():\n",
    "    funPunishmentOptions = [\n",
    "        'never getting hungry ever again, but required to eat the entire Empire State Building, crumb by crumb',\n",
    "        'looking great all the time, but being required by law to cosplay in a very ill-fitting giraffe costume every 4.5 hours',\n",
    "        'living forever, but you are legally obligated to live in Ohio for eternity',\n",
    "        'having good time management, but you are only allowed to tell the time by completing a complex multivariable calculus problem',\n",
    "        'having great endurance, but legally required to wear shoes with multiple pebbles in each shoe',\n",
    "        'being contacted for cool opportunities, but the American Emergency Alarm System (EAS) sound is required to be your ringtone and all notification sounds, on full volume'\n",
    "    ]\n",
    "\n",
    "    name = input(\"Enter your first name: \")\n",
    "\n",
    "    randNum = random.randint(0, 5)\n",
    "\n",
    "    print(name+\": The Court™ has sentenced you to \"+funPunishmentOptions[randNum])\n",
    "\n",
    "\n",
    "randomizedPunishment()"
   ]
  },
  {
   "cell_type": "code",
   "execution_count": 130,
   "metadata": {},
   "outputs": [
    {
     "name": "stdout",
     "output_type": "stream",
     "text": [
      ": The Court™ has sentenced you to having good time management, but you are only allowed to tell the time by completing a complex multivariable calculus problem\n"
     ]
    }
   ],
   "source": [
    "randomizedPunishment()"
   ]
  },
  {
   "cell_type": "code",
   "execution_count": 131,
   "metadata": {},
   "outputs": [
    {
     "name": "stdout",
     "output_type": "stream",
     "text": [
      ": The Court™ has sentenced you to looking great all the time, but being required by law to cosplay in a very ill-fitting giraffe costume every 4.5 hours\n"
     ]
    }
   ],
   "source": [
    "randomizedPunishment()"
   ]
  },
  {
   "cell_type": "code",
   "execution_count": 132,
   "metadata": {},
   "outputs": [
    {
     "name": "stdout",
     "output_type": "stream",
     "text": [
      "Gordon Ramsey moment\n"
     ]
    }
   ],
   "source": [
    "beefwellington()"
   ]
  },
  {
   "cell_type": "markdown",
   "metadata": {},
   "source": [
    "### Default parameter values:"
   ]
  },
  {
   "cell_type": "code",
   "execution_count": 133,
   "metadata": {},
   "outputs": [
    {
     "name": "stdout",
     "output_type": "stream",
     "text": [
      "Male\n",
      "Female\n",
      "Other\n"
     ]
    }
   ],
   "source": [
    "def get_gender(sex='Other'):\n",
    "    if sex == 'm':\n",
    "        sex = \"Male\"\n",
    "    elif sex == 'f':\n",
    "        sex = \"Female\"\n",
    "\n",
    "    print(sex)\n",
    "\n",
    "get_gender('m')\n",
    "get_gender('f')\n",
    "get_gender()"
   ]
  },
  {
   "cell_type": "markdown",
   "metadata": {},
   "source": [
    "### Variable Scope"
   ]
  },
  {
   "cell_type": "code",
   "execution_count": 134,
   "metadata": {},
   "outputs": [
    {
     "name": "stdout",
     "output_type": "stream",
     "text": [
      "7823\n",
      "7823\n"
     ]
    },
    {
     "ename": "NameError",
     "evalue": "name 'b' is not defined",
     "output_type": "error",
     "traceback": [
      "\u001b[1;31m---------------------------------------------------------------------------\u001b[0m",
      "\u001b[1;31mNameError\u001b[0m                                 Traceback (most recent call last)",
      "\u001b[1;32m~\\AppData\\Local\\Temp\\ipykernel_25520\\3359396945.py\u001b[0m in \u001b[0;36m<module>\u001b[1;34m\u001b[0m\n\u001b[0;32m     11\u001b[0m \u001b[0mohio\u001b[0m\u001b[1;33m(\u001b[0m\u001b[1;33m)\u001b[0m\u001b[1;33m\u001b[0m\u001b[1;33m\u001b[0m\u001b[0m\n\u001b[0;32m     12\u001b[0m \u001b[1;33m\u001b[0m\u001b[0m\n\u001b[1;32m---> 13\u001b[1;33m \u001b[0mprint\u001b[0m\u001b[1;33m(\u001b[0m\u001b[0mb\u001b[0m\u001b[1;33m)\u001b[0m \u001b[1;31m### Variables created inside functions can only be used within that function (e.g. b)\u001b[0m\u001b[1;33m\u001b[0m\u001b[1;33m\u001b[0m\u001b[0m\n\u001b[0m",
      "\u001b[1;31mNameError\u001b[0m: name 'b' is not defined"
     ]
    }
   ],
   "source": [
    "a = 7823 ### Variables outside of function can be used \"globally\" (across diferent functions) (e.g. a)\n",
    "\n",
    "def applesauce():\n",
    "    b = \"tax evasion\"\n",
    "    print(a)\n",
    "\n",
    "def ohio():\n",
    "    print(a)\n",
    "\n",
    "applesauce()\n",
    "ohio()\n",
    "\n",
    "print(b) ### Variables created inside functions can only be used within that function (e.g. b)\n"
   ]
  },
  {
   "cell_type": "markdown",
   "metadata": {},
   "source": [
    "### Keyword Arguments"
   ]
  },
  {
   "cell_type": "code",
   "execution_count": null,
   "metadata": {},
   "outputs": [],
   "source": [
    "def dumb_sentence(name='Priscilla', action='transformed into', item='a 2003 honda civic'):\n",
    "    print(name, action, item)\n",
    "\n",
    "dumb_sentence()\n",
    "dumb_sentence('Squidward', 'ate', 'a nuclear bomb')\n",
    "dumb_sentence(item='Ohio')\n",
    "dumb_sentence(action='danced on', name=\"Ted 'Zodiac Killer' Cruz\")"
   ]
  },
  {
   "cell_type": "markdown",
   "metadata": {},
   "source": [
    "### Flexible Number of Arguments"
   ]
  },
  {
   "cell_type": "code",
   "execution_count": 135,
   "metadata": {},
   "outputs": [
    {
     "name": "stdout",
     "output_type": "stream",
     "text": [
      "3\n",
      "76\n",
      "89484019299\n"
     ]
    }
   ],
   "source": [
    "def add_numbers(*args): # 'args' is just a variable, can be named anything, but common practice\n",
    "    total = 0\n",
    "\n",
    "    for a in args:\n",
    "        total += a\n",
    "\n",
    "    print(total)\n",
    "\n",
    "add_numbers(3)    \n",
    "add_numbers(21, 17, 38)\n",
    "add_numbers(90876, 5, 23, 89483928394, 1)\n"
   ]
  },
  {
   "cell_type": "markdown",
   "metadata": {},
   "source": [
    "### Unpacking List of Arguments"
   ]
  },
  {
   "cell_type": "code",
   "execution_count": 136,
   "metadata": {},
   "outputs": [
    {
     "name": "stdout",
     "output_type": "stream",
     "text": [
      "-419.0 years left to live\n",
      "-419.0 years left to live\n",
      "94.5 years left to live\n"
     ]
    }
   ],
   "source": [
    "def health_calculator(age, apples_ate, cigs_smoked):\n",
    "    answer = (100-age) + (apples_ate * 3.5) - (cigs_smoked * 2)\n",
    "    print(answer, \"years left to live\")\n",
    "\n",
    "\n",
    "squidwards_data = [73, 4, 230]\n",
    "priscillas_data = [23, 5, 0]\n",
    "\n",
    "health_calculator(squidwards_data[0], squidwards_data[1], squidwards_data[2])\n",
    "health_calculator(*squidwards_data) # unpacking list (regardless of list size)\n",
    "health_calculator(*priscillas_data) # npacking list (regardless of list size)"
   ]
  },
  {
   "cell_type": "markdown",
   "metadata": {},
   "source": [
    "## Sets\n",
    "\n",
    "Considerations:\n",
    "1. No duplicate items are allowed in sets\n",
    "2. Items in sets are not in any order\n",
    "3. Items within set must be immutable (e.g. strings, numbers, etc); they cannot be lists or dictionaries"
   ]
  },
  {
   "cell_type": "code",
   "execution_count": 137,
   "metadata": {},
   "outputs": [
    {
     "name": "stdout",
     "output_type": "stream",
     "text": [
      "set()\n",
      "{'dolphin'}\n",
      "{'divorce papers', 'cat', 'turtle', 'dolphin', 'frog'}\n"
     ]
    }
   ],
   "source": [
    "animals = set()\n",
    "\n",
    "print(animals)\n",
    "\n",
    "animals.add(\"dolphin\")\n",
    "\n",
    "print(animals)\n",
    "\n",
    "list_of_animals = ['cat', 'turtle', 'divorce papers', 'frog']\n",
    "\n",
    "animals.update(list_of_animals)\n",
    "\n",
    "print(animals)"
   ]
  },
  {
   "cell_type": "code",
   "execution_count": 138,
   "metadata": {},
   "outputs": [
    {
     "name": "stdout",
     "output_type": "stream",
     "text": [
      "{'cereal', 'milk', 'peanut butter', 'muffins', 'cookies'}\n",
      "stop buying milk\n"
     ]
    }
   ],
   "source": [
    "groceries = {'cereal', 'milk', 'peanut butter', 'muffins', 'milk', 'cookies'}\n",
    "\n",
    "print(groceries)\n",
    "\n",
    "if 'milk' in groceries:\n",
    "    print(\"stop buying milk\")\n",
    "else:\n",
    "    print(\"buy milk so it can waste away in the fridge\")"
   ]
  },
  {
   "cell_type": "markdown",
   "metadata": {},
   "source": [
    "## Dictionaries"
   ]
  },
  {
   "cell_type": "code",
   "execution_count": 139,
   "metadata": {},
   "outputs": [
    {
     "name": "stdout",
     "output_type": "stream",
     "text": [
      "{'California': '2.5 sqft house going for $3,500 a month (limited time offer!)', 'Texas': 'oil, yeehaw, what more can I say', 'Ohio': 'no comment', 'Florida': 'Breaking News: Florida Man and local neighborhood aligator team up to rob a UPS store'}\n",
      "2.5 sqft house going for $3,500 a month (limited time offer!)\n"
     ]
    }
   ],
   "source": [
    "us_states = {\n",
    "    \"California\": \"2.5 sqft house going for $3,500 a month (limited time offer!)\",\n",
    "    \"Texas\": \"oil, yeehaw, what more can I say\",\n",
    "    \"Ohio\": \"no comment\",\n",
    "    \"Florida\": \"Breaking News: Florida Man and local neighborhood aligator team up to rob a UPS store\"\n",
    "}\n",
    "\n",
    "print(us_states)\n",
    "print(us_states[\"California\"])"
   ]
  },
  {
   "cell_type": "code",
   "execution_count": 140,
   "metadata": {},
   "outputs": [
    {
     "name": "stdout",
     "output_type": "stream",
     "text": [
      "California - 2.5 sqft house going for $3,500 a month (limited time offer!)\n",
      "Texas - oil, yeehaw, what more can I say\n",
      "Ohio - no comment\n",
      "Florida - Breaking News: Florida Man and local neighborhood aligator team up to rob a UPS store\n"
     ]
    }
   ],
   "source": [
    "#loop through dictionary\n",
    "\n",
    "for key, value in us_states.items():\n",
    "    print(key, '-', value)"
   ]
  },
  {
   "cell_type": "markdown",
   "metadata": {},
   "source": [
    "## Modules"
   ]
  },
  {
   "cell_type": "code",
   "execution_count": 154,
   "metadata": {},
   "outputs": [
    {
     "name": "stdout",
     "output_type": "stream",
     "text": [
      "You owe a small sum of 7 trillion dollars in taxes.\n"
     ]
    }
   ],
   "source": [
    "import taxes # created another file called \"taxes.py\" \n",
    "\n",
    "taxes.amount_owed()"
   ]
  },
  {
   "cell_type": "code",
   "execution_count": 155,
   "metadata": {},
   "outputs": [
    {
     "name": "stdout",
     "output_type": "stream",
     "text": [
      "33\n"
     ]
    }
   ],
   "source": [
    "import random\n",
    "\n",
    "num = random.randrange(1, 1000)\n",
    "\n",
    "print(num)"
   ]
  },
  {
   "cell_type": "markdown",
   "metadata": {},
   "source": [
    "## Strings"
   ]
  },
  {
   "cell_type": "code",
   "execution_count": 143,
   "metadata": {},
   "outputs": [
    {
     "name": "stdout",
     "output_type": "stream",
     "text": [
      "n\n",
      "ng into crippling debt is my favorite activity\n"
     ]
    }
   ],
   "source": [
    "text = \"getting into crippling debt is my favorite activity\"\n",
    "\n",
    "print(text[5])\n",
    "print(text[5:])"
   ]
  },
  {
   "cell_type": "code",
   "execution_count": 144,
   "metadata": {},
   "outputs": [
    {
     "name": "stdout",
     "output_type": "stream",
     "text": [
      "o\n",
      "h\n",
      "i\n",
      "o\n"
     ]
    }
   ],
   "source": [
    "favorite_food = \"ohio\"\n",
    "\n",
    "index = 0\n",
    "\n",
    "while index < len(favorite_food):\n",
    "    letter = favorite_food[index]\n",
    "    print(letter)\n",
    "    index += 1"
   ]
  },
  {
   "cell_type": "code",
   "execution_count": 145,
   "metadata": {},
   "outputs": [
    {
     "name": "stdout",
     "output_type": "stream",
     "text": [
      "o\n",
      "h\n",
      "i\n",
      "o\n"
     ]
    }
   ],
   "source": [
    "for letter in favorite_food:\n",
    "    print(letter)"
   ]
  },
  {
   "cell_type": "code",
   "execution_count": 146,
   "metadata": {},
   "outputs": [
    {
     "data": {
      "text/plain": [
       "True"
      ]
     },
     "execution_count": 146,
     "metadata": {},
     "output_type": "execute_result"
    }
   ],
   "source": [
    "## Booleans\n",
    "\n",
    "vegetable = \"tomato\"\n",
    "\n",
    "'o' in vegetable"
   ]
  },
  {
   "cell_type": "code",
   "execution_count": 147,
   "metadata": {},
   "outputs": [
    {
     "data": {
      "text/plain": [
       "False"
      ]
     },
     "execution_count": 147,
     "metadata": {},
     "output_type": "execute_result"
    }
   ],
   "source": [
    "'z' in vegetable"
   ]
  },
  {
   "cell_type": "markdown",
   "metadata": {},
   "source": [
    "### String Methods"
   ]
  },
  {
   "cell_type": "markdown",
   "metadata": {},
   "source": [
    "Change string to uppercase or lowercase:"
   ]
  },
  {
   "cell_type": "code",
   "execution_count": 148,
   "metadata": {},
   "outputs": [
    {
     "name": "stdout",
     "output_type": "stream",
     "text": [
      "thank you for shopping at walmart\n",
      "THANK YOU FOR SHOPPING AT WALMART\n"
     ]
    }
   ],
   "source": [
    "greeting = 'Thank you for shopping at Walmart'\n",
    "\n",
    "print(greeting.lower())\n",
    "print(greeting.upper())"
   ]
  },
  {
   "cell_type": "markdown",
   "metadata": {},
   "source": [
    "Find subtring in string:"
   ]
  },
  {
   "cell_type": "code",
   "execution_count": 149,
   "metadata": {},
   "outputs": [
    {
     "name": "stdout",
     "output_type": "stream",
     "text": [
      "26\n",
      "-1\n"
     ]
    }
   ],
   "source": [
    "# NOTE: case sensitive\n",
    "\n",
    "substr = greeting.find('Wal')\n",
    "substr2 = greeting.find('ohio')\n",
    "\n",
    "print(substr)\n",
    "print(substr2)"
   ]
  },
  {
   "cell_type": "markdown",
   "metadata": {},
   "source": [
    "Search & replace:"
   ]
  },
  {
   "cell_type": "code",
   "execution_count": 150,
   "metadata": {},
   "outputs": [
    {
     "name": "stdout",
     "output_type": "stream",
     "text": [
      "Thank you for shopping at Ballmart\n",
      "Thank yuu fur shupping at Walmart\n"
     ]
    }
   ],
   "source": [
    "newstr = greeting.replace('Wal', 'Ball')\n",
    "newstr2 = greeting.replace('o', 'u')\n",
    "\n",
    "print(newstr)\n",
    "print(newstr2)"
   ]
  },
  {
   "cell_type": "markdown",
   "metadata": {},
   "source": [
    "Stripping whitespace:"
   ]
  },
  {
   "cell_type": "code",
   "execution_count": 151,
   "metadata": {},
   "outputs": [
    {
     "name": "stdout",
     "output_type": "stream",
     "text": [
      "Thank you for shopping at Walmart      \n",
      "       Thank you for shopping at Walmart\n",
      "Thank you for shopping at Walmart\n"
     ]
    }
   ],
   "source": [
    "greeting2 = '       Thank you for shopping at Walmart      '\n",
    "\n",
    "greet_left = greeting2.lstrip()\n",
    "greet_right = greeting2.rstrip()\n",
    "greet_both = greeting2.strip()\n",
    "\n",
    "print(greet_left)\n",
    "print(greet_right)\n",
    "print(greet_both)"
   ]
  },
  {
   "cell_type": "markdown",
   "metadata": {},
   "source": [
    "Prefixes (boolean):"
   ]
  },
  {
   "cell_type": "code",
   "execution_count": 152,
   "metadata": {},
   "outputs": [
    {
     "name": "stdout",
     "output_type": "stream",
     "text": [
      "True\n",
      "False\n"
     ]
    }
   ],
   "source": [
    "print(greeting.startswith(\"Thank\"))\n",
    "print(greeting.startswith(\"cincinnati\"))"
   ]
  },
  {
   "cell_type": "markdown",
   "metadata": {},
   "source": [
    "Parsing & extracting:"
   ]
  },
  {
   "cell_type": "code",
   "execution_count": 153,
   "metadata": {},
   "outputs": [
    {
     "name": "stdout",
     "output_type": "stream",
     "text": [
      "14\n",
      "26\n",
      "walmart.gov\n"
     ]
    }
   ],
   "source": [
    "#need to extract the email domain from the string below\n",
    "\n",
    "data = 'From hunter123@walmart.gov Sent Friday December 2nd 01:11:42 1898'\n",
    "\n",
    "at_sign_pos = data.find('@') # stores index of at (@) symbol\n",
    "print(at_sign_pos) # 14\n",
    "\n",
    "# NOTE: find() has the following parameters: value (required), starting index (optional), ending index (optional)\n",
    "space_pos = data.find(' ', at_sign_pos) # find 1st space, starting from the at sign\n",
    "print(space_pos) #26\n",
    "\n",
    "email_domain = data[at_sign_pos+1 : space_pos]\n",
    "print(email_domain)\n"
   ]
  },
  {
   "cell_type": "markdown",
   "metadata": {},
   "source": [
    "## Reading Files"
   ]
  },
  {
   "cell_type": "code",
   "execution_count": null,
   "metadata": {},
   "outputs": [],
   "source": []
  },
  {
   "cell_type": "markdown",
   "metadata": {},
   "source": [
    "## Download an Image from the Web"
   ]
  },
  {
   "cell_type": "code",
   "execution_count": null,
   "metadata": {},
   "outputs": [],
   "source": []
  }
 ],
 "metadata": {
  "interpreter": {
   "hash": "3b806cc711b465e66e8252dff191d8681f8b41038e9cbc25fa942edafd26a2d7"
  },
  "kernelspec": {
   "display_name": "Python 3.9.10 ('base')",
   "language": "python",
   "name": "python3"
  },
  "language_info": {
   "codemirror_mode": {
    "name": "ipython",
    "version": 3
   },
   "file_extension": ".py",
   "mimetype": "text/x-python",
   "name": "python",
   "nbconvert_exporter": "python",
   "pygments_lexer": "ipython3",
   "version": "3.9.10"
  },
  "orig_nbformat": 4
 },
 "nbformat": 4,
 "nbformat_minor": 2
}
