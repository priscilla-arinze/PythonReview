{
 "cells": [
  {
   "cell_type": "markdown",
   "metadata": {},
   "source": [
    "# Classes & Objects - Inheritance"
   ]
  },
  {
   "cell_type": "code",
   "execution_count": 4,
   "metadata": {},
   "outputs": [],
   "source": [
    "class Appliance():\n",
    "    def __init__(self, applianceName):\n",
    "        self.applianceName = applianceName\n",
    "\n",
    "    def temperature(self):\n",
    "        temp = 'Normal (Room Temp)'\n",
    "        return temp\n",
    "    \n",
    "    def motivations(self):\n",
    "        print(\"Looking forward to your world domination arc, \"+ self.applianceName)\n",
    "\n",
    "\n",
    "class Refrigerator(Appliance): # Refrigerator class is \"inheriting\" all the stuff in Appliance class \n",
    "    def temperature(self): # Override function\n",
    "        temp = 'Cold'\n",
    "        return temp\n",
    "\n",
    "class Stove(Appliance): # Stove class is \"inheriting\" all the stuff in Appliance class \n",
    "    def temperature(self): # Override function\n",
    "        temp = 'Hot'\n",
    "        return temp"
   ]
  },
  {
   "cell_type": "code",
   "execution_count": 6,
   "metadata": {},
   "outputs": [
    {
     "name": "stdout",
     "output_type": "stream",
     "text": [
      "Appliance\n",
      "Normal (Room Temp)\n",
      "Looking forward to your world domination arc, Appliance\n"
     ]
    }
   ],
   "source": [
    "basicAppliance = Appliance(\"Appliance\")\n",
    "\n",
    "print(basicAppliance.applianceName)\n",
    "\n",
    "print(basicAppliance.temperature())\n",
    "\n",
    "basicAppliance.motivations()"
   ]
  },
  {
   "cell_type": "code",
   "execution_count": 8,
   "metadata": {},
   "outputs": [
    {
     "name": "stdout",
     "output_type": "stream",
     "text": [
      "Refrigerator\n",
      "Cold\n",
      "Looking forward to your world domination arc, Refrigerator\n"
     ]
    }
   ],
   "source": [
    "refrig = Refrigerator(\"Refrigerator\")\n",
    "\n",
    "print(refrig.applianceName)\n",
    "\n",
    "print(refrig.temperature())\n",
    "\n",
    "refrig.motivations()"
   ]
  },
  {
   "cell_type": "code",
   "execution_count": 9,
   "metadata": {},
   "outputs": [
    {
     "name": "stdout",
     "output_type": "stream",
     "text": [
      "Stove\n",
      "Hot\n",
      "Looking forward to your world domination arc, Stove\n"
     ]
    }
   ],
   "source": [
    "stove = Stove(\"Stove\")\n",
    "\n",
    "print(stove.applianceName)\n",
    "\n",
    "print(stove.temperature())\n",
    "\n",
    "stove.motivations()"
   ]
  },
  {
   "cell_type": "markdown",
   "metadata": {},
   "source": [
    "## Multiple Inheritance\n",
    "\n",
    "Inheriting from multiple classes; helps to avoid having to copy/paste the same function over and over"
   ]
  },
  {
   "cell_type": "code",
   "execution_count": 1,
   "metadata": {},
   "outputs": [],
   "source": [
    "class Animal():\n",
    "    def identity(self):\n",
    "        print(\"yup sure I'm an animal, even though I'm talking, but no I'm an animal alright sure\")\n",
    "\n",
    "class Food():\n",
    "    def eating(self):\n",
    "        print(\"yum love food, food is good yeah\")\n",
    "\n",
    "class Cat(Animal, Food): # inheriting from multiple classes\n",
    "    # keyword to allow for the creation of an empty class w/o syntax error \n",
    "    # Helps especially if already inheriting a bunch of other classes' functions\n",
    "    pass \n"
   ]
  },
  {
   "cell_type": "code",
   "execution_count": 2,
   "metadata": {},
   "outputs": [
    {
     "name": "stdout",
     "output_type": "stream",
     "text": [
      "yup sure I'm an animal, even though I'm talking, but no I'm an animal alright sure\n",
      "yum love food, food is good yeah\n"
     ]
    }
   ],
   "source": [
    "dave = Cat()\n",
    "\n",
    "dave.identity()\n",
    "dave.eating()"
   ]
  }
 ],
 "metadata": {
  "interpreter": {
   "hash": "3b806cc711b465e66e8252dff191d8681f8b41038e9cbc25fa942edafd26a2d7"
  },
  "kernelspec": {
   "display_name": "Python 3.9.10 ('base')",
   "language": "python",
   "name": "python3"
  },
  "language_info": {
   "codemirror_mode": {
    "name": "ipython",
    "version": 3
   },
   "file_extension": ".py",
   "mimetype": "text/x-python",
   "name": "python",
   "nbconvert_exporter": "python",
   "pygments_lexer": "ipython3",
   "version": "3.9.10"
  },
  "orig_nbformat": 4
 },
 "nbformat": 4,
 "nbformat_minor": 2
}
