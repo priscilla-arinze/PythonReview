{
 "cells": [
  {
   "cell_type": "markdown",
   "metadata": {},
   "source": [
    "# If, Elif (Else If), Else"
   ]
  },
  {
   "cell_type": "code",
   "execution_count": 5,
   "metadata": {},
   "outputs": [
    {
     "name": "stdout",
     "output_type": "stream",
     "text": [
      "Yummy, liver damage juice\n"
     ]
    }
   ],
   "source": [
    "age = 23\n",
    "\n",
    "if age < 21:\n",
    "    print(\"No beer for you\")\n",
    "else:\n",
    "    print(\"Yummy, liver damage juice\")"
   ]
  },
  {
   "cell_type": "code",
   "execution_count": 7,
   "metadata": {},
   "outputs": [
    {
     "name": "stdout",
     "output_type": "stream",
     "text": [
      "So when are you taking over the world again?\n"
     ]
    }
   ],
   "source": [
    "kitchen_appliance = \"refrigerator\"\n",
    "\n",
    "if kitchen_appliance == \"blender\":\n",
    "    print(\"Couldn't imagine violently excuting ice and acting like nothing happened..\")\n",
    "elif kitchen_appliance == \"refrigerator\":\n",
    "    print(\"So when are you taking over the world again?\")\n",
    "elif kitchen_appliance == \"microwave\":\n",
    "    print(\"Can you explain what you meant when you said, 'mmmm mmm mmm' last week?\")\n",
    "elif kitchen_appliance == \"toaster\":\n",
    "    print(\"I love never being able to use you because my bread keeps expiring, keep up the good work.\")\n",
    "elif kitchen_appliance == \"mustard\":\n",
    "    print(\"Can never cook anything without my trusty mustard.\")\n",
    "else:\n",
    "    print(\"You're lacking very important kitchen appliances.\")"
   ]
  }
 ],
 "metadata": {
  "interpreter": {
   "hash": "3b806cc711b465e66e8252dff191d8681f8b41038e9cbc25fa942edafd26a2d7"
  },
  "kernelspec": {
   "display_name": "Python 3.9.10 ('base')",
   "language": "python",
   "name": "python3"
  },
  "language_info": {
   "codemirror_mode": {
    "name": "ipython",
    "version": 3
   },
   "file_extension": ".py",
   "mimetype": "text/x-python",
   "name": "python",
   "nbconvert_exporter": "python",
   "pygments_lexer": "ipython3",
   "version": "3.9.10"
  },
  "orig_nbformat": 4
 },
 "nbformat": 4,
 "nbformat_minor": 2
}
