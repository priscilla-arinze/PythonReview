{
 "cells": [
  {
   "cell_type": "markdown",
   "metadata": {},
   "source": [
    "# Dictionaries"
   ]
  },
  {
   "cell_type": "code",
   "execution_count": null,
   "metadata": {},
   "outputs": [
    {
     "name": "stdout",
     "output_type": "stream",
     "text": [
      "{'California': '2.5 sqft house going for $3,500 a month (limited time offer!)', 'Texas': 'oil, yeehaw, what more can I say', 'Ohio': 'no comment', 'Florida': 'Breaking News: Florida Man and local neighborhood aligator team up to rob a UPS store'}\n",
      "2.5 sqft house going for $3,500 a month (limited time offer!)\n"
     ]
    }
   ],
   "source": [
    "us_states = {\n",
    "    \"California\": \"2.5 sqft house going for $3,500 a month (limited time offer!)\",\n",
    "    \"Texas\": \"oil, yeehaw, what more can I say\",\n",
    "    \"Ohio\": \"no comment\",\n",
    "    \"Florida\": \"Breaking News: Florida Man and local neighborhood aligator team up to rob a UPS store\"\n",
    "}\n",
    "\n",
    "print(us_states)\n",
    "print(us_states[\"California\"])"
   ]
  },
  {
   "cell_type": "code",
   "execution_count": null,
   "metadata": {},
   "outputs": [
    {
     "name": "stdout",
     "output_type": "stream",
     "text": [
      "California - 2.5 sqft house going for $3,500 a month (limited time offer!)\n",
      "Texas - oil, yeehaw, what more can I say\n",
      "Ohio - no comment\n",
      "Florida - Breaking News: Florida Man and local neighborhood aligator team up to rob a UPS store\n"
     ]
    }
   ],
   "source": [
    "#loop through dictionary\n",
    "\n",
    "for key, value in us_states.items():\n",
    "    print(key, '-', value)"
   ]
  }
 ],
 "metadata": {
  "interpreter": {
   "hash": "3b806cc711b465e66e8252dff191d8681f8b41038e9cbc25fa942edafd26a2d7"
  },
  "kernelspec": {
   "display_name": "Python 3.9.10 ('base')",
   "language": "python",
   "name": "python3"
  },
  "language_info": {
   "name": "python",
   "version": "3.9.10"
  },
  "orig_nbformat": 4
 },
 "nbformat": 4,
 "nbformat_minor": 2
}
