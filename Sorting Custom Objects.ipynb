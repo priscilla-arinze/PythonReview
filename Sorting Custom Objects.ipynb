{
 "cells": [
  {
   "cell_type": "markdown",
   "metadata": {},
   "source": [
    "# Sorting Custom Objects"
   ]
  },
  {
   "cell_type": "code",
   "execution_count": 1,
   "metadata": {},
   "outputs": [],
   "source": [
    "from operator import attrgetter"
   ]
  },
  {
   "cell_type": "code",
   "execution_count": 2,
   "metadata": {},
   "outputs": [],
   "source": [
    "class Student:\n",
    "    def __init__(self, name, studentid):\n",
    "        self.name = name\n",
    "        self.studentid = studentid\n",
    "\n",
    "    ## String representation of this class object\n",
    "    ## the output that is returned when class object variable name is invoked (no invoking method needed)\n",
    "    def __repr__(self):\n",
    "        return self.name + \": \" + str(self.studentid)"
   ]
  },
  {
   "cell_type": "code",
   "execution_count": 3,
   "metadata": {},
   "outputs": [],
   "source": [
    "students = [\n",
    "    Student('Priscilla', 101),\n",
    "    Student('Squidward', 102),\n",
    "    Student('Plank', 103),\n",
    "    Student('Brick', 104),\n",
    "    Student('Hexagon', 105),\n",
    "    Student('Bob', 106)\n",
    "]"
   ]
  },
  {
   "cell_type": "code",
   "execution_count": 6,
   "metadata": {},
   "outputs": [
    {
     "name": "stdout",
     "output_type": "stream",
     "text": [
      "Priscilla: 101\n",
      "Squidward: 102\n",
      "Plank: 103\n",
      "Brick: 104\n",
      "Hexagon: 105\n",
      "Bob: 106\n"
     ]
    }
   ],
   "source": [
    "for student in students:\n",
    "    print(student)"
   ]
  },
  {
   "cell_type": "markdown",
   "metadata": {},
   "source": [
    "### Sort Student objects by name:"
   ]
  },
  {
   "cell_type": "code",
   "execution_count": 10,
   "metadata": {},
   "outputs": [
    {
     "name": "stdout",
     "output_type": "stream",
     "text": [
      "----- SORTED BY NAME -----\n",
      "Bob: 106\n",
      "Brick: 104\n",
      "Hexagon: 105\n",
      "Plank: 103\n",
      "Priscilla: 101\n",
      "Squidward: 102\n"
     ]
    }
   ],
   "source": [
    "print(\"----- SORTED BY NAME -----\")\n",
    "\n",
    "for student in sorted(students, key=attrgetter('name')):\n",
    "    print(student)"
   ]
  },
  {
   "cell_type": "markdown",
   "metadata": {},
   "source": [
    "### Sort Student objects by student ID (in descending order):"
   ]
  },
  {
   "cell_type": "code",
   "execution_count": 12,
   "metadata": {},
   "outputs": [
    {
     "name": "stdout",
     "output_type": "stream",
     "text": [
      "----- SORTED BY STUDENTID -----\n",
      "Bob: 106\n",
      "Hexagon: 105\n",
      "Brick: 104\n",
      "Plank: 103\n",
      "Squidward: 102\n",
      "Priscilla: 101\n"
     ]
    }
   ],
   "source": [
    "print(\"----- SORTED BY STUDENTID -----\")\n",
    "\n",
    "for student in sorted(students, key=attrgetter('studentid'), reverse=True):\n",
    "    print(student)"
   ]
  }
 ],
 "metadata": {
  "kernelspec": {
   "display_name": "Python 3.9.10 ('base')",
   "language": "python",
   "name": "python3"
  },
  "language_info": {
   "codemirror_mode": {
    "name": "ipython",
    "version": 3
   },
   "file_extension": ".py",
   "mimetype": "text/x-python",
   "name": "python",
   "nbconvert_exporter": "python",
   "pygments_lexer": "ipython3",
   "version": "3.9.10"
  },
  "orig_nbformat": 4,
  "vscode": {
   "interpreter": {
    "hash": "3b806cc711b465e66e8252dff191d8681f8b41038e9cbc25fa942edafd26a2d7"
   }
  }
 },
 "nbformat": 4,
 "nbformat_minor": 2
}
