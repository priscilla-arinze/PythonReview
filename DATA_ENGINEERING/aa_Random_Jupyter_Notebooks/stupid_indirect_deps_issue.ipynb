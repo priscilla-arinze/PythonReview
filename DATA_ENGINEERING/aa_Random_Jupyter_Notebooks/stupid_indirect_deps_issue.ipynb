{
 "cells": [
  {
   "cell_type": "code",
   "execution_count": 11,
   "metadata": {},
   "outputs": [],
   "source": [
    "d = {\n",
    "    'A': ['apple', \"amy\", 'asparagus'],\n",
    "    'B': ['boy', \"balloon\", 'basic'],\n",
    "    'C': ['crazy', 'class', 'careless']\n",
    "}\n",
    "\n",
    "t = [\n",
    "    ('A', 'asparagus'),\n",
    "    ('D', 'danger'),\n",
    "    ('B', 'boy'),\n",
    "    ('B', 'balloon'),\n",
    "    ('A', 'balloon'),\n",
    "    ('C', 'class')\n",
    "]\n",
    "\n",
    "cols = ['letter', 'word']"
   ]
  },
  {
   "cell_type": "code",
   "execution_count": 12,
   "metadata": {},
   "outputs": [
    {
     "name": "stdout",
     "output_type": "stream",
     "text": [
      "[('A', 'asparagus', 1), ('D', 'danger', 0), ('B', 'boy', 1), ('B', 'balloon', 1), ('A', 'balloon', 0), ('C', 'class', 1)]\n"
     ]
    }
   ],
   "source": [
    "h = []\n",
    "\n",
    "col_index_letter = cols.index('letter')\n",
    "col_index_word = cols.index('word')\n",
    "\n",
    "for i in t:\n",
    "    if (i[col_index_letter] in d) and (i[col_index_word] in d[i[col_index_letter]]):\n",
    "        i = i+(1,)\n",
    "        h.append(i)\n",
    "    else:\n",
    "        i = i+(0,)\n",
    "        h.append(i)\n",
    "\n",
    "\n",
    "print(h)"
   ]
  },
  {
   "cell_type": "code",
   "execution_count": 17,
   "metadata": {},
   "outputs": [
    {
     "name": "stdout",
     "output_type": "stream",
     "text": [
      "None\n"
     ]
    }
   ],
   "source": [
    "g = dict(t)\n",
    "\n",
    "print(g.get('E'))"
   ]
  }
 ],
 "metadata": {
  "kernelspec": {
   "display_name": "modernize",
   "language": "python",
   "name": "python3"
  },
  "language_info": {
   "codemirror_mode": {
    "name": "ipython",
    "version": 3
   },
   "file_extension": ".py",
   "mimetype": "text/x-python",
   "name": "python",
   "nbconvert_exporter": "python",
   "pygments_lexer": "ipython3",
   "version": "3.10.0"
  },
  "orig_nbformat": 4
 },
 "nbformat": 4,
 "nbformat_minor": 2
}
