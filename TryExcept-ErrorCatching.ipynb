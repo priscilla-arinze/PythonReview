{
 "cells": [
  {
   "cell_type": "markdown",
   "metadata": {},
   "source": [
    "# Try / Except (Error Catching)"
   ]
  },
  {
   "cell_type": "markdown",
   "metadata": {},
   "source": [
    "## Doesn't show cryptic python errors to users & continues program"
   ]
  },
  {
   "cell_type": "markdown",
   "metadata": {},
   "source": [
    "### General Error Exception:"
   ]
  },
  {
   "cell_type": "code",
   "execution_count": 1,
   "metadata": {},
   "outputs": [
    {
     "name": "stdout",
     "output_type": "stream",
     "text": [
      "Enter a valid age dummy.\n"
     ]
    }
   ],
   "source": [
    "ageInput = input(\"Enter your age: \")\n",
    "\n",
    "try:\n",
    "    age = int(ageInput)\n",
    "except:\n",
    "    age = -1\n",
    "\n",
    "if age > 0:\n",
    "    print(\"You're old.\")\n",
    "else:\n",
    "    print(\"Enter a valid age dummy.\")"
   ]
  },
  {
   "cell_type": "code",
   "execution_count": 4,
   "metadata": {},
   "outputs": [
    {
     "name": "stdout",
     "output_type": "stream",
     "text": [
      "9\n"
     ]
    }
   ],
   "source": [
    "hamburgler = int(input(\"What's your favorite number?\"))\n",
    "\n",
    "print(hamburgler)"
   ]
  },
  {
   "cell_type": "code",
   "execution_count": 5,
   "metadata": {},
   "outputs": [
    {
     "ename": "ValueError",
     "evalue": "invalid literal for int() with base 10: 'beep'",
     "output_type": "error",
     "traceback": [
      "\u001b[1;31m---------------------------------------------------------------------------\u001b[0m",
      "\u001b[1;31mValueError\u001b[0m                                Traceback (most recent call last)",
      "\u001b[1;32m~\\AppData\\Local\\Temp\\ipykernel_12736\\1783841225.py\u001b[0m in \u001b[0;36m<module>\u001b[1;34m\u001b[0m\n\u001b[1;32m----> 1\u001b[1;33m \u001b[0mhamburgler2\u001b[0m \u001b[1;33m=\u001b[0m \u001b[0mint\u001b[0m\u001b[1;33m(\u001b[0m\u001b[0minput\u001b[0m\u001b[1;33m(\u001b[0m\u001b[1;34m\"What's your favorite number?\"\u001b[0m\u001b[1;33m)\u001b[0m\u001b[1;33m)\u001b[0m\u001b[1;33m\u001b[0m\u001b[1;33m\u001b[0m\u001b[0m\n\u001b[0m\u001b[0;32m      2\u001b[0m \u001b[1;33m\u001b[0m\u001b[0m\n\u001b[0;32m      3\u001b[0m \u001b[0mprint\u001b[0m\u001b[1;33m(\u001b[0m\u001b[0mhamburgler2\u001b[0m\u001b[1;33m)\u001b[0m\u001b[1;33m\u001b[0m\u001b[1;33m\u001b[0m\u001b[0m\n",
      "\u001b[1;31mValueError\u001b[0m: invalid literal for int() with base 10: 'beep'"
     ]
    }
   ],
   "source": [
    "hamburgler2 = int(input(\"What's your favorite number?\"))\n",
    "\n",
    "print(hamburgler2)"
   ]
  },
  {
   "cell_type": "markdown",
   "metadata": {},
   "source": [
    "### ValueError Exception:"
   ]
  },
  {
   "cell_type": "code",
   "execution_count": 7,
   "metadata": {},
   "outputs": [
    {
     "name": "stdout",
     "output_type": "stream",
     "text": [
      "Numbers only silly\n",
      "23 is the best number.\n"
     ]
    }
   ],
   "source": [
    "while True:\n",
    "    try:\n",
    "        hamburgler3 = int(input(\"What's your favorite number?\"))\n",
    "        print(hamburgler3, \"is the best number.\")\n",
    "        break\n",
    "    except ValueError:\n",
    "        print(\"Numbers only silly\")"
   ]
  },
  {
   "cell_type": "markdown",
   "metadata": {},
   "source": [
    "### ZeroDivisionError Exception:"
   ]
  },
  {
   "cell_type": "code",
   "execution_count": 9,
   "metadata": {},
   "outputs": [
    {
     "name": "stdout",
     "output_type": "stream",
     "text": [
      "Anything but zero sorry\n",
      "0.5 is the best number.\n"
     ]
    }
   ],
   "source": [
    "while True:\n",
    "    try:\n",
    "        hamburgler4 = int(input(\"What's your favorite number?\"))\n",
    "        print((10/hamburgler4), \"is the best number.\")\n",
    "        break\n",
    "    except ZeroDivisionError:\n",
    "        print(\"Anything but zero sorry\")\n"
   ]
  },
  {
   "cell_type": "markdown",
   "metadata": {},
   "source": [
    "### Finally statement:"
   ]
  },
  {
   "cell_type": "code",
   "execution_count": 10,
   "metadata": {},
   "outputs": [
    {
     "name": "stdout",
     "output_type": "stream",
     "text": [
      "Numbers only silly\n",
      "okay done\n",
      "Numbers only silly\n",
      "okay done\n",
      "Numbers only silly\n",
      "okay done\n",
      "1.6666666666666667 is the best number.\n",
      "okay done\n"
     ]
    }
   ],
   "source": [
    "while True:\n",
    "    try:\n",
    "        hamburgler5 = int(input(\"What's your favorite number?\"))\n",
    "        print((10/hamburgler5), \"is the best number.\")\n",
    "        break\n",
    "    except ValueError:\n",
    "        print(\"Numbers only silly\")\n",
    "    except ZeroDivisionError:\n",
    "        print(\"Anything but zero sorry\")\n",
    "    except: # any error other than the above\n",
    "        break\n",
    "    finally: # executes no matter what errors the user gets\n",
    "        print(\"okay done\")\n"
   ]
  }
 ],
 "metadata": {
  "interpreter": {
   "hash": "3b806cc711b465e66e8252dff191d8681f8b41038e9cbc25fa942edafd26a2d7"
  },
  "kernelspec": {
   "display_name": "Python 3.9.10 ('base')",
   "language": "python",
   "name": "python3"
  },
  "language_info": {
   "codemirror_mode": {
    "name": "ipython",
    "version": 3
   },
   "file_extension": ".py",
   "mimetype": "text/x-python",
   "name": "python",
   "nbconvert_exporter": "python",
   "pygments_lexer": "ipython3",
   "version": "3.9.10"
  },
  "orig_nbformat": 4
 },
 "nbformat": 4,
 "nbformat_minor": 2
}
