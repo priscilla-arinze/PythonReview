{
 "cells": [
  {
   "cell_type": "markdown",
   "metadata": {},
   "source": [
    "# Word Frequency (`collections` module)"
   ]
  },
  {
   "cell_type": "code",
   "execution_count": 1,
   "metadata": {},
   "outputs": [],
   "source": [
    "from collections import Counter"
   ]
  },
  {
   "cell_type": "code",
   "execution_count": 2,
   "metadata": {},
   "outputs": [],
   "source": [
    "rush2112 = ''' \n",
    "    'I lie awake, staring out at the bleakness of Megadon. City and sky become one, merging\n",
    "into a single plane, a vast sea of unbroken grey. The Twin Moons, just two pale orbs as\n",
    "they trace their way across the steely sky. I used to think I had a pretty good life here,\n",
    "just plugging into my machine for the day, then watching Templevision or reading a Temple\n",
    "Paper in the evening.\n",
    "\n",
    "'My friend Jon always said it was nicer here than under the atmospheric domes of the Outer\n",
    "Planets. We have had peace since 2062, when the surviving planets were banded together under\n",
    "the Red Star of the Solar Federation. The less fortunate gave us a few new moons.\n",
    "I believed what I was told. I thought it was a good life, I thought I was happy. Then I found\n",
    "something that changed it all...'\n",
    "\n",
    "[I. Overture]\n",
    "\n",
    "And the meek shall inherit the earth...\n",
    "\n",
    "[II. Temples of Syrinx]\n",
    "\n",
    "...'The massive grey walls of the Temples rise from the heart of every Federation city. I\n",
    "have always been awed by them, to think that every single facet of every life is regulated\n",
    "and directed from within! Our books, our music, our work and play are all looked after by\n",
    "the benevolent wisdom of the priests...'\n",
    "\n",
    "We've taken care of everything\n",
    "The words you read, the songs you sing\n",
    "The pictures that give pleasure to your eyes\n",
    "It's one for all and all for one\n",
    "We work together, common sons\n",
    "Never need to wonder how or why\n",
    "\n",
    "We are the Priests of the Temples of Syrinx\n",
    "Our great computers fill the hallowed halls\n",
    "We are the Priests, of the Temples of Syrinx\n",
    "All the gifts of life are held within our walls\n",
    "\n",
    "Look around at this world we've made\n",
    "Equality our stock in trade\n",
    "Come and join the Brotherhood of Man\n",
    "Oh, what a nice, contented world\n",
    "Let the banners be unfurled\n",
    "Hold the Red Star proudly high in hand\n",
    "\n",
    "We are the Priests of the Temples of Syrinx\n",
    "Our great computers fill the hallowed halls\n",
    "We are the Priests, of the Temples of Syrinx\n",
    "All the gifts of life are held within our walls\n",
    "\n",
    "[III. Discovery]\n",
    "\n",
    "'...Behind my beloved waterfall, in the little room that was hidden beneath the cave, I\n",
    "found it. I brushed away the dust of the years, and picked it up, holding it reverently in\n",
    "my hands. I had no idea what it might be, but it was beautiful...'\n",
    "\n",
    "'...I learned to lay my fingers across the wires, and to turn the keys to make them sound\n",
    "differently. As I struck the wires with my other hand, I produced my first harmonious sounds\n",
    "and soon my own music! How different it could be from the music of the Temples! I can't wait\n",
    "to tell the priests about it!...'\n",
    "\n",
    "What can this strange device be?\n",
    "When I touch it, it gives forth a sound\n",
    "It's got wires that vibrate and give music\n",
    "What can this thing be that I found?\n",
    "\n",
    "See how it sings like a sad heart\n",
    "And joyously screams out its pain\n",
    "Sounds that build high like a mountain\n",
    "Or notes that fall gently like rain\n",
    "\n",
    "I can't wait to share this new wonder\n",
    "The people will all see its light\n",
    "Let them all make their own music\n",
    "The Priests praise my name on this night\n",
    "\n",
    "[IV. Presentation]\n",
    "\n",
    "'...In the sudden silence as I finished playing, I looked up to a circle of grim,\n",
    "expressionless faces. Father Brown rose to his feet, and his somnolent voice echoed\n",
    "throughout the silent Temple Hall...'\n",
    "\n",
    "'...Instead of the grateful joy that I expected, they were words of quiet rejection!\n",
    "Instead of praise, sullen dismissal. I watched in shock and horror as Father Brown ground\n",
    "my precious instrument to splinters beneath his feet...'\n",
    "\n",
    "I know it's most unusual\n",
    "To come before you so\n",
    "But I've found an ancient miracle\n",
    "I thought that you should know\n",
    "Listen to my music\n",
    "And hear what it can do\n",
    "There's something here as strong as life\n",
    "I know that it will reach you\n",
    "\n",
    "Yes, we know, it's nothing new\n",
    "It's just a waste of time\n",
    "We have no need for ancient ways\n",
    "The world is doing fine\n",
    "Another toy that helped destroy\n",
    "The elder race of man\n",
    "Forget about your silly whim\n",
    "It doesn't fit the plan\n",
    "\n",
    "I can't believe you're saying\n",
    "These things just can't be true\n",
    "Our world could use this beauty\n",
    "Just think what we might do\n",
    "Listen to my music\n",
    "And hear what it can do\n",
    "There's something here as strong as life\n",
    "I know that it will reach you\n",
    "\n",
    "Don't annoy us further!\n",
    "We have our work to do\n",
    "Just think about the average\n",
    "What use have they for you?\n",
    "Another toy that helped destroy\n",
    "The elder race of man\n",
    "Forget about your silly whim\n",
    "It doesn't fit the Plan!\n",
    "\n",
    "[V. Oracle: The Dream]\n",
    "\n",
    "'...I guess it was a dream, but even now it all seems so vivid to me. Clearly yet I see\n",
    "the beckoning hand of the oracle as he stood at the summit of the staircase...'\n",
    "\n",
    "'...I see still the incredible beauty of the sculptured cities and the pure spirit of man\n",
    "revealed in the lives and works of this world. I was overwhelmed by both wonder and\n",
    "understanding as I saw a completely different way to life, a way that had been crushed\n",
    "by the Federation long ago. I saw now how meaningless life had become with the loss of\n",
    "all these things...'\n",
    "\n",
    "I wandered home through the silent streets\n",
    "And fell into a fitful sleep\n",
    "Escape to realms beyond the night\n",
    "Dream can't you show me the light?\n",
    "\n",
    "I stand atop a spiral stair\n",
    "An oracle confronts me there\n",
    "He leads me on light years away\n",
    "Through astral nights, galactic days\n",
    "I see the works of gifted hands\n",
    "That grace this strange and wondrous land\n",
    "I see the hand of man arise\n",
    "With hungry mind and open eyes\n",
    "\n",
    "They left our planets long ago\n",
    "The elder race still learn and grow\n",
    "Their power grows with purpose strong\n",
    "To claim the home where they belong\n",
    "Home to tear the Temples down...\n",
    "Home to change!\n",
    "\n",
    "[VI. Soliloquy]\n",
    "\n",
    "'...I have not left this cave for days now, it has become my last refuge in my total\n",
    "despair. I have only the music of the waterfall to comfort me now. I can no longer live\n",
    "under the control of the Federation, but there is no other place to go. My last hope is\n",
    "that with my death I may pass into the world of my dream, and know peace at last.'\n",
    "\n",
    "The sleep is still in my eyes\n",
    "The dream is still in my head\n",
    "I heave a sigh and sadly smile\n",
    "And lie a while in bed\n",
    "I wish that it might come to pass\n",
    "Not fade like all my dreams...\n",
    "\n",
    "Just think of what my life might be\n",
    "In a world like I have seen!\n",
    "I don't think I can carry on\n",
    "Carry on this cold and empty life\n",
    "\n",
    "My spirits are low in the depths of despair\n",
    "My lifeblood...\n",
    "...Spills over...\n",
    "\n",
    "[VII. The Grand Finale]\n",
    "\n",
    "Attention all Planets of the Solar Federation\n",
    "Attention all Planets of the Solar Federation\n",
    "Attention all Planets of the Solar Federation\n",
    "We have assumed control\n",
    "We have assumed control\n",
    "We have assumed control\n",
    "'''"
   ]
  },
  {
   "cell_type": "code",
   "execution_count": 4,
   "metadata": {},
   "outputs": [
    {
     "name": "stdout",
     "output_type": "stream",
     "text": [
      "[\"'I\", 'lie', 'awake,', 'staring', 'out', 'at', 'the', 'bleakness', 'of', 'Megadon.', 'City', 'and', 'sky', 'become', 'one,', 'merging', 'into', 'a', 'single', 'plane,', 'a', 'vast', 'sea', 'of', 'unbroken', 'grey.', 'The', 'Twin', 'Moons,', 'just', 'two', 'pale', 'orbs', 'as', 'they', 'trace', 'their', 'way', 'across', 'the', 'steely', 'sky.', 'I', 'used', 'to', 'think', 'I', 'had', 'a', 'pretty', 'good', 'life', 'here,', 'just', 'plugging', 'into', 'my', 'machine', 'for', 'the', 'day,', 'then', 'watching', 'Templevision', 'or', 'reading', 'a', 'Temple', 'Paper', 'in', 'the', 'evening.', \"'My\", 'friend', 'Jon', 'always', 'said', 'it', 'was', 'nicer', 'here', 'than', 'under', 'the', 'atmospheric', 'domes', 'of', 'the', 'Outer', 'Planets.', 'We', 'have', 'had', 'peace', 'since', '2062,', 'when', 'the', 'surviving', 'planets', 'were', 'banded', 'together', 'under', 'the', 'Red', 'Star', 'of', 'the', 'Solar', 'Federation.', 'The', 'less', 'fortunate', 'gave', 'us', 'a', 'few', 'new', 'moons.', 'I', 'believed', 'what', 'I', 'was', 'told.', 'I', 'thought', 'it', 'was', 'a', 'good', 'life,', 'I', 'thought', 'I', 'was', 'happy.', 'Then', 'I', 'found', 'something', 'that', 'changed', 'it', \"all...'\", '[I.', 'Overture]', 'And', 'the', 'meek', 'shall', 'inherit', 'the', 'earth...', '[II.', 'Temples', 'of', 'Syrinx]', \"...'The\", 'massive', 'grey', 'walls', 'of', 'the', 'Temples', 'rise', 'from', 'the', 'heart', 'of', 'every', 'Federation', 'city.', 'I', 'have', 'always', 'been', 'awed', 'by', 'them,', 'to', 'think', 'that', 'every', 'single', 'facet', 'of', 'every', 'life', 'is', 'regulated', 'and', 'directed', 'from', 'within!', 'Our', 'books,', 'our', 'music,', 'our', 'work', 'and', 'play', 'are', 'all', 'looked', 'after', 'by', 'the', 'benevolent', 'wisdom', 'of', 'the', \"priests...'\", \"We've\", 'taken', 'care', 'of', 'everything', 'The', 'words', 'you', 'read,', 'the', 'songs', 'you', 'sing', 'The', 'pictures', 'that', 'give', 'pleasure', 'to', 'your', 'eyes', \"It's\", 'one', 'for', 'all', 'and', 'all', 'for', 'one', 'We', 'work', 'together,', 'common', 'sons', 'Never', 'need', 'to', 'wonder', 'how', 'or', 'why', 'We', 'are', 'the', 'Priests', 'of', 'the', 'Temples', 'of', 'Syrinx', 'Our', 'great', 'computers', 'fill', 'the', 'hallowed', 'halls', 'We', 'are', 'the', 'Priests,', 'of', 'the', 'Temples', 'of', 'Syrinx', 'All', 'the', 'gifts', 'of', 'life', 'are', 'held', 'within', 'our', 'walls', 'Look', 'around', 'at', 'this', 'world', \"we've\", 'made', 'Equality', 'our', 'stock', 'in', 'trade', 'Come', 'and', 'join', 'the', 'Brotherhood', 'of', 'Man', 'Oh,', 'what', 'a', 'nice,', 'contented', 'world', 'Let', 'the', 'banners', 'be', 'unfurled', 'Hold', 'the', 'Red', 'Star', 'proudly', 'high', 'in', 'hand', 'We', 'are', 'the', 'Priests', 'of', 'the', 'Temples', 'of', 'Syrinx', 'Our', 'great', 'computers', 'fill', 'the', 'hallowed', 'halls', 'We', 'are', 'the', 'Priests,', 'of', 'the', 'Temples', 'of', 'Syrinx', 'All', 'the', 'gifts', 'of', 'life', 'are', 'held', 'within', 'our', 'walls', '[III.', 'Discovery]', \"'...Behind\", 'my', 'beloved', 'waterfall,', 'in', 'the', 'little', 'room', 'that', 'was', 'hidden', 'beneath', 'the', 'cave,', 'I', 'found', 'it.', 'I', 'brushed', 'away', 'the', 'dust', 'of', 'the', 'years,', 'and', 'picked', 'it', 'up,', 'holding', 'it', 'reverently', 'in', 'my', 'hands.', 'I', 'had', 'no', 'idea', 'what', 'it', 'might', 'be,', 'but', 'it', 'was', \"beautiful...'\", \"'...I\", 'learned', 'to', 'lay', 'my', 'fingers', 'across', 'the', 'wires,', 'and', 'to', 'turn', 'the', 'keys', 'to', 'make', 'them', 'sound', 'differently.', 'As', 'I', 'struck', 'the', 'wires', 'with', 'my', 'other', 'hand,', 'I', 'produced', 'my', 'first', 'harmonious', 'sounds', 'and', 'soon', 'my', 'own', 'music!', 'How', 'different', 'it', 'could', 'be', 'from', 'the', 'music', 'of', 'the', 'Temples!', 'I', \"can't\", 'wait', 'to', 'tell', 'the', 'priests', 'about', \"it!...'\", 'What', 'can', 'this', 'strange', 'device', 'be?', 'When', 'I', 'touch', 'it,', 'it', 'gives', 'forth', 'a', 'sound', \"It's\", 'got', 'wires', 'that', 'vibrate', 'and', 'give', 'music', 'What', 'can', 'this', 'thing', 'be', 'that', 'I', 'found?', 'See', 'how', 'it', 'sings', 'like', 'a', 'sad', 'heart', 'And', 'joyously', 'screams', 'out', 'its', 'pain', 'Sounds', 'that', 'build', 'high', 'like', 'a', 'mountain', 'Or', 'notes', 'that', 'fall', 'gently', 'like', 'rain', 'I', \"can't\", 'wait', 'to', 'share', 'this', 'new', 'wonder', 'The', 'people', 'will', 'all', 'see', 'its', 'light', 'Let', 'them', 'all', 'make', 'their', 'own', 'music', 'The', 'Priests', 'praise', 'my', 'name', 'on', 'this', 'night', '[IV.', 'Presentation]', \"'...In\", 'the', 'sudden', 'silence', 'as', 'I', 'finished', 'playing,', 'I', 'looked', 'up', 'to', 'a', 'circle', 'of', 'grim,', 'expressionless', 'faces.', 'Father', 'Brown', 'rose', 'to', 'his', 'feet,', 'and', 'his', 'somnolent', 'voice', 'echoed', 'throughout', 'the', 'silent', 'Temple', \"Hall...'\", \"'...Instead\", 'of', 'the', 'grateful', 'joy', 'that', 'I', 'expected,', 'they', 'were', 'words', 'of', 'quiet', 'rejection!', 'Instead', 'of', 'praise,', 'sullen', 'dismissal.', 'I', 'watched', 'in', 'shock', 'and', 'horror', 'as', 'Father', 'Brown', 'ground', 'my', 'precious', 'instrument', 'to', 'splinters', 'beneath', 'his', \"feet...'\", 'I', 'know', \"it's\", 'most', 'unusual', 'To', 'come', 'before', 'you', 'so', 'But', \"I've\", 'found', 'an', 'ancient', 'miracle', 'I', 'thought', 'that', 'you', 'should', 'know', 'Listen', 'to', 'my', 'music', 'And', 'hear', 'what', 'it', 'can', 'do', \"There's\", 'something', 'here', 'as', 'strong', 'as', 'life', 'I', 'know', 'that', 'it', 'will', 'reach', 'you', 'Yes,', 'we', 'know,', \"it's\", 'nothing', 'new', \"It's\", 'just', 'a', 'waste', 'of', 'time', 'We', 'have', 'no', 'need', 'for', 'ancient', 'ways', 'The', 'world', 'is', 'doing', 'fine', 'Another', 'toy', 'that', 'helped', 'destroy', 'The', 'elder', 'race', 'of', 'man', 'Forget', 'about', 'your', 'silly', 'whim', 'It', \"doesn't\", 'fit', 'the', 'plan', 'I', \"can't\", 'believe', \"you're\", 'saying', 'These', 'things', 'just', \"can't\", 'be', 'true', 'Our', 'world', 'could', 'use', 'this', 'beauty', 'Just', 'think', 'what', 'we', 'might', 'do', 'Listen', 'to', 'my', 'music', 'And', 'hear', 'what', 'it', 'can', 'do', \"There's\", 'something', 'here', 'as', 'strong', 'as', 'life', 'I', 'know', 'that', 'it', 'will', 'reach', 'you', \"Don't\", 'annoy', 'us', 'further!', 'We', 'have', 'our', 'work', 'to', 'do', 'Just', 'think', 'about', 'the', 'average', 'What', 'use', 'have', 'they', 'for', 'you?', 'Another', 'toy', 'that', 'helped', 'destroy', 'The', 'elder', 'race', 'of', 'man', 'Forget', 'about', 'your', 'silly', 'whim', 'It', \"doesn't\", 'fit', 'the', 'Plan!', '[V.', 'Oracle:', 'The', 'Dream]', \"'...I\", 'guess', 'it', 'was', 'a', 'dream,', 'but', 'even', 'now', 'it', 'all', 'seems', 'so', 'vivid', 'to', 'me.', 'Clearly', 'yet', 'I', 'see', 'the', 'beckoning', 'hand', 'of', 'the', 'oracle', 'as', 'he', 'stood', 'at', 'the', 'summit', 'of', 'the', \"staircase...'\", \"'...I\", 'see', 'still', 'the', 'incredible', 'beauty', 'of', 'the', 'sculptured', 'cities', 'and', 'the', 'pure', 'spirit', 'of', 'man', 'revealed', 'in', 'the', 'lives', 'and', 'works', 'of', 'this', 'world.', 'I', 'was', 'overwhelmed', 'by', 'both', 'wonder', 'and', 'understanding', 'as', 'I', 'saw', 'a', 'completely', 'different', 'way', 'to', 'life,', 'a', 'way', 'that', 'had', 'been', 'crushed', 'by', 'the', 'Federation', 'long', 'ago.', 'I', 'saw', 'now', 'how', 'meaningless', 'life', 'had', 'become', 'with', 'the', 'loss', 'of', 'all', 'these', \"things...'\", 'I', 'wandered', 'home', 'through', 'the', 'silent', 'streets', 'And', 'fell', 'into', 'a', 'fitful', 'sleep', 'Escape', 'to', 'realms', 'beyond', 'the', 'night', 'Dream', \"can't\", 'you', 'show', 'me', 'the', 'light?', 'I', 'stand', 'atop', 'a', 'spiral', 'stair', 'An', 'oracle', 'confronts', 'me', 'there', 'He', 'leads', 'me', 'on', 'light', 'years', 'away', 'Through', 'astral', 'nights,', 'galactic', 'days', 'I', 'see', 'the', 'works', 'of', 'gifted', 'hands', 'That', 'grace', 'this', 'strange', 'and', 'wondrous', 'land', 'I', 'see', 'the', 'hand', 'of', 'man', 'arise', 'With', 'hungry', 'mind', 'and', 'open', 'eyes', 'They', 'left', 'our', 'planets', 'long', 'ago', 'The', 'elder', 'race', 'still', 'learn', 'and', 'grow', 'Their', 'power', 'grows', 'with', 'purpose', 'strong', 'To', 'claim', 'the', 'home', 'where', 'they', 'belong', 'Home', 'to', 'tear', 'the', 'Temples', 'down...', 'Home', 'to', 'change!', '[VI.', 'Soliloquy]', \"'...I\", 'have', 'not', 'left', 'this', 'cave', 'for', 'days', 'now,', 'it', 'has', 'become', 'my', 'last', 'refuge', 'in', 'my', 'total', 'despair.', 'I', 'have', 'only', 'the', 'music', 'of', 'the', 'waterfall', 'to', 'comfort', 'me', 'now.', 'I', 'can', 'no', 'longer', 'live', 'under', 'the', 'control', 'of', 'the', 'Federation,', 'but', 'there', 'is', 'no', 'other', 'place', 'to', 'go.', 'My', 'last', 'hope', 'is', 'that', 'with', 'my', 'death', 'I', 'may', 'pass', 'into', 'the', 'world', 'of', 'my', 'dream,', 'and', 'know', 'peace', 'at', \"last.'\", 'The', 'sleep', 'is', 'still', 'in', 'my', 'eyes', 'The', 'dream', 'is', 'still', 'in', 'my', 'head', 'I', 'heave', 'a', 'sigh', 'and', 'sadly', 'smile', 'And', 'lie', 'a', 'while', 'in', 'bed', 'I', 'wish', 'that', 'it', 'might', 'come', 'to', 'pass', 'Not', 'fade', 'like', 'all', 'my', 'dreams...', 'Just', 'think', 'of', 'what', 'my', 'life', 'might', 'be', 'In', 'a', 'world', 'like', 'I', 'have', 'seen!', 'I', \"don't\", 'think', 'I', 'can', 'carry', 'on', 'Carry', 'on', 'this', 'cold', 'and', 'empty', 'life', 'My', 'spirits', 'are', 'low', 'in', 'the', 'depths', 'of', 'despair', 'My', 'lifeblood...', '...Spills', 'over...', '[VII.', 'The', 'Grand', 'Finale]', 'Attention', 'all', 'Planets', 'of', 'the', 'Solar', 'Federation', 'Attention', 'all', 'Planets', 'of', 'the', 'Solar', 'Federation', 'Attention', 'all', 'Planets', 'of', 'the', 'Solar', 'Federation', 'We', 'have', 'assumed', 'control', 'We', 'have', 'assumed', 'control', 'We', 'have', 'assumed', 'control']\n"
     ]
    }
   ],
   "source": [
    "words = rush2112.split()\n",
    "\n",
    "print(words)"
   ]
  },
  {
   "cell_type": "markdown",
   "metadata": {},
   "source": [
    "Data cleaning: Remove symbols from words & make all words in list lowercase"
   ]
  },
  {
   "cell_type": "code",
   "execution_count": 14,
   "metadata": {},
   "outputs": [
    {
     "name": "stdout",
     "output_type": "stream",
     "text": [
      "['i', 'lie', 'awake', 'staring', 'out', 'at', 'the', 'bleakness', 'of', 'megadon', 'city', 'and', 'sky', 'become', 'one', 'merging', 'into', 'a', 'single', 'plane', 'a', 'vast', 'sea', 'of', 'unbroken', 'grey', 'the', 'twin', 'moons', 'just', 'two', 'pale', 'orbs', 'as', 'they', 'trace', 'their', 'way', 'across', 'the', 'steely', 'sky', 'i', 'used', 'to', 'think', 'i', 'had', 'a', 'pretty', 'good', 'life', 'here', 'just', 'plugging', 'into', 'my', 'machine', 'for', 'the', 'day', 'then', 'watching', 'templevision', 'or', 'reading', 'a', 'temple', 'paper', 'in', 'the', 'evening', 'my', 'friend', 'jon', 'always', 'said', 'it', 'was', 'nicer', 'here', 'than', 'under', 'the', 'atmospheric', 'domes', 'of', 'the', 'outer', 'planets', 'we', 'have', 'had', 'peace', 'since', '2062', 'when', 'the', 'surviving', 'planets', 'were', 'banded', 'together', 'under', 'the', 'red', 'star', 'of', 'the', 'solar', 'federation', 'the', 'less', 'fortunate', 'gave', 'us', 'a', 'few', 'new', 'moons', 'i', 'believed', 'what', 'i', 'was', 'told', 'i', 'thought', 'it', 'was', 'a', 'good', 'life', 'i', 'thought', 'i', 'was', 'happy', 'then', 'i', 'found', 'something', 'that', 'changed', 'it', 'all', 'i', 'overture', 'and', 'the', 'meek', 'shall', 'inherit', 'the', 'earth', 'ii', 'temples', 'of', 'syrinx', 'the', 'massive', 'grey', 'walls', 'of', 'the', 'temples', 'rise', 'from', 'the', 'heart', 'of', 'every', 'federation', 'city', 'i', 'have', 'always', 'been', 'awed', 'by', 'them', 'to', 'think', 'that', 'every', 'single', 'facet', 'of', 'every', 'life', 'is', 'regulated', 'and', 'directed', 'from', 'within!', 'our', 'books', 'our', 'music', 'our', 'work', 'and', 'play', 'are', 'all', 'looked', 'after', 'by', 'the', 'benevolent', 'wisdom', 'of', 'the', 'priests', 'weve', 'taken', 'care', 'of', 'everything', 'the', 'words', 'you', 'read', 'the', 'songs', 'you', 'sing', 'the', 'pictures', 'that', 'give', 'pleasure', 'to', 'your', 'eyes', 'its', 'one', 'for', 'all', 'and', 'all', 'for', 'one', 'we', 'work', 'together', 'common', 'sons', 'never', 'need', 'to', 'wonder', 'how', 'or', 'why', 'we', 'are', 'the', 'priests', 'of', 'the', 'temples', 'of', 'syrinx', 'our', 'great', 'computers', 'fill', 'the', 'hallowed', 'halls', 'we', 'are', 'the', 'priests', 'of', 'the', 'temples', 'of', 'syrinx', 'all', 'the', 'gifts', 'of', 'life', 'are', 'held', 'within', 'our', 'walls', 'look', 'around', 'at', 'this', 'world', 'weve', 'made', 'equality', 'our', 'stock', 'in', 'trade', 'come', 'and', 'join', 'the', 'brotherhood', 'of', 'man', 'oh', 'what', 'a', 'nice', 'contented', 'world', 'let', 'the', 'banners', 'be', 'unfurled', 'hold', 'the', 'red', 'star', 'proudly', 'high', 'in', 'hand', 'we', 'are', 'the', 'priests', 'of', 'the', 'temples', 'of', 'syrinx', 'our', 'great', 'computers', 'fill', 'the', 'hallowed', 'halls', 'we', 'are', 'the', 'priests', 'of', 'the', 'temples', 'of', 'syrinx', 'all', 'the', 'gifts', 'of', 'life', 'are', 'held', 'within', 'our', 'walls', 'iii', 'discovery', 'behind', 'my', 'beloved', 'waterfall', 'in', 'the', 'little', 'room', 'that', 'was', 'hidden', 'beneath', 'the', 'cave', 'i', 'found', 'it', 'i', 'brushed', 'away', 'the', 'dust', 'of', 'the', 'years', 'and', 'picked', 'it', 'up', 'holding', 'it', 'reverently', 'in', 'my', 'hands', 'i', 'had', 'no', 'idea', 'what', 'it', 'might', 'be', 'but', 'it', 'was', 'beautiful', 'i', 'learned', 'to', 'lay', 'my', 'fingers', 'across', 'the', 'wires', 'and', 'to', 'turn', 'the', 'keys', 'to', 'make', 'them', 'sound', 'differently', 'as', 'i', 'struck', 'the', 'wires', 'with', 'my', 'other', 'hand', 'i', 'produced', 'my', 'first', 'harmonious', 'sounds', 'and', 'soon', 'my', 'own', 'music!', 'how', 'different', 'it', 'could', 'be', 'from', 'the', 'music', 'of', 'the', 'temples!', 'i', 'cant', 'wait', 'to', 'tell', 'the', 'priests', 'about', 'it!', 'what', 'can', 'this', 'strange', 'device', 'be?', 'when', 'i', 'touch', 'it', 'it', 'gives', 'forth', 'a', 'sound', 'its', 'got', 'wires', 'that', 'vibrate', 'and', 'give', 'music', 'what', 'can', 'this', 'thing', 'be', 'that', 'i', 'found?', 'see', 'how', 'it', 'sings', 'like', 'a', 'sad', 'heart', 'and', 'joyously', 'screams', 'out', 'its', 'pain', 'sounds', 'that', 'build', 'high', 'like', 'a', 'mountain', 'or', 'notes', 'that', 'fall', 'gently', 'like', 'rain', 'i', 'cant', 'wait', 'to', 'share', 'this', 'new', 'wonder', 'the', 'people', 'will', 'all', 'see', 'its', 'light', 'let', 'them', 'all', 'make', 'their', 'own', 'music', 'the', 'priests', 'praise', 'my', 'name', 'on', 'this', 'night', 'iv', 'presentation', 'in', 'the', 'sudden', 'silence', 'as', 'i', 'finished', 'playing', 'i', 'looked', 'up', 'to', 'a', 'circle', 'of', 'grim', 'expressionless', 'faces', 'father', 'brown', 'rose', 'to', 'his', 'feet', 'and', 'his', 'somnolent', 'voice', 'echoed', 'throughout', 'the', 'silent', 'temple', 'hall', 'instead', 'of', 'the', 'grateful', 'joy', 'that', 'i', 'expected', 'they', 'were', 'words', 'of', 'quiet', 'rejection!', 'instead', 'of', 'praise', 'sullen', 'dismissal', 'i', 'watched', 'in', 'shock', 'and', 'horror', 'as', 'father', 'brown', 'ground', 'my', 'precious', 'instrument', 'to', 'splinters', 'beneath', 'his', 'feet', 'i', 'know', 'its', 'most', 'unusual', 'to', 'come', 'before', 'you', 'so', 'but', 'ive', 'found', 'an', 'ancient', 'miracle', 'i', 'thought', 'that', 'you', 'should', 'know', 'listen', 'to', 'my', 'music', 'and', 'hear', 'what', 'it', 'can', 'do', 'theres', 'something', 'here', 'as', 'strong', 'as', 'life', 'i', 'know', 'that', 'it', 'will', 'reach', 'you', 'yes', 'we', 'know', 'its', 'nothing', 'new', 'its', 'just', 'a', 'waste', 'of', 'time', 'we', 'have', 'no', 'need', 'for', 'ancient', 'ways', 'the', 'world', 'is', 'doing', 'fine', 'another', 'toy', 'that', 'helped', 'destroy', 'the', 'elder', 'race', 'of', 'man', 'forget', 'about', 'your', 'silly', 'whim', 'it', 'doesnt', 'fit', 'the', 'plan', 'i', 'cant', 'believe', 'youre', 'saying', 'these', 'things', 'just', 'cant', 'be', 'true', 'our', 'world', 'could', 'use', 'this', 'beauty', 'just', 'think', 'what', 'we', 'might', 'do', 'listen', 'to', 'my', 'music', 'and', 'hear', 'what', 'it', 'can', 'do', 'theres', 'something', 'here', 'as', 'strong', 'as', 'life', 'i', 'know', 'that', 'it', 'will', 'reach', 'you', 'dont', 'annoy', 'us', 'further!', 'we', 'have', 'our', 'work', 'to', 'do', 'just', 'think', 'about', 'the', 'average', 'what', 'use', 'have', 'they', 'for', 'you?', 'another', 'toy', 'that', 'helped', 'destroy', 'the', 'elder', 'race', 'of', 'man', 'forget', 'about', 'your', 'silly', 'whim', 'it', 'doesnt', 'fit', 'the', 'plan!', 'v', 'oracle:', 'the', 'dream', 'i', 'guess', 'it', 'was', 'a', 'dream', 'but', 'even', 'now', 'it', 'all', 'seems', 'so', 'vivid', 'to', 'me', 'clearly', 'yet', 'i', 'see', 'the', 'beckoning', 'hand', 'of', 'the', 'oracle', 'as', 'he', 'stood', 'at', 'the', 'summit', 'of', 'the', 'staircase', 'i', 'see', 'still', 'the', 'incredible', 'beauty', 'of', 'the', 'sculptured', 'cities', 'and', 'the', 'pure', 'spirit', 'of', 'man', 'revealed', 'in', 'the', 'lives', 'and', 'works', 'of', 'this', 'world', 'i', 'was', 'overwhelmed', 'by', 'both', 'wonder', 'and', 'understanding', 'as', 'i', 'saw', 'a', 'completely', 'different', 'way', 'to', 'life', 'a', 'way', 'that', 'had', 'been', 'crushed', 'by', 'the', 'federation', 'long', 'ago', 'i', 'saw', 'now', 'how', 'meaningless', 'life', 'had', 'become', 'with', 'the', 'loss', 'of', 'all', 'these', 'things', 'i', 'wandered', 'home', 'through', 'the', 'silent', 'streets', 'and', 'fell', 'into', 'a', 'fitful', 'sleep', 'escape', 'to', 'realms', 'beyond', 'the', 'night', 'dream', 'cant', 'you', 'show', 'me', 'the', 'light?', 'i', 'stand', 'atop', 'a', 'spiral', 'stair', 'an', 'oracle', 'confronts', 'me', 'there', 'he', 'leads', 'me', 'on', 'light', 'years', 'away', 'through', 'astral', 'nights', 'galactic', 'days', 'i', 'see', 'the', 'works', 'of', 'gifted', 'hands', 'that', 'grace', 'this', 'strange', 'and', 'wondrous', 'land', 'i', 'see', 'the', 'hand', 'of', 'man', 'arise', 'with', 'hungry', 'mind', 'and', 'open', 'eyes', 'they', 'left', 'our', 'planets', 'long', 'ago', 'the', 'elder', 'race', 'still', 'learn', 'and', 'grow', 'their', 'power', 'grows', 'with', 'purpose', 'strong', 'to', 'claim', 'the', 'home', 'where', 'they', 'belong', 'home', 'to', 'tear', 'the', 'temples', 'down', 'home', 'to', 'change!', 'vi', 'soliloquy', 'i', 'have', 'not', 'left', 'this', 'cave', 'for', 'days', 'now', 'it', 'has', 'become', 'my', 'last', 'refuge', 'in', 'my', 'total', 'despair', 'i', 'have', 'only', 'the', 'music', 'of', 'the', 'waterfall', 'to', 'comfort', 'me', 'now', 'i', 'can', 'no', 'longer', 'live', 'under', 'the', 'control', 'of', 'the', 'federation', 'but', 'there', 'is', 'no', 'other', 'place', 'to', 'go', 'my', 'last', 'hope', 'is', 'that', 'with', 'my', 'death', 'i', 'may', 'pass', 'into', 'the', 'world', 'of', 'my', 'dream', 'and', 'know', 'peace', 'at', 'last', 'the', 'sleep', 'is', 'still', 'in', 'my', 'eyes', 'the', 'dream', 'is', 'still', 'in', 'my', 'head', 'i', 'heave', 'a', 'sigh', 'and', 'sadly', 'smile', 'and', 'lie', 'a', 'while', 'in', 'bed', 'i', 'wish', 'that', 'it', 'might', 'come', 'to', 'pass', 'not', 'fade', 'like', 'all', 'my', 'dreams', 'just', 'think', 'of', 'what', 'my', 'life', 'might', 'be', 'in', 'a', 'world', 'like', 'i', 'have', 'seen!', 'i', 'dont', 'think', 'i', 'can', 'carry', 'on', 'carry', 'on', 'this', 'cold', 'and', 'empty', 'life', 'my', 'spirits', 'are', 'low', 'in', 'the', 'depths', 'of', 'despair', 'my', 'lifeblood', 'spills', 'over', 'vii', 'the', 'grand', 'finale', 'attention', 'all', 'planets', 'of', 'the', 'solar', 'federation', 'attention', 'all', 'planets', 'of', 'the', 'solar', 'federation', 'attention', 'all', 'planets', 'of', 'the', 'solar', 'federation', 'we', 'have', 'assumed', 'control', 'we', 'have', 'assumed', 'control', 'we', 'have', 'assumed', 'control']\n"
     ]
    }
   ],
   "source": [
    "words_cleaned = []\n",
    "symbols_remove = '.[]()\\','\n",
    "\n",
    "for word in words:\n",
    "    \n",
    "    for index in range(len(symbols_remove)):\n",
    "        word = word.replace(symbols_remove[index], \"\")\n",
    "\n",
    "    if len(word) > 0:\n",
    "        word = word.lower()\n",
    "        words_cleaned.append(word)\n",
    "\n",
    "print(words_cleaned)\n"
   ]
  },
  {
   "cell_type": "markdown",
   "metadata": {},
   "source": [
    "## Count words using `collections` module & get top ten most common words"
   ]
  },
  {
   "cell_type": "code",
   "execution_count": 15,
   "metadata": {},
   "outputs": [
    {
     "name": "stdout",
     "output_type": "stream",
     "text": [
      "[('the', 88), ('i', 49), ('of', 46), ('and', 26), ('to', 25), ('my', 23), ('it', 22), ('a', 20), ('that', 18), ('in', 14)]\n"
     ]
    }
   ],
   "source": [
    "word_counter = Counter(words_cleaned)\n",
    "top_ten = word_counter.most_common(10)\n",
    "\n",
    "print(top_ten) # returns a list of tuples"
   ]
  }
 ],
 "metadata": {
  "kernelspec": {
   "display_name": "Python 3.9.10 ('base')",
   "language": "python",
   "name": "python3"
  },
  "language_info": {
   "codemirror_mode": {
    "name": "ipython",
    "version": 3
   },
   "file_extension": ".py",
   "mimetype": "text/x-python",
   "name": "python",
   "nbconvert_exporter": "python",
   "pygments_lexer": "ipython3",
   "version": "3.9.10"
  },
  "orig_nbformat": 4,
  "vscode": {
   "interpreter": {
    "hash": "3b806cc711b465e66e8252dff191d8681f8b41038e9cbc25fa942edafd26a2d7"
   }
  }
 },
 "nbformat": 4,
 "nbformat_minor": 2
}
