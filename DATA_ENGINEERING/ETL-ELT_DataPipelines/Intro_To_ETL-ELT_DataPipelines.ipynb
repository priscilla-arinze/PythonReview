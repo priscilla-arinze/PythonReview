{
 "cells": [
  {
   "cell_type": "markdown",
   "metadata": {},
   "source": [
    "# Intro to ETL & ELT Data Pipelines (*and SQLAlchemy ORM*)\n",
    "\n",
    "### ETL: Extract --> Transform --> Load\n",
    "* Traditional data pipeline process\n",
    "* Strict schema\n",
    "* Typically loaded to data warehouses and/or relational databases after transformation\n",
    "* Schema-on-write technique\n",
    "\n",
    "### ELT: Extract --> Load --> Transform\n",
    "* Newer data pipeline process, particularly for big data datasets\n",
    "* Flexible schema, dependent on end-user's specific needs\n",
    "* Typically loaded to a data lake then is transformed by the end user to fit their needs\n",
    "* Schema-on-read technique"
   ]
  },
  {
   "cell_type": "code",
   "execution_count": 5,
   "metadata": {},
   "outputs": [],
   "source": [
    "import os\n",
    "from sqlalchemy import create_engine"
   ]
  },
  {
   "cell_type": "markdown",
   "metadata": {},
   "source": [
    "*Get username, password, etc from separate file*"
   ]
  },
  {
   "cell_type": "code",
   "execution_count": 16,
   "metadata": {},
   "outputs": [],
   "source": [
    "secrets = \"\"\n",
    "secrets_dict = dict()\n",
    "\n",
    "with open(f\"{os.getcwd()}\\\\..\\\\SECRETS.txt\", \"r\") as f:\n",
    "    secrets = f.readlines()\n",
    "\n",
    "for secret in secrets:\n",
    "    secret_no_newline_char = secret.replace(\"\\n\", \"\")\n",
    "    key_value_pair = secret_no_newline_char.split(\" = \")\n",
    "    key = key_value_pair[0]\n",
    "    value = key_value_pair[1]\n",
    "\n",
    "    secrets_dict[key] = value"
   ]
  },
  {
   "cell_type": "markdown",
   "metadata": {},
   "source": [
    "## Extraction"
   ]
  },
  {
   "cell_type": "code",
   "execution_count": 17,
   "metadata": {},
   "outputs": [
    {
     "name": "stdout",
     "output_type": "stream",
     "text": [
      "Connection successful: <sqlalchemy.engine.base.Connection object at 0x000001B5908812E0>\n"
     ]
    }
   ],
   "source": [
    "postgres_username = secrets_dict[\"PostgreSQL Username\"]\n",
    "postgres_password = secrets_dict[\"PostgreSQL Password\"]\n",
    "postgres_host = secrets_dict[\"PostgreSQL Host\"]\n",
    "postgres_port = secrets_dict[\"PostgreSQL Port\"]\n",
    "postgres_database = 'Books'\n",
    "\n",
    "connection_url = f'postgresql://{postgres_username}:{postgres_password}@{postgres_host}:{postgres_port}/{postgres_database}'\n",
    "\n",
    "# Create an engine\n",
    "engine = create_engine(connection_url)\n",
    "\n",
    "# Connect to the database\n",
    "connection = engine.connect()\n",
    "\n",
    "print(\"Connection successful:\", connection)\n"
   ]
  },
  {
   "cell_type": "markdown",
   "metadata": {},
   "source": [
    "## Transformation"
   ]
  },
  {
   "cell_type": "markdown",
   "metadata": {},
   "source": [
    "## Loading"
   ]
  }
 ],
 "metadata": {
  "kernelspec": {
   "display_name": "base",
   "language": "python",
   "name": "python3"
  },
  "language_info": {
   "codemirror_mode": {
    "name": "ipython",
    "version": 3
   },
   "file_extension": ".py",
   "mimetype": "text/x-python",
   "name": "python",
   "nbconvert_exporter": "python",
   "pygments_lexer": "ipython3",
   "version": "3.9.13"
  }
 },
 "nbformat": 4,
 "nbformat_minor": 2
}
