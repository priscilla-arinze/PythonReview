{
 "cells": [
  {
   "cell_type": "markdown",
   "metadata": {},
   "source": [
    "# Generators\n",
    "\n",
    "A way to iterate over a large dataset/list without having an effect on space complexity"
   ]
  },
  {
   "cell_type": "markdown",
   "metadata": {},
   "source": [
    "### Regular way to iterate over a list:"
   ]
  },
  {
   "cell_type": "code",
   "execution_count": 3,
   "metadata": {},
   "outputs": [],
   "source": [
    "import memory_profiler as mem_profile\n",
    "import random\n",
    "import time"
   ]
  },
  {
   "cell_type": "code",
   "execution_count": 13,
   "metadata": {},
   "outputs": [
    {
     "name": "stdout",
     "output_type": "stream",
     "text": [
      "Memory (Before):[28.72265625] MB\n",
      "[1, 4, 9, 16, 25, 36]\n",
      "Memory (After):[28.7265625] MB\n"
     ]
    }
   ],
   "source": [
    "print('Memory (Before):' + str(mem_profile.memory_usage()) + ' MB')\n",
    "\n",
    "\n",
    "def square_numbers(nums_list):\n",
    "    result = []\n",
    "\n",
    "    for num in nums_list:\n",
    "        result.append(num*num)\n",
    "\n",
    "    return result\n",
    "\n",
    "print(square_numbers([1,2,3,4,5,6]))\n",
    "\n",
    "\n",
    "print('Memory (After):' + str(mem_profile.memory_usage()) + ' MB')"
   ]
  },
  {
   "cell_type": "markdown",
   "metadata": {},
   "source": [
    "All 100,000 of those squared numbers will be held in memory, causing space complexity to be O(n)"
   ]
  },
  {
   "cell_type": "code",
   "execution_count": 15,
   "metadata": {},
   "outputs": [
    {
     "name": "stdout",
     "output_type": "stream",
     "text": [
      "Memory (Before):[29.56640625] MB\n",
      "Storing the squared number of numbers between 0 and 100,000...\n",
      "Memory (After):[33.4453125] MB\n"
     ]
    }
   ],
   "source": [
    "print('Memory (Before):' + str(mem_profile.memory_usage()) + ' MB')\n",
    "\n",
    "square_numbers(range(0, 100000))\n",
    "print(\"Storing the squared number of numbers between 0 and 100,000...\")\n",
    "\n",
    "print('Memory (After):' + str(mem_profile.memory_usage()) + ' MB')"
   ]
  },
  {
   "cell_type": "markdown",
   "metadata": {},
   "source": [
    "### Now, using a generator:"
   ]
  },
  {
   "cell_type": "code",
   "execution_count": 16,
   "metadata": {},
   "outputs": [
    {
     "name": "stdout",
     "output_type": "stream",
     "text": [
      "Memory (Before):[29.41796875] MB\n",
      "1\n",
      "4\n",
      "9\n",
      "16\n",
      "25\n",
      "36\n",
      "Memory (After):[29.42578125] MB\n"
     ]
    }
   ],
   "source": [
    "print('Memory (Before):' + str(mem_profile.memory_usage()) + ' MB')\n",
    "\n",
    "\n",
    "# def square_numbers_generator(nums_list):\n",
    "#     for num in nums_list:\n",
    "#         yield (num*num)\n",
    "\n",
    "#### OR ####\n",
    "\n",
    "\n",
    "### For list comprehensions, instead of surrounding with square brackets [], surround with parentheses () for generator\n",
    "\n",
    "## Regular list comprehension:\n",
    "#square_numbers_generator = [num * num for num in [1,2,3,4,5,6]]\n",
    "\n",
    "\n",
    "## Generator list comprehension:\n",
    "square_numbers_generator = (num * num for num in [1,2,3,4,5,6])\n",
    "\n",
    "\n",
    "print(next(square_numbers_generator))\n",
    "print(next(square_numbers_generator))\n",
    "print(next(square_numbers_generator))\n",
    "print(next(square_numbers_generator))\n",
    "print(next(square_numbers_generator))\n",
    "print(next(square_numbers_generator))\n",
    "\n",
    "\n",
    "## Invoking next() outside of list range will result in an StopIteration exception\n",
    "\n",
    "\n",
    "print('Memory (After):' + str(mem_profile.memory_usage()) + ' MB')"
   ]
  },
  {
   "cell_type": "markdown",
   "metadata": {},
   "source": [
    "Not all 100,000 numbers are being stored in memory all at once with generator, only when invoked"
   ]
  },
  {
   "cell_type": "code",
   "execution_count": 17,
   "metadata": {},
   "outputs": [
    {
     "name": "stdout",
     "output_type": "stream",
     "text": [
      "Memory (Before):[26.703125] MB\n",
      "0\n",
      "1\n",
      "4\n",
      "9\n",
      "16\n",
      "25\n",
      "36\n",
      "49\n",
      "64\n",
      "81\n",
      "100\n",
      "121\n",
      "Memory (After):[26.75390625] MB\n"
     ]
    }
   ],
   "source": [
    "print('Memory (Before):' + str(mem_profile.memory_usage()) + ' MB')\n",
    "\n",
    "square_numbers_generator2 = (num * num for num in range(0, 100000))\n",
    "\n",
    "print(next(square_numbers_generator2))\n",
    "print(next(square_numbers_generator2))\n",
    "print(next(square_numbers_generator2))\n",
    "print(next(square_numbers_generator2))\n",
    "print(next(square_numbers_generator2))\n",
    "print(next(square_numbers_generator2))\n",
    "print(next(square_numbers_generator2))\n",
    "print(next(square_numbers_generator2))\n",
    "print(next(square_numbers_generator2))\n",
    "print(next(square_numbers_generator2))\n",
    "print(next(square_numbers_generator2))\n",
    "print(next(square_numbers_generator2))\n",
    "### ...\n",
    "\n",
    "print('Memory (After):' + str(mem_profile.memory_usage()) + ' MB')"
   ]
  },
  {
   "cell_type": "markdown",
   "metadata": {},
   "source": [
    "### Complex example:"
   ]
  },
  {
   "cell_type": "markdown",
   "metadata": {},
   "source": [
    "Regular list iteration:"
   ]
  },
  {
   "cell_type": "code",
   "execution_count": 19,
   "metadata": {},
   "outputs": [
    {
     "name": "stdout",
     "output_type": "stream",
     "text": [
      "Memory (Before):[35.17578125] MB\n",
      "Memory (After):[351.953125] MB\n",
      "Took 6.632803678512573 Seconds\n"
     ]
    }
   ],
   "source": [
    "names = ['John', 'Corey', 'Adam', 'Steve', 'Rick', 'Thomas']\n",
    "majors = ['Math', 'Engineering', 'CompSci', 'Arts', 'Business']\n",
    "\n",
    "\n",
    "print('Memory (Before):' + str(mem_profile.memory_usage()) + ' MB')\n",
    "\n",
    "\n",
    "def people_list(num_people):\n",
    "    result = []\n",
    "\n",
    "    for i in range(num_people):\n",
    "        person = {\n",
    "                    'id': i,\n",
    "                    'name': random.choice(names),\n",
    "                    'major': random.choice(majors)\n",
    "                }\n",
    "        result.append(person)\n",
    "        \n",
    "    return result\n",
    "\n",
    "t1 = time.time()\n",
    "people = people_list(1000000)\n",
    "t2 = time.time()\n",
    "\n",
    "\n",
    "print('Memory (After):' + str(mem_profile.memory_usage()) + ' MB')\n",
    "print('Took {} Seconds'.format(t2-t1))"
   ]
  },
  {
   "cell_type": "markdown",
   "metadata": {},
   "source": [
    "Generator version:"
   ]
  },
  {
   "cell_type": "code",
   "execution_count": 22,
   "metadata": {},
   "outputs": [
    {
     "name": "stdout",
     "output_type": "stream",
     "text": [
      "Memory (Before):[87.41015625] MB\n",
      "Memory (After):[87.41015625] MB\n",
      "Took 0.0 Seconds\n"
     ]
    }
   ],
   "source": [
    "names = ['John', 'Corey', 'Adam', 'Steve', 'Rick', 'Thomas']\n",
    "majors = ['Math', 'Engineering', 'CompSci', 'Arts', 'Business']\n",
    "\n",
    "\n",
    "print('Memory (Before):' + str(mem_profile.memory_usage()) + ' MB')\n",
    "\n",
    "\n",
    "def people_generator(num_people):\n",
    "    for i in range(num_people):\n",
    "        person = {\n",
    "                    'id': i,\n",
    "                    'name': random.choice(names),\n",
    "                    'major': random.choice(majors)\n",
    "                }\n",
    "        yield person\n",
    "\n",
    "\n",
    "t1 = time.time()\n",
    "people = people_generator(1000000)\n",
    "t2 = time.time()\n",
    "\n",
    "print('Memory (After):' + str(mem_profile.memory_usage()) + ' MB')\n",
    "print('Took {} Seconds'.format(t2-t1))"
   ]
  }
 ],
 "metadata": {
  "kernelspec": {
   "display_name": "Python 3.9.10 ('base')",
   "language": "python",
   "name": "python3"
  },
  "language_info": {
   "codemirror_mode": {
    "name": "ipython",
    "version": 3
   },
   "file_extension": ".py",
   "mimetype": "text/x-python",
   "name": "python",
   "nbconvert_exporter": "python",
   "pygments_lexer": "ipython3",
   "version": "3.9.10"
  },
  "orig_nbformat": 4,
  "vscode": {
   "interpreter": {
    "hash": "3b806cc711b465e66e8252dff191d8681f8b41038e9cbc25fa942edafd26a2d7"
   }
  }
 },
 "nbformat": 4,
 "nbformat_minor": 2
}
