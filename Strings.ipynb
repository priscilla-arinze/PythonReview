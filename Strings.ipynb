{
 "cells": [
  {
   "cell_type": "markdown",
   "metadata": {},
   "source": [
    "# Strings"
   ]
  },
  {
   "cell_type": "code",
   "execution_count": 8,
   "metadata": {},
   "outputs": [
    {
     "data": {
      "text/plain": [
       "'Priscilla Arinze'"
      ]
     },
     "execution_count": 8,
     "metadata": {},
     "output_type": "execute_result"
    }
   ],
   "source": [
    "'Priscilla Arinze'\n",
    "# OR\n",
    "\"Priscilla Arinze\""
   ]
  },
  {
   "cell_type": "code",
   "execution_count": 9,
   "metadata": {},
   "outputs": [
    {
     "data": {
      "text/plain": [
       "\"I don't like cream cheese\""
      ]
     },
     "execution_count": 9,
     "metadata": {},
     "output_type": "execute_result"
    }
   ],
   "source": [
    "# 'I don't like cream cheese' --- INVALID\n",
    "\"I don't like cream cheese\" #VALID"
   ]
  },
  {
   "cell_type": "markdown",
   "metadata": {},
   "source": [
    "### Use of escape characters:"
   ]
  },
  {
   "cell_type": "code",
   "execution_count": 10,
   "metadata": {},
   "outputs": [
    {
     "ename": "SyntaxError",
     "evalue": "invalid syntax (612516375.py, line 1)",
     "output_type": "error",
     "traceback": [
      "\u001b[1;36m  File \u001b[1;32m\"C:\\Users\\prisc\\AppData\\Local\\Temp\\ipykernel_16276\\612516375.py\"\u001b[1;36m, line \u001b[1;32m1\u001b[0m\n\u001b[1;33m    print('They adamantly refused to go to Arby's with me. :(')\u001b[0m\n\u001b[1;37m                                                ^\u001b[0m\n\u001b[1;31mSyntaxError\u001b[0m\u001b[1;31m:\u001b[0m invalid syntax\n"
     ]
    }
   ],
   "source": [
    "print('They adamantly refused to go to Arby's with me. :(')"
   ]
  },
  {
   "cell_type": "code",
   "execution_count": 13,
   "metadata": {},
   "outputs": [
    {
     "data": {
      "text/plain": [
       "\"They adamantly refused to go to Arby's with me. :(\""
      ]
     },
     "execution_count": 13,
     "metadata": {},
     "output_type": "execute_result"
    }
   ],
   "source": [
    "# 'They adamantly refused to go to Arby's with me. :(' --- INVALID (because of the extra single quotes)\n",
    "\n",
    "## Option 1 (great if there is multiple single quotes)\n",
    "'They adamantly refused to go to Arby\\'s with me. :(' # VALID, Escape character (\\)"
   ]
  },
  {
   "cell_type": "code",
   "execution_count": 14,
   "metadata": {},
   "outputs": [
    {
     "data": {
      "text/plain": [
       "\"They adamantly refused to go to Arby's with me. :(\""
      ]
     },
     "execution_count": 14,
     "metadata": {},
     "output_type": "execute_result"
    }
   ],
   "source": [
    "## Option 2 (great if you only really have one single quote (or vice versa for double quotes) in single)\n",
    "\"They adamantly refused to go to Arby's with me. :(\" # VALID, Double quotes surrounded by single quote in string"
   ]
  },
  {
   "cell_type": "code",
   "execution_count": 15,
   "metadata": {},
   "outputs": [
    {
     "name": "stdout",
     "output_type": "stream",
     "text": [
      "i am a blueberry\n"
     ]
    }
   ],
   "source": [
    "print(\"i am a blueberry\")"
   ]
  },
  {
   "cell_type": "markdown",
   "metadata": {},
   "source": [
    "### Accidental use of escape character (pretty common w/ file paths)"
   ]
  },
  {
   "cell_type": "code",
   "execution_count": 16,
   "metadata": {},
   "outputs": [
    {
     "name": "stdout",
     "output_type": "stream",
     "text": [
      "C:\\Documents\n",
      "utella\n"
     ]
    }
   ],
   "source": [
    "print('C:\\Documents\\nutella')"
   ]
  },
  {
   "cell_type": "markdown",
   "metadata": {},
   "source": [
    "### To fix above accidental escape character:"
   ]
  },
  {
   "cell_type": "code",
   "execution_count": 17,
   "metadata": {},
   "outputs": [
    {
     "name": "stdout",
     "output_type": "stream",
     "text": [
      "C:\\Documents\\nutella\n"
     ]
    }
   ],
   "source": [
    "print(r'C:\\Documents\\nutella')"
   ]
  },
  {
   "cell_type": "code",
   "execution_count": 18,
   "metadata": {},
   "outputs": [
    {
     "data": {
      "text/plain": [
       "'Priscilla Arinze'"
      ]
     },
     "execution_count": 18,
     "metadata": {},
     "output_type": "execute_result"
    }
   ],
   "source": [
    "firstName = \"Priscilla \"\n",
    "firstName + \"Arinze\""
   ]
  },
  {
   "cell_type": "code",
   "execution_count": 19,
   "metadata": {},
   "outputs": [
    {
     "data": {
      "text/plain": [
       "'Priscilla Ifeomachukwu'"
      ]
     },
     "execution_count": 19,
     "metadata": {},
     "output_type": "execute_result"
    }
   ],
   "source": [
    "firstName + \"Ifeomachukwu\""
   ]
  },
  {
   "cell_type": "code",
   "execution_count": 20,
   "metadata": {},
   "outputs": [
    {
     "data": {
      "text/plain": [
       "'Priscilla Priscilla Priscilla Priscilla Priscilla '"
      ]
     },
     "execution_count": 20,
     "metadata": {},
     "output_type": "execute_result"
    }
   ],
   "source": [
    "firstName * 5"
   ]
  },
  {
   "cell_type": "code",
   "execution_count": 21,
   "metadata": {},
   "outputs": [
    {
     "data": {
      "text/plain": [
       "'I'"
      ]
     },
     "execution_count": 21,
     "metadata": {},
     "output_type": "execute_result"
    }
   ],
   "source": [
    "activity = \"Insert cash or select payment type\"\n",
    "activity[0]"
   ]
  },
  {
   "cell_type": "code",
   "execution_count": 22,
   "metadata": {},
   "outputs": [
    {
     "data": {
      "text/plain": [
       "'t'"
      ]
     },
     "execution_count": 22,
     "metadata": {},
     "output_type": "execute_result"
    }
   ],
   "source": [
    "activity[5]"
   ]
  },
  {
   "cell_type": "markdown",
   "metadata": {},
   "source": [
    "### Access last character in string:"
   ]
  },
  {
   "cell_type": "code",
   "execution_count": 23,
   "metadata": {},
   "outputs": [
    {
     "data": {
      "text/plain": [
       "'e'"
      ]
     },
     "execution_count": 23,
     "metadata": {},
     "output_type": "execute_result"
    }
   ],
   "source": [
    "activity[-1]"
   ]
  },
  {
   "cell_type": "markdown",
   "metadata": {},
   "source": [
    "### Splicing:"
   ]
  },
  {
   "cell_type": "code",
   "execution_count": 24,
   "metadata": {},
   "outputs": [
    {
     "data": {
      "text/plain": [
       "'cas'"
      ]
     },
     "execution_count": 24,
     "metadata": {},
     "output_type": "execute_result"
    }
   ],
   "source": [
    "# Does NOT include character for the 2nd index; e.g. only includes index 7, 8, and 9 (does not include 10)\n",
    "activity[7:10]"
   ]
  },
  {
   "cell_type": "code",
   "execution_count": 25,
   "metadata": {},
   "outputs": [
    {
     "data": {
      "text/plain": [
       "'Insert cas'"
      ]
     },
     "execution_count": 25,
     "metadata": {},
     "output_type": "execute_result"
    }
   ],
   "source": [
    "# Start from beginning until before 2nd index (does not include 2nd index like above)\n",
    "activity[:10]"
   ]
  },
  {
   "cell_type": "code",
   "execution_count": 26,
   "metadata": {},
   "outputs": [
    {
     "data": {
      "text/plain": [
       "'h or select payment type'"
      ]
     },
     "execution_count": 26,
     "metadata": {},
     "output_type": "execute_result"
    }
   ],
   "source": [
    "# Start from index until end of string\n",
    "activity[10:]"
   ]
  },
  {
   "cell_type": "code",
   "execution_count": 27,
   "metadata": {},
   "outputs": [
    {
     "data": {
      "text/plain": [
       "'Insert cash or select payment type'"
      ]
     },
     "execution_count": 27,
     "metadata": {},
     "output_type": "execute_result"
    }
   ],
   "source": [
    "# FUll string\n",
    "activity[:]"
   ]
  },
  {
   "cell_type": "code",
   "execution_count": 28,
   "metadata": {},
   "outputs": [
    {
     "data": {
      "text/plain": [
       "34"
      ]
     },
     "execution_count": 28,
     "metadata": {},
     "output_type": "execute_result"
    }
   ],
   "source": [
    "len(activity)"
   ]
  },
  {
   "cell_type": "code",
   "execution_count": 29,
   "metadata": {},
   "outputs": [
    {
     "data": {
      "text/plain": [
       "8"
      ]
     },
     "execution_count": 29,
     "metadata": {},
     "output_type": "execute_result"
    }
   ],
   "source": [
    "len(\"activity\")"
   ]
  },
  {
   "cell_type": "code",
   "execution_count": 30,
   "metadata": {},
   "outputs": [
    {
     "name": "stdout",
     "output_type": "stream",
     "text": [
      "n\n",
      "ng into crippling debt is my favorite activity\n"
     ]
    }
   ],
   "source": [
    "text = \"getting into crippling debt is my favorite activity\"\n",
    "\n",
    "print(text[5])\n",
    "print(text[5:])"
   ]
  },
  {
   "cell_type": "markdown",
   "metadata": {},
   "source": [
    "### Using Loops"
   ]
  },
  {
   "cell_type": "code",
   "execution_count": 31,
   "metadata": {},
   "outputs": [
    {
     "name": "stdout",
     "output_type": "stream",
     "text": [
      "o\n",
      "h\n",
      "i\n",
      "o\n"
     ]
    }
   ],
   "source": [
    "favorite_food = \"ohio\"\n",
    "\n",
    "index = 0\n",
    "\n",
    "while index < len(favorite_food):\n",
    "    letter = favorite_food[index]\n",
    "    print(letter)\n",
    "    index += 1"
   ]
  },
  {
   "cell_type": "code",
   "execution_count": 32,
   "metadata": {},
   "outputs": [
    {
     "name": "stdout",
     "output_type": "stream",
     "text": [
      "o\n",
      "h\n",
      "i\n",
      "o\n"
     ]
    }
   ],
   "source": [
    "for letter in favorite_food:\n",
    "    print(letter)"
   ]
  },
  {
   "cell_type": "code",
   "execution_count": 33,
   "metadata": {},
   "outputs": [
    {
     "data": {
      "text/plain": [
       "True"
      ]
     },
     "execution_count": 33,
     "metadata": {},
     "output_type": "execute_result"
    }
   ],
   "source": [
    "## Booleans\n",
    "\n",
    "vegetable = \"tomato\"\n",
    "\n",
    "'o' in vegetable"
   ]
  },
  {
   "cell_type": "code",
   "execution_count": 34,
   "metadata": {},
   "outputs": [
    {
     "data": {
      "text/plain": [
       "False"
      ]
     },
     "execution_count": 34,
     "metadata": {},
     "output_type": "execute_result"
    }
   ],
   "source": [
    "'z' in vegetable"
   ]
  },
  {
   "cell_type": "markdown",
   "metadata": {},
   "source": [
    "### String Methods"
   ]
  },
  {
   "cell_type": "markdown",
   "metadata": {},
   "source": [
    "Change string to uppercase or lowercase:"
   ]
  },
  {
   "cell_type": "code",
   "execution_count": 35,
   "metadata": {},
   "outputs": [
    {
     "name": "stdout",
     "output_type": "stream",
     "text": [
      "thank you for shopping at walmart\n",
      "THANK YOU FOR SHOPPING AT WALMART\n"
     ]
    }
   ],
   "source": [
    "greeting = 'Thank you for shopping at Walmart'\n",
    "\n",
    "print(greeting.lower())\n",
    "print(greeting.upper())"
   ]
  },
  {
   "cell_type": "markdown",
   "metadata": {},
   "source": [
    "Find subtring in string:"
   ]
  },
  {
   "cell_type": "code",
   "execution_count": 36,
   "metadata": {},
   "outputs": [
    {
     "name": "stdout",
     "output_type": "stream",
     "text": [
      "26\n",
      "-1\n"
     ]
    }
   ],
   "source": [
    "# NOTE: case sensitive\n",
    "\n",
    "substr = greeting.find('Wal')\n",
    "substr2 = greeting.find('ohio')\n",
    "\n",
    "print(substr)\n",
    "print(substr2)"
   ]
  },
  {
   "cell_type": "markdown",
   "metadata": {},
   "source": [
    "Search & replace:"
   ]
  },
  {
   "cell_type": "code",
   "execution_count": 37,
   "metadata": {},
   "outputs": [
    {
     "name": "stdout",
     "output_type": "stream",
     "text": [
      "Thank you for shopping at Ballmart\n",
      "Thank yuu fur shupping at Walmart\n"
     ]
    }
   ],
   "source": [
    "newstr = greeting.replace('Wal', 'Ball')\n",
    "newstr2 = greeting.replace('o', 'u')\n",
    "\n",
    "print(newstr)\n",
    "print(newstr2)"
   ]
  },
  {
   "cell_type": "markdown",
   "metadata": {},
   "source": [
    "Spliting string:"
   ]
  },
  {
   "cell_type": "code",
   "execution_count": 1,
   "metadata": {},
   "outputs": [
    {
     "name": "stdout",
     "output_type": "stream",
     "text": [
      "['mercury', 'venus', 'earth', 'mars']\n",
      "4\n",
      "mercury\n"
     ]
    }
   ],
   "source": [
    "abc = 'mercury venus earth mars'\n",
    "planet = abc.split()\n",
    "print(planet)\n",
    "print(len(planet))\n",
    "print(planet[0])"
   ]
  },
  {
   "cell_type": "code",
   "execution_count": 2,
   "metadata": {},
   "outputs": [
    {
     "name": "stdout",
     "output_type": "stream",
     "text": [
      "mercury\n",
      "venus\n",
      "earth\n",
      "mars\n"
     ]
    }
   ],
   "source": [
    "for x in planet:\n",
    "    print(x)"
   ]
  },
  {
   "cell_type": "code",
   "execution_count": 3,
   "metadata": {},
   "outputs": [
    {
     "name": "stdout",
     "output_type": "stream",
     "text": [
      "['beep', 'boop', 'beep', 'boop', 'beep']\n"
     ]
    }
   ],
   "source": [
    "# Without any parameters, split() sees multiple spaces as one delimeter\n",
    "hamburger = 'beep boop                 beep boop    beep'\n",
    "\n",
    "burger = hamburger.split()\n",
    "print(burger)"
   ]
  },
  {
   "cell_type": "markdown",
   "metadata": {},
   "source": [
    "Stripping whitespace:"
   ]
  },
  {
   "cell_type": "code",
   "execution_count": 38,
   "metadata": {},
   "outputs": [
    {
     "name": "stdout",
     "output_type": "stream",
     "text": [
      "Thank you for shopping at Walmart      \n",
      "       Thank you for shopping at Walmart\n",
      "Thank you for shopping at Walmart\n"
     ]
    }
   ],
   "source": [
    "greeting2 = '       Thank you for shopping at Walmart      '\n",
    "\n",
    "greet_left = greeting2.lstrip()\n",
    "greet_right = greeting2.rstrip()\n",
    "greet_both = greeting2.strip()\n",
    "\n",
    "print(greet_left)\n",
    "print(greet_right)\n",
    "print(greet_both)"
   ]
  },
  {
   "cell_type": "markdown",
   "metadata": {},
   "source": [
    "Prefixes (boolean):"
   ]
  },
  {
   "cell_type": "code",
   "execution_count": 39,
   "metadata": {},
   "outputs": [
    {
     "name": "stdout",
     "output_type": "stream",
     "text": [
      "True\n",
      "False\n"
     ]
    }
   ],
   "source": [
    "print(greeting.startswith(\"Thank\"))\n",
    "print(greeting.startswith(\"cincinnati\"))"
   ]
  },
  {
   "cell_type": "markdown",
   "metadata": {},
   "source": [
    "Parsing & extracting:"
   ]
  },
  {
   "cell_type": "code",
   "execution_count": 40,
   "metadata": {},
   "outputs": [
    {
     "name": "stdout",
     "output_type": "stream",
     "text": [
      "14\n",
      "26\n",
      "walmart.gov\n"
     ]
    }
   ],
   "source": [
    "#need to extract the email domain from the string below\n",
    "\n",
    "data = 'From hunter123@walmart.gov Sent Friday December 2nd 01:11:42 1898'\n",
    "\n",
    "at_sign_pos = data.find('@') # stores index of at (@) symbol\n",
    "print(at_sign_pos) # 14\n",
    "\n",
    "# NOTE: find() has the following parameters: value (required), starting index (optional), ending index (optional)\n",
    "space_pos = data.find(' ', at_sign_pos) # find 1st space, starting from the at sign\n",
    "print(space_pos) #26\n",
    "\n",
    "email_domain = data[at_sign_pos+1 : space_pos]\n",
    "print(email_domain)\n"
   ]
  },
  {
   "cell_type": "markdown",
   "metadata": {},
   "source": [
    "### String formatting"
   ]
  },
  {
   "cell_type": "markdown",
   "metadata": {},
   "source": [
    "Comma separated concatenation (automatically adds a space):"
   ]
  },
  {
   "cell_type": "code",
   "execution_count": 1,
   "metadata": {},
   "outputs": [
    {
     "name": "stdout",
     "output_type": "stream",
     "text": [
      "I like bread\n"
     ]
    }
   ],
   "source": [
    "food = 'bread'\n",
    "\n",
    "print(\"I like\", food)"
   ]
  },
  {
   "cell_type": "markdown",
   "metadata": {},
   "source": [
    "Plus sign (+) concatenation (doesn't automatically add a space like above):"
   ]
  },
  {
   "cell_type": "code",
   "execution_count": 5,
   "metadata": {},
   "outputs": [
    {
     "name": "stdout",
     "output_type": "stream",
     "text": [
      "Uh something somethingtax evasion\n",
      "Uh something something tax evasion\n"
     ]
    }
   ],
   "source": [
    "activity = \"tax evasion\"\n",
    "\n",
    "print(\"Uh something something\" + activity)\n",
    "print(\"Uh something something \" + activity)"
   ]
  },
  {
   "cell_type": "markdown",
   "metadata": {},
   "source": [
    "Curly braces with 'f' right before the string:"
   ]
  },
  {
   "cell_type": "code",
   "execution_count": 4,
   "metadata": {},
   "outputs": [
    {
     "name": "stdout",
     "output_type": "stream",
     "text": [
      "I'm pretty well off, I make $0.25 every two weeks\n"
     ]
    }
   ],
   "source": [
    "income = 0.25\n",
    "\n",
    "print(f\"I'm pretty well off, I make ${income} every two weeks\")"
   ]
  },
  {
   "cell_type": "code",
   "execution_count": 6,
   "metadata": {},
   "outputs": [
    {
     "name": "stdout",
     "output_type": "stream",
     "text": [
      "I have plenty of money, my account balance is -9834.310000000001\n"
     ]
    }
   ],
   "source": [
    "accountbalance = 27.21\n",
    "taxesowed = 9861.52\n",
    "\n",
    "print(f\"I have plenty of money, my account balance is {accountbalance - taxesowed}\")"
   ]
  },
  {
   "cell_type": "markdown",
   "metadata": {},
   "source": [
    "\"%s\" for string placeholder, \"%d\" for number placeholder:"
   ]
  },
  {
   "cell_type": "code",
   "execution_count": 9,
   "metadata": {},
   "outputs": [
    {
     "name": "stdout",
     "output_type": "stream",
     "text": [
      "Hi, my name is Squidward\n",
      "Hi, my name is Squidward and I have been indicted on 233 counts of perjury in a court of law\n"
     ]
    }
   ],
   "source": [
    "name = \"Squidward\"\n",
    "num = 233\n",
    "\n",
    "print(\"Hi, my name is %s\" % name)\n",
    "print(\"Hi, my name is %s and I have been indicted on %d counts of perjury in a court of law\" % (name, num))"
   ]
  },
  {
   "cell_type": "markdown",
   "metadata": {},
   "source": [
    "Formatting by number of decimal points with \".#f\""
   ]
  },
  {
   "cell_type": "code",
   "execution_count": 18,
   "metadata": {},
   "outputs": [
    {
     "name": "stdout",
     "output_type": "stream",
     "text": [
      "If I recall correctly, the price of bread is $768.31\n",
      "If I recall correctly, the price of bread is $768.31\n"
     ]
    }
   ],
   "source": [
    "price = 768.31456\n",
    "\n",
    "print(\"If I recall correctly, the price of bread is\", \"${:.2f}\".format(price))\n",
    "\n",
    "### OR\n",
    "\n",
    "print(\"If I recall correctly, the price of bread is\", f\"${price:.2f}\")"
   ]
  }
 ],
 "metadata": {
  "interpreter": {
   "hash": "3b806cc711b465e66e8252dff191d8681f8b41038e9cbc25fa942edafd26a2d7"
  },
  "kernelspec": {
   "display_name": "Python 3.9.10 ('base')",
   "language": "python",
   "name": "python3"
  },
  "language_info": {
   "codemirror_mode": {
    "name": "ipython",
    "version": 3
   },
   "file_extension": ".py",
   "mimetype": "text/x-python",
   "name": "python",
   "nbconvert_exporter": "python",
   "pygments_lexer": "ipython3",
   "version": "3.9.10"
  },
  "orig_nbformat": 4
 },
 "nbformat": 4,
 "nbformat_minor": 2
}
