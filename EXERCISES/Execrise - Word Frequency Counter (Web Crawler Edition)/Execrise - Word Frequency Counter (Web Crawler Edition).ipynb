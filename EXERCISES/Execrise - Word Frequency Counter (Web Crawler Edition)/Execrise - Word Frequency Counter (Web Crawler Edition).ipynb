{
 "cells": [
  {
   "cell_type": "markdown",
   "metadata": {},
   "source": [
    "# Execrise - Word Frequency Counter (Web Crawler Edition)"
   ]
  },
  {
   "cell_type": "code",
   "execution_count": null,
   "metadata": {},
   "outputs": [],
   "source": []
  }
 ],
 "metadata": {
  "interpreter": {
   "hash": "3b806cc711b465e66e8252dff191d8681f8b41038e9cbc25fa942edafd26a2d7"
  },
  "kernelspec": {
   "display_name": "Python 3.9.10 ('base')",
   "language": "python",
   "name": "python3"
  },
  "language_info": {
   "name": "python",
   "version": "3.9.10"
  },
  "orig_nbformat": 4
 },
 "nbformat": 4,
 "nbformat_minor": 2
}
