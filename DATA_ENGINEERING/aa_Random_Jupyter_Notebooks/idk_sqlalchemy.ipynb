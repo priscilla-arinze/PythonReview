{
 "cells": [
  {
   "cell_type": "code",
   "execution_count": null,
   "metadata": {},
   "outputs": [],
   "source": []
  },
  {
   "cell_type": "code",
   "execution_count": null,
   "metadata": {},
   "outputs": [],
   "source": [
    "import pytest\n",
    "from sqlalchemy import create_engine\n",
    "from sqlalchemy.orm import sessionmaker\n",
    "from sqlalchemy.ext.declarative import declarative_base\n",
    "\n",
    "@pytest.fixture(scope=\"session\")\n",
    "def db_session():\n",
    "    # Create engine for in-memory database\n",
    "    engine = create_engine('sqlite:///:memory:')\n",
    "\n",
    "    # Create session factory\n",
    "    Session = sessionmaker(bind=engine)\n",
    "\n",
    "    # Create database schema\n",
    "    Base = declarative_base()\n",
    "    Base.metadata.create_all(engine)\n",
    "\n",
    "    # Return session object\n",
    "    with Session() as session:\n",
    "        yield session\n"
   ]
  }
 ],
 "metadata": {
  "language_info": {
   "name": "python"
  },
  "orig_nbformat": 4
 },
 "nbformat": 4,
 "nbformat_minor": 2
}
