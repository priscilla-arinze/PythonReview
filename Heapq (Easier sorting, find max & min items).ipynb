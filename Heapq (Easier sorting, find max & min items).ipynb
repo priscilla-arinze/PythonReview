{
 "cells": [
  {
   "cell_type": "markdown",
   "metadata": {},
   "source": [
    "# `Heapq` (Finding Largest or Smallest Items)\n",
    "\n",
    "Easy sorting with object data"
   ]
  },
  {
   "cell_type": "code",
   "execution_count": 3,
   "metadata": {},
   "outputs": [],
   "source": [
    "import heapq"
   ]
  },
  {
   "cell_type": "code",
   "execution_count": 1,
   "metadata": {},
   "outputs": [],
   "source": [
    "grades = [75, 25, 85, 13, 99, 90, 2, 67, 3]"
   ]
  },
  {
   "cell_type": "markdown",
   "metadata": {},
   "source": [
    "### Prints out 3 largest grades from list using `heapq` library"
   ]
  },
  {
   "cell_type": "code",
   "execution_count": 4,
   "metadata": {},
   "outputs": [
    {
     "name": "stdout",
     "output_type": "stream",
     "text": [
      "[99, 90, 85]\n"
     ]
    }
   ],
   "source": [
    "print(heapq.nlargest(3, grades))"
   ]
  },
  {
   "cell_type": "code",
   "execution_count": 5,
   "metadata": {},
   "outputs": [],
   "source": [
    "stocks = [ \n",
    "    {'ticker': 'AAPL', 'price': 201},\n",
    "    {'ticker': 'GOOG', 'price': 805},\n",
    "    {'ticker': 'F', 'price': 59},\n",
    "    {'ticker': 'MSFT', 'price': 373},\n",
    "    {'ticker': 'OHIO', 'price': 23}\n",
    "]"
   ]
  },
  {
   "cell_type": "markdown",
   "metadata": {},
   "source": [
    "### With a list of dictionaries, get the two lowest stock prices"
   ]
  },
  {
   "cell_type": "code",
   "execution_count": 8,
   "metadata": {},
   "outputs": [
    {
     "name": "stdout",
     "output_type": "stream",
     "text": [
      "[{'ticker': 'OHIO', 'price': 23}, {'ticker': 'F', 'price': 59}]\n"
     ]
    }
   ],
   "source": [
    "# need lambda to get the stock price from each dictionary\n",
    "print(heapq.nsmallest(2, stocks, key=lambda stock: stock['price']))"
   ]
  }
 ],
 "metadata": {
  "kernelspec": {
   "display_name": "Python 3.9.10 ('base')",
   "language": "python",
   "name": "python3"
  },
  "language_info": {
   "codemirror_mode": {
    "name": "ipython",
    "version": 3
   },
   "file_extension": ".py",
   "mimetype": "text/x-python",
   "name": "python",
   "nbconvert_exporter": "python",
   "pygments_lexer": "ipython3",
   "version": "3.9.10"
  },
  "orig_nbformat": 4,
  "vscode": {
   "interpreter": {
    "hash": "3b806cc711b465e66e8252dff191d8681f8b41038e9cbc25fa942edafd26a2d7"
   }
  }
 },
 "nbformat": 4,
 "nbformat_minor": 2
}
