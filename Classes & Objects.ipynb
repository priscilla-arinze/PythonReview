{
 "cells": [
  {
   "cell_type": "markdown",
   "metadata": {},
   "source": [
    "# Classes & Objects"
   ]
  },
  {
   "cell_type": "markdown",
   "metadata": {},
   "source": [
    "Basically the ability to group similar variables & functions (or referred to as \"methods\")"
   ]
  },
  {
   "cell_type": "code",
   "execution_count": 1,
   "metadata": {},
   "outputs": [],
   "source": [
    "class Enemy:\n",
    "    hp = 3\n",
    "\n",
    "    def attack(self):\n",
    "        print('ouchies!')\n",
    "        self.hp -= 1\n",
    "\n",
    "    def checkLife(self):\n",
    "        if self.hp <= 0: \n",
    "            print(\"oops lost all HP, totally dead now\")\n",
    "        else:\n",
    "            print(str(self.hp), \"HP left\")"
   ]
  },
  {
   "cell_type": "markdown",
   "metadata": {},
   "source": [
    "### *`self`* keyword (see above)\n",
    "\n",
    "Just like Java (`this`), `self` refers to the current object/instance of class; in this case, the current enemy\n",
    "\n",
    "__Easier example__: Given a simple class called 'Animal':\n",
    "\n",
    "```python\n",
    "class Animal:\n",
    "\n",
    "    foodIntake = 0\n",
    "\n",
    "    def eatFood(self):\n",
    "        print('yum yes I am an animal and I am eating food')\n",
    "        self.foodIntake += 1\n",
    "```\n",
    "\n",
    "Say we have already used this class to create all kinds of animals (referred to as \"objects\"): dog, zebra, lion, etc. \n",
    "\n",
    "Then we create a new animal/object, cat, with this class. e.g: ```cat = Animal() ```\n",
    "\n",
    "If the `cat` object invokes the \"eatFood\" method, ONLY the `cat` object's foodIntake variable will be affected, no other objects.\n",
    "\n",
    "\n",
    "*********************\n",
    "\n",
    "\n",
    "So in the above case with the Enemy class, only the specific enemy object that invokes the attack method will be affected, no other enemy objects."
   ]
  },
  {
   "cell_type": "markdown",
   "metadata": {},
   "source": [
    "## Create a new object:"
   ]
  },
  {
   "cell_type": "code",
   "execution_count": 2,
   "metadata": {},
   "outputs": [],
   "source": [
    "enemy1 = Enemy() # Java syntax: Enemy enemy1 = new Enemy()"
   ]
  },
  {
   "cell_type": "markdown",
   "metadata": {},
   "source": [
    "### Invoke class methods with new enemy object:"
   ]
  },
  {
   "cell_type": "code",
   "execution_count": 3,
   "metadata": {},
   "outputs": [
    {
     "name": "stdout",
     "output_type": "stream",
     "text": [
      "ouchies!\n"
     ]
    }
   ],
   "source": [
    "enemy1.attack()"
   ]
  },
  {
   "cell_type": "code",
   "execution_count": 4,
   "metadata": {},
   "outputs": [
    {
     "name": "stdout",
     "output_type": "stream",
     "text": [
      "2 HP left\n"
     ]
    }
   ],
   "source": [
    "enemy1.checkLife()"
   ]
  },
  {
   "cell_type": "markdown",
   "metadata": {},
   "source": [
    "### Demonstration of above `self` explanation:"
   ]
  },
  {
   "cell_type": "code",
   "execution_count": 5,
   "metadata": {},
   "outputs": [],
   "source": [
    "enemy2 = Enemy()\n",
    "enemy3 = Enemy()"
   ]
  },
  {
   "cell_type": "code",
   "execution_count": 6,
   "metadata": {},
   "outputs": [
    {
     "name": "stdout",
     "output_type": "stream",
     "text": [
      "ouchies!\n"
     ]
    }
   ],
   "source": [
    "enemy2.attack()"
   ]
  },
  {
   "cell_type": "code",
   "execution_count": 7,
   "metadata": {},
   "outputs": [
    {
     "name": "stdout",
     "output_type": "stream",
     "text": [
      "2 HP left\n",
      "3 HP left\n"
     ]
    }
   ],
   "source": [
    "enemy2.checkLife()\n",
    "enemy3.checkLife()"
   ]
  },
  {
   "cell_type": "markdown",
   "metadata": {},
   "source": [
    "## `Init` keyword\n",
    "\n",
    "### Basically \"initialize\": stuff to do first once an object is created\n",
    "\n",
    "*\"Constructor\" in Java*"
   ]
  },
  {
   "cell_type": "code",
   "execution_count": 8,
   "metadata": {},
   "outputs": [],
   "source": [
    "class Refrigerator:\n",
    "    def __init__(self):\n",
    "        print('Ready to gain sentience & take over the world...')\n",
    "\n",
    "    def isYourRefrigeratorRunning(self):\n",
    "        print('the only thing that should be running is you')"
   ]
  },
  {
   "cell_type": "code",
   "execution_count": 9,
   "metadata": {},
   "outputs": [
    {
     "name": "stdout",
     "output_type": "stream",
     "text": [
      "Ready to gain sentience & take over the world...\n"
     ]
    }
   ],
   "source": [
    "bob = Refrigerator()"
   ]
  },
  {
   "cell_type": "markdown",
   "metadata": {},
   "source": [
    "^^ will always run the _`init`_ constructor method every time an object is created"
   ]
  },
  {
   "cell_type": "code",
   "execution_count": 10,
   "metadata": {},
   "outputs": [
    {
     "name": "stdout",
     "output_type": "stream",
     "text": [
      "the only thing that should be running is you\n"
     ]
    }
   ],
   "source": [
    "bob.isYourRefrigeratorRunning()"
   ]
  },
  {
   "cell_type": "code",
   "execution_count": 11,
   "metadata": {},
   "outputs": [],
   "source": [
    "class Enemy2:\n",
    "    def __init__(self, startingEnergy):\n",
    "        self.energy = startingEnergy\n",
    "\n",
    "    def get_energy(self):\n",
    "        print(self.energy)"
   ]
  },
  {
   "cell_type": "markdown",
   "metadata": {},
   "source": [
    "need to pass in any arguments that are required by init method"
   ]
  },
  {
   "cell_type": "code",
   "execution_count": 13,
   "metadata": {},
   "outputs": [],
   "source": [
    "evilJason = Enemy2(5) # starting energy of 5"
   ]
  },
  {
   "cell_type": "code",
   "execution_count": 14,
   "metadata": {},
   "outputs": [],
   "source": [
    "ohio = Enemy2(9)"
   ]
  },
  {
   "cell_type": "code",
   "execution_count": 15,
   "metadata": {},
   "outputs": [
    {
     "name": "stdout",
     "output_type": "stream",
     "text": [
      "5\n",
      "9\n"
     ]
    }
   ],
   "source": [
    "evilJason.get_energy()\n",
    "ohio.get_energy()"
   ]
  },
  {
   "cell_type": "markdown",
   "metadata": {},
   "source": [
    "## Class vs. Instance Variables\n",
    "\n",
    "### Class variables: default variables that all new objects will have for that specific class\n",
    "### Instance variables: variables that are unique to each object"
   ]
  },
  {
   "cell_type": "code",
   "execution_count": 16,
   "metadata": {},
   "outputs": [],
   "source": [
    "class Infant:\n",
    "    # Class variable; so all Infant objects will always be unable to do multivariable calculus (set to False across all Infant objects)\n",
    "    able_to_do_multivariable_calculus = False \n",
    "\n",
    "    def __init__(self, name):\n",
    "        # Instance variable; each Infant object will have its own individual name, not shared by other objects\n",
    "        self.name = name "
   ]
  },
  {
   "cell_type": "code",
   "execution_count": 18,
   "metadata": {},
   "outputs": [],
   "source": [
    "infant_taylor = Infant(\"Taylor\")\n",
    "infant_hank = Infant(\"Hank\")"
   ]
  },
  {
   "cell_type": "markdown",
   "metadata": {},
   "source": [
    "Class variables (same across objects):"
   ]
  },
  {
   "cell_type": "code",
   "execution_count": 21,
   "metadata": {},
   "outputs": [
    {
     "name": "stdout",
     "output_type": "stream",
     "text": [
      "False\n",
      "False\n"
     ]
    }
   ],
   "source": [
    "print(infant_taylor.able_to_do_multivariable_calculus)\n",
    "print(infant_hank.able_to_do_multivariable_calculus)"
   ]
  },
  {
   "cell_type": "markdown",
   "metadata": {},
   "source": [
    "Instance variables (different across objects):"
   ]
  },
  {
   "cell_type": "code",
   "execution_count": 22,
   "metadata": {},
   "outputs": [
    {
     "name": "stdout",
     "output_type": "stream",
     "text": [
      "Taylor\n",
      "Hank\n"
     ]
    }
   ],
   "source": [
    "print(infant_taylor.name)\n",
    "print(infant_hank.name)"
   ]
  }
 ],
 "metadata": {
  "interpreter": {
   "hash": "3b806cc711b465e66e8252dff191d8681f8b41038e9cbc25fa942edafd26a2d7"
  },
  "kernelspec": {
   "display_name": "Python 3.9.10 ('base')",
   "language": "python",
   "name": "python3"
  },
  "language_info": {
   "codemirror_mode": {
    "name": "ipython",
    "version": 3
   },
   "file_extension": ".py",
   "mimetype": "text/x-python",
   "name": "python",
   "nbconvert_exporter": "python",
   "pygments_lexer": "ipython3",
   "version": "3.9.10"
  },
  "orig_nbformat": 4
 },
 "nbformat": 4,
 "nbformat_minor": 2
}
