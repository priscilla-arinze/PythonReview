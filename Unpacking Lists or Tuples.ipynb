{
 "cells": [
  {
   "cell_type": "markdown",
   "metadata": {},
   "source": [
    "# Unpacking Lists or Tuples"
   ]
  },
  {
   "cell_type": "markdown",
   "metadata": {},
   "source": [
    "Go from this:"
   ]
  },
  {
   "cell_type": "code",
   "execution_count": 2,
   "metadata": {},
   "outputs": [
    {
     "name": "stdout",
     "output_type": "stream",
     "text": [
      "June 23, 2023\n",
      "loaf of bread\n",
      "731.99\n"
     ]
    }
   ],
   "source": [
    "items = ['June 23, 2023', 'loaf of bread', 731.99]\n",
    "\n",
    "print(items[0])\n",
    "print(items[1])\n",
    "print(items[2])\n"
   ]
  },
  {
   "cell_type": "markdown",
   "metadata": {},
   "source": [
    "To this:"
   ]
  },
  {
   "cell_type": "code",
   "execution_count": 3,
   "metadata": {},
   "outputs": [
    {
     "name": "stdout",
     "output_type": "stream",
     "text": [
      "June 23, 2023\n",
      "loaf of bread\n",
      "731.99\n"
     ]
    }
   ],
   "source": [
    "date, item, price = ['June 23, 2023', 'loaf of bread', 731.99]\n",
    "\n",
    "print(date)\n",
    "print(item)\n",
    "print(price)"
   ]
  },
  {
   "cell_type": "markdown",
   "metadata": {},
   "source": [
    "If number of variables is different from number of list/tuple elements (using asterisk '*'):"
   ]
  },
  {
   "cell_type": "code",
   "execution_count": 6,
   "metadata": {},
   "outputs": [],
   "source": [
    "# Example: need to calculate the average of a varying number of salaries, dropping the lowest & highest salaries in calculation \n",
    "# (only keeping middle salaries in the calculation)\n",
    "\n",
    "def drop_first_last_avg(salaries):\n",
    "    salaries.sort()\n",
    "    \n",
    "    lowest, *middle, highest = salaries #asterisk (*) allows for varying # of elements between 1st & last list element\n",
    "\n",
    "    avg = sum(middle) / len(middle)\n",
    "\n",
    "    print(avg)"
   ]
  },
  {
   "cell_type": "code",
   "execution_count": 7,
   "metadata": {},
   "outputs": [
    {
     "name": "stdout",
     "output_type": "stream",
     "text": [
      "50000.0\n",
      "73000.0\n",
      "30000.0\n",
      "72166.66666666667\n"
     ]
    }
   ],
   "source": [
    "drop_first_last_avg([22000, 45000, 620000, 50000, 55000])\n",
    "drop_first_last_avg([62000, 73000, 85000])\n",
    "drop_first_last_avg([40000, 20000, 11000, 85000])\n",
    "drop_first_last_avg([96000, 8000, 46000, 52000, 57000, 85000, 112000, 97000])"
   ]
  }
 ],
 "metadata": {
  "kernelspec": {
   "display_name": "Python 3.9.10 ('base')",
   "language": "python",
   "name": "python3"
  },
  "language_info": {
   "codemirror_mode": {
    "name": "ipython",
    "version": 3
   },
   "file_extension": ".py",
   "mimetype": "text/x-python",
   "name": "python",
   "nbconvert_exporter": "python",
   "pygments_lexer": "ipython3",
   "version": "3.9.10"
  },
  "orig_nbformat": 4,
  "vscode": {
   "interpreter": {
    "hash": "3b806cc711b465e66e8252dff191d8681f8b41038e9cbc25fa942edafd26a2d7"
   }
  }
 },
 "nbformat": 4,
 "nbformat_minor": 2
}
