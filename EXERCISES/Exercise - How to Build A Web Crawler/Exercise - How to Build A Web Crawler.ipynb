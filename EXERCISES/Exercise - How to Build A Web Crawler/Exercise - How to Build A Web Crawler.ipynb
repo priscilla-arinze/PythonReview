{
 "cells": [
  {
   "cell_type": "markdown",
   "metadata": {},
   "source": [
    "# Exercise - How to Build A Web Crawler"
   ]
  },
  {
   "cell_type": "markdown",
   "metadata": {},
   "source": [
    "Also called \"spiders\""
   ]
  },
  {
   "cell_type": "markdown",
   "metadata": {},
   "source": [
    "## Objective: Crawling [Indeed.com](https://www.indeed.com) for software developer jobs in Dallas, TX\n",
    "Starting URL: https://www.indeed.com/jobs?q=software%20developer&l=Dallas,%20TX&start=0  *(start=# goes up by increments of 10)*"
   ]
  },
  {
   "cell_type": "code",
   "execution_count": 1,
   "metadata": {},
   "outputs": [],
   "source": [
    "import requests # one of the ways to connect to websites via Python\n",
    "from bs4 import BeautifulSoup # allows you to go through page source and get data"
   ]
  },
  {
   "cell_type": "markdown",
   "metadata": {},
   "source": [
    "### Main Spider Function"
   ]
  },
  {
   "cell_type": "code",
   "execution_count": 72,
   "metadata": {},
   "outputs": [],
   "source": [
    "# set max pages\n",
    "def job_pages_spider(max_pages):\n",
    "    page = 0  # increment by 10\n",
    "\n",
    "    while page <= max_pages:\n",
    "        url = \"https://www.indeed.com/jobs?q=software%20developer&l=Dallas,%20TX&start=\"+str(page)\n",
    "\n",
    "        # GET request; stores page HTML source in variable\n",
    "        source_code = requests.get(url) \n",
    "\n",
    "        # gets the front end text of the HTMl source code; ignoring back end stuff; essentally parses through HTML source\n",
    "        plain_text = source_code.text \n",
    "\n",
    "        # can sort through this variable\n",
    "        soup = BeautifulSoup(plain_text) \n",
    "\n",
    "        # TASK: Gather/search through all job titles & their urls (will need to inspect element for unique class/id names)\n",
    "        for link in soup.findAll('a', {'class': 'jcs-JobTitle'}): # similar to CSS descendant selectors (a .jcs-JobTitle)\n",
    "            job_title = link.get_text().strip()\n",
    "            job_href = link.get('href')\n",
    "            print(job_title + \" \" + \"https://www.indeed.com\"+job_href + \"\\n\")\n",
    "        \n",
    "        # Increment pages by 10\n",
    "        page += 10\n"
   ]
  },
  {
   "cell_type": "code",
   "execution_count": 73,
   "metadata": {},
   "outputs": [
    {
     "name": "stdout",
     "output_type": "stream",
     "text": [
      "Staff Software Engineer - Interview Scheduling Team https://www.indeed.com/pagead/clk?mo=r&ad=-6NYlbfkN0CiRNM7CVr8YueLFKlzwbFWI0o7IjV438l4sVrvKZ0flpURU_mqoI8E-VxPfg2eTCGE0XMt_o0TuNAuIilnB6fQMQFwZDFV9_Yv7vEwlFKnZeZwY3Fr2nchFF2I9Aer3Xih3kyYsI_vwvwQHg46FNMbWAyBPlyolR972r5CIqFfdF25AlJK_p7wU0QdBir-cabFWD3lbKGd318WQgjBshs1VkeT5zsqJcByTlSPe61yGxbkczYg3ypdzxgerlHCM8D-S6tx8-L4k8_So8Aob7ImNXQkOCHOCjKl0a02ZqOthS4MU_m7qdZKu6u_N8MTMT0lZDLvp9XLlm6Qjh1RwZpgBqyd5bJphLxSNSRWPc6dIYqu1VRNOZXiPdTk4Y-mADyHfJoSTvnHBX_hddBuzpr3pYxNtmxW3JL8vOVZQ9EVm78tCqaVs82USzOwnePUzKxvLkAzroKtGO6AlAjnr4PfOgnlkgRU51puohCVjLWjO5whSkBV68ynWs3Xp7MLDiMjEI6ItMSsYJXOV0rn6jAzif7kAFdVRsGOEu7xSPQpRQ25W4-ohdu0J3Qn_7-tWLI=&p=0&fvj=0&vjs=3\n",
      "\n",
      "Software Developer (.NET) Opportunities for Entry-Level Cand... https://www.indeed.com/pagead/clk?mo=r&ad=-6NYlbfkN0CgC63lnUQVJUwrbKOtHhMUe_Phd-DOzVl9NhGqIw_FIy82NPGo905VFf-PfPrqpp43W7YtOhz_iRGcncNecKe-9XYwrwmeEHMHqPDkCpDuuWMwWMypUtaTN1it7QbtQo448tQ1PITr8f8LNGxB1xpqdcDlTFG-yIsSo07yFwoidhMzAZ2TssVHj2ienNCfqbLJmkyoYkagEJv_Ib7vb9UwNaGPXQ4QiRg86RCHE-KBInTsXVfBHpo7bTeM5Ra1jy0kzlYFqoK0us0EanQdukAGBy5Q17vv4Ywi2SNd0SQh2nqYgXJhh_2m_8legG3HEUnzDeIOAoGEWn-MK2Z4V_tOVyy16SeZ03oZyrynFUQogo-uRSwdB9Kx9B5SpVHbBttXokCjOk3bfgzzIpWRSsXlxyl5ToNvIm-R2PXBpciZVuMYxu7N2c3ks8UGtNj-aqqP7lNOzrqcdHzG4gD9geXPb9dQrqqurea5XmIsJXJ1jipHMsxhrybR0NAPA_GiathzZTgHPEa5Jgmvdpv04DtY8OBLtq5t48pnCeCIVkp3s6XNJxZRKI2R&p=1&fvj=1&vjs=3\n",
      "\n",
      "Backend Software Developer https://www.indeed.com/rc/clk?jk=64fecef620bb853a&fccid=de71a49b535e21cb&vjs=3\n",
      "\n",
      "Junior Software Developer https://www.indeed.com/pagead/clk?mo=r&ad=-6NYlbfkN0BbIbu35rN4ToQZZxETN3tZlg0cK7iFEHC0AqmvhRxc67aSKWHExCPn-2QVhuT0CTIu-zOfmVdUMzCtlFB_yx4hejtbBtCFG5bouc3DKIewTQSNDU8C3ip_U29-bvZPT9fzmrpVb73_OQHy8nCP6sO6XY88xS6QEBLTW1i9_Gg0Au4spzzRtd5Ij_7sv-NuaO9OahqtxfDry-L-6B1-RM-f4GeOHoHLqcVRCpsM-viU3mS3m8VmsToFgYidiIWZgOOMD-ku3xdDVmE5UJ--gwpePvYh_2_KDd5Cz7b6Srmjzm-gw4FL8mD9RBV7U5w0NNnkchdoY4rakhUX2tRBSd9Wv5LJIX-9D7OXRJofLcVcJ7VqXKydz-pOE6SGpg1iaQn6yxnoPCI7kylGpdPpTaFCjMtLldINWVfXxJ680AQdiWPFfzstSizOQ3Cpg2ZO463x2P0jT9FVlGJr2m2NSGHQAvGREG6mViV9yVe9oQhdaTqe-VhuaflSMomi5aPNcGOXoBQDI3qUVFBu0ZS5voGtfjZNh5ZqrLOmbDFE0EtfKAG3PDf6h-Rt8TpnYaObeJzNdLiWmSg0BYdaqh9evqTiuKPAB_5NOOqNroxyOGl5lJS0hhjZHtesowyqDPPPJZJ3vshW1mGUCigfhfixUllRiuc0Vp8E3Uihmo5c-J8QHiAMc8BGhCrJPZ2RpGrpFBgAzgM_9-FMenmmoWZkCPDMuFBmXzITEXjO1SIucNBvs2LpbSQqGeqz7sVsGmrfDtMAtfCfAD8dPyXN5tdpCnmxEi-b_wIfcfGdSNL0KqVnN8FEXxHdHatBbNG7BrMzct9SMAUby36O0pzxuzUd_x4bm7zTjiD3Meu6OaAIP6Ogukto6eDK-_Uf6zDps8SAC6zQwIu4vx7Oo_sGNgGyWpf3OvYLI-p1sR1AStmxaaq5nawKQpS_dVaB-ZnWYMiPgpGO8oFO1HyPlsptjrWSngMCzSWs-vICS5ctvZdm3gv7l7kDqXHfmYF_&p=3&fvj=0&vjs=3\n",
      "\n",
      "Entry Level Software Engineer https://www.indeed.com/pagead/clk?mo=r&ad=-6NYlbfkN0BbIbu35rN4ToQZZxETN3tZlg0cK7iFEHC0AqmvhRxc67aSKWHExCPn-2QVhuT0CTIu-zOfmVdUMwBz4x6t7BdCImrPRI8NsFEDqCXNxUY8drSuiGG1Oq_ougpt4BP628EeJwclO8oQR2bC8D6XvtLuuWh4if_zpml_6pcAW0uJfHOSH35zcaRebHHXA_DIXpiYSa1CMmsQ_bVOTCwoW6LZSyVWA5zLxDk_AnVIUaj1Fqs08MQR8dPmooho9zi7wGoApvMKPOlpZkDi2Ac5FhWgQPgZ-az7JFd7BvLuv51S2UHE5zYNLS9fmN144FSezRwfO8UVgWWzohvv85gZ2vCxMws9L63KLUzplqAqOp-yJNXHotb-bYbDDvL-Ir5xVwU8YOqoTA9Cq_n0IZG5ItIIe8DGmrbnHjyUNxqBzw7N8KGfICvq2i_xbfc2mMRhjC4S8OmIhPzeAXsqDtuVsGWbxCVrTbA2-MYeSD9-tcgbta5jfUBQrDYJ0pt0bYzNNSuYikcykVZS5I-6oEICiLIbNlsM69-hjTWJ126cfnsNZV5cNhH4xTWGgbj8Dpp-jz7fuIIMO-MPPVtTEpk536aX-oL2m0nf3IrrVLeDWtO4imoYiT65gwOJfXspLDNpQHe-GzQFh7QGZhdD10F11EJk1cb2nCsqJlUflbX54OKV3c3O6efF84VG_2UTvTHhNlCxTVeunWD2I-Tk1DEW2G6ezKZozPChHCC3vY8QCmyGnDbVxaHNg5TAnUNgOU1PB9tpMelvJtx_dg_rRonjXGvxCOLgeWAHWx3zLYBywRze9h6xi0cC3I19Gbq_LEonuGoLq6VZ3Ch43frJE_8oGdKU2-kepXJ23-CP5F5ct5zOVQ_DlCBKlTxxxokKfk0-dM8A5PPVYUVWh-3iQcCrEcgoelNY66DgcJdQ6zfQeprgmXAXI3JXCuzAWLmRgkHtbkkqnaJGGKmeuMnuyiViaGLZytTD_dW44GhCpEvbZzFobV1znXA6ZDw9ug31vOG6rOQ=&p=4&fvj=0&vjs=3\n",
      "\n",
      "Software Engineer II https://www.indeed.com/rc/clk?jk=3d2f709a2134aac6&fccid=734cb5a01ee60f80&vjs=3\n",
      "\n",
      "Software Developer - ServiceNow (CARTS+) https://www.indeed.com/rc/clk?jk=af7e012e05ee9860&fccid=9b77e2b0ccfb3838&vjs=3\n",
      "\n",
      "Software Engineer https://www.indeed.com/rc/clk?jk=f990d4f5fa5541ec&fccid=734cb5a01ee60f80&vjs=3\n",
      "\n",
      "Assistant Software Developer https://www.indeed.com/rc/clk?jk=2c7aad9c6ebf4650&fccid=0d771a787e6e10bd&vjs=3\n",
      "\n",
      "Entry Level Software Engineer https://www.indeed.com/company/Neo-Prism-Solutions/jobs/Entry-Level-Software-Engineer-10179f2849d335cf?fccid=a17127b30cf43914&vjs=3\n",
      "\n",
      "Seasonal Employee - Software Engineer https://www.indeed.com/rc/clk?jk=b8c8abc4093c3667&fccid=d2310af9b3bb8585&vjs=3\n",
      "\n",
      "Jr Software Developer https://www.indeed.com/rc/clk?jk=9ebdae30c1d8e12d&fccid=b3885ca934ed0066&vjs=3\n",
      "\n",
      "Associate Software Quality Engineer https://www.indeed.com/rc/clk?jk=e31920e81503f466&fccid=ab22e7c357e67bd4&vjs=3\n",
      "\n",
      "Senior Web Developer https://www.indeed.com/rc/clk?jk=85f14a3942f77b84&fccid=e3c34fabea26c902&vjs=3\n",
      "\n",
      "Enterprise Systems Developer III-Lead Software Engineer https://www.indeed.com/rc/clk?jk=50e4910aeb1299ca&fccid=e3c34fabea26c902&vjs=3\n",
      "\n",
      "Senior Web Developer https://www.indeed.com/rc/clk?jk=85f14a3942f77b84&fccid=e3c34fabea26c902&vjs=3\n",
      "\n",
      "Enterprise Systems Developer III-Lead Software Engineer https://www.indeed.com/rc/clk?jk=50e4910aeb1299ca&fccid=e3c34fabea26c902&vjs=3\n",
      "\n",
      "Software Engineer https://www.indeed.com/company/Pizza-Hut-Digital-Ventures/jobs/Software-Engineer-961adfd834ca1cb3?fccid=5cdf0c2788805bcb&vjs=3\n",
      "\n",
      "Software Developer https://www.indeed.com/rc/clk?jk=deea4d3a899e1efa&fccid=95f0bfae4ebb4aa9&vjs=3\n",
      "\n",
      "Entry Level Java Developer https://www.indeed.com/company/Talentheed-Inc/jobs/Entry-Level-Java-Developer-68c3ce2d769f32b9?fccid=c74998f9af9be394&vjs=3\n",
      "\n",
      "Software Developer Fulltime job, 40 hours per week https://www.indeed.com/rc/clk?jk=3c183de8a754aa8e&fccid=707e76d9c958ab47&vjs=3\n",
      "\n",
      "Software Developer https://www.indeed.com/rc/clk?jk=dc4a615e2eefe1b9&fccid=76900f8ba61b1d82&vjs=3\n",
      "\n",
      "Mid level software developer https://www.indeed.com/company/GenSpark/jobs/Mid-Level-Software-Developer-15807391c0f8501a?fccid=76843bfd91b0328c&vjs=3\n",
      "\n",
      "Software Engineer, Frontend (Remote Positions Available) https://www.indeed.com/rc/clk?jk=1aa2722dba7d5c91&fccid=611a140f643cc42d&vjs=3\n",
      "\n",
      "Software Engineer https://www.indeed.com/rc/clk?jk=b5c3a56e9e64cb09&fccid=96b867feb66827c1&vjs=3\n",
      "\n",
      "Full Stack Developer III https://www.indeed.com/rc/clk?jk=def8d940368261e3&fccid=2ae04b97d8829e58&vjs=3\n",
      "\n",
      "Enterprise Systems Developer III https://www.indeed.com/rc/clk?jk=691abaadcc2a3509&fccid=e3c34fabea26c902&vjs=3\n",
      "\n",
      "Python Developer https://www.indeed.com/company/Xiartech/jobs/Python-Developer-0876a5fa9509150d?fccid=680849477060c18c&vjs=3\n",
      "\n",
      "Software Engineers https://www.indeed.com/rc/clk?jk=d6c1cb9bde3c5a0c&fccid=923935a15cd5676e&vjs=3\n",
      "\n",
      "Java Spring Boot Developer- 4287421 https://www.indeed.com/rc/clk?jk=0014df932a5d1fc3&fccid=a4e4e2eaf26690c9&vjs=3\n",
      "\n"
     ]
    }
   ],
   "source": [
    "job_pages_spider(10)"
   ]
  },
  {
   "cell_type": "markdown",
   "metadata": {},
   "source": [
    "- - - -"
   ]
  },
  {
   "cell_type": "markdown",
   "metadata": {},
   "source": [
    "### Dynamic Web Crawler"
   ]
  },
  {
   "cell_type": "markdown",
   "metadata": {},
   "source": [
    "Getting text of job title for each listing based on each listing URL (targets ONE CSS class):"
   ]
  },
  {
   "cell_type": "code",
   "execution_count": 161,
   "metadata": {},
   "outputs": [],
   "source": [
    "# set max pages\n",
    "def job_pages_spider2(max_pages):\n",
    "    page = 0  # NEED TO FIX, increment by 10\n",
    "\n",
    "    while page <= max_pages:\n",
    "        url = \"https://www.indeed.com/jobs?q=software%20developer&l=Dallas,%20TX&start=\"+str(page)\n",
    "\n",
    "        # GET request; stores page HTML source in variable\n",
    "        source_code = requests.get(url) \n",
    "\n",
    "        # gets the front end text of the HTMl source code; ignoring back end stuff; essentally parses through HTML source\n",
    "        plain_text = source_code.text \n",
    "\n",
    "        # can sort through this variable\n",
    "        soup = BeautifulSoup(plain_text) \n",
    "\n",
    "        \n",
    "        # TASK: Gather/search through all job titles & their urls (will need to inspect element for unique class/id names)\n",
    "        for link in soup.findAll('a', {'class': 'jcs-JobTitle'}): # similar to CSS descendant selectors (a .jcs-JobTitle)\n",
    "            job_title = link.get_text().strip()\n",
    "            job_href = \"https://www.indeed.com\" + link.get('href')\n",
    "            get_single_job_posting_data(job_href) # store urls of each job listing meant for function in next cell\n",
    "            # print(job_title + \" \" + \"https://www.indeed.com\"+job_href + \"\\n\")\n",
    "        \n",
    "        # Increment pages by 10\n",
    "        page += 10\n"
   ]
  },
  {
   "cell_type": "code",
   "execution_count": 162,
   "metadata": {},
   "outputs": [],
   "source": [
    "def get_single_job_posting_data(job_url):\n",
    "        # GET request; stores page HTML source in variable\n",
    "        source_code = requests.get(job_url) \n",
    "\n",
    "        # gets the front end text of the HTMl source code; ignoring back end stuff; essentally parses through HTML source\n",
    "        plain_text = source_code.text \n",
    "\n",
    "        # can sort through this variable\n",
    "        soup = BeautifulSoup(plain_text)\n",
    "\n",
    "        for jobtitle in soup.findAll('h1', {'class': 'jobsearch-JobInfoHeader-title'}):\n",
    "                print(jobtitle.get_text())\n",
    "    "
   ]
  },
  {
   "cell_type": "code",
   "execution_count": 163,
   "metadata": {},
   "outputs": [
    {
     "name": "stdout",
     "output_type": "stream",
     "text": [
      "Software Developer (.NET) Opportunities for Entry-Level Candidates\n",
      "Junior Software Developer\n",
      "Entry Level Software Engineer\n",
      "Entry-level Software Engineer\n",
      "Software Engineering - Multiple Openings\n",
      "Assistant Software Developer\n",
      "Entry Level Software Engineers\n",
      "Backend Software Developer\n",
      "Software Engineer\n",
      "Software Engineer II\n",
      "Software Developer Associate\n",
      "Associate Software Quality Engineer\n",
      "Jr. Software Engineer - Java\n",
      "Software Engineer (US REMOTE)\n",
      "Seasonal Employee - Software Engineer\n",
      "Software Developer\n",
      "Software Developer Associate\n",
      "Entry Level Software Engineers\n",
      "Seasonal Employee - Software Engineer\n",
      "Java Spring Boot Developer- 4287421\n",
      "Flutter Developer (Remote)\n",
      "Junior Software Developer\n",
      "Software Engineer\n",
      "Software Engineer\n",
      "Software Engineering - Multiple Openings\n",
      "Software Developer (Salesforce)\n",
      "Software Developer - Hybrid Remote Options\n",
      "Assistant Software Developer\n",
      "Software Developer\n",
      "Entry Level Java Developer\n"
     ]
    }
   ],
   "source": [
    "job_pages_spider2(10)"
   ]
  },
  {
   "cell_type": "markdown",
   "metadata": {},
   "source": [
    " _****************************************************************************_"
   ]
  },
  {
   "cell_type": "markdown",
   "metadata": {},
   "source": [
    "Side project -- Getting both job title & company (targets MULTIPLE CSS classes):"
   ]
  },
  {
   "cell_type": "code",
   "execution_count": 158,
   "metadata": {},
   "outputs": [],
   "source": [
    "# set max pages\n",
    "def job_pages_spider3(max_pages):\n",
    "    page = 0  # NEED TO FIX, increment by 10\n",
    "\n",
    "    while page <= max_pages:\n",
    "        url = \"https://www.indeed.com/jobs?q=software%20developer&l=Dallas,%20TX&start=\"+str(page)\n",
    "\n",
    "        # GET request; stores page HTML source in variable\n",
    "        source_code = requests.get(url) \n",
    "\n",
    "        # gets the front end text of the HTMl source code; ignoring back end stuff; essentally parses through HTML source\n",
    "        plain_text = source_code.text \n",
    "\n",
    "        # can sort through this variable\n",
    "        soup = BeautifulSoup(plain_text) \n",
    "\n",
    "        \n",
    "        # TASK: Gather/search through all job titles & their urla (will need to inspect element for unique class/id names)\n",
    "        for link in soup.findAll('a', {'class': 'jcs-JobTitle'}): # similar to CSS descendant selectors (a .jcs-JobTitle)\n",
    "            job_title = link.get_text().strip()\n",
    "            job_href = \"https://www.indeed.com\" + link.get('href')\n",
    "            get_single_job_posting_data2(job_href) # store urls of each job listing meant for function in next cell\n",
    "            # print(job_title + \" \" + \"https://www.indeed.com\"+job_href + \"\\n\")\n",
    "        \n",
    "        # Increment pages by 10\n",
    "        page += 10\n"
   ]
  },
  {
   "cell_type": "code",
   "execution_count": 159,
   "metadata": {},
   "outputs": [],
   "source": [
    "def get_single_job_posting_data2(job_url):\n",
    "        # GET request; stores page HTML source in variable\n",
    "        source_code = requests.get(job_url) \n",
    "\n",
    "        # gets the front end text of the HTMl source code; ignoring back end stuff; essentally parses through HTML source\n",
    "        plain_text = source_code.text \n",
    "\n",
    "        # can sort through this variable\n",
    "        soup = BeautifulSoup(plain_text)\n",
    "\n",
    "        # gets HTML of job header info that lists job title, rating (if applic), company name, location\n",
    "        jobHeader = soup.findAll('div', {'class': 'jobsearch-DesktopStickyContainer'})\n",
    "\n",
    "        for x in jobHeader:\n",
    "                ### GET JOB TITLE\n",
    "                job_title = x.find('h1', {'class': 'jobsearch-JobInfoHeader-title'})\n",
    "                print(job_title.get_text())\n",
    "                \n",
    "                ### GET COMPANY\n",
    "                # stores each iteration in a list for some reason\n",
    "                # (IMPORTANT) note: both classes targeted must be within the same element (e.g. <p class='class1 class2'></p>)\n",
    "                job_company = x.select('div.icl-u-lg-mr--sm.icl-u-xs-mr--xs')\n",
    "\n",
    "                # for some reason, variable stores each HTML snippet in an individual list, so will need to index 1 to target text\n",
    "                # index 0 prints out the div tags only\n",
    "                print(job_company[1].get_text() + \"\\n\")\n",
    "                #print(x)\n",
    "    "
   ]
  },
  {
   "cell_type": "code",
   "execution_count": 160,
   "metadata": {},
   "outputs": [
    {
     "name": "stdout",
     "output_type": "stream",
     "text": [
      "Software Developer (.NET) Opportunities for Entry-Level Candidates\n",
      "Quotum Technologies, Inc\n",
      "\n",
      "Junior Software Developer\n",
      "Revature\n",
      "\n",
      "Entry Level Software Engineer\n",
      "Revature\n",
      "\n",
      "Entry-level Software Engineer\n",
      "Cognizant Technology Solutions\n",
      "\n",
      "Software Engineering - Multiple Openings\n",
      "amdocs\n",
      "\n",
      "Assistant Software Developer\n",
      "Fujitsu\n",
      "\n",
      "Entry Level Software Engineers\n",
      "SkillStorm\n",
      "\n",
      "Backend Software Developer\n",
      "IBM\n",
      "\n",
      "Software Engineer\n",
      "Microsoft\n",
      "\n",
      "Software Engineer II\n",
      "Microsoft\n",
      "\n",
      "Software Developer Associate\n",
      "PNC Financial Services Group\n",
      "\n",
      "Associate Software Quality Engineer\n",
      "Vizient, Inc.\n",
      "\n",
      "Jr. Software Engineer - Java\n",
      "JPMorgan Chase Bank, N.A.\n",
      "\n",
      "Software Engineer (US REMOTE)\n",
      "Splunk\n",
      "\n",
      "Seasonal Employee - Software Engineer\n",
      "State Farm\n",
      "\n",
      "Junior Software Developer\n",
      "Brooksource\n",
      "\n",
      "Entry Level Software Engineer\n",
      "Neo Prism Solutions\n",
      "\n",
      "Associate Software Quality Engineer\n",
      "Vizient, Inc.\n",
      "\n",
      "Enterprise Systems Developer III-Lead Software Engineer\n",
      "University of Texas at Dallas\n",
      "\n",
      "Seasonal Employee - Software Engineer\n",
      "State Farm\n",
      "\n",
      "Full Stack Software Engineer (Remote)\n",
      "Fannie Mae\n",
      "\n",
      "Mid level software developer\n",
      "Genspark\n",
      "\n",
      "Software Engineer- Fully Remote- up to $170k\n",
      "Michael Page\n",
      "\n",
      "TeamCenter technical consultant- 4285501\n",
      "Accenture\n",
      "\n",
      "Software Developer Fulltime job, 40 hours per week\n",
      "Progress Solutions\n",
      "\n",
      "Software Engineering\n",
      "JPMorgan Chase Bank, N.A.\n",
      "\n",
      "Entry Level Java Developer\n",
      "Synergistic IT\n",
      "\n",
      "Software Developer\n",
      "Saion Solutions\n",
      "\n",
      "Software Developer\n",
      "Brock Solutions\n",
      "\n",
      "Software Developer - Hybrid Remote Options\n",
      "Texans Credit Union\n",
      "\n"
     ]
    }
   ],
   "source": [
    "job_pages_spider3(10)"
   ]
  }
 ],
 "metadata": {
  "interpreter": {
   "hash": "3b806cc711b465e66e8252dff191d8681f8b41038e9cbc25fa942edafd26a2d7"
  },
  "kernelspec": {
   "display_name": "Python 3.9.10 ('base')",
   "language": "python",
   "name": "python3"
  },
  "language_info": {
   "codemirror_mode": {
    "name": "ipython",
    "version": 3
   },
   "file_extension": ".py",
   "mimetype": "text/x-python",
   "name": "python",
   "nbconvert_exporter": "python",
   "pygments_lexer": "ipython3",
   "version": "3.9.10"
  },
  "orig_nbformat": 4
 },
 "nbformat": 4,
 "nbformat_minor": 2
}
