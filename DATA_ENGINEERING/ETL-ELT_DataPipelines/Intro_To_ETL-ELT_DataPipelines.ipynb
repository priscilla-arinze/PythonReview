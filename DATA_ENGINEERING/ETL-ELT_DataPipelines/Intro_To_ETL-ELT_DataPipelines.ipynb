{
 "cells": [
  {
   "cell_type": "markdown",
   "metadata": {},
   "source": [
    "# Intro to ETL & ELT Data Pipelines"
   ]
  }
 ],
 "metadata": {
  "language_info": {
   "name": "python"
  }
 },
 "nbformat": 4,
 "nbformat_minor": 2
}
