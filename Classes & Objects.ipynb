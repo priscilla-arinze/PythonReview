{
 "cells": [
  {
   "cell_type": "markdown",
   "metadata": {},
   "source": [
    "# Classes & Objects"
   ]
  },
  {
   "cell_type": "markdown",
   "metadata": {},
   "source": [
    "Basically the ability to group similar variables & functions (or referred to as \"methods\")"
   ]
  },
  {
   "cell_type": "code",
   "execution_count": 1,
   "metadata": {},
   "outputs": [],
   "source": [
    "class Enemy:\n",
    "    hp = 3\n",
    "\n",
    "    def attack(self):\n",
    "        print('ouchies!')\n",
    "        self.hp -= 1\n",
    "\n",
    "    def checkLife(self):\n",
    "        if self.hp <= 0: \n",
    "            print(\"oops lost all HP, totally dead now\")\n",
    "        else:\n",
    "            print(str(self.hp), \"HP left\")"
   ]
  },
  {
   "cell_type": "markdown",
   "metadata": {},
   "source": [
    "### *`self`* keyword (see above)\n",
    "\n",
    "Just like Java (`this`), `self` refers to the current object/instance of class; in this case, the current enemy\n",
    "\n",
    "__Easier example__: Given a simple class called 'Animal':\n",
    "\n",
    "```python\n",
    "class Animal:\n",
    "\n",
    "    foodIntake = 0\n",
    "\n",
    "    def eatFood(self):\n",
    "        print('yum yes I am an animal and I am eating food')\n",
    "        self.foodIntake += 1\n",
    "```\n",
    "\n",
    "Say we have already used this class to create all kinds of animals (referred to as \"objects\"): dog, zebra, lion, etc. \n",
    "\n",
    "Then we create a new animal/object, cat, with this class. e.g: ```cat = Animal() ```\n",
    "\n",
    "If the `cat` object invokes the \"eatFood\" method, ONLY the `cat` object's foodIntake variable will be affected, no other objects.\n",
    "\n",
    "\n",
    "*********************\n",
    "\n",
    "\n",
    "So in the above case with the Enemy class, only the specific enemy object that invokes the attack method will be affected, no other enemy objects."
   ]
  },
  {
   "cell_type": "markdown",
   "metadata": {},
   "source": [
    "## Create a new object:"
   ]
  },
  {
   "cell_type": "code",
   "execution_count": 2,
   "metadata": {},
   "outputs": [],
   "source": [
    "enemy1 = Enemy() # Java syntax: Enemy enemy1 = new Enemy()"
   ]
  },
  {
   "cell_type": "markdown",
   "metadata": {},
   "source": [
    "### Invoke class methods with new enemy object:"
   ]
  },
  {
   "cell_type": "code",
   "execution_count": 3,
   "metadata": {},
   "outputs": [
    {
     "name": "stdout",
     "output_type": "stream",
     "text": [
      "ouchies!\n"
     ]
    }
   ],
   "source": [
    "enemy1.attack()"
   ]
  },
  {
   "cell_type": "code",
   "execution_count": 4,
   "metadata": {},
   "outputs": [
    {
     "name": "stdout",
     "output_type": "stream",
     "text": [
      "2 HP left\n"
     ]
    }
   ],
   "source": [
    "enemy1.checkLife()"
   ]
  },
  {
   "cell_type": "markdown",
   "metadata": {},
   "source": [
    "### Demonstration of above `self` explanation:"
   ]
  },
  {
   "cell_type": "code",
   "execution_count": 5,
   "metadata": {},
   "outputs": [],
   "source": [
    "enemy2 = Enemy()\n",
    "enemy3 = Enemy()"
   ]
  },
  {
   "cell_type": "code",
   "execution_count": 6,
   "metadata": {},
   "outputs": [
    {
     "name": "stdout",
     "output_type": "stream",
     "text": [
      "ouchies!\n"
     ]
    }
   ],
   "source": [
    "enemy2.attack()"
   ]
  },
  {
   "cell_type": "code",
   "execution_count": 7,
   "metadata": {},
   "outputs": [
    {
     "name": "stdout",
     "output_type": "stream",
     "text": [
      "2 HP left\n",
      "3 HP left\n"
     ]
    }
   ],
   "source": [
    "enemy2.checkLife()\n",
    "enemy3.checkLife()"
   ]
  },
  {
   "cell_type": "markdown",
   "metadata": {},
   "source": [
    "## `Init` keyword"
   ]
  },
  {
   "cell_type": "code",
   "execution_count": null,
   "metadata": {},
   "outputs": [],
   "source": []
  }
 ],
 "metadata": {
  "interpreter": {
   "hash": "3b806cc711b465e66e8252dff191d8681f8b41038e9cbc25fa942edafd26a2d7"
  },
  "kernelspec": {
   "display_name": "Python 3.9.10 ('base')",
   "language": "python",
   "name": "python3"
  },
  "language_info": {
   "codemirror_mode": {
    "name": "ipython",
    "version": 3
   },
   "file_extension": ".py",
   "mimetype": "text/x-python",
   "name": "python",
   "nbconvert_exporter": "python",
   "pygments_lexer": "ipython3",
   "version": "3.9.10"
  },
  "orig_nbformat": 4
 },
 "nbformat": 4,
 "nbformat_minor": 2
}
