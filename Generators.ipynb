{
 "cells": [
  {
   "cell_type": "markdown",
   "metadata": {},
   "source": [
    "# Generators\n",
    "\n",
    "A way to iterate over a large dataset/list without having an effect on space complexity"
   ]
  },
  {
   "cell_type": "markdown",
   "metadata": {},
   "source": [
    "Regular way to iterate over a list:"
   ]
  },
  {
   "cell_type": "code",
   "execution_count": 3,
   "metadata": {},
   "outputs": [],
   "source": [
    "import memory_profiler as mem_profile\n",
    "import random\n",
    "import time"
   ]
  },
  {
   "cell_type": "code",
   "execution_count": 7,
   "metadata": {},
   "outputs": [
    {
     "name": "stdout",
     "output_type": "stream",
     "text": [
      "Memory (Before) :[28.62109375]MB\n",
      "[1, 4, 9, 16, 25, 36]\n",
      "Memory (After) :[28.67578125]MB\n"
     ]
    }
   ],
   "source": [
    "print('Memory (Before) :' + str(mem_profile.memory_usage()) + 'MB')\n",
    "\n",
    "\n",
    "def square_numbers(nums_list):\n",
    "    result = []\n",
    "\n",
    "    for num in nums_list:\n",
    "        result.append(num*num)\n",
    "\n",
    "    return result\n",
    "\n",
    "print(square_numbers([1, 2, 3, 4, 5, 6]))\n",
    "\n",
    "\n",
    "print('Memory (After) :' + str(mem_profile.memory_usage()) + 'MB')"
   ]
  }
 ],
 "metadata": {
  "kernelspec": {
   "display_name": "Python 3.9.10 ('base')",
   "language": "python",
   "name": "python3"
  },
  "language_info": {
   "codemirror_mode": {
    "name": "ipython",
    "version": 3
   },
   "file_extension": ".py",
   "mimetype": "text/x-python",
   "name": "python",
   "nbconvert_exporter": "python",
   "pygments_lexer": "ipython3",
   "version": "3.9.10"
  },
  "orig_nbformat": 4,
  "vscode": {
   "interpreter": {
    "hash": "3b806cc711b465e66e8252dff191d8681f8b41038e9cbc25fa942edafd26a2d7"
   }
  }
 },
 "nbformat": 4,
 "nbformat_minor": 2
}
