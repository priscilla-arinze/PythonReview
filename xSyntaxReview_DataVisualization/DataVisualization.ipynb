{
 "cells": [
  {
   "cell_type": "markdown",
   "metadata": {},
   "source": [
    "# Data Visualization\n",
    "\n",
    "__Data Mining Technologies (great for large-scale data analysis projects)__:\n",
    "* [Apache Hadoop](https://hadoop.apache.org/)\n",
    "* [Apache Spark](https://spark.apache.org/)\n",
    "* [(AWS) Amazon Redshift](https://aws.amazon.com/redshift/)\n",
    "* [Hitachi Pentaho](https://www.hitachivantara.com/en-us/products/lumada-dataops/data-integration-analytics/download-pentaho.html)\n",
    "\n",
    "This tutorial will just use personal data mining techniques"
   ]
  },
  {
   "cell_type": "markdown",
   "metadata": {},
   "source": [
    "<hr>"
   ]
  },
  {
   "cell_type": "markdown",
   "metadata": {},
   "source": [
    "## Exercise: Geodata ([Google Maps Geocoding API](https://developers.google.com/maps/documentation/geocoding/overview))\n",
    "\n",
    "Generates a map with markers based off of user-inputted data"
   ]
  },
  {
   "cell_type": "code",
   "execution_count": null,
   "metadata": {},
   "outputs": [],
   "source": []
  }
 ],
 "metadata": {
  "kernelspec": {
   "display_name": "Python 3.9.10 ('base')",
   "language": "python",
   "name": "python3"
  },
  "language_info": {
   "name": "python",
   "version": "3.9.10"
  },
  "orig_nbformat": 4,
  "vscode": {
   "interpreter": {
    "hash": "3b806cc711b465e66e8252dff191d8681f8b41038e9cbc25fa942edafd26a2d7"
   }
  }
 },
 "nbformat": 4,
 "nbformat_minor": 2
}
