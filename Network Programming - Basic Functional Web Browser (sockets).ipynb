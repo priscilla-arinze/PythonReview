{
 "cells": [
  {
   "cell_type": "markdown",
   "metadata": {},
   "source": [
    "# Network Programming - Build Basic Functional Web Browsers (Sockets)"
   ]
  },
  {
   "cell_type": "markdown",
   "metadata": {},
   "source": [
    "### Functional Web Browser (HTTP Request; Insecure HTTP websites ONLY)\n",
    "\n",
    "Possible causes for the following HTTP statuses:\n",
    "* __200 OK__: Request was successful\n",
    "* __403 Forbidden__: Request was understood by server, but not allowed to access webpage via port 80, cannot use for the code below\n",
    "* __301 Moved Permanently__: Website redirected from http:// to https://; would be best to use `requests` library instead (unless you can figure out how to use `ssl` library & ssl wrap socket connection) \n",
    "    * __NOTE: Most websites will NOT work with code below because it will auto-redirect to https; use `requests` library instead__ \n",
    "* __400 Bad Request__: Syntax error, incorrect host name, "
   ]
  },
  {
   "cell_type": "markdown",
   "metadata": {},
   "source": [
    "### TCP Sockets Library\n",
    "\n",
    "Connect to a host address via a specified port\n",
    "\n",
    "__Socket__: Endpoints of a two-way communication feed between two programs on a network (e.g. browser [\"user agent\"] & web server are both sockets)\n",
    "\n",
    "`socket.AF_INET` -- IPv4 Internet protocols <br>\n",
    "`socket.SOCK_STREAM` -- creates a TCP socket <br>\n",
    "* *Note: TCP relies on multiple handshakes and checksums to ensure all data packets are received in approriate order (reliable)* <br>\n",
    "\n",
    "`socket.SOCK_DGRAM` -- creates a UDP socket <br>\n",
    "* *Note: UDP is a connectionless protocol that doesn't rely on multiple handshakes unlike TCP. As a result, some of the data packets might be missing and/or received out of order (not reliable, but great for streaming videos)* <br>\n",
    "\n",
    "`socket.recv([number of bytes])` -- number of bytes to receive at a time (buffer size)"
   ]
  },
  {
   "cell_type": "code",
   "execution_count": 1,
   "metadata": {},
   "outputs": [],
   "source": [
    "import socket"
   ]
  },
  {
   "cell_type": "code",
   "execution_count": null,
   "metadata": {},
   "outputs": [
    {
     "name": "stdout",
     "output_type": "stream",
     "text": [
      "HTTP/1.1 200 OK\n",
      "Date: Mon, 04 Jul 2022 03:19:46 GMT\n",
      "Server: Apache/2.4.18 (Ubuntu)\n",
      "Last-Modified: Sat, 13 May 2017 11:22:22 GMT\n",
      "ETag: \"a7-54f6609245537\"\n",
      "Accept-Ranges: bytes\n",
      "Content-Length: 167\n",
      "Cache-Control: max-age=0, no-cache, no-store, must-revalidate\n",
      "Pragma: no-cache\n",
      "Expires: Wed, 11 Jan 1984 05:00:00 GMT\n",
      "Content-Type: text/plain\n",
      "\n",
      "But soft what light through yonder window breaks\n",
      "It is the east and Juliet is the sun\n",
      "Arise fair sun and kill the envious moon\n",
      "Who is already sick and pale with g\n",
      "rief\n",
      "\n"
     ]
    }
   ],
   "source": [
    "## Establish a connection with host name\n",
    "client = socket.socket(socket.AF_INET, socket.SOCK_STREAM)\n",
    "client.connect(('data.pr4e.org', 80)) \n",
    "\n",
    "## retrieve data from website\n",
    "request = 'GET /romeo.txt HTTP/1.1\\r\\nHost:data.pr4e.org\\r\\n\\r\\n'.encode() # GET request command; encode to UTF-8\n",
    "client.send(request) # GET request command sent to web server via TCP socket\n",
    "\n",
    "while True:\n",
    "    data = client.recv(512) # receive data request 512 characters at a time\n",
    "    if(len(data) < 1):\n",
    "        break\n",
    "    print(data.decode()) # can put an optional argument of 'iso-8859-1' to decode non-UTF-8 characters\n",
    "\n",
    "\n",
    "## Close connection\n",
    "client.close()"
   ]
  }
 ],
 "metadata": {
  "kernelspec": {
   "display_name": "Python 3.9.10 ('base')",
   "language": "python",
   "name": "python3"
  },
  "language_info": {
   "codemirror_mode": {
    "name": "ipython",
    "version": 3
   },
   "file_extension": ".py",
   "mimetype": "text/x-python",
   "name": "python",
   "nbconvert_exporter": "python",
   "pygments_lexer": "ipython3",
   "version": "3.9.10"
  },
  "orig_nbformat": 4,
  "vscode": {
   "interpreter": {
    "hash": "3b806cc711b465e66e8252dff191d8681f8b41038e9cbc25fa942edafd26a2d7"
   }
  }
 },
 "nbformat": 4,
 "nbformat_minor": 2
}
