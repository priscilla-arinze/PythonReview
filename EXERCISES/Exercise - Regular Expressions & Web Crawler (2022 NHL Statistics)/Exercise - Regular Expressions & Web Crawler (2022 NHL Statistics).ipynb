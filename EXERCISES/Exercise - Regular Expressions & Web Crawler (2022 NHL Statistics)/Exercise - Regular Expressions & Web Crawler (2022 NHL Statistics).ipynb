{
 "cells": [
  {
   "cell_type": "markdown",
   "metadata": {},
   "source": [
    "# Exercise - Regular Expressions & Web Scraping (2022 NHL Statistics)"
   ]
  },
  {
   "cell_type": "markdown",
   "metadata": {},
   "source": [
    "## Objective: Show the top 3 Colorado Avalanche players that scored the most points during the 2021-2022 NHL season \n",
    "\n",
    "(Stats source: [Covers.com](https://www.covers.com/sport/hockey/nhl/players/statistics/points/2021-2022))"
   ]
  },
  {
   "cell_type": "markdown",
   "metadata": {},
   "source": [
    "### To-Do List for future expanded project / separate repository:\n",
    "* Allow varied user input (e.g. \"ranger\", \"arizona\", etc.) + use list of team name abbreviations & regex to determine which team the user is referring to\n",
    "\n",
    "* Based on above, update functions to be applicable for all NHL teams\n",
    "\n",
    "* Update standard setup for BeatifulSoup to allow dynamic URL season by season changes (may also need to include in user input)\n",
    "\n",
    "* Once everything is functional, consider adding it to website portfolio (more details/image of players?)\n"
   ]
  },
  {
   "cell_type": "code",
   "execution_count": 304,
   "metadata": {},
   "outputs": [],
   "source": [
    "import requests # one of the ways to connect to websites via Python\n",
    "from bs4 import BeautifulSoup # allows you to go through page source and get data\n",
    "import re # regular expressions library"
   ]
  },
  {
   "cell_type": "code",
   "execution_count": 305,
   "metadata": {},
   "outputs": [],
   "source": [
    "def get_nhl_stats():\n",
    "\n",
    "    ###### STANDARD SETUP FOR BEATUIFULSOUP ######\n",
    "    url = \"https://www.covers.com/sport/hockey/nhl/players/statistics/points/2021-2022\"\n",
    "\n",
    "    # GET request; stores page HTML source in variable\n",
    "    source_code = requests.get(url) \n",
    "\n",
    "    # gets the front end text of the HTMl source code; ignoring back end stuff; essentally parses through HTML source\n",
    "    plain_text = source_code.text \n",
    "\n",
    "    # can sort through this variable\n",
    "    soup = BeautifulSoup(plain_text) \n",
    "\n",
    "\n",
    "    table = soup.find(\"table\", attrs={\"id\": \"PostSeason\"})\n",
    "    table_headers = table.thead.find_all(\"th\") # find all th's within table's thead section\n",
    "    table_rows = table.tbody.find_all(\"tr\") # find all tr's within table's tbody section\n",
    "\n",
    "    ###### CREATE LIST OF HEADERS ######\n",
    "    list_of_headings = []\n",
    "\n",
    "    for headers in table_headers:\n",
    "        # remove any newlines and extra spaces from left and right \n",
    "        list_of_headings.append(headers.text.replace('\\n', ' ').strip())\n",
    "        \n",
    "    #print(list_of_headings)  #['# Player', 'Team', 'POS', 'GP', '+/-', 'SOG', 'PPG', 'SHG', 'G', 'A', 'P']\n",
    "\n",
    "\n",
    "\n",
    "\n",
    "    ###### CREATE LIST OF TABLE ROW DATA & COMBINE W/ HEADERS TO MAKE DICTIONARY ######\n",
    "    # list of multiple dictionaries\n",
    "    table_data = []\n",
    "\n",
    "    for rows in table_rows: \n",
    "\n",
    "        # each row is stored as dictionary consisting of the data\n",
    "        # EXAMPLE: rows = {'# Player': '', 'Team': '', 'POS': '', ...}\n",
    "        rows_dict = {}\n",
    "\n",
    "        # zip() allows you to combine two pieces of data & iterate over them as a tuple\n",
    "        for td, header in zip(rows.find_all(\"td\"), list_of_headings): \n",
    "            # to fix issue where number before player's name didn't have a space between the number & name\n",
    "            if header == '# Player': \n",
    "                rows_dict[header] = td.text.replace('\\n', ' ').rstrip().lstrip()\n",
    "            else:\n",
    "                rows_dict[header] = td.text.replace('\\n', '').strip()\n",
    "\n",
    "        table_data.append(rows_dict)\n",
    "\n",
    "\n",
    "\n",
    "\n",
    "    return table_data\n"
   ]
  },
  {
   "cell_type": "code",
   "execution_count": 306,
   "metadata": {},
   "outputs": [
    {
     "name": "stdout",
     "output_type": "stream",
     "text": [
      "{'# Player': '1 C. McDavid', 'Team': 'EDM', 'POS': 'C', 'GP': '16', '+/-': '15', 'SOG': '61', 'PPG': '2', 'SHG': '0', 'G': '10', 'A': '23', 'P': '33'}\n",
      "{'# Player': '2 L. Draisaitl', 'Team': 'EDM', 'POS': 'C', 'GP': '16', '+/-': '4', 'SOG': '44', 'PPG': '3', 'SHG': '1', 'G': '7', 'A': '25', 'P': '32'}\n",
      "{'# Player': '3 C. Makar', 'Team': 'COL', 'POS': 'D', 'GP': '18', '+/-': '8', 'SOG': '65', 'PPG': '2', 'SHG': '1', 'G': '7', 'A': '20', 'P': '27'}\n",
      "{'# Player': '4 N. Kucherov', 'Team': 'TB', 'POS': 'RW', 'GP': '21', '+/-': '5', 'SOG': '69', 'PPG': '5', 'SHG': '0', 'G': '7', 'A': '19', 'P': '26'}\n",
      "{'# Player': '5 M. Rantanen', 'Team': 'COL', 'POS': 'RW', 'GP': '18', '+/-': '2', 'SOG': '51', 'PPG': '1', 'SHG': '0', 'G': '5', 'A': '20', 'P': '25'}\n",
      "{'# Player': '6 M. Zibanejad', 'Team': 'NYR', 'POS': 'C', 'GP': '20', '+/-': '0', 'SOG': '63', 'PPG': '6', 'SHG': '0', 'G': '10', 'A': '14', 'P': '24'}\n",
      "{'# Player': '7 A. Fox', 'Team': 'NYR', 'POS': 'D', 'GP': '20', '+/-': '0', 'SOG': '42', 'PPG': '2', 'SHG': '0', 'G': '5', 'A': '18', 'P': '23'}\n",
      "{'# Player': '8 G. Landeskog', 'Team': 'COL', 'POS': 'LW', 'GP': '18', '+/-': '14', 'SOG': '52', 'PPG': '5', 'SHG': '0', 'G': '11', 'A': '10', 'P': '21'}\n",
      "{'# Player': '9 N. MacKinnon', 'Team': 'COL', 'POS': 'C', 'GP': '18', '+/-': '10', 'SOG': '104', 'PPG': '6', 'SHG': '0', 'G': '12', 'A': '9', 'P': '21'}\n",
      "{'# Player': '10 O. Palat', 'Team': 'TB', 'POS': 'LW', 'GP': '21', '+/-': '8', 'SOG': '44', 'PPG': '0', 'SHG': '0', 'G': '10', 'A': '9', 'P': '19'}\n",
      "{'# Player': '11 V. Hedman', 'Team': 'TB', 'POS': 'D', 'GP': '21', '+/-': '3', 'SOG': '69', 'PPG': '2', 'SHG': '0', 'G': '3', 'A': '15', 'P': '18'}\n",
      "{'# Player': '12 S. Stamkos', 'Team': 'TB', 'POS': 'C', 'GP': '21', '+/-': '5', 'SOG': '64', 'PPG': '1', 'SHG': '0', 'G': '10', 'A': '7', 'P': '17'}\n",
      "{'# Player': '13 E. Kane', 'Team': 'EDM', 'POS': 'LW', 'GP': '15', '+/-': '2', 'SOG': '57', 'PPG': '2', 'SHG': '0', 'G': '13', 'A': '4', 'P': '17'}\n",
      "{'# Player': '14 C. Kreider', 'Team': 'NYR', 'POS': 'LW', 'GP': '20', '+/-': '-1', 'SOG': '49', 'PPG': '3', 'SHG': '1', 'G': '10', 'A': '6', 'P': '16'}\n",
      "{'# Player': '15 Z. Hyman', 'Team': 'EDM', 'POS': 'LW', 'GP': '16', '+/-': '4', 'SOG': '67', 'PPG': '3', 'SHG': '1', 'G': '11', 'A': '5', 'P': '16'}\n",
      "{'# Player': '16 A. Panarin', 'Team': 'NYR', 'POS': 'LW', 'GP': '20', '+/-': '-5', 'SOG': '50', 'PPG': '3', 'SHG': '0', 'G': '6', 'A': '10', 'P': '16'}\n",
      "{'# Player': '17 N. Kadri', 'Team': 'COL', 'POS': 'C', 'GP': '14', '+/-': '7', 'SOG': '49', 'PPG': '2', 'SHG': '0', 'G': '7', 'A': '8', 'P': '15'}\n",
      "{'# Player': '18 D. Toews', 'Team': 'COL', 'POS': 'D', 'GP': '18', '+/-': '6', 'SOG': '41', 'PPG': '0', 'SHG': '0', 'G': '5', 'A': '9', 'P': '14'}\n",
      "{'# Player': '19 R. Nugent-Hopkins', 'Team': 'EDM', 'POS': 'C', 'GP': '16', '+/-': '-3', 'SOG': '35', 'PPG': '1', 'SHG': '0', 'G': '6', 'A': '8', 'P': '14'}\n",
      "{'# Player': '20 J. Gaudreau', 'Team': 'CAL', 'POS': 'LW', 'GP': '12', '+/-': '-3', 'SOG': '52', 'PPG': '0', 'SHG': '0', 'G': '3', 'A': '11', 'P': '14'}\n",
      "{'# Player': '21 A. Copp', 'Team': 'NYR', 'POS': 'C', 'GP': '20', '+/-': '-2', 'SOG': '41', 'PPG': '0', 'SHG': '1', 'G': '6', 'A': '8', 'P': '14'}\n",
      "{'# Player': '22 D. Perron', 'Team': 'STL', 'POS': 'LW', 'GP': '12', '+/-': '0', 'SOG': '42', 'PPG': '4', 'SHG': '0', 'G': '9', 'A': '4', 'P': '13'}\n",
      "{'# Player': '23 V. Nichushkin', 'Team': 'COL', 'POS': 'RW', 'GP': '18', '+/-': '5', 'SOG': '63', 'PPG': '1', 'SHG': '0', 'G': '8', 'A': '5', 'P': '13'}\n",
      "{'# Player': '24 A. Lehkonen', 'Team': 'COL', 'POS': 'LW', 'GP': '18', '+/-': '2', 'SOG': '40', 'PPG': '2', 'SHG': '0', 'G': '7', 'A': '6', 'P': '13'}\n",
      "{'# Player': '25 F. Vatrano', 'Team': 'NYR', 'POS': 'C', 'GP': '20', '+/-': '-1', 'SOG': '41', 'PPG': '2', 'SHG': '0', 'G': '5', 'A': '8', 'P': '13'}\n",
      "{'# Player': '26 C. Verhaeghe', 'Team': 'FLA', 'POS': 'C', 'GP': '10', '+/-': '7', 'SOG': '22', 'PPG': '0', 'SHG': '0', 'G': '6', 'A': '6', 'P': '12'}\n",
      "{'# Player': \"27 R. O'Reilly\", 'Team': 'STL', 'POS': 'C', 'GP': '12', '+/-': '3', 'SOG': '34', 'PPG': '4', 'SHG': '0', 'G': '7', 'A': '5', 'P': '12'}\n",
      "{'# Player': '28 B. Marchand', 'Team': 'BOS', 'POS': 'LW', 'GP': '7', '+/-': '3', 'SOG': '21', 'PPG': '1', 'SHG': '0', 'G': '4', 'A': '7', 'P': '11'}\n",
      "{'# Player': '29 S. Aho', 'Team': 'CAR', 'POS': 'C', 'GP': '14', '+/-': '0', 'SOG': '32', 'PPG': '1', 'SHG': '0', 'G': '4', 'A': '7', 'P': '11'}\n",
      "{'# Player': '30 T. Teravainen', 'Team': 'CAR', 'POS': 'LW', 'GP': '14', '+/-': '4', 'SOG': '34', 'PPG': '1', 'SHG': '0', 'G': '4', 'A': '7', 'P': '11'}\n",
      "{'# Player': '31 P. Buchnevich', 'Team': 'STL', 'POS': 'LW', 'GP': '12', '+/-': '-3', 'SOG': '22', 'PPG': '1', 'SHG': '0', 'G': '1', 'A': '10', 'P': '11'}\n",
      "{'# Player': '32 T. DeAngelo', 'Team': 'CAR', 'POS': 'D', 'GP': '14', '+/-': '0', 'SOG': '28', 'PPG': '1', 'SHG': '0', 'G': '1', 'A': '9', 'P': '10'}\n",
      "{'# Player': '33 J. Guentzel', 'Team': 'PIT', 'POS': 'LW', 'GP': '7', '+/-': '1', 'SOG': '39', 'PPG': '1', 'SHG': '0', 'G': '8', 'A': '2', 'P': '10'}\n",
      "{'# Player': '34 S. Crosby', 'Team': 'PIT', 'POS': 'C', 'GP': '6', '+/-': '2', 'SOG': '22', 'PPG': '1', 'SHG': '0', 'G': '2', 'A': '8', 'P': '10'}\n",
      "{'# Player': '35 M. Tkachuk', 'Team': 'CAL', 'POS': 'LW', 'GP': '12', '+/-': '-6', 'SOG': '35', 'PPG': '1', 'SHG': '0', 'G': '4', 'A': '6', 'P': '10'}\n",
      "{'# Player': '36 V. Trocheck', 'Team': 'CAR', 'POS': 'C', 'GP': '14', '+/-': '7', 'SOG': '31', 'PPG': '1', 'SHG': '1', 'G': '6', 'A': '4', 'P': '10'}\n",
      "{'# Player': '37 A. Lafreniere', 'Team': 'NYR', 'POS': 'LW', 'GP': '20', '+/-': '-3', 'SOG': '30', 'PPG': '0', 'SHG': '0', 'G': '2', 'A': '7', 'P': '9'}\n",
      "{'# Player': '38 A. Matthews', 'Team': 'TOR', 'POS': 'C', 'GP': '7', '+/-': '1', 'SOG': '29', 'PPG': '1', 'SHG': '0', 'G': '4', 'A': '5', 'P': '9'}\n",
      "{'# Player': '39 J. Kyrou', 'Team': 'STL', 'POS': 'C', 'GP': '12', '+/-': '-4', 'SOG': '32', 'PPG': '2', 'SHG': '0', 'G': '7', 'A': '2', 'P': '9'}\n",
      "{'# Player': '40 E. Lindholm', 'Team': 'CAL', 'POS': 'C', 'GP': '12', '+/-': '-7', 'SOG': '34', 'PPG': '2', 'SHG': '0', 'G': '5', 'A': '4', 'P': '9'}\n",
      "{'# Player': '41 E. Bouchard', 'Team': 'EDM', 'POS': 'D', 'GP': '16', '+/-': '-4', 'SOG': '39', 'PPG': '1', 'SHG': '0', 'G': '3', 'A': '6', 'P': '9'}\n",
      "{'# Player': '42 C. Perry', 'Team': 'TB', 'POS': 'RW', 'GP': '21', '+/-': '-2', 'SOG': '40', 'PPG': '4', 'SHG': '0', 'G': '6', 'A': '3', 'P': '9'}\n",
      "{'# Player': '43 R. Colton', 'Team': 'TB', 'POS': 'C', 'GP': '21', '+/-': '-2', 'SOG': '35', 'PPG': '2', 'SHG': '0', 'G': '5', 'A': '4', 'P': '9'}\n",
      "{'# Player': '44 V. Tarasenko', 'Team': 'STL', 'POS': 'RW', 'GP': '12', '+/-': '-2', 'SOG': '32', 'PPG': '1', 'SHG': '0', 'G': '6', 'A': '3', 'P': '9'}\n",
      "{'# Player': '45 F. Chytil', 'Team': 'NYR', 'POS': 'C', 'GP': '20', '+/-': '-2', 'SOG': '45', 'PPG': '1', 'SHG': '0', 'G': '7', 'A': '2', 'P': '9'}\n",
      "{'# Player': '46 R. Strome', 'Team': 'NYR', 'POS': 'C', 'GP': '19', '+/-': '0', 'SOG': '49', 'PPG': '1', 'SHG': '0', 'G': '2', 'A': '7', 'P': '9'}\n",
      "{'# Player': '47 N. Paul', 'Team': 'TB', 'POS': 'LW', 'GP': '21', '+/-': '3', 'SOG': '43', 'PPG': '0', 'SHG': '0', 'G': '5', 'A': '4', 'P': '9'}\n",
      "{'# Player': '48 M. Sergachev', 'Team': 'TB', 'POS': 'D', 'GP': '21', '+/-': '6', 'SOG': '26', 'PPG': '0', 'SHG': '0', 'G': '2', 'A': '6', 'P': '8'}\n",
      "{'# Player': '49 J. Faulk', 'Team': 'STL', 'POS': 'D', 'GP': '12', '+/-': '-2', 'SOG': '29', 'PPG': '0', 'SHG': '0', 'G': '1', 'A': '7', 'P': '8'}\n",
      "{'# Player': '50 A. Burakovsky', 'Team': 'COL', 'POS': 'LW', 'GP': '12', '+/-': '3', 'SOG': '13', 'PPG': '0', 'SHG': '0', 'G': '3', 'A': '5', 'P': '8'}\n"
     ]
    }
   ],
   "source": [
    "# list consisting of multiple table rows as key[headers], value[data] dictionaries\n",
    "get_nhl_stats()\n",
    "\n",
    "for x in get_nhl_stats():\n",
    "    print(x)"
   ]
  },
  {
   "cell_type": "code",
   "execution_count": 307,
   "metadata": {},
   "outputs": [],
   "source": [
    "## ASSIGNING VARIABLE\n",
    "data = get_nhl_stats()"
   ]
  },
  {
   "cell_type": "code",
   "execution_count": 308,
   "metadata": {},
   "outputs": [],
   "source": [
    "def top_avs_player_stats_regex():\n",
    "    player_points_tuples_list = []\n",
    "\n",
    "    for player_row in data:\n",
    "        if player_row['Team'] == 'COL' and player_row != None:\n",
    "            player_name_orig = str(player_row['# Player'])\n",
    "            player_name_txt_only = (re.findall(r'([A-Z].+)', player_name_orig))[0]\n",
    "            \n",
    "            # getting & sorting player points using tuples\n",
    "            points_scored = int(player_row['P'])\n",
    "            \n",
    "            player_points_tuples_list.append((points_scored, player_name_txt_only)) # reversed tuple (value, key) pair for sorting\n",
    "            player_points_tuples_list = sorted(player_points_tuples_list, reverse=True) # points sorted in descending order\n",
    "    for v, k in player_points_tuples_list[:3]:\n",
    "        print(k, \"---\", v, \"goals scored this season\")\n"
   ]
  },
  {
   "cell_type": "markdown",
   "metadata": {},
   "source": [
    "## Top 3 Scoring Leaders for the 2021-2022 Colorado Avalanche:"
   ]
  },
  {
   "cell_type": "code",
   "execution_count": 309,
   "metadata": {},
   "outputs": [
    {
     "name": "stdout",
     "output_type": "stream",
     "text": [
      "C. Makar --- 27 goals scored this season\n",
      "M. Rantanen --- 25 goals scored this season\n",
      "N. MacKinnon --- 21 goals scored this season\n"
     ]
    }
   ],
   "source": [
    "top_avs_player_stats_regex()"
   ]
  },
  {
   "cell_type": "code",
   "execution_count": 310,
   "metadata": {},
   "outputs": [
    {
     "name": "stdout",
     "output_type": "stream",
     "text": [
      "['C. Makar']\n",
      "C. Makar\n"
     ]
    }
   ],
   "source": [
    "# REGEX TEST EXAMPLE: Separating/removing number before player name\n",
    "\n",
    "temp = \"3 C. Makar\"\n",
    "\n",
    "temp_str = (re.findall(r'([A-Z].+)', temp))\n",
    "\n",
    "print(temp_str)\n",
    "\n",
    "print(temp_str[0])"
   ]
  },
  {
   "cell_type": "markdown",
   "metadata": {},
   "source": [
    "[Helpful Documentation](https://www.pluralsight.com/guides/extracting-data-html-beautifulsoup)"
   ]
  }
 ],
 "metadata": {
  "kernelspec": {
   "display_name": "Python 3.9.10 ('base')",
   "language": "python",
   "name": "python3"
  },
  "language_info": {
   "codemirror_mode": {
    "name": "ipython",
    "version": 3
   },
   "file_extension": ".py",
   "mimetype": "text/x-python",
   "name": "python",
   "nbconvert_exporter": "python",
   "pygments_lexer": "ipython3",
   "version": "3.9.10"
  },
  "orig_nbformat": 4,
  "vscode": {
   "interpreter": {
    "hash": "3b806cc711b465e66e8252dff191d8681f8b41038e9cbc25fa942edafd26a2d7"
   }
  }
 },
 "nbformat": 4,
 "nbformat_minor": 2
}
