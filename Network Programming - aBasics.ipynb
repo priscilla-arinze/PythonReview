{
 "cells": [
  {
   "cell_type": "markdown",
   "metadata": {},
   "source": [
    "# Network Programming"
   ]
  },
  {
   "cell_type": "markdown",
   "metadata": {},
   "source": [
    "### Text Processing (Characters & Strings)"
   ]
  },
  {
   "cell_type": "markdown",
   "metadata": {},
   "source": [
    "ASCII: `ord()` to find ASCII number associated to a text character(doesn't take numbers, only takes one argument)"
   ]
  },
  {
   "cell_type": "code",
   "execution_count": null,
   "metadata": {},
   "outputs": [
    {
     "data": {
      "text/plain": [
       "72"
      ]
     },
     "metadata": {},
     "output_type": "display_data"
    }
   ],
   "source": [
    "ord('H')"
   ]
  },
  {
   "cell_type": "code",
   "execution_count": null,
   "metadata": {},
   "outputs": [
    {
     "data": {
      "text/plain": [
       "10"
      ]
     },
     "metadata": {},
     "output_type": "display_data"
    }
   ],
   "source": [
    "ord(\"\\n\")"
   ]
  },
  {
   "cell_type": "code",
   "execution_count": null,
   "metadata": {},
   "outputs": [
    {
     "data": {
      "text/plain": [
       "110"
      ]
     },
     "metadata": {},
     "output_type": "display_data"
    }
   ],
   "source": [
    "ord('n')"
   ]
  },
  {
   "cell_type": "markdown",
   "metadata": {},
   "source": [
    "### UTF-8 is now recommended practice\n",
    "\n",
    "ALL unicode strings (strings preceded by the letter 'u' for unicode) are considered type 'str' in Python 3\n",
    "\n",
    "Python 2: unicode strings were considered type 'unicode' instead of type 'str'\n",
    "\n",
    "<br>\n",
    "\n",
    "__NOTE: Where connecting to a network resource/protocol or database, data must be encoded & decoded for UTF-8 bytes__"
   ]
  },
  {
   "cell_type": "code",
   "execution_count": null,
   "metadata": {},
   "outputs": [
    {
     "name": "stdout",
     "output_type": "stream",
     "text": [
      "こんにちは世界\n",
      "<class 'str'>\n"
     ]
    }
   ],
   "source": [
    "x = u'こんにちは世界'\n",
    "print(x)\n",
    "print(type(x))"
   ]
  },
  {
   "cell_type": "markdown",
   "metadata": {},
   "source": [
    "### TCP Sockets Library\n",
    "\n",
    "Connect to a host address via a specified port\n",
    "\n",
    "__Socket__: Endpoints of a two-way communication feed between two programs on a network (e.g. browser [\"user agent\"] & web server are both sockets)\n",
    "\n",
    "`socket.AF_INET` -- IPv4 Internet protocols <br>\n",
    "`socket.SOCK_STREAM` -- creates a TCP socket <br>\n",
    "* *Note: TCP relies on multiple handshakes and checksums to ensure all data packets are received in approriate order (reliable)* <br>\n",
    "\n",
    "`socket.SOCK_DGRAM` -- creates a UDP socket <br>\n",
    "* *Note: UDP is a connectionless protocol that doesn't rely on multiple handshakes unlike TCP. As a result, some of the data packets might be missing and/or received out of order (not reliable, but great for streaming videos)* <br>\n",
    "\n",
    "`socket.recv([number of bytes])` -- number of bytes to receive at a time (buffer size)"
   ]
  },
  {
   "cell_type": "code",
   "execution_count": 1,
   "metadata": {},
   "outputs": [],
   "source": [
    "import socket"
   ]
  },
  {
   "cell_type": "markdown",
   "metadata": {},
   "source": [
    "### Get IP Address of Host Address"
   ]
  },
  {
   "cell_type": "code",
   "execution_count": 2,
   "metadata": {},
   "outputs": [
    {
     "name": "stdout",
     "output_type": "stream",
     "text": [
      "23.227.38.32\n"
     ]
    }
   ],
   "source": [
    "# don't include \"http://\" part of url, host name only\n",
    "ip = socket.gethostbyname('birdsarentreal.com')\n",
    "\n",
    "print(ip)"
   ]
  }
 ],
 "metadata": {
  "kernelspec": {
   "display_name": "Python 3.9.10 ('base')",
   "language": "python",
   "name": "python3"
  },
  "language_info": {
   "codemirror_mode": {
    "name": "ipython",
    "version": 3
   },
   "file_extension": ".py",
   "mimetype": "text/x-python",
   "name": "python",
   "nbconvert_exporter": "python",
   "pygments_lexer": "ipython3",
   "version": "3.9.10"
  },
  "orig_nbformat": 4,
  "vscode": {
   "interpreter": {
    "hash": "3b806cc711b465e66e8252dff191d8681f8b41038e9cbc25fa942edafd26a2d7"
   }
  }
 },
 "nbformat": 4,
 "nbformat_minor": 2
}
