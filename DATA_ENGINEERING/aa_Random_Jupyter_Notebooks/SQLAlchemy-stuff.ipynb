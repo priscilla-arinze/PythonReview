{
 "cells": [
  {
   "cell_type": "code",
   "execution_count": 6,
   "metadata": {},
   "outputs": [],
   "source": [
    "from datetime import datetime\n",
    "\n",
    "import sqlalchemy\n",
    "from sqlalchemy import create_engine, select, func, update, text, Column, Integer, Numeric, String, DateTime, ForeignKey, Boolean\n",
    "from sqlalchemy.orm import sessionmaker, declarative_base, relationship, backref"
   ]
  },
  {
   "cell_type": "code",
   "execution_count": 7,
   "metadata": {},
   "outputs": [
    {
     "name": "stdout",
     "output_type": "stream",
     "text": [
      "1\n"
     ]
    }
   ],
   "source": [
    "engine = create_engine('sqlite:///:memory:')\n",
    "\n",
    "Base = declarative_base()\n",
    "\n",
    "\n",
    "class Cookie(Base):\n",
    "    __tablename__ = 'cookies'\n",
    "\n",
    "    cookie_id = Column(Integer, primary_key=True)\n",
    "    cookie_name = Column(String(50), index=True)\n",
    "    cookie_recipe_url = Column(String(255))\n",
    "    cookie_sku = Column(String(55))\n",
    "    quantity = Column(Integer())\n",
    "    unit_cost = Column(Numeric(12, 2))\n",
    "    \n",
    "    def __repr__(self):\n",
    "        return \"Cookie(cookie_name='{self.cookie_name}', \" \\\n",
    "                       \"cookie_recipe_url='{self.cookie_recipe_url}', \" \\\n",
    "                       \"cookie_sku='{self.cookie_sku}', \" \\\n",
    "                       \"quantity={self.quantity}, \" \\\n",
    "                       \"unit_cost={self.unit_cost})\".format(self=self)\n",
    "    \n",
    "\n",
    "class OrderType(Base):\n",
    "    __tablename__ = 'ordertype'\n",
    "    ordertype_id = Column(Integer(), primary_key=True)\n",
    "    item_sku = Column(String(55), ForeignKey('cookies.cookie_sku'))\n",
    "    item_type = Column(String(55))\n",
    "    \n",
    "    def __repr__(self):\n",
    "        return \"Order(item_sku={self.item_sku}, \" \\\n",
    "                      \"item_type={self.item_type}\".format(self=self)\n",
    "\n",
    "    \n",
    "Base.metadata.create_all(engine)\n",
    "\n",
    "\n",
    "\n",
    "new_session = sessionmaker()\n",
    "session = new_session(bind=engine.connect(), join_transaction_mode=\"create_savepoint\")\n",
    "\n",
    "\n",
    "\n",
    "dcc = Cookie(cookie_name='dark chocolate chip',\n",
    "            cookie_recipe_url='http://some.aweso.me/cookie/recipe_dark.html',\n",
    "            cookie_sku='CC02',\n",
    "            quantity=1,\n",
    "            unit_cost=0.75)\n",
    "\n",
    "mol = Cookie(cookie_name='molasses',\n",
    "            cookie_recipe_url='http://some.aweso.me/cookie/recipe_molasses.html',\n",
    "            cookie_sku='MOL01',\n",
    "            quantity=1,\n",
    "            unit_cost=0.80)\n",
    "\n",
    "session.add(dcc)\n",
    "session.add(mol)\n",
    "\n",
    "\n",
    "o1 = OrderType(item_sku='CC02', item_type='Cookie - Dessert')\n",
    "o2 = OrderType(item_sku='MOL01', item_type='Cookie - Desser')\n",
    "session.add(o1)\n",
    "session.add(o2)\n",
    "session.flush()\n",
    "\n",
    "print(\n",
    "    session.scalars(\n",
    "            select(func.count())\n",
    "            .select_from(Cookie)\n",
    "            .where(Cookie.cookie_sku=='MOL01')\n",
    "        ).one()\n",
    ")\n",
    "\n",
    "# with session.begin() as sess:\n",
    "\n",
    "#     dcc = Cookie(cookie_name='dark chocolate chip',\n",
    "#                 cookie_recipe_url='http://some.aweso.me/cookie/recipe_dark.html',\n",
    "#                 cookie_sku='CC02',\n",
    "#                 quantity=1,\n",
    "#                 unit_cost=0.75)\n",
    "\n",
    "#     mol = Cookie(cookie_name='molasses',\n",
    "#                 cookie_recipe_url='http://some.aweso.me/cookie/recipe_molasses.html',\n",
    "#                 cookie_sku='MOL01',\n",
    "#                 quantity=1,\n",
    "#                 unit_cost=0.80)\n",
    "#     sess.add(dcc)\n",
    "#     sess.add(mol)\n",
    "#     sess.flush()\n",
    "\n",
    "#     print(\n",
    "#         sess.scalars(\n",
    "#                 select(func.count())\n",
    "#                 .select_from(Cookie)\n",
    "#                 .where(Cookie.cookie_sku=='MOL01')\n",
    "#             ).one()\n",
    "#     )\n",
    "\n"
   ]
  },
  {
   "cell_type": "code",
   "execution_count": 8,
   "metadata": {},
   "outputs": [
    {
     "name": "stdout",
     "output_type": "stream",
     "text": [
      "2\n"
     ]
    }
   ],
   "source": [
    "print(\n",
    "    session.scalars(\n",
    "        select(func.count())\n",
    "        .select_from(Cookie)\n",
    "    ).one()\n",
    ")"
   ]
  },
  {
   "cell_type": "code",
   "execution_count": 5,
   "metadata": {},
   "outputs": [
    {
     "name": "stdout",
     "output_type": "stream",
     "text": [
      "SELECT cookies.cookie_id, cookies.cookie_name \n",
      "FROM cookies Load(Mapper[Cookie(cookies)])\n"
     ]
    }
   ],
   "source": [
    "from sqlalchemy.orm import load_only, joinedload\n",
    "\n",
    "print(\n",
    "    select(Cookie).options(\n",
    "        load_only(Cookie.cookie_id, Cookie.cookie_name)),\n",
    "        joinedload(Cookie.cookie_sku)\n",
    ")"
   ]
  },
  {
   "cell_type": "code",
   "execution_count": 10,
   "metadata": {},
   "outputs": [
    {
     "ename": "TypeError",
     "evalue": "__init__() got multiple values for argument 'schema'",
     "output_type": "error",
     "traceback": [
      "\u001b[0;31m---------------------------------------------------------------------------\u001b[0m",
      "\u001b[0;31mTypeError\u001b[0m                                 Traceback (most recent call last)",
      "\u001b[0;32m/tmp/ipykernel_32519/3601136709.py\u001b[0m in \u001b[0;36m<module>\u001b[0;34m\u001b[0m\n\u001b[1;32m      2\u001b[0m \u001b[0;32mfrom\u001b[0m \u001b[0mpandas\u001b[0m \u001b[0;32mimport\u001b[0m \u001b[0mread_sql\u001b[0m\u001b[0;34m\u001b[0m\u001b[0;34m\u001b[0m\u001b[0m\n\u001b[1;32m      3\u001b[0m \u001b[0;34m\u001b[0m\u001b[0m\n\u001b[0;32m----> 4\u001b[0;31m \u001b[0mread_sql\u001b[0m\u001b[0;34m(\u001b[0m\u001b[0msession\u001b[0m\u001b[0;34m.\u001b[0m\u001b[0mexecute\u001b[0m\u001b[0;34m(\u001b[0m\u001b[0mtext\u001b[0m\u001b[0;34m(\u001b[0m\u001b[0;34m\"SELECT * FROM cookies\"\u001b[0m\u001b[0;34m)\u001b[0m\u001b[0;34m)\u001b[0m\u001b[0;34m,\u001b[0m \u001b[0mengine\u001b[0m\u001b[0;34m)\u001b[0m\u001b[0;34m\u001b[0m\u001b[0;34m\u001b[0m\u001b[0m\n\u001b[0m",
      "\u001b[0;32m~/miniconda3/envs/silverenv-dev2/lib/python3.7/site-packages/pandas/io/sql.py\u001b[0m in \u001b[0;36mread_sql\u001b[0;34m(sql, con, index_col, coerce_float, params, parse_dates, columns, chunksize)\u001b[0m\n\u001b[1;32m    597\u001b[0m     \u001b[0;36m1\u001b[0m           \u001b[0;36m1\u001b[0m  \u001b[0;36m2010\u001b[0m\u001b[0;34m-\u001b[0m\u001b[0;36m11\u001b[0m\u001b[0;34m-\u001b[0m\u001b[0;36m12\u001b[0m\u001b[0;34m\u001b[0m\u001b[0;34m\u001b[0m\u001b[0m\n\u001b[1;32m    598\u001b[0m     \"\"\"\n\u001b[0;32m--> 599\u001b[0;31m     \u001b[0mpandas_sql\u001b[0m \u001b[0;34m=\u001b[0m \u001b[0mpandasSQL_builder\u001b[0m\u001b[0;34m(\u001b[0m\u001b[0mcon\u001b[0m\u001b[0;34m)\u001b[0m\u001b[0;34m\u001b[0m\u001b[0;34m\u001b[0m\u001b[0m\n\u001b[0m\u001b[1;32m    600\u001b[0m \u001b[0;34m\u001b[0m\u001b[0m\n\u001b[1;32m    601\u001b[0m     \u001b[0;32mif\u001b[0m \u001b[0misinstance\u001b[0m\u001b[0;34m(\u001b[0m\u001b[0mpandas_sql\u001b[0m\u001b[0;34m,\u001b[0m \u001b[0mSQLiteDatabase\u001b[0m\u001b[0;34m)\u001b[0m\u001b[0;34m:\u001b[0m\u001b[0;34m\u001b[0m\u001b[0;34m\u001b[0m\u001b[0m\n",
      "\u001b[0;32m~/miniconda3/envs/silverenv-dev2/lib/python3.7/site-packages/pandas/io/sql.py\u001b[0m in \u001b[0;36mpandasSQL_builder\u001b[0;34m(con, schema, meta, is_cursor)\u001b[0m\n\u001b[1;32m    786\u001b[0m     \u001b[0mcon\u001b[0m \u001b[0;34m=\u001b[0m \u001b[0m_engine_builder\u001b[0m\u001b[0;34m(\u001b[0m\u001b[0mcon\u001b[0m\u001b[0;34m)\u001b[0m\u001b[0;34m\u001b[0m\u001b[0;34m\u001b[0m\u001b[0m\n\u001b[1;32m    787\u001b[0m     \u001b[0;32mif\u001b[0m \u001b[0m_is_sqlalchemy_connectable\u001b[0m\u001b[0;34m(\u001b[0m\u001b[0mcon\u001b[0m\u001b[0;34m)\u001b[0m\u001b[0;34m:\u001b[0m\u001b[0;34m\u001b[0m\u001b[0;34m\u001b[0m\u001b[0m\n\u001b[0;32m--> 788\u001b[0;31m         \u001b[0;32mreturn\u001b[0m \u001b[0mSQLDatabase\u001b[0m\u001b[0;34m(\u001b[0m\u001b[0mcon\u001b[0m\u001b[0;34m,\u001b[0m \u001b[0mschema\u001b[0m\u001b[0;34m=\u001b[0m\u001b[0mschema\u001b[0m\u001b[0;34m,\u001b[0m \u001b[0mmeta\u001b[0m\u001b[0;34m=\u001b[0m\u001b[0mmeta\u001b[0m\u001b[0;34m)\u001b[0m\u001b[0;34m\u001b[0m\u001b[0;34m\u001b[0m\u001b[0m\n\u001b[0m\u001b[1;32m    789\u001b[0m     \u001b[0;32melif\u001b[0m \u001b[0misinstance\u001b[0m\u001b[0;34m(\u001b[0m\u001b[0mcon\u001b[0m\u001b[0;34m,\u001b[0m \u001b[0mstr\u001b[0m\u001b[0;34m)\u001b[0m\u001b[0;34m:\u001b[0m\u001b[0;34m\u001b[0m\u001b[0;34m\u001b[0m\u001b[0m\n\u001b[1;32m    790\u001b[0m         \u001b[0;32mraise\u001b[0m \u001b[0mImportError\u001b[0m\u001b[0;34m(\u001b[0m\u001b[0;34m\"Using URI string without sqlalchemy installed.\"\u001b[0m\u001b[0;34m)\u001b[0m\u001b[0;34m\u001b[0m\u001b[0;34m\u001b[0m\u001b[0m\n",
      "\u001b[0;32m~/miniconda3/envs/silverenv-dev2/lib/python3.7/site-packages/pandas/io/sql.py\u001b[0m in \u001b[0;36m__init__\u001b[0;34m(self, engine, schema, meta)\u001b[0m\n\u001b[1;32m   1408\u001b[0m             \u001b[0;32mfrom\u001b[0m \u001b[0msqlalchemy\u001b[0m\u001b[0;34m.\u001b[0m\u001b[0mschema\u001b[0m \u001b[0;32mimport\u001b[0m \u001b[0mMetaData\u001b[0m\u001b[0;34m\u001b[0m\u001b[0;34m\u001b[0m\u001b[0m\n\u001b[1;32m   1409\u001b[0m \u001b[0;34m\u001b[0m\u001b[0m\n\u001b[0;32m-> 1410\u001b[0;31m             \u001b[0mmeta\u001b[0m \u001b[0;34m=\u001b[0m \u001b[0mMetaData\u001b[0m\u001b[0;34m(\u001b[0m\u001b[0mself\u001b[0m\u001b[0;34m.\u001b[0m\u001b[0mconnectable\u001b[0m\u001b[0;34m,\u001b[0m \u001b[0mschema\u001b[0m\u001b[0;34m=\u001b[0m\u001b[0mschema\u001b[0m\u001b[0;34m)\u001b[0m\u001b[0;34m\u001b[0m\u001b[0;34m\u001b[0m\u001b[0m\n\u001b[0m\u001b[1;32m   1411\u001b[0m \u001b[0;34m\u001b[0m\u001b[0m\n\u001b[1;32m   1412\u001b[0m         \u001b[0mself\u001b[0m\u001b[0;34m.\u001b[0m\u001b[0mmeta\u001b[0m \u001b[0;34m=\u001b[0m \u001b[0mmeta\u001b[0m\u001b[0;34m\u001b[0m\u001b[0;34m\u001b[0m\u001b[0m\n",
      "\u001b[0;31mTypeError\u001b[0m: __init__() got multiple values for argument 'schema'"
     ]
    }
   ],
   "source": [
    "import pandas as pd\n",
    "from pandas import read_sql\n",
    "\n",
    "read_sql(session.execute(text(\"SELECT * FROM cookies\")), engine)"
   ]
  },
  {
   "cell_type": "code",
   "execution_count": 3,
   "metadata": {},
   "outputs": [
    {
     "name": "stdout",
     "output_type": "stream",
     "text": [
      "FacadeDict({'cookies': Table('cookies', MetaData(), Column('cookie_id', Integer(), table=<cookies>, primary_key=True, nullable=False), Column('cookie_name', String(length=50), table=<cookies>), Column('cookie_recipe_url', String(length=255), table=<cookies>), Column('cookie_sku', String(length=55), table=<cookies>), Column('quantity', Integer(), table=<cookies>), Column('unit_cost', Numeric(precision=12, scale=2), table=<cookies>), schema=None), 'ordertype': Table('ordertype', MetaData(), Column('ordertype_id', Integer(), table=<ordertype>, primary_key=True, nullable=False), Column('item_sku', String(length=55), ForeignKey('cookies.cookie_sku'), table=<ordertype>), Column('item_type', String(length=55), table=<ordertype>), schema=None)})\n"
     ]
    }
   ],
   "source": [
    "print(Base.metadata.tables)"
   ]
  },
  {
   "cell_type": "code",
   "execution_count": 80,
   "metadata": {},
   "outputs": [
    {
     "data": {
      "text/plain": [
       "<sqlalchemy.engine.cursor.CursorResult at 0x7f97664ec280>"
      ]
     },
     "execution_count": 80,
     "metadata": {},
     "output_type": "execute_result"
    }
   ],
   "source": [
    "engine.connect().execute(\n",
    "    text(\"UPDATE cookies SET cookie_sku='ZZZ123' WHERE cookie_sku='CC02'\")\n",
    ")"
   ]
  },
  {
   "cell_type": "code",
   "execution_count": 9,
   "metadata": {},
   "outputs": [
    {
     "name": "stdout",
     "output_type": "stream",
     "text": [
      "<sqlalchemy.engine.result.ChunkedIteratorResult object at 0x7f0ee3ecce48>\n"
     ]
    }
   ],
   "source": [
    "q0 = (\n",
    "    select(Cookie.cookie_id, Cookie.cookie_name)\n",
    ")\n",
    "q = session.execute(q0.filter(Cookie.cookie_name==\"dark chocolate chip\"))\n",
    "\n",
    "print(q)"
   ]
  },
  {
   "cell_type": "code",
   "execution_count": 28,
   "metadata": {},
   "outputs": [
    {
     "name": "stdout",
     "output_type": "stream",
     "text": [
      "[(1, 'dark chocolate chip'), (2, 'molasses')]\n"
     ]
    }
   ],
   "source": [
    "q00 = session.execute(q0).merge().fetchall()\n",
    "print(q00)"
   ]
  },
  {
   "cell_type": "code",
   "execution_count": 29,
   "metadata": {},
   "outputs": [
    {
     "name": "stdout",
     "output_type": "stream",
     "text": [
      "{1: 'dark chocolate chip', 2: 'molasses'}\n"
     ]
    }
   ],
   "source": [
    "d = dict(q00)\n",
    "print(d)"
   ]
  },
  {
   "cell_type": "code",
   "execution_count": 31,
   "metadata": {},
   "outputs": [
    {
     "name": "stdout",
     "output_type": "stream",
     "text": [
      "{('dark chocolate chip', 'True'): 1, ('molasses', 'True'): 1}\n"
     ]
    }
   ],
   "source": [
    "q1 = (\n",
    "    select(Cookie.cookie_id, Cookie.cookie_name, Cookie.quantity)\n",
    ")\n",
    "\n",
    "q11 = session.execute(q1).merge().fetchall()\n",
    "\n",
    "d1 = dict(map(\n",
    "    lambda _t: ((_t[1], 'True'), _t[2]),\n",
    "    q11\n",
    "))\n",
    "\n",
    "print(d1)"
   ]
  },
  {
   "cell_type": "code",
   "execution_count": 43,
   "metadata": {},
   "outputs": [
    {
     "data": {
      "text/html": [
       "<div>\n",
       "<style scoped>\n",
       "    .dataframe tbody tr th:only-of-type {\n",
       "        vertical-align: middle;\n",
       "    }\n",
       "\n",
       "    .dataframe tbody tr th {\n",
       "        vertical-align: top;\n",
       "    }\n",
       "\n",
       "    .dataframe thead th {\n",
       "        text-align: right;\n",
       "    }\n",
       "</style>\n",
       "<table border=\"1\" class=\"dataframe\">\n",
       "  <thead>\n",
       "    <tr style=\"text-align: right;\">\n",
       "      <th></th>\n",
       "      <th>cookie_id</th>\n",
       "      <th>cookie_name</th>\n",
       "      <th>cookie_quantity</th>\n",
       "    </tr>\n",
       "  </thead>\n",
       "  <tbody>\n",
       "    <tr>\n",
       "      <th>0</th>\n",
       "      <td>1</td>\n",
       "      <td>dark chocolate chip</td>\n",
       "      <td>1</td>\n",
       "    </tr>\n",
       "    <tr>\n",
       "      <th>1</th>\n",
       "      <td>2</td>\n",
       "      <td>molasses</td>\n",
       "      <td>1</td>\n",
       "    </tr>\n",
       "  </tbody>\n",
       "</table>\n",
       "</div>"
      ],
      "text/plain": [
       "   cookie_id          cookie_name  cookie_quantity\n",
       "0          1  dark chocolate chip                1\n",
       "1          2             molasses                1"
      ]
     },
     "execution_count": 43,
     "metadata": {},
     "output_type": "execute_result"
    }
   ],
   "source": [
    "import pandas as pd\n",
    "\n",
    "q4 = (select(Cookie.cookie_id, Cookie.cookie_name, Cookie.quantity))\n",
    "q44 = session.execute(q4)\n",
    "\n",
    "df = pd.DataFrame(q44, columns=[\"cookie_id\", \"cookie_name\", \"cookie_quantity\"])\n",
    "\n",
    "df"
   ]
  },
  {
   "cell_type": "code",
   "execution_count": 49,
   "metadata": {},
   "outputs": [
    {
     "name": "stdout",
     "output_type": "stream",
     "text": [
      "(1, 'dark chocolate chip', 1)\n"
     ]
    }
   ],
   "source": [
    "print(session.execute(q4).fetchone())"
   ]
  },
  {
   "cell_type": "code",
   "execution_count": 62,
   "metadata": {},
   "outputs": [
    {
     "name": "stdout",
     "output_type": "stream",
     "text": [
      "SELECT cookies.cookie_id \n",
      "FROM cookies\n"
     ]
    }
   ],
   "source": [
    "from sqlalchemy import MetaData\n",
    "m = MetaData()\n",
    "m.reflect(engine)\n",
    "\n",
    "cook = m.tables[Cookie.__tablename__]\n",
    "\n",
    "#print(session.execute(select(cook)).fetchall())\n",
    "print(select(cook.c.cookie_id))"
   ]
  },
  {
   "cell_type": "code",
   "execution_count": 32,
   "metadata": {},
   "outputs": [
    {
     "name": "stdout",
     "output_type": "stream",
     "text": [
      "{('dark chocolate chip', 'True'): 1, ('molasses', 'True'): 1}\n"
     ]
    }
   ],
   "source": [
    "q2 = (\n",
    "    text(\"SELECT cookie_id, cookie_name, quantity FROM cookies\")\n",
    ")\n",
    "\n",
    "q22 = session.execute(q2).merge().fetchall()\n",
    "\n",
    "d2 = dict(map(\n",
    "    lambda _t: ((_t[1], 'True'), _t[2]),\n",
    "    q22\n",
    "))\n",
    "\n",
    "print(d2)"
   ]
  },
  {
   "cell_type": "code",
   "execution_count": 37,
   "metadata": {},
   "outputs": [
    {
     "name": "stdout",
     "output_type": "stream",
     "text": [
      "[2]\n"
     ]
    }
   ],
   "source": [
    "print(session.scalars(func.sum(Cookie.quantity)).all())"
   ]
  },
  {
   "cell_type": "code",
   "execution_count": 36,
   "metadata": {},
   "outputs": [
    {
     "name": "stdout",
     "output_type": "stream",
     "text": [
      "2\n"
     ]
    }
   ],
   "source": [
    "q3 = text(\"SELECT COUNT(*) FROM cookies\")\n",
    "q33 = session.execute(q3).fetchone()[0]\n",
    "\n",
    "print(q33)"
   ]
  },
  {
   "cell_type": "code",
   "execution_count": 5,
   "metadata": {},
   "outputs": [
    {
     "name": "stdout",
     "output_type": "stream",
     "text": [
      "<class 'sqlalchemy.sql.selectable.Select'>\n",
      "<class 'sqlalchemy.sql.selectable.Select'>\n"
     ]
    }
   ],
   "source": [
    "print(type(q0))\n",
    "print(type(q0.filter(Cookie.cookie_name==\"dark chocolate chip\")))"
   ]
  },
  {
   "cell_type": "code",
   "execution_count": 6,
   "metadata": {},
   "outputs": [
    {
     "name": "stdout",
     "output_type": "stream",
     "text": [
      "SELECT ordertype.ordertype_id, ordertype.item_sku, ordertype.item_type \n",
      "FROM ordertype\n"
     ]
    }
   ],
   "source": [
    "print(select(OrderType))"
   ]
  },
  {
   "cell_type": "code",
   "execution_count": 7,
   "metadata": {},
   "outputs": [
    {
     "name": "stdout",
     "output_type": "stream",
     "text": [
      "SELECT cookies.cookie_id, cookies.cookie_name, cookies.cookie_recipe_url, cookies.cookie_sku, cookies.quantity, cookies.unit_cost, ordertype.ordertype_id, ordertype.item_sku, ordertype.item_type \n",
      "FROM cookies JOIN ordertype ON cookies.cookie_sku = ordertype.item_sku\n"
     ]
    }
   ],
   "source": [
    "q2 = (\n",
    "    select(Cookie, OrderType)\n",
    "    .join(OrderType, Cookie.cookie_sku == OrderType.item_sku)\n",
    ")\n",
    "\n",
    "print(q2)"
   ]
  },
  {
   "cell_type": "code",
   "execution_count": 8,
   "metadata": {},
   "outputs": [
    {
     "name": "stdout",
     "output_type": "stream",
     "text": [
      "anon_1.item_sku\n"
     ]
    }
   ],
   "source": [
    "subq = q2.subquery()\n",
    "\n",
    "print(subq.c.item_sku)"
   ]
  },
  {
   "cell_type": "code",
   "execution_count": 9,
   "metadata": {},
   "outputs": [
    {
     "name": "stdout",
     "output_type": "stream",
     "text": [
      "<sqlalchemy.engine.result.ChunkedIteratorResult object at 0x7f4a23ac9fc8>\n"
     ]
    }
   ],
   "source": [
    "q = session.execute(select(Cookie))\n",
    "\n",
    "print(q)"
   ]
  },
  {
   "cell_type": "code",
   "execution_count": 10,
   "metadata": {},
   "outputs": [
    {
     "data": {
      "text/plain": [
       "[Cookie(cookie_name='dark chocolate chip', cookie_recipe_url='http://some.aweso.me/cookie/recipe_dark.html', cookie_sku='CC02', quantity=1, unit_cost=0.75),\n",
       " Cookie(cookie_name='molasses', cookie_recipe_url='http://some.aweso.me/cookie/recipe_molasses.html', cookie_sku='MOL01', quantity=1, unit_cost=0.8)]"
      ]
     },
     "execution_count": 10,
     "metadata": {},
     "output_type": "execute_result"
    }
   ],
   "source": [
    "[x for x in session.scalars(select(Cookie)).all()]"
   ]
  },
  {
   "cell_type": "code",
   "execution_count": 11,
   "metadata": {},
   "outputs": [
    {
     "name": "stdout",
     "output_type": "stream",
     "text": [
      "(1, 'dark chocolate chip', 'http://some.aweso.me/cookie/recipe_dark.html', 'CC02', 1, 0.75)\n"
     ]
    }
   ],
   "source": [
    "result = engine.connect().execute(\n",
    "    text(\"SELECT * FROM cookies\")\n",
    ")\n",
    "\n",
    "print(result.first())"
   ]
  },
  {
   "cell_type": "code",
   "execution_count": 12,
   "metadata": {},
   "outputs": [
    {
     "data": {
      "text/plain": [
       "[(1, 'dark chocolate chip', 'http://some.aweso.me/cookie/recipe_dark.html', 'CC02', 1, 0.75),\n",
       " (2, 'molasses', 'http://some.aweso.me/cookie/recipe_molasses.html', 'MOL01', 1, 0.8)]"
      ]
     },
     "execution_count": 12,
     "metadata": {},
     "output_type": "execute_result"
    }
   ],
   "source": [
    "session.execute(text(\"SELECT * FROM cookies\")).fetchall()"
   ]
  },
  {
   "cell_type": "code",
   "execution_count": 13,
   "metadata": {},
   "outputs": [
    {
     "name": "stdout",
     "output_type": "stream",
     "text": [
      "<class 'list'>\n"
     ]
    }
   ],
   "source": [
    "print(type(session.execute(text(\"SELECT * FROM cookies\")).fetchall()))"
   ]
  },
  {
   "cell_type": "code",
   "execution_count": 14,
   "metadata": {},
   "outputs": [
    {
     "data": {
      "text/plain": [
       "[(1, 'dark chocolate chip', 'http://some.aweso.me/cookie/recipe_dark.html', 'CC02', 1, 0.75),\n",
       " (2, 'molasses', 'http://some.aweso.me/cookie/recipe_molasses.html', 'MOL01', 1, 0.8)]"
      ]
     },
     "execution_count": 14,
     "metadata": {},
     "output_type": "execute_result"
    }
   ],
   "source": [
    "engine.connect().execute(text(\"SELECT * FROM cookies\")).fetchall()"
   ]
  },
  {
   "cell_type": "code",
   "execution_count": 15,
   "metadata": {},
   "outputs": [
    {
     "data": {
      "text/plain": [
       "[(Cookie(cookie_name='dark chocolate chip', cookie_recipe_url='http://some.aweso.me/cookie/recipe_dark.html', cookie_sku='CC02', quantity=1, unit_cost=0.75),),\n",
       " (Cookie(cookie_name='molasses', cookie_recipe_url='http://some.aweso.me/cookie/recipe_molasses.html', cookie_sku='MOL01', quantity=1, unit_cost=0.8),)]"
      ]
     },
     "execution_count": 15,
     "metadata": {},
     "output_type": "execute_result"
    }
   ],
   "source": [
    "session.execute(select(Cookie)).fetchall()"
   ]
  },
  {
   "cell_type": "code",
   "execution_count": 19,
   "metadata": {},
   "outputs": [
    {
     "name": "stdout",
     "output_type": "stream",
     "text": [
      "[(Cookie(cookie_name='dark chocolate chip', cookie_recipe_url='http://some.aweso.me/cookie/recipe_dark.html', cookie_sku='CC02', quantity=1, unit_cost=0.75),), (Cookie(cookie_name='molasses', cookie_recipe_url='http://some.aweso.me/cookie/recipe_molasses.html', cookie_sku='MOL01', quantity=1, unit_cost=0.80),)]\n"
     ]
    }
   ],
   "source": [
    "sess3 = sessionmaker(engine)\n",
    "sess33 = sess3()\n",
    "\n",
    "result = sess33.execute(select(Cookie))\n",
    "\n",
    "print(result.fetchall())"
   ]
  },
  {
   "cell_type": "code",
   "execution_count": 35,
   "metadata": {},
   "outputs": [
    {
     "name": "stdout",
     "output_type": "stream",
     "text": [
      "1\n"
     ]
    }
   ],
   "source": [
    "#sess2 = session.begin()\n",
    "\n",
    "with session.begin() as sess2:\n",
    "        print(\n",
    "                sess2.scalars(\n",
    "                        select(func.count())\n",
    "                        .select_from(Cookie)\n",
    "                        .where(Cookie.cookie_sku=='MOL01')\n",
    "                ).one()\n",
    "        )"
   ]
  },
  {
   "cell_type": "code",
   "execution_count": 17,
   "metadata": {},
   "outputs": [
    {
     "name": "stdout",
     "output_type": "stream",
     "text": [
      "1\n"
     ]
    }
   ],
   "source": [
    "print(\n",
    "    session.scalars(\n",
    "            select(func.count())\n",
    "            .select_from(Cookie)\n",
    "            .where(Cookie.cookie_sku=='MOL01')\n",
    "    ).one()\n",
    ")"
   ]
  },
  {
   "cell_type": "code",
   "execution_count": 18,
   "metadata": {},
   "outputs": [
    {
     "name": "stdout",
     "output_type": "stream",
     "text": [
      "2.0.3\n"
     ]
    }
   ],
   "source": [
    "print(sqlalchemy.__version__)"
   ]
  },
  {
   "cell_type": "code",
   "execution_count": 31,
   "metadata": {},
   "outputs": [
    {
     "name": "stdout",
     "output_type": "stream",
     "text": [
      "Cookie(cookie_name='dark chocolate chip', cookie_recipe_url='http://some.aweso.me/cookie/recipe_dark.html', cookie_sku='None', quantity=1, unit_cost=0.75)\n",
      "Cookie(cookie_name='molasses', cookie_recipe_url='http://some.aweso.me/cookie/recipe_molasses.html', cookie_sku='None', quantity=1, unit_cost=0.80)\n",
      "0\n",
      "dark chocolate chip\n"
     ]
    }
   ],
   "source": [
    "with session.begin() as sess1:\n",
    "    sess1.execute(\n",
    "        update(Cookie)\n",
    "        .values({Cookie.cookie_sku: None})\n",
    "    )\n",
    "\n",
    "    banana = sess1.execute(select(Cookie)).scalars().all()\n",
    "    for x in banana:\n",
    "        print(x)\n",
    "    \n",
    "    \n",
    "    print(\n",
    "        sess1.scalars(\n",
    "                select(func.count())\n",
    "                .select_from(Cookie)\n",
    "                .where(Cookie.cookie_sku=='MOL01')\n",
    "            ).one()\n",
    "    )\n",
    "\n",
    "\n",
    "    print(\n",
    "        sess1.scalars(\n",
    "                select(Cookie)\n",
    "                .filter_by(cookie_name='dark chocolate chip')\n",
    "            ).first().cookie_name\n",
    "    )"
   ]
  },
  {
   "cell_type": "code",
   "execution_count": 19,
   "metadata": {},
   "outputs": [
    {
     "name": "stdout",
     "output_type": "stream",
     "text": [
      "1\n",
      "2\n"
     ]
    }
   ],
   "source": [
    "print(dcc.cookie_id)\n",
    "print(mol.cookie_id)"
   ]
  },
  {
   "cell_type": "code",
   "execution_count": 24,
   "metadata": {},
   "outputs": [
    {
     "name": "stdout",
     "output_type": "stream",
     "text": [
      "-1\n"
     ]
    }
   ],
   "source": [
    "current_cell_duplicate = \"NJUDEK\"\n",
    "current_cell_duplicate = -1 if isinstance(current_cell_duplicate, str) else float(current_cell_duplicate)\n",
    "print(current_cell_duplicate)"
   ]
  },
  {
   "cell_type": "code",
   "execution_count": 30,
   "metadata": {},
   "outputs": [
    {
     "ename": "TypeError",
     "evalue": "float() argument must be a string or a number, not 'NoneType'",
     "output_type": "error",
     "traceback": [
      "\u001b[0;31m---------------------------------------------------------------------------\u001b[0m",
      "\u001b[0;31mTypeError\u001b[0m                                 Traceback (most recent call last)",
      "\u001b[1;32m/Users/priscillaarinze/Silverthread/stuff.ipynb Cell 7\u001b[0m in \u001b[0;36m<cell line: 8>\u001b[0;34m()\u001b[0m\n\u001b[1;32m      <a href='vscode-notebook-cell:/Users/priscillaarinze/Silverthread/stuff.ipynb#X10sZmlsZQ%3D%3D?line=2'>3</a>\u001b[0m wb \u001b[39m=\u001b[39m load_workbook(\u001b[39m\"\u001b[39m\u001b[39mMOCK_DATA.xlsx\u001b[39m\u001b[39m\"\u001b[39m)\n\u001b[1;32m      <a href='vscode-notebook-cell:/Users/priscillaarinze/Silverthread/stuff.ipynb#X10sZmlsZQ%3D%3D?line=5'>6</a>\u001b[0m sheet \u001b[39m=\u001b[39m wb[\u001b[39m\"\u001b[39m\u001b[39mdata\u001b[39m\u001b[39m\"\u001b[39m]\n\u001b[0;32m----> <a href='vscode-notebook-cell:/Users/priscillaarinze/Silverthread/stuff.ipynb#X10sZmlsZQ%3D%3D?line=7'>8</a>\u001b[0m \u001b[39mprint\u001b[39m(\u001b[39mfloat\u001b[39;49m(sheet[\u001b[39m\"\u001b[39;49m\u001b[39mZ1\u001b[39;49m\u001b[39m\"\u001b[39;49m]\u001b[39m.\u001b[39;49mvalue))\n",
      "\u001b[0;31mTypeError\u001b[0m: float() argument must be a string or a number, not 'NoneType'"
     ]
    }
   ],
   "source": [
    "from openpyxl import load_workbook\n",
    "\n",
    "wb = load_workbook(\"MOCK_DATA.xlsx\")\n",
    "\n",
    "\n",
    "sheet = wb[\"data\"]\n",
    "\n",
    "print(float(sheet[\"Z1\"].value))"
   ]
  },
  {
   "cell_type": "code",
   "execution_count": 25,
   "metadata": {},
   "outputs": [
    {
     "name": "stdout",
     "output_type": "stream",
     "text": [
      "N/A\n"
     ]
    }
   ],
   "source": [
    "x = \"N/A\"\n",
    "\n",
    "y = x or 1\n",
    "\n",
    "print(y)"
   ]
  }
 ],
 "metadata": {
  "kernelspec": {
   "display_name": "silverenv-dev2",
   "language": "python",
   "name": "python3"
  },
  "language_info": {
   "codemirror_mode": {
    "name": "ipython",
    "version": 3
   },
   "file_extension": ".py",
   "mimetype": "text/x-python",
   "name": "python",
   "nbconvert_exporter": "python",
   "pygments_lexer": "ipython3",
   "version": "3.7.3"
  },
  "orig_nbformat": 4,
  "vscode": {
   "interpreter": {
    "hash": "1c5dd04e03d556ef2a6d31dcb8b066369c62852505c248edb1197ac85c57ffd7"
   }
  }
 },
 "nbformat": 4,
 "nbformat_minor": 2
}
