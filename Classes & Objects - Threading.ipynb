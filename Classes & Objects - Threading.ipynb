{
 "cells": [
  {
   "cell_type": "markdown",
   "metadata": {},
   "source": [
    "# Classes & Objects - Threading\n",
    "\n",
    "Usually computer programs are procedural and follow a linear step by step order when executing programs. Threading has the ability to run multiple sections of step-by-step code at the same time\n",
    "\n",
    "Use threading when absolutely necessary, otherwise may result in incorrect calculations and functions running before/after other functions when they are not supposed to\n",
    "\n",
    "<hr>\n",
    "\n",
    "__*EXAMPLE: For an instant messenger program, threading can allow you to have a section of code that sends outgoing messages and another section of code that receives incoming messages executing at the same time (instead of one after another)*__\n"
   ]
  },
  {
   "cell_type": "code",
   "execution_count": 4,
   "metadata": {},
   "outputs": [],
   "source": [
    "import threading"
   ]
  },
  {
   "cell_type": "code",
   "execution_count": 7,
   "metadata": {},
   "outputs": [],
   "source": [
    "class OffBrandFacebookMessenger(threading.Thread):\n",
    "    # required function for threading functionality\n",
    "    def run(self): \n",
    "        for _ in range(10): # \"_\" is allowed to be used in place of a iteration variable name\n",
    "            print(threading.currentThread().getName()) # can assign a name/phrase to each thread object"
   ]
  },
  {
   "cell_type": "code",
   "execution_count": 12,
   "metadata": {},
   "outputs": [
    {
     "name": "stdout",
     "output_type": "stream",
     "text": [
      "Send out messages\n",
      "Send out messages\n",
      "Send out messages\n",
      "Send out messages\n",
      "Send out messages\n",
      "Send out messages\n",
      "Send out messages\n",
      "Receive messages\n",
      "Send out messages\n",
      "Send out messages\n",
      "Send out messages\n",
      "Receive messages\n",
      "Receive messages\n",
      "Receive messages\n",
      "Receive messages\n",
      "Receive messages\n",
      "Receive messages\n",
      "Receive messages\n",
      "Receive messages\n",
      "Receive messages\n"
     ]
    }
   ],
   "source": [
    "sending = OffBrandFacebookMessenger(name='Send out messages')\n",
    "receiving = OffBrandFacebookMessenger(name='Receive messages')\n",
    "\n",
    "#start() will be looking for run() function within class object and begin thread based off of that function\n",
    "sending.start() \n",
    "receiving.start()"
   ]
  }
 ],
 "metadata": {
  "interpreter": {
   "hash": "3b806cc711b465e66e8252dff191d8681f8b41038e9cbc25fa942edafd26a2d7"
  },
  "kernelspec": {
   "display_name": "Python 3.9.10 ('base')",
   "language": "python",
   "name": "python3"
  },
  "language_info": {
   "codemirror_mode": {
    "name": "ipython",
    "version": 3
   },
   "file_extension": ".py",
   "mimetype": "text/x-python",
   "name": "python",
   "nbconvert_exporter": "python",
   "pygments_lexer": "ipython3",
   "version": "3.9.10"
  },
  "orig_nbformat": 4
 },
 "nbformat": 4,
 "nbformat_minor": 2
}
