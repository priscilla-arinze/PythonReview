{
 "cells": [
  {
   "cell_type": "markdown",
   "metadata": {},
   "source": [
    "### Imports"
   ]
  },
  {
   "cell_type": "code",
   "execution_count": 1,
   "metadata": {},
   "outputs": [],
   "source": [
    "import sqlite3\n",
    "import pandas as pd\n",
    "import os"
   ]
  },
  {
   "cell_type": "markdown",
   "metadata": {},
   "source": [
    "### Constants & Initializations"
   ]
  },
  {
   "cell_type": "code",
   "execution_count": 2,
   "metadata": {},
   "outputs": [],
   "source": [
    "DB_NAME = \"STAFF.db\"\n",
    "DB_TABLE_NAME = \"INSTRUCTOR\"\n",
    "FILE_PATH = f\"{os.getcwd()}\\\\INSTRUCTOR.csv\"\n",
    "\n",
    "attribute_list = [\"ID\", \"FirstName\", \"LastName\", \"City\", \"Country\"]\n",
    "df = pd.read_csv(FILE_PATH, names=attribute_list) # names --> column names"
   ]
  },
  {
   "cell_type": "markdown",
   "metadata": {},
   "source": [
    "### Establish SQLite Database Connection"
   ]
  },
  {
   "cell_type": "code",
   "execution_count": 3,
   "metadata": {},
   "outputs": [],
   "source": [
    "conn = sqlite3.connect(DB_NAME)"
   ]
  },
  {
   "cell_type": "markdown",
   "metadata": {},
   "source": [
    "### Load DataFrame to SQLite Table"
   ]
  },
  {
   "cell_type": "code",
   "execution_count": 4,
   "metadata": {},
   "outputs": [
    {
     "name": "stdout",
     "output_type": "stream",
     "text": [
      "Table 'INSTRUCTOR' loaded successfully\n"
     ]
    }
   ],
   "source": [
    "try:\n",
    "    df.to_sql(DB_TABLE_NAME, conn, if_exists=\"replace\", index=False)\n",
    "    print(f\"Table '{DB_TABLE_NAME}' loaded successfully\")\n",
    "except:\n",
    "    print(f\"Error creating/loading table '{DB_TABLE_NAME}'.\")"
   ]
  },
  {
   "cell_type": "markdown",
   "metadata": {},
   "source": [
    "### Querying Database"
   ]
  },
  {
   "cell_type": "code",
   "execution_count": 5,
   "metadata": {},
   "outputs": [],
   "source": [
    "def print_query(query, output):\n",
    "    print(f\"QUERY EXECUTED: {query}\")\n",
    "    print(f\"OUTPUT:\\n{output}\")"
   ]
  },
  {
   "cell_type": "code",
   "execution_count": 6,
   "metadata": {},
   "outputs": [
    {
     "name": "stdout",
     "output_type": "stream",
     "text": [
      "QUERY EXECUTED: SELECT * FROM INSTRUCTOR\n",
      "OUTPUT:\n",
      "    ID FirstName   LastName      City Country\n",
      "0    1       Rav      Ahuja   TORONTO      CA\n",
      "1    2      Raul      Chong   Markham      CA\n",
      "2    3      Hima  Vasudevan   Chicago      US\n",
      "3    4      John     Thomas  Illinois      US\n",
      "4    5     Alice      James  Illinois      US\n",
      "5    6     Steve      Wells  Illinois      US\n",
      "6    7   Santosh      Kumar  Illinois      US\n",
      "7    8     Ahmed    Hussain  Illinois      US\n",
      "8    9     Nancy      Allen  Illinois      US\n",
      "9   10      Mary     Thomas  Illinois      US\n",
      "10  11   Bharath      Gupta  Illinois      US\n",
      "11  12    Andrea      Jones  Illinois      US\n",
      "12  13       Ann      Jacob  Illinois      US\n",
      "13  14      Amit      Kumar  NewDelhi      IN\n"
     ]
    }
   ],
   "source": [
    "query_select_all = f\"SELECT * FROM {DB_TABLE_NAME}\"\n",
    "query_output_select_all = pd.read_sql(query_select_all, conn)\n",
    "\n",
    "print_query(query_select_all, query_output_select_all)"
   ]
  },
  {
   "cell_type": "code",
   "execution_count": 7,
   "metadata": {},
   "outputs": [
    {
     "name": "stdout",
     "output_type": "stream",
     "text": [
      "QUERY EXECUTED: SELECT FirstName FROM INSTRUCTOR\n",
      "OUTPUT:\n",
      "   FirstName\n",
      "0        Rav\n",
      "1       Raul\n",
      "2       Hima\n",
      "3       John\n",
      "4      Alice\n",
      "5      Steve\n",
      "6    Santosh\n",
      "7      Ahmed\n",
      "8      Nancy\n",
      "9       Mary\n",
      "10   Bharath\n",
      "11    Andrea\n",
      "12       Ann\n",
      "13      Amit\n"
     ]
    }
   ],
   "source": [
    "query_select_firstnames = f\"SELECT FirstName FROM {DB_TABLE_NAME}\"\n",
    "query_output_firstnames = pd.read_sql(query_select_firstnames, conn)\n",
    "\n",
    "print_query(query_select_firstnames, query_output_firstnames)"
   ]
  },
  {
   "cell_type": "code",
   "execution_count": 8,
   "metadata": {},
   "outputs": [
    {
     "name": "stdout",
     "output_type": "stream",
     "text": [
      "QUERY EXECUTED: SELECT COUNT(*) FROM INSTRUCTOR\n",
      "OUTPUT:\n",
      "   COUNT(*)\n",
      "0        14\n"
     ]
    }
   ],
   "source": [
    "query_select_countall = f\"SELECT COUNT(*) FROM {DB_TABLE_NAME}\"\n",
    "query_output_countall = pd.read_sql(query_select_countall, conn)\n",
    "\n",
    "print_query(query_select_countall, query_output_countall)"
   ]
  },
  {
   "cell_type": "markdown",
   "metadata": {},
   "source": [
    "### Add Records to Database"
   ]
  },
  {
   "cell_type": "code",
   "execution_count": 9,
   "metadata": {},
   "outputs": [],
   "source": [
    "data_dict = {\n",
    "    \"ID\": [123], \n",
    "    \"FirstName\": [\"Priscilla\"],\n",
    "    \"LastName\": [\"Arinze\"],\n",
    "    \"City\": [\"Dallas\"],\n",
    "    \"Country\": [\"USA\"]\n",
    "}\n",
    "\n",
    "data_to_add = pd.DataFrame(data_dict)"
   ]
  },
  {
   "cell_type": "code",
   "execution_count": 10,
   "metadata": {},
   "outputs": [
    {
     "name": "stdout",
     "output_type": "stream",
     "text": [
      "Appended data successfully to table 'INSTRUCTOR'.\n"
     ]
    }
   ],
   "source": [
    "try:\n",
    "    data_to_add.to_sql(DB_TABLE_NAME, conn, if_exists=\"append\", index=False)\n",
    "    print(f\"Appended data successfully to table '{DB_TABLE_NAME}'.\")\n",
    "except:\n",
    "    print(f\"Error appending data to table '{DB_TABLE_NAME}'.\")"
   ]
  },
  {
   "cell_type": "code",
   "execution_count": 11,
   "metadata": {},
   "outputs": [
    {
     "name": "stdout",
     "output_type": "stream",
     "text": [
      "QUERY EXECUTED: SELECT * FROM INSTRUCTOR\n",
      "OUTPUT:\n",
      "     ID  FirstName   LastName      City Country\n",
      "0     1        Rav      Ahuja   TORONTO      CA\n",
      "1     2       Raul      Chong   Markham      CA\n",
      "2     3       Hima  Vasudevan   Chicago      US\n",
      "3     4       John     Thomas  Illinois      US\n",
      "4     5      Alice      James  Illinois      US\n",
      "5     6      Steve      Wells  Illinois      US\n",
      "6     7    Santosh      Kumar  Illinois      US\n",
      "7     8      Ahmed    Hussain  Illinois      US\n",
      "8     9      Nancy      Allen  Illinois      US\n",
      "9    10       Mary     Thomas  Illinois      US\n",
      "10   11    Bharath      Gupta  Illinois      US\n",
      "11   12     Andrea      Jones  Illinois      US\n",
      "12   13        Ann      Jacob  Illinois      US\n",
      "13   14       Amit      Kumar  NewDelhi      IN\n",
      "14  123  Priscilla     Arinze    Dallas     USA\n"
     ]
    }
   ],
   "source": [
    "query_select_all = f\"SELECT * FROM {DB_TABLE_NAME}\"\n",
    "query_output_select_all = pd.read_sql(query_select_all, conn)\n",
    "\n",
    "print_query(query_select_all, query_output_select_all)"
   ]
  },
  {
   "cell_type": "markdown",
   "metadata": {},
   "source": [
    "### Close Database Connection"
   ]
  },
  {
   "cell_type": "code",
   "execution_count": 12,
   "metadata": {},
   "outputs": [],
   "source": [
    "conn.close()"
   ]
  },
  {
   "cell_type": "markdown",
   "metadata": {},
   "source": [
    "<hr>"
   ]
  },
  {
   "cell_type": "markdown",
   "metadata": {},
   "source": [
    "### Practice: 'STAFF' Table\n",
    "\n",
    "<i>\n",
    "\n",
    "1. In the same database `STAFF`, create another table called `Departments`. The attributes of the table are as shown below.\n",
    "\n",
    "    | Header | Description |\n",
    "    | ------ | ----------- |\n",
    "    | DEPT_ID | Department ID |\n",
    "    | DEP_NAME | Department Name |\n",
    "    | MANAGER_ID | Manager ID |\n",
    "    | LOC_ID | Location ID |\n",
    "\n",
    "<br>\n",
    "\n",
    "2. Populate the `Departments` table with the data available in the CSV file which can be downloaded from the link below using `wget`:  \n",
    "\n",
    "    `https://cf-courses-data.s3.us.cloud-object-storage.appdomain.cloud/IBMSkillsNetwork-PY0221EN-Coursera/labs/v2/Departments.csv`\n",
    "\n",
    "<br>\n",
    "\n",
    "3. Append the `Departments` table with the following information.\n",
    "\n",
    "    | Attribute | Value |\n",
    "    | --------- | ----- |\n",
    "    | DEPT_ID | 9 |\n",
    "    | DEP_NAME | Quality Assurance |\n",
    "    | MANAGER_ID | 30010 |\n",
    "    | LOC_ID | L0010 |\n",
    "\n",
    "<br>\n",
    "\n",
    "4. Run the following queries on the `Departments` Table:\n",
    "    \n",
    "    a. View all entries\n",
    "\n",
    "    b. View only the department names\n",
    "    \n",
    "    c. Count the total entries\n",
    "    \n",
    "</i>    "
   ]
  },
  {
   "cell_type": "markdown",
   "metadata": {},
   "source": [
    "### 1 & 2"
   ]
  },
  {
   "cell_type": "code",
   "execution_count": 13,
   "metadata": {},
   "outputs": [],
   "source": [
    "DB_TABLE_NAME2 = \"Departments\"\n",
    "FILE_PATH2 = f\"{os.getcwd()}\\\\Departments.csv\"\n",
    "attribute_list2 = [\"DEPT_ID\", \"DEP_NAME\", \"MANAGER_ID\", \"LOC_ID\"]\n",
    "\n",
    "\n",
    "df2 = pd.read_csv(FILE_PATH2, names=attribute_list2)"
   ]
  },
  {
   "cell_type": "code",
   "execution_count": 14,
   "metadata": {},
   "outputs": [
    {
     "data": {
      "text/plain": [
       "3"
      ]
     },
     "execution_count": 14,
     "metadata": {},
     "output_type": "execute_result"
    }
   ],
   "source": [
    "conn2 = sqlite3.connect(DB_NAME)\n",
    "\n",
    "df2.to_sql(DB_TABLE_NAME2, conn2, if_exists=\"replace\", index=False)"
   ]
  },
  {
   "cell_type": "markdown",
   "metadata": {},
   "source": [
    "### 3"
   ]
  },
  {
   "cell_type": "code",
   "execution_count": 15,
   "metadata": {},
   "outputs": [
    {
     "data": {
      "text/plain": [
       "1"
      ]
     },
     "execution_count": 15,
     "metadata": {},
     "output_type": "execute_result"
    }
   ],
   "source": [
    "data_dict2 = {\n",
    "    \"DEPT_ID\": [9],\n",
    "    \"DEP_NAME\": [\"Quality Assurance\"],\n",
    "    \"MANAGER_ID\": [30010],\n",
    "    \"LOC_ID\": [\"L0010\"]\n",
    "}\n",
    "\n",
    "data_to_add2 = pd.DataFrame(data_dict2, index=[0])\n",
    "\n",
    "data_to_add2.to_sql(DB_TABLE_NAME2, conn2, if_exists=\"append\", index=False)"
   ]
  },
  {
   "cell_type": "markdown",
   "metadata": {},
   "source": [
    "### 4"
   ]
  },
  {
   "cell_type": "code",
   "execution_count": 16,
   "metadata": {},
   "outputs": [
    {
     "name": "stdout",
     "output_type": "stream",
     "text": [
      "QUERY EXECUTED: SELECT * FROM Departments\n",
      "OUTPUT:\n",
      "   DEPT_ID           DEP_NAME  MANAGER_ID LOC_ID\n",
      "0        2    Architect Group       30001  L0001\n",
      "1        5     Software Group       30002  L0002\n",
      "2        7        Design Team       30003  L0003\n",
      "3        9  Quality Assurance       30010  L0010\n"
     ]
    }
   ],
   "source": [
    "### a\n",
    "query_select_all2 = f\"SELECT * FROM {DB_TABLE_NAME2}\"\n",
    "query_output_select_all2 = pd.read_sql(query_select_all2, conn2)\n",
    "\n",
    "print_query(query_select_all2, query_output_select_all2)"
   ]
  },
  {
   "cell_type": "code",
   "execution_count": 17,
   "metadata": {},
   "outputs": [
    {
     "name": "stdout",
     "output_type": "stream",
     "text": [
      "QUERY EXECUTED: SELECT DEP_NAME FROM Departments\n",
      "OUTPUT:\n",
      "            DEP_NAME\n",
      "0    Architect Group\n",
      "1     Software Group\n",
      "2        Design Team\n",
      "3  Quality Assurance\n"
     ]
    }
   ],
   "source": [
    "### b\n",
    "query_select_dept_names = f\"SELECT DEP_NAME FROM {DB_TABLE_NAME2}\"\n",
    "query_output_select_dept_names = pd.read_sql(query_select_dept_names, conn2)\n",
    "\n",
    "print_query(query_select_dept_names, query_output_select_dept_names)"
   ]
  },
  {
   "cell_type": "code",
   "execution_count": 18,
   "metadata": {},
   "outputs": [
    {
     "name": "stdout",
     "output_type": "stream",
     "text": [
      "QUERY EXECUTED: SELECT DISTINCT COUNT(DEP_NAME) FROM Departments\n",
      "OUTPUT:\n",
      "   COUNT(DEP_NAME)\n",
      "0                4\n"
     ]
    }
   ],
   "source": [
    "### c\n",
    "query_select_count_depts = f\"SELECT COUNT(DISTINCT DEP_NAME) FROM {DB_TABLE_NAME2}\"\n",
    "query_output_select_count_depts = pd.read_sql(query_select_count_depts, conn2)\n",
    "\n",
    "print_query(query_select_count_depts, query_output_select_count_depts)"
   ]
  },
  {
   "cell_type": "markdown",
   "metadata": {},
   "source": [
    "*Testing DISTINCT department names query*"
   ]
  },
  {
   "cell_type": "code",
   "execution_count": 19,
   "metadata": {},
   "outputs": [
    {
     "name": "stdout",
     "output_type": "stream",
     "text": [
      "QUERY EXECUTED: SELECT * FROM Departments\n",
      "OUTPUT:\n",
      "   DEPT_ID           DEP_NAME  MANAGER_ID LOC_ID\n",
      "0        2    Architect Group       30001  L0001\n",
      "1        5     Software Group       30002  L0002\n",
      "2        7        Design Team       30003  L0003\n",
      "3        9  Quality Assurance       30010  L0010\n",
      "4       10  Quality Assurance       30011  L0011\n"
     ]
    }
   ],
   "source": [
    "data_dict3 = {\n",
    "    \"DEPT_ID\": [10],\n",
    "    \"DEP_NAME\": [\"Quality Assurance\"],\n",
    "    \"MANAGER_ID\": [30011],\n",
    "    \"LOC_ID\": [\"L0011\"]\n",
    "}\n",
    "\n",
    "data_to_add3 = pd.DataFrame(data_dict3, index=[0])\n",
    "data_to_add3.to_sql(DB_TABLE_NAME2, conn2, if_exists=\"append\", index=False)\n",
    "\n",
    "query_select_all3 = f\"SELECT * FROM {DB_TABLE_NAME2}\"\n",
    "query_output_select_all3 = pd.read_sql(query_select_all2, conn2)\n",
    "\n",
    "print_query(query_select_all3, query_output_select_all3)"
   ]
  },
  {
   "cell_type": "code",
   "execution_count": 21,
   "metadata": {},
   "outputs": [
    {
     "name": "stdout",
     "output_type": "stream",
     "text": [
      "QUERY EXECUTED: SELECT COUNT(DISTINCT DEP_NAME) FROM Departments\n",
      "OUTPUT:\n",
      "   COUNT(DISTINCT DEP_NAME)\n",
      "0                         4\n"
     ]
    }
   ],
   "source": [
    "### c\n",
    "query_select_count_depts2 = f\"SELECT COUNT(DISTINCT DEP_NAME) FROM {DB_TABLE_NAME2}\"\n",
    "query_output_select_count_depts2 = pd.read_sql(query_select_count_depts2, conn2)\n",
    "\n",
    "print_query(query_select_count_depts2, query_output_select_count_depts2)"
   ]
  }
 ],
 "metadata": {
  "kernelspec": {
   "display_name": "base",
   "language": "python",
   "name": "python3"
  },
  "language_info": {
   "codemirror_mode": {
    "name": "ipython",
    "version": 3
   },
   "file_extension": ".py",
   "mimetype": "text/x-python",
   "name": "python",
   "nbconvert_exporter": "python",
   "pygments_lexer": "ipython3",
   "version": "3.9.13"
  }
 },
 "nbformat": 4,
 "nbformat_minor": 2
}
