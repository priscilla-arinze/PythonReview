{
 "cells": [
  {
   "cell_type": "markdown",
   "metadata": {},
   "source": [
    "# Reading Files"
   ]
  },
  {
   "cell_type": "markdown",
   "metadata": {},
   "source": [
    "### Create file:"
   ]
  },
  {
   "cell_type": "code",
   "execution_count": 1,
   "metadata": {},
   "outputs": [],
   "source": [
    "fw = open('applesauce.txt', 'w') # second parameter 'w' for writing to file\n",
    "\n",
    "fw.write('I like applesauce\\n')\n",
    "fw.write(\"I have crippling student loan debt\\n\")\n",
    "fw.close() # applesauce.txt has been created"
   ]
  },
  {
   "cell_type": "markdown",
   "metadata": {},
   "source": [
    "### Open & read file:"
   ]
  },
  {
   "cell_type": "code",
   "execution_count": 2,
   "metadata": {},
   "outputs": [
    {
     "name": "stdout",
     "output_type": "stream",
     "text": [
      "I like applesauce\n",
      "I have crippling student loan debt\n",
      "\n"
     ]
    }
   ],
   "source": [
    "fr = open('applesauce.txt', 'r') # second parameter 'r' for reading file\n",
    "\n",
    "text = fr.read()\n",
    "print(text)\n",
    "fr.close()"
   ]
  },
  {
   "cell_type": "markdown",
   "metadata": {},
   "source": [
    "For Loop method:"
   ]
  },
  {
   "cell_type": "code",
   "execution_count": 3,
   "metadata": {},
   "outputs": [
    {
     "name": "stdout",
     "output_type": "stream",
     "text": [
      "I like applesauce\n",
      "\n",
      "I have crippling student loan debt\n",
      "\n"
     ]
    }
   ],
   "source": [
    "file = open('applesauce.txt')\n",
    "\n",
    "for ohio in file:\n",
    "    print(ohio)\n",
    "\n",
    "file.close()"
   ]
  },
  {
   "cell_type": "markdown",
   "metadata": {},
   "source": [
    "### Counting number of lines in file:"
   ]
  },
  {
   "cell_type": "code",
   "execution_count": 4,
   "metadata": {},
   "outputs": [
    {
     "name": "stdout",
     "output_type": "stream",
     "text": [
      "Line Count: 2\n"
     ]
    }
   ],
   "source": [
    "file2 = open('applesauce.txt')\n",
    "\n",
    "count = 0\n",
    "\n",
    "for line in file2:\n",
    "    count += 1\n",
    "\n",
    "print('Line Count:', count)\n",
    "\n",
    "file2.close()"
   ]
  },
  {
   "cell_type": "markdown",
   "metadata": {},
   "source": [
    "### Reading file in a single string (including new lines):"
   ]
  },
  {
   "cell_type": "code",
   "execution_count": 5,
   "metadata": {},
   "outputs": [
    {
     "name": "stdout",
     "output_type": "stream",
     "text": [
      "53\n",
      "I like applesauce\n",
      "I \n"
     ]
    }
   ],
   "source": [
    "file3 = open('applesauce.txt')\n",
    "\n",
    "lines = file3.read()\n",
    "\n",
    "print(len(lines))\n",
    "\n",
    "print(lines[:20]) # read first 20 characters\n",
    "\n",
    "file3.close()"
   ]
  },
  {
   "cell_type": "markdown",
   "metadata": {},
   "source": [
    "### Searching through file based on what word/phrase the line starts with:"
   ]
  },
  {
   "cell_type": "code",
   "execution_count": 6,
   "metadata": {},
   "outputs": [],
   "source": [
    "fw2 = open('emails.txt', 'w')\n",
    "\n",
    "fw2.write('From: bob@walmart.gov\\n')\n",
    "fw2.write(\"From: squidward@ohio.com\\n\")\n",
    "fw2.write(\"From: priscilla@kohlscash.org\\n\")\n",
    "fw2.write(\"From: refrigerator@ohio.com\\n\")\n",
    "fw2.close() # emails.txt has been created"
   ]
  },
  {
   "cell_type": "code",
   "execution_count": 7,
   "metadata": {},
   "outputs": [
    {
     "name": "stdout",
     "output_type": "stream",
     "text": [
      "From: bob@walmart.gov\n",
      "\n",
      "From: squidward@ohio.com\n",
      "\n",
      "From: priscilla@kohlscash.org\n",
      "\n",
      "From: refrigerator@ohio.com\n",
      "\n"
     ]
    }
   ],
   "source": [
    "file4 = open('emails.txt')\n",
    "\n",
    "for line in file4:\n",
    "    if line.startswith('From'):\n",
    "        print(line)"
   ]
  },
  {
   "cell_type": "markdown",
   "metadata": {},
   "source": [
    "Fix issue with extra white space between lines:"
   ]
  },
  {
   "cell_type": "code",
   "execution_count": 8,
   "metadata": {},
   "outputs": [
    {
     "name": "stdout",
     "output_type": "stream",
     "text": [
      "From: bob@walmart.gov\n",
      "From: squidward@ohio.com\n",
      "From: priscilla@kohlscash.org\n",
      "From: refrigerator@ohio.com\n"
     ]
    }
   ],
   "source": [
    "file5 = open('emails.txt')\n",
    "\n",
    "for ln in file5:\n",
    "    ln = ln.rstrip() # removes blank space caused by new line characters\n",
    "    if ln.startswith('From'):\n",
    "        print(ln)\n",
    "\n",
    "file5.close()"
   ]
  },
  {
   "cell_type": "markdown",
   "metadata": {},
   "source": [
    "Another way to fix issue with extra white space using continue:"
   ]
  },
  {
   "cell_type": "code",
   "execution_count": 9,
   "metadata": {},
   "outputs": [
    {
     "name": "stdout",
     "output_type": "stream",
     "text": [
      "From: bob@walmart.gov\n",
      "From: squidward@ohio.com\n",
      "From: priscilla@kohlscash.org\n",
      "From: refrigerator@ohio.com\n"
     ]
    }
   ],
   "source": [
    "file6 = open('emails.txt')\n",
    "\n",
    "for ln in file6:\n",
    "    ln = ln.rstrip()\n",
    "    if not ln.startswith('From'):\n",
    "        continue\n",
    "    print(ln)\n",
    "\n",
    "file6.close()"
   ]
  },
  {
   "cell_type": "markdown",
   "metadata": {},
   "source": [
    "### Selecting certain lines based on keywords"
   ]
  },
  {
   "cell_type": "code",
   "execution_count": 10,
   "metadata": {},
   "outputs": [
    {
     "name": "stdout",
     "output_type": "stream",
     "text": [
      "From: squidward@ohio.com\n",
      "From: refrigerator@ohio.com\n"
     ]
    }
   ],
   "source": [
    "file7 = open('emails.txt')\n",
    "\n",
    "for ln in file7:\n",
    "    ln = ln.rstrip()\n",
    "    if not 'ohio.com' in ln:\n",
    "        continue\n",
    "    print(ln)\n",
    "\n",
    "file7.close()"
   ]
  },
  {
   "cell_type": "markdown",
   "metadata": {},
   "source": [
    "### Prompt for file name & count number of lines based on condition:"
   ]
  },
  {
   "cell_type": "code",
   "execution_count": 11,
   "metadata": {},
   "outputs": [
    {
     "name": "stdout",
     "output_type": "stream",
     "text": [
      "From: bob@walmart.gov\n",
      "\n",
      "From: squidward@ohio.com\n",
      "\n",
      "From: priscilla@kohlscash.org\n",
      "\n",
      "From: refrigerator@ohio.com\n",
      "\n",
      "There were 4 email recipients in emails.txt\n"
     ]
    }
   ],
   "source": [
    "file_input = input(\"Enter full file name: \")\n",
    "\n",
    "file8 = open(file_input)\n",
    "\n",
    "count = 0\n",
    "\n",
    "for ln in file8:\n",
    "    if ln.startswith('From'):\n",
    "        count += 1\n",
    "    print(ln)\n",
    "\n",
    "print(\"There were\", count, \"email recipients in\", file_input)\n",
    "\n",
    "file8.close()"
   ]
  },
  {
   "cell_type": "markdown",
   "metadata": {},
   "source": [
    "\n",
    "> #### __*For error catching for misinputs (try / except), see errorcatching.py*__\n"
   ]
  }
 ],
 "metadata": {
  "interpreter": {
   "hash": "3b806cc711b465e66e8252dff191d8681f8b41038e9cbc25fa942edafd26a2d7"
  },
  "kernelspec": {
   "display_name": "Python 3.9.10 ('base')",
   "language": "python",
   "name": "python3"
  },
  "language_info": {
   "codemirror_mode": {
    "name": "ipython",
    "version": 3
   },
   "file_extension": ".py",
   "mimetype": "text/x-python",
   "name": "python",
   "nbconvert_exporter": "python",
   "pygments_lexer": "ipython3",
   "version": "3.9.10"
  },
  "orig_nbformat": 4
 },
 "nbformat": 4,
 "nbformat_minor": 2
}
