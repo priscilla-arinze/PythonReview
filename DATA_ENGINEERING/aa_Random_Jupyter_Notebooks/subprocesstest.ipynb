{
 "cells": [
  {
   "cell_type": "code",
   "execution_count": 1,
   "metadata": {},
   "outputs": [],
   "source": [
    "import subprocess"
   ]
  },
  {
   "cell_type": "code",
   "execution_count": 11,
   "metadata": {},
   "outputs": [
    {
     "name": "stderr",
     "output_type": "stream",
     "text": [
      "/home/priscilla/miniconda3/etc/profile.d/conda.sh: line 0: .: filename argument required\n",
      ".: usage: . filename [arguments]\n"
     ]
    },
    {
     "name": "stdout",
     "output_type": "stream",
     "text": [
      "no change     /home/priscilla/miniconda3/condabin/conda\n",
      "no change     /home/priscilla/miniconda3/bin/conda\n",
      "no change     /home/priscilla/miniconda3/bin/conda-env\n",
      "no change     /home/priscilla/miniconda3/bin/activate\n",
      "no change     /home/priscilla/miniconda3/bin/deactivate\n",
      "no change     /home/priscilla/miniconda3/etc/profile.d/conda.sh\n",
      "no change     /home/priscilla/miniconda3/etc/fish/conf.d/conda.fish\n",
      "no change     /home/priscilla/miniconda3/shell/condabin/Conda.psm1\n",
      "no change     /home/priscilla/miniconda3/shell/condabin/conda-hook.ps1\n",
      "no change     /home/priscilla/miniconda3/lib/python3.7/site-packages/xontrib/conda.xsh\n",
      "no change     /home/priscilla/miniconda3/etc/profile.d/conda.csh\n",
      "no change     /home/priscilla/.bashrc\n",
      "No action taken.\n"
     ]
    },
    {
     "name": "stderr",
     "output_type": "stream",
     "text": [
      "\n",
      "CommandNotFoundError: Your shell has not been properly configured to use 'conda activate'.\n",
      "To initialize your shell, run\n",
      "\n",
      "    $ conda init <SHELL_NAME>\n",
      "\n",
      "Currently supported shells are:\n",
      "  - bash\n",
      "  - fish\n",
      "  - tcsh\n",
      "  - xonsh\n",
      "  - zsh\n",
      "  - powershell\n",
      "\n",
      "See 'conda init --help' for more information and options.\n",
      "\n",
      "IMPORTANT: You may need to close and restart your shell after running 'conda init'.\n",
      "\n",
      "\n"
     ]
    },
    {
     "ename": "CalledProcessError",
     "evalue": "Command '/bin/bash -c . /home/priscilla/miniconda3/etc/profile.d/conda.sh; conda init; conda activate base' returned non-zero exit status 1.",
     "output_type": "error",
     "traceback": [
      "\u001b[0;31m---------------------------------------------------------------------------\u001b[0m",
      "\u001b[0;31mCalledProcessError\u001b[0m                        Traceback (most recent call last)",
      "\u001b[0;32m/tmp/ipykernel_8090/2370700978.py\u001b[0m in \u001b[0;36m<module>\u001b[0;34m\u001b[0m\n\u001b[1;32m      1\u001b[0m \u001b[0msrc\u001b[0m \u001b[0;34m=\u001b[0m \u001b[0;34m\"/bin/bash -c . /home/priscilla/miniconda3/etc/profile.d/conda.sh; conda init; conda activate base\"\u001b[0m\u001b[0;34m\u001b[0m\u001b[0;34m\u001b[0m\u001b[0m\n\u001b[1;32m      2\u001b[0m \u001b[0;34m\u001b[0m\u001b[0m\n\u001b[0;32m----> 3\u001b[0;31m \u001b[0msubprocess\u001b[0m\u001b[0;34m.\u001b[0m\u001b[0mrun\u001b[0m\u001b[0;34m(\u001b[0m\u001b[0msrc\u001b[0m\u001b[0;34m,\u001b[0m \u001b[0mshell\u001b[0m\u001b[0;34m=\u001b[0m\u001b[0;32mTrue\u001b[0m\u001b[0;34m,\u001b[0m \u001b[0mcheck\u001b[0m\u001b[0;34m=\u001b[0m\u001b[0;32mTrue\u001b[0m\u001b[0;34m)\u001b[0m\u001b[0;34m\u001b[0m\u001b[0;34m\u001b[0m\u001b[0m\n\u001b[0m",
      "\u001b[0;32m~/miniconda3/envs/silverenv-dev/lib/python3.7/subprocess.py\u001b[0m in \u001b[0;36mrun\u001b[0;34m(input, capture_output, timeout, check, *popenargs, **kwargs)\u001b[0m\n\u001b[1;32m    485\u001b[0m         \u001b[0;32mif\u001b[0m \u001b[0mcheck\u001b[0m \u001b[0;32mand\u001b[0m \u001b[0mretcode\u001b[0m\u001b[0;34m:\u001b[0m\u001b[0;34m\u001b[0m\u001b[0;34m\u001b[0m\u001b[0m\n\u001b[1;32m    486\u001b[0m             raise CalledProcessError(retcode, process.args,\n\u001b[0;32m--> 487\u001b[0;31m                                      output=stdout, stderr=stderr)\n\u001b[0m\u001b[1;32m    488\u001b[0m     \u001b[0;32mreturn\u001b[0m \u001b[0mCompletedProcess\u001b[0m\u001b[0;34m(\u001b[0m\u001b[0mprocess\u001b[0m\u001b[0;34m.\u001b[0m\u001b[0margs\u001b[0m\u001b[0;34m,\u001b[0m \u001b[0mretcode\u001b[0m\u001b[0;34m,\u001b[0m \u001b[0mstdout\u001b[0m\u001b[0;34m,\u001b[0m \u001b[0mstderr\u001b[0m\u001b[0;34m)\u001b[0m\u001b[0;34m\u001b[0m\u001b[0;34m\u001b[0m\u001b[0m\n\u001b[1;32m    489\u001b[0m \u001b[0;34m\u001b[0m\u001b[0m\n",
      "\u001b[0;31mCalledProcessError\u001b[0m: Command '/bin/bash -c . /home/priscilla/miniconda3/etc/profile.d/conda.sh; conda init; conda activate base' returned non-zero exit status 1."
     ]
    }
   ],
   "source": [
    "src = \"/bin/bash -c . /home/priscilla/miniconda3/etc/profile.d/conda.sh; conda init; conda activate base\"\n",
    "\n",
    "subprocess.run(src, shell=True, check=True)"
   ]
  },
  {
   "cell_type": "code",
   "execution_count": 61,
   "metadata": {},
   "outputs": [
    {
     "name": "stdout",
     "output_type": "stream",
     "text": [
      "echo a echo b echo c\n"
     ]
    }
   ],
   "source": [
    "commands1 = [\"echo a\", \"echo b\", \"echo c\"]\n",
    "\n",
    "print(' '.join(commands1))\n"
   ]
  },
  {
   "cell_type": "code",
   "execution_count": 99,
   "metadata": {},
   "outputs": [
    {
     "data": {
      "text/plain": [
       "'conda_source = \"conda_source cmd\"\\n\\ncommands1 = [\\n    \"echo CURRENT COMMAND: conda update -n base conda -y\",\\n    \"conda update -n base conda -y\",\\n    \"echo CURRENT COMMAND: conda config --add channels conda-forge\",\\n    \"conda config --add channels conda-forge\",\\n    \"echo conda install --force-reinstall pip -y\",\\n    \"conda install --force-reinstall pip -y\",\\n    \"echo CURRENT COMMAND: conda create -n my_conda_env -y python==3.11.0\",\\n    \"conda create -n my_conda_env -y python==3.11.0\",\\n    \"echo CURRENT COMMAND: conda env list\",\\n    \"conda env list\",\\n    \"echo CURRENT COMMAND: conda init\",\\n    \"conda init\", \\n    conda_source,\\n    \"echo CURRENT COMMAND: conda activate my_conda_env\",\\n    \"conda activate my_conda_env\",\\n    \"echo CURRENT COMMAND: conda env list\",\\n    \"conda env list\",\\n    \"echo CURRENT COMMAND: conda config --set report_errors false\",\\n    \"conda config --set report_errors false\",\\n    \"echo CURRENT COMMAND: conda install -y conda-build==3.21.4 ruamel.yaml==0.17.21 constructor==3.2.1\",\\n    \"conda install -y conda-build==3.21.4 ruamel.yaml==0.17.21 constructor==3.2.1\",\\n    \"echo CURRENT COMMAND: conda install pip\",\\n    \"conda install pip\",\\n    \"echo CURRENT COMMAND: pip uninstall -y Pillow\",\\n    \"pip uninstall -y Pillow\",\\n    \"echo CURRENT COMMAND: pip install Pillow\",\\n    \"pip install Pillow\",\\n    \"echo CURRENT COMMAND: conda index .\",\\n    \"conda index .\",\\n    \"echo CURRENT COMMAND: constructor .\",\\n    \"constructor .\",\\n    \"echo CURRENT COMMAND: conda init\",\\n    \"conda init\"\\n]\\n\\ncommands2 = [\\n    \"echo CURRENT COMMAND: pip list\",\\n    \"pip list\"\\n]\\n\\ncommands3 = [\\n    conda_source,\\n    \"echo CURRENT COMMAND: conda activate base\",\\n    \"conda activate base\",\\n    \"echo CURRENT COMMAND: conda env list\",\\n    \"conda env list\",\\n    \"echo CURRENT COMMAND: conda env remove -n my_conda_env -y\",\\n    \"conda env remove -n my_conda_env -y\"\\n]\\n\\n# Copying lists to resolve format strings with curly braces\\ncommand_lists = []\\ncommand_lists.append(commands1.copy())\\ncommand_lists.append(commands2.copy())\\ncommand_lists.append(commands3.copy())\\ncommand_lists_final = command_lists.copy()'"
      ]
     },
     "execution_count": 99,
     "metadata": {},
     "output_type": "execute_result"
    }
   ],
   "source": [
    "import os\n",
    "\n",
    "def get_packaging_script(env_name: str, conda_deps: str, pip_deps:str):\n",
    "    \"\"\"\n",
    "    Gets a packaging script appropriate for the current platform.\n",
    "\n",
    "    Parameters:\n",
    "        env_name (str): The name of the conda environment.\n",
    "        conda_deps (list): The Conda dependencies to package.\n",
    "        pip_deps (list): The pip dependencies to package.\n",
    "\n",
    "    Returns:\n",
    "         str: The packaging script for the current platform.\n",
    "    \"\"\"\n",
    "\n",
    "    with open('readme.py', 'r') as _f:\n",
    "        return _f.read().format(\n",
    "            env_name=env_name,\n",
    "            conda_deps=conda_deps,\n",
    "            pip_deps=pip_deps\n",
    "        )\n",
    "\n",
    "\n",
    "get_packaging_script(\"my_conda_env\", \"python==3.11.0\", \"pandas==1.0.0\")"
   ]
  },
  {
   "cell_type": "code",
   "execution_count": 105,
   "metadata": {},
   "outputs": [],
   "source": [
    "import os\n",
    "import shutil\n",
    "\n",
    "_directory = \"/home/priscilla/1_PROJECTS/dependency-manager\"\n",
    "\n",
    "dirs_files_to_remove = ['tmp', 'icons', 'noarch', 'linux-64', 'index.html', 'channeldata.json', 'construct.yaml']\n",
    "\n",
    "\n",
    "for path in dirs_files_to_remove:\n",
    "\n",
    "    full_path = os.path.join(_directory, path)\n",
    "    if os.path.exists(full_path):\n",
    "        if '.' in path: \n",
    "            os.remove(full_path)\n",
    "        else: \n",
    "            shutil.rmtree(full_path)"
   ]
  },
  {
   "cell_type": "code",
   "execution_count": 97,
   "metadata": {},
   "outputs": [
    {
     "ename": "TypeError",
     "evalue": "append() takes exactly one argument (3 given)",
     "output_type": "error",
     "traceback": [
      "\u001b[0;31m---------------------------------------------------------------------------\u001b[0m",
      "\u001b[0;31mTypeError\u001b[0m                                 Traceback (most recent call last)",
      "\u001b[0;32m/tmp/ipykernel_6863/1063725656.py\u001b[0m in \u001b[0;36m<module>\u001b[0;34m\u001b[0m\n\u001b[1;32m      1\u001b[0m \u001b[0mtxt\u001b[0m \u001b[0;34m=\u001b[0m \u001b[0;34m[\u001b[0m\u001b[0;34m]\u001b[0m\u001b[0;34m\u001b[0m\u001b[0;34m\u001b[0m\u001b[0m\n\u001b[1;32m      2\u001b[0m \u001b[0;34m\u001b[0m\u001b[0m\n\u001b[0;32m----> 3\u001b[0;31m \u001b[0mtxt\u001b[0m\u001b[0;34m.\u001b[0m\u001b[0mappend\u001b[0m\u001b[0;34m(\u001b[0m\u001b[0;36m1\u001b[0m\u001b[0;34m,\u001b[0m \u001b[0;36m2\u001b[0m\u001b[0;34m,\u001b[0m \u001b[0;36m3\u001b[0m\u001b[0;34m)\u001b[0m\u001b[0;34m\u001b[0m\u001b[0;34m\u001b[0m\u001b[0m\n\u001b[0m\u001b[1;32m      4\u001b[0m \u001b[0;34m\u001b[0m\u001b[0m\n\u001b[1;32m      5\u001b[0m \u001b[0mprint\u001b[0m\u001b[0;34m(\u001b[0m\u001b[0mtxt\u001b[0m\u001b[0;34m)\u001b[0m\u001b[0;34m\u001b[0m\u001b[0;34m\u001b[0m\u001b[0m\n",
      "\u001b[0;31mTypeError\u001b[0m: append() takes exactly one argument (3 given)"
     ]
    }
   ],
   "source": [
    "txt = []\n",
    "\n",
    "txt.append(1, 2, 3)\n",
    "\n",
    "print(txt)"
   ]
  },
  {
   "cell_type": "code",
   "execution_count": 93,
   "metadata": {},
   "outputs": [
    {
     "name": "stdout",
     "output_type": "stream",
     "text": [
      "['echo CURRENT COMMAND: conda init', 'conda init', 'echo CURRENT COMMAND: conda activate base', 'conda activate base', 'bleh', 'echo CURRENT COMMAND: conda env list', 'conda env list', 'echo CURRENT COMMAND: conda env remove -n {env_name} -y', 'conda env remove -n {env_name} -y']\n"
     ]
    }
   ],
   "source": [
    "conda_source = \"bleh\"\n",
    "commands3 = [\n",
    "    \"echo CURRENT COMMAND: conda init\",\n",
    "    \"conda init\",\n",
    "    \"echo CURRENT COMMAND: conda activate base\",\n",
    "    \"conda activate base\",\n",
    "    conda_source,\n",
    "    \"echo CURRENT COMMAND: conda env list\",\n",
    "    \"conda env list\",\n",
    "    \"echo CURRENT COMMAND: conda env remove -n {env_name} -y\",\n",
    "    \"conda env remove -n {env_name} -y\"\n",
    "]\n",
    "\n",
    "print(commands3.copy())"
   ]
  },
  {
   "cell_type": "code",
   "execution_count": 70,
   "metadata": {},
   "outputs": [
    {
     "name": "stdout",
     "output_type": "stream",
     "text": [
      "['echo CURRENT COMMAND: conda update -n base conda -y', 'conda update -n base conda -y', 'echo CURRENT COMMAND: conda config --add channels conda-forge', 'conda config --add channels conda-forge', 'echo conda install --force-reinstall pip -y', 'conda install --force-reinstall pip -y', 'echo CURRENT COMMAND: conda create -n {env_name} -y {conda_deps}', 'conda create -n {env_name} -y {conda_deps}', 'echo CURRENT COMMAND: conda env list', 'conda env list', 'echo CURRENT COMMAND: conda init', 'conda init', 'conda source linux', 'echo CURRENT COMMAND: conda activate {env_name}', 'conda activate {env_name}', 'echo CURRENT COMMAND: conda env list', 'conda env list', 'echo CURRENT COMMAND: conda config --set report_errors false', 'conda config --set report_errors false', 'echo CURRENT COMMAND: pip install {pip_deps}', 'pip install {pip_deps}']\n",
      "['echo CURRENT COMMAND: conda init', 'conda init', 'conda source linux', 'echo CURRENT COMMAND: conda activate {env_name}', 'conda activate {env_name}', 'echo CURRENT COMMAND: conda package --pkg-name site-packages --pkg-version 1 --pkg-build 0', 'conda package --pkg-name site-packages --pkg-version 1 --pkg-build 0']\n",
      "['echo CURRENT COMMAND: conda init', 'conda init', 'conda source linux', 'echo CURRENT COMMAND: conda activate base', 'conda activate base', 'echo CURRENT COMMAND: conda env list', 'conda env list', 'echo CURRENT COMMAND: conda env remove -n {env_name} -y', 'conda env remove -n {env_name} -y']\n",
      "\n",
      "\n",
      "[['echo CURRENT COMMAND: conda update -n base conda -y', 'conda update -n base conda -y', 'echo CURRENT COMMAND: conda config --add channels conda-forge', 'conda config --add channels conda-forge', 'echo conda install --force-reinstall pip -y', 'conda install --force-reinstall pip -y', 'echo CURRENT COMMAND: conda create -n {env_name} -y {conda_deps}', 'conda create -n {env_name} -y {conda_deps}', 'echo CURRENT COMMAND: conda env list', 'conda env list', 'echo CURRENT COMMAND: conda init', 'conda init', 'conda source linux', 'echo CURRENT COMMAND: conda activate {env_name}', 'conda activate {env_name}', 'echo CURRENT COMMAND: conda env list', 'conda env list', 'echo CURRENT COMMAND: conda config --set report_errors false', 'conda config --set report_errors false', 'echo CURRENT COMMAND: pip install {pip_deps}', 'pip install {pip_deps}'], ['echo CURRENT COMMAND: conda init', 'conda init', 'conda source linux', 'echo CURRENT COMMAND: conda activate {env_name}', 'conda activate {env_name}', 'echo CURRENT COMMAND: conda package --pkg-name site-packages --pkg-version 1 --pkg-build 0', 'conda package --pkg-name site-packages --pkg-version 1 --pkg-build 0'], ['echo CURRENT COMMAND: conda init', 'conda init', 'conda source linux', 'echo CURRENT COMMAND: conda activate base', 'conda activate base', 'echo CURRENT COMMAND: conda env list', 'conda env list', 'echo CURRENT COMMAND: conda env remove -n {env_name} -y', 'conda env remove -n {env_name} -y']]\n"
     ]
    }
   ],
   "source": [
    "#from dependency_manager.scripts.build_execute_shell_commands import execute_cmd, get_conda_source_cmd\n",
    "\n",
    "\n",
    "# conda source cmd for shell (based on OS)\n",
    "conda_source = \"conda source linux\"\n",
    "# cmd_echo_conda_source = \"echo CURRENT COMMAND: %s\" % conda_source\n",
    "# cmd_conda_source = \"%s\" % conda_source\n",
    "\n",
    "# ### TESTING: TO REMOVE\n",
    "# print(\"PRINTSTMT (site-packages) --- %s\" % conda_source)\n",
    "# print(\"datatype:\", type(conda_source))\n",
    "\n",
    "commands1 = [\n",
    "    \"echo CURRENT COMMAND: conda update -n base conda -y\",\n",
    "    \"conda update -n base conda -y\",\n",
    "    \"echo CURRENT COMMAND: conda config --add channels conda-forge\",\n",
    "    \"conda config --add channels conda-forge\",\n",
    "    \"echo conda install --force-reinstall pip -y\",\n",
    "    \"conda install --force-reinstall pip -y\",\n",
    "    \"echo CURRENT COMMAND: conda create -n {env_name} -y {conda_deps}\",\n",
    "    \"conda create -n {env_name} -y {conda_deps}\",\n",
    "    \"echo CURRENT COMMAND: conda env list\",\n",
    "    \"conda env list\",\n",
    "    \"echo CURRENT COMMAND: conda init\",\n",
    "    \"conda init\",\n",
    "    conda_source,\n",
    "    \"echo CURRENT COMMAND: conda activate {env_name}\",\n",
    "    \"conda activate {env_name}\",\n",
    "    \"echo CURRENT COMMAND: conda env list\",\n",
    "    \"conda env list\",\n",
    "    \"echo CURRENT COMMAND: conda config --set report_errors false\",\n",
    "    \"conda config --set report_errors false\",\n",
    "    \"echo CURRENT COMMAND: pip install {pip_deps}\",\n",
    "    \"pip install {pip_deps}\"\n",
    "]\n",
    "\n",
    "commands2 = [\n",
    "    \"echo CURRENT COMMAND: conda init\",\n",
    "    \"conda init\",\n",
    "    conda_source,\n",
    "    \"echo CURRENT COMMAND: conda activate {env_name}\",\n",
    "    \"conda activate {env_name}\",\n",
    "    \"echo CURRENT COMMAND: conda package --pkg-name site-packages --pkg-version 1 --pkg-build 0\",\n",
    "    \"conda package --pkg-name site-packages --pkg-version 1 --pkg-build 0\"\n",
    "]\n",
    "\n",
    "commands3 = [\n",
    "    \"echo CURRENT COMMAND: conda init\",\n",
    "    \"conda init\",\n",
    "    conda_source,\n",
    "    \"echo CURRENT COMMAND: conda activate base\",\n",
    "    \"conda activate base\",\n",
    "    \"echo CURRENT COMMAND: conda env list\",\n",
    "    \"conda env list\",\n",
    "    \"echo CURRENT COMMAND: conda env remove -n {env_name} -y\",\n",
    "    \"conda env remove -n {env_name} -y\"\n",
    "]\n",
    "\n",
    "\n",
    "# Copying lists to resolve format strings with {...}\n",
    "commands_lists = []\n",
    "commands_lists.append(commands1.copy())\n",
    "commands_lists.append(commands2.copy())\n",
    "commands_lists.append(commands3.copy())\n",
    "\n",
    "commands_lists_final = commands_lists.copy()\n",
    "\n",
    "print(commands1)\n",
    "print(commands2)\n",
    "print(commands3)\n",
    "#execute_cmd(commands_lists_final)\n",
    "print(\"\\n\")\n",
    "print(commands_lists)\n"
   ]
  },
  {
   "cell_type": "code",
   "execution_count": 68,
   "metadata": {},
   "outputs": [
    {
     "ename": "SyntaxError",
     "evalue": "invalid syntax (871862407.py, line 9)",
     "output_type": "error",
     "traceback": [
      "\u001b[0;36m  File \u001b[0;32m\"/tmp/ipykernel_6863/871862407.py\"\u001b[0;36m, line \u001b[0;32m9\u001b[0m\n\u001b[0;31m    return _f.read().format( env_name=env_name, *conda_deps=' '.join(conda_deps), *pip_deps=' '.join(pip_deps) )\u001b[0m\n\u001b[0m                                                           ^\u001b[0m\n\u001b[0;31mSyntaxError\u001b[0m\u001b[0;31m:\u001b[0m invalid syntax\n"
     ]
    }
   ],
   "source": [
    "import os\n",
    "\n",
    "env_name = \"depman-daf4636e-378f-45fe-af6c-459d4af618b0\"\n",
    "pip_deps = ['snakewatch==1.0.0']\n",
    "conda_deps = ['python==3.7.0']\n",
    "\n",
    "def get_packaging_script(env_name: str, conda_deps: list, pip_deps: list):\n",
    "    with open(os.path.join(\"/home/priscilla/1_PROJECTS/dependency-manager/dependency_manager/scripts\", 'build_site_packages_bundle.tmpl.py'), 'r') as _f:\n",
    "        return _f.read().format( env_name=env_name, conda_deps=' '.join(conda_deps), pip_deps=' '.join(pip_deps) )\n",
    "\n",
    "get_packaging_script(env_name, conda_deps, pip_deps)"
   ]
  },
  {
   "cell_type": "code",
   "execution_count": 41,
   "metadata": {},
   "outputs": [
    {
     "name": "stdout",
     "output_type": "stream",
     "text": [
      "Shell commands sub-list 1 of 3 executed successfully.\n",
      "Shell commands sub-list 2 of 3 executed successfully.\n",
      "Shell commands sub-list 3 of 3 executed successfully.\n"
     ]
    }
   ],
   "source": [
    "for index in range(3):\n",
    "    print(f\"Shell commands sub-list {index+1} of 3 executed successfully.\")"
   ]
  },
  {
   "cell_type": "code",
   "execution_count": 47,
   "metadata": {},
   "outputs": [
    {
     "name": "stdout",
     "output_type": "stream",
     "text": [
      "i love to bleh\n"
     ]
    }
   ],
   "source": [
    "conda_source = \"bleh\"\n",
    "\n",
    "print(f\"i love to {conda_source}\")"
   ]
  },
  {
   "cell_type": "code",
   "execution_count": 54,
   "metadata": {},
   "outputs": [
    {
     "name": "stdout",
     "output_type": "stream",
     "text": [
      "PRINTSTMT (site-packages) --- call conda env list\n",
      "['echo CURRENT COMMAND: conda init', 'conda init', 'echo CURRENT COMMAND: call conda env list', 'call conda env list']\n",
      "<class 'str'>\n"
     ]
    }
   ],
   "source": [
    "conda_source = \"call conda env list\"\n",
    "\n",
    "commands2 = [\n",
    "    \"echo CURRENT COMMAND: conda init\",\n",
    "    \"conda init\",\n",
    "    \"echo CURRENT COMMAND: {conda_source}\".format(conda_source=conda_source),\n",
    "    \"{conda_source}\".format(conda_source=conda_source),\n",
    "]\n",
    "\n",
    "print(\"PRINTSTMT (site-packages) --- %s\" % conda_source)\n",
    "print(commands2)\n",
    "print(type(conda_source))"
   ]
  },
  {
   "cell_type": "code",
   "execution_count": 57,
   "metadata": {},
   "outputs": [
    {
     "name": "stdout",
     "output_type": "stream",
     "text": [
      "['dependency_manager', 'application.py']\n",
      "dependency_manager application.py\n"
     ]
    }
   ],
   "source": [
    "print('dependency_manager/application.py'.split('/'))\n",
    "print(*'dependency_manager/application.py'.split('/'))"
   ]
  },
  {
   "cell_type": "code",
   "execution_count": 58,
   "metadata": {},
   "outputs": [
    {
     "name": "stdout",
     "output_type": "stream",
     "text": [
      "('/home/priscilla/1_PROJECTS/dependency-manager/dependency_manager/application.py', '-c', '/home/priscilla/Downloads/depman_test/deps.json', 'package')\n"
     ]
    }
   ],
   "source": [
    "import os\n",
    "cfg = \"/home/priscilla/Downloads/depman_test/deps.json\"\n",
    "x = os.path.join(\"/home/priscilla/1_PROJECTS/dependency-manager\", *'dependency_manager/application.py'.split('/')), \"-c\", cfg, \"package\"\n",
    "\n",
    "print(x)"
   ]
  },
  {
   "cell_type": "code",
   "execution_count": 43,
   "metadata": {},
   "outputs": [
    {
     "name": "stdout",
     "output_type": "stream",
     "text": [
      "text and text and \n"
     ]
    }
   ],
   "source": [
    "txt = \"text and text and ; \"\n",
    "\n",
    "print(txt[0:-2])"
   ]
  },
  {
   "cell_type": "code",
   "execution_count": 39,
   "metadata": {},
   "outputs": [
    {
     "name": "stdout",
     "output_type": "stream",
     "text": [
      "True\n"
     ]
    }
   ],
   "source": [
    "import os\n",
    " \n",
    "\n",
    "#dir_list = os.listdir()\n",
    " \n",
    "exists1 = False\n",
    "for filename in os.listdir():\n",
    "    if filename.startswith(\"site-packages\"):\n",
    "        exists1 = True\n",
    "        break\n",
    "print(exists1)\n",
    "#print(dir_list)"
   ]
  },
  {
   "cell_type": "code",
   "execution_count": 28,
   "metadata": {},
   "outputs": [
    {
     "name": "stdout",
     "output_type": "stream",
     "text": [
      "-2\n"
     ]
    }
   ],
   "source": [
    "def get_conda_source_cmd():\n",
    "    \"\"\"\n",
    "    Returns a list with the correct conda source command depending on the current \n",
    "    OS platform and the ending slice index for execute_cmd() function. \n",
    "    \"\"\"\n",
    "    windows_conda = [\"call C:/Users/Administrator/miniconda3/etc/profile.d/conda.sh\", -2]\n",
    "    linux_conda = [\"source /opt/miniconda3/etc/profile.d/conda.sh\", -1]\n",
    "\n",
    "    if 1==1:\n",
    "        return windows_conda\n",
    "    else:\n",
    "        return linux_conda\n",
    "\n",
    "print(get_conda_source_cmd()[1])"
   ]
  },
  {
   "cell_type": "code",
   "execution_count": 25,
   "metadata": {},
   "outputs": [
    {
     "name": "stdout",
     "output_type": "stream",
     "text": [
      "0 ['echo a', 'echo b', 'echo c']\n",
      "1 ['echo d', 'echo e', 'echo f']\n",
      "2 ['echo g', 'echo h', 'echo i']\n"
     ]
    }
   ],
   "source": [
    "commands1 = [\"echo a\", \"echo b\", \"echo c\"]\n",
    "commands2 = [\"echo d\", \"echo e\", \"echo f\"]\n",
    "commands3 = [\"echo g\", \"echo h\", \"echo i\"]\n",
    "\n",
    "commands_full = []\n",
    "commands_full.append(commands1)\n",
    "commands_full.append(commands2)\n",
    "commands_full.append(commands3)\n",
    "\n",
    "\n",
    "full_command_string1 = \"\"\n",
    "full_command_string2 = \"\"\n",
    "full_command_string3 = \"\"\n",
    "\n",
    "command_strings = {\n",
    "    0: ,\n",
    "    1: ,\n",
    "    2:\n",
    "}\n",
    "\n",
    "for index, cmd in enumerate(commands_full):\n",
    "    print(index, cmd)"
   ]
  },
  {
   "cell_type": "code",
   "execution_count": 24,
   "metadata": {},
   "outputs": [
    {
     "name": "stdout",
     "output_type": "stream",
     "text": [
      "0 : conda update -n base conda\n",
      "1 : conda config --add channels conda-forge\n",
      "2 : conda create -n env_name -y conda_deps\n",
      "3 : . /opt/miniconda3/etc/profile.d/conda.sh && conda activate env_name && conda env list\n",
      "4 : conda config --set report_errors false\n",
      "5 : conda install pip\n",
      "6 : pip install pip_deps\n",
      "7 : conda package --pkg-name site-packages --pkg-version 1 --pkg-build 0\n",
      "8 : . /opt/miniconda3/etc/profile.d/conda.sh && conda activate base && conda env list\n",
      "9 : conda env remove -n env_name -y\n"
     ]
    }
   ],
   "source": [
    "import shlex\n",
    "\n",
    "commands = [\n",
    "    \"conda update -n base conda\",\n",
    "    \"conda config --add channels conda-forge\",\n",
    "    \"conda create -n env_name -y conda_deps\",\n",
    "    # \"conda activate {env_name}\",\n",
    "    \". /opt/miniconda3/etc/profile.d/conda.sh && conda activate env_name && conda env list\",\n",
    "    # \"conda config --set channel_priority strict\",\n",
    "    \"conda config --set report_errors false\",\n",
    "    \"conda install pip\",\n",
    "    \"pip install pip_deps\",\n",
    "    \"conda package --pkg-name site-packages --pkg-version 1 --pkg-build 0\",\n",
    "    # \"conda activate base\",\n",
    "    \". /opt/miniconda3/etc/profile.d/conda.sh && conda activate base && conda env list\",\n",
    "    \"conda env remove -n env_name -y\"\n",
    "]\n",
    "\n",
    "\n",
    "for x, y in enumerate(commands):\n",
    "    print(x, \":\", y)"
   ]
  },
  {
   "cell_type": "code",
   "execution_count": 2,
   "metadata": {},
   "outputs": [
    {
     "name": "stdout",
     "output_type": "stream",
     "text": [
      "['conda', 'package', '--pkg-name', 'site-packages', '--pkg-version', '1', '--pkg-build', '0']\n"
     ]
    }
   ],
   "source": [
    "import shlex\n",
    "\n",
    "dep = \"python==3.7.3 pandas==2.0.0 numpy==1.1.1\"\n",
    "\n",
    "test = f\"conda package --pkg-name site-packages --pkg-version 1 --pkg-build 0\"\n",
    "\n",
    "print(shlex.split(test))"
   ]
  },
  {
   "cell_type": "code",
   "execution_count": 9,
   "metadata": {},
   "outputs": [
    {
     "name": "stdout",
     "output_type": "stream",
     "text": [
      "true\n"
     ]
    }
   ],
   "source": [
    "if \"conda package --pkg-name site-packages\" in test:\n",
    "    print(\"true\")"
   ]
  },
  {
   "cell_type": "code",
   "execution_count": 17,
   "metadata": {},
   "outputs": [
    {
     "name": "stdout",
     "output_type": "stream",
     "text": [
      "conda update -n base conda : True\n",
      "conda config --add channels conda-forge : True\n",
      "conda create -n {env_name} -y {conda_deps} : True\n",
      "conda activate {env_name} : True\n",
      "conda config --set report_errors false : True\n",
      "conda install pip : True\n",
      "pip install {pip_deps} : True\n",
      "conda package --pkg-name site-packages --pkg-version 1 --pkg-build 0 : False\n",
      "conda activate base : True\n",
      "conda env remove -n {env_name} -y : True\n"
     ]
    }
   ],
   "source": [
    "commands = [\n",
    "    [\"conda update -n base conda\", True],\n",
    "    [\"conda config --add channels conda-forge\", True],\n",
    "    [\"conda create -n {env_name} -y {conda_deps}\", True],\n",
    "    [\"conda activate {env_name}\", True],\n",
    "    # \"[conda config --set channel_priority strict\"],\n",
    "    [\"conda config --set report_errors false\", True],\n",
    "    [\"conda install pip\", True],\n",
    "    [\"pip install {pip_deps}\", True],\n",
    "    [\"conda package --pkg-name site-packages --pkg-version 1 --pkg-build 0\", False],\n",
    "    [\"conda activate base\", True],\n",
    "    [\"conda env remove -n {env_name} -y\", True]\n",
    "]\n",
    "\n",
    "for cmd in commands:\n",
    "    print(cmd[0], \":\", cmd[1])"
   ]
  },
  {
   "cell_type": "code",
   "execution_count": 16,
   "metadata": {},
   "outputs": [
    {
     "name": "stdout",
     "output_type": "stream",
     "text": [
      "<class 'bool'>\n",
      "<class 'bool'>\n",
      "<class 'bool'>\n",
      "<class 'bool'>\n"
     ]
    }
   ],
   "source": [
    "ls = [True, False, True, True]\n",
    "\n",
    "for l in ls:\n",
    "    print(type(l))"
   ]
  },
  {
   "cell_type": "code",
   "execution_count": 13,
   "metadata": {},
   "outputs": [
    {
     "name": "stdout",
     "output_type": "stream",
     "text": [
      "# conda environments:\n",
      "#\n",
      "base                  *  /home/priscilla/miniconda3\n",
      "depman-f044cd8c-0d07-4738-8739-ed3751839cc7     /home/priscilla/miniconda3/envs/depman-f044cd8c-0d07-4738-8739-ed3751839cc7\n",
      "silverenv-dev            /home/priscilla/miniconda3/envs/silverenv-dev\n",
      "                         /opt/cmri/conda\n",
      "\n"
     ]
    },
    {
     "data": {
      "text/plain": [
       "CompletedProcess(args='conda env list', returncode=0)"
      ]
     },
     "execution_count": 13,
     "metadata": {},
     "output_type": "execute_result"
    }
   ],
   "source": [
    "subprocess.run(\"conda env list\", shell=True)"
   ]
  },
  {
   "cell_type": "code",
   "execution_count": 10,
   "metadata": {},
   "outputs": [
    {
     "name": "stdout",
     "output_type": "stream",
     "text": [
      "Collecting package metadata (current_repodata.json): ...working... done\n",
      "Solving environment: ...working... failed with initial frozen solve. Retrying with flexible solve.\n",
      "Collecting package metadata (repodata.json): ...working... "
     ]
    },
    {
     "ename": "KeyboardInterrupt",
     "evalue": "",
     "output_type": "error",
     "traceback": [
      "\u001b[0;31m---------------------------------------------------------------------------\u001b[0m",
      "\u001b[0;31mKeyboardInterrupt\u001b[0m                         Traceback (most recent call last)",
      "\u001b[0;32m/tmp/ipykernel_6863/3701635035.py\u001b[0m in \u001b[0;36m<module>\u001b[0;34m\u001b[0m\n\u001b[0;32m----> 1\u001b[0;31m \u001b[0msubprocess\u001b[0m\u001b[0;34m.\u001b[0m\u001b[0mrun\u001b[0m\u001b[0;34m(\u001b[0m\u001b[0mshlex\u001b[0m\u001b[0;34m.\u001b[0m\u001b[0msplit\u001b[0m\u001b[0;34m(\u001b[0m\u001b[0;34m\"conda install -y conda-build==3.21.4 constructor==3.2.1\"\u001b[0m\u001b[0;34m)\u001b[0m\u001b[0;34m)\u001b[0m\u001b[0;34m\u001b[0m\u001b[0;34m\u001b[0m\u001b[0m\n\u001b[0m",
      "\u001b[0;32m~/miniconda3/envs/silverenv-dev/lib/python3.7/subprocess.py\u001b[0m in \u001b[0;36mrun\u001b[0;34m(input, capture_output, timeout, check, *popenargs, **kwargs)\u001b[0m\n\u001b[1;32m    472\u001b[0m     \u001b[0;32mwith\u001b[0m \u001b[0mPopen\u001b[0m\u001b[0;34m(\u001b[0m\u001b[0;34m*\u001b[0m\u001b[0mpopenargs\u001b[0m\u001b[0;34m,\u001b[0m \u001b[0;34m**\u001b[0m\u001b[0mkwargs\u001b[0m\u001b[0;34m)\u001b[0m \u001b[0;32mas\u001b[0m \u001b[0mprocess\u001b[0m\u001b[0;34m:\u001b[0m\u001b[0;34m\u001b[0m\u001b[0;34m\u001b[0m\u001b[0m\n\u001b[1;32m    473\u001b[0m         \u001b[0;32mtry\u001b[0m\u001b[0;34m:\u001b[0m\u001b[0;34m\u001b[0m\u001b[0;34m\u001b[0m\u001b[0m\n\u001b[0;32m--> 474\u001b[0;31m             \u001b[0mstdout\u001b[0m\u001b[0;34m,\u001b[0m \u001b[0mstderr\u001b[0m \u001b[0;34m=\u001b[0m \u001b[0mprocess\u001b[0m\u001b[0;34m.\u001b[0m\u001b[0mcommunicate\u001b[0m\u001b[0;34m(\u001b[0m\u001b[0minput\u001b[0m\u001b[0;34m,\u001b[0m \u001b[0mtimeout\u001b[0m\u001b[0;34m=\u001b[0m\u001b[0mtimeout\u001b[0m\u001b[0;34m)\u001b[0m\u001b[0;34m\u001b[0m\u001b[0;34m\u001b[0m\u001b[0m\n\u001b[0m\u001b[1;32m    475\u001b[0m         \u001b[0;32mexcept\u001b[0m \u001b[0mTimeoutExpired\u001b[0m\u001b[0;34m:\u001b[0m\u001b[0;34m\u001b[0m\u001b[0;34m\u001b[0m\u001b[0m\n\u001b[1;32m    476\u001b[0m             \u001b[0mprocess\u001b[0m\u001b[0;34m.\u001b[0m\u001b[0mkill\u001b[0m\u001b[0;34m(\u001b[0m\u001b[0;34m)\u001b[0m\u001b[0;34m\u001b[0m\u001b[0;34m\u001b[0m\u001b[0m\n",
      "\u001b[0;32m~/miniconda3/envs/silverenv-dev/lib/python3.7/subprocess.py\u001b[0m in \u001b[0;36mcommunicate\u001b[0;34m(self, input, timeout)\u001b[0m\n\u001b[1;32m    929\u001b[0m                 \u001b[0mstderr\u001b[0m \u001b[0;34m=\u001b[0m \u001b[0mself\u001b[0m\u001b[0;34m.\u001b[0m\u001b[0mstderr\u001b[0m\u001b[0;34m.\u001b[0m\u001b[0mread\u001b[0m\u001b[0;34m(\u001b[0m\u001b[0;34m)\u001b[0m\u001b[0;34m\u001b[0m\u001b[0;34m\u001b[0m\u001b[0m\n\u001b[1;32m    930\u001b[0m                 \u001b[0mself\u001b[0m\u001b[0;34m.\u001b[0m\u001b[0mstderr\u001b[0m\u001b[0;34m.\u001b[0m\u001b[0mclose\u001b[0m\u001b[0;34m(\u001b[0m\u001b[0;34m)\u001b[0m\u001b[0;34m\u001b[0m\u001b[0;34m\u001b[0m\u001b[0m\n\u001b[0;32m--> 931\u001b[0;31m             \u001b[0mself\u001b[0m\u001b[0;34m.\u001b[0m\u001b[0mwait\u001b[0m\u001b[0;34m(\u001b[0m\u001b[0;34m)\u001b[0m\u001b[0;34m\u001b[0m\u001b[0;34m\u001b[0m\u001b[0m\n\u001b[0m\u001b[1;32m    932\u001b[0m         \u001b[0;32melse\u001b[0m\u001b[0;34m:\u001b[0m\u001b[0;34m\u001b[0m\u001b[0;34m\u001b[0m\u001b[0m\n\u001b[1;32m    933\u001b[0m             \u001b[0;32mif\u001b[0m \u001b[0mtimeout\u001b[0m \u001b[0;32mis\u001b[0m \u001b[0;32mnot\u001b[0m \u001b[0;32mNone\u001b[0m\u001b[0;34m:\u001b[0m\u001b[0;34m\u001b[0m\u001b[0;34m\u001b[0m\u001b[0m\n",
      "\u001b[0;32m~/miniconda3/envs/silverenv-dev/lib/python3.7/subprocess.py\u001b[0m in \u001b[0;36mwait\u001b[0;34m(self, timeout)\u001b[0m\n\u001b[1;32m    988\u001b[0m             \u001b[0mendtime\u001b[0m \u001b[0;34m=\u001b[0m \u001b[0m_time\u001b[0m\u001b[0;34m(\u001b[0m\u001b[0;34m)\u001b[0m \u001b[0;34m+\u001b[0m \u001b[0mtimeout\u001b[0m\u001b[0;34m\u001b[0m\u001b[0;34m\u001b[0m\u001b[0m\n\u001b[1;32m    989\u001b[0m         \u001b[0;32mtry\u001b[0m\u001b[0;34m:\u001b[0m\u001b[0;34m\u001b[0m\u001b[0;34m\u001b[0m\u001b[0m\n\u001b[0;32m--> 990\u001b[0;31m             \u001b[0;32mreturn\u001b[0m \u001b[0mself\u001b[0m\u001b[0;34m.\u001b[0m\u001b[0m_wait\u001b[0m\u001b[0;34m(\u001b[0m\u001b[0mtimeout\u001b[0m\u001b[0;34m=\u001b[0m\u001b[0mtimeout\u001b[0m\u001b[0;34m)\u001b[0m\u001b[0;34m\u001b[0m\u001b[0;34m\u001b[0m\u001b[0m\n\u001b[0m\u001b[1;32m    991\u001b[0m         \u001b[0;32mexcept\u001b[0m \u001b[0mKeyboardInterrupt\u001b[0m\u001b[0;34m:\u001b[0m\u001b[0;34m\u001b[0m\u001b[0;34m\u001b[0m\u001b[0m\n\u001b[1;32m    992\u001b[0m             \u001b[0;31m# https://bugs.python.org/issue25942\u001b[0m\u001b[0;34m\u001b[0m\u001b[0;34m\u001b[0m\u001b[0;34m\u001b[0m\u001b[0m\n",
      "\u001b[0;32m~/miniconda3/envs/silverenv-dev/lib/python3.7/subprocess.py\u001b[0m in \u001b[0;36m_wait\u001b[0;34m(self, timeout)\u001b[0m\n\u001b[1;32m   1622\u001b[0m                         \u001b[0;32mif\u001b[0m \u001b[0mself\u001b[0m\u001b[0;34m.\u001b[0m\u001b[0mreturncode\u001b[0m \u001b[0;32mis\u001b[0m \u001b[0;32mnot\u001b[0m \u001b[0;32mNone\u001b[0m\u001b[0;34m:\u001b[0m\u001b[0;34m\u001b[0m\u001b[0;34m\u001b[0m\u001b[0m\n\u001b[1;32m   1623\u001b[0m                             \u001b[0;32mbreak\u001b[0m  \u001b[0;31m# Another thread waited.\u001b[0m\u001b[0;34m\u001b[0m\u001b[0;34m\u001b[0m\u001b[0m\n\u001b[0;32m-> 1624\u001b[0;31m                         \u001b[0;34m(\u001b[0m\u001b[0mpid\u001b[0m\u001b[0;34m,\u001b[0m \u001b[0msts\u001b[0m\u001b[0;34m)\u001b[0m \u001b[0;34m=\u001b[0m \u001b[0mself\u001b[0m\u001b[0;34m.\u001b[0m\u001b[0m_try_wait\u001b[0m\u001b[0;34m(\u001b[0m\u001b[0;36m0\u001b[0m\u001b[0;34m)\u001b[0m\u001b[0;34m\u001b[0m\u001b[0;34m\u001b[0m\u001b[0m\n\u001b[0m\u001b[1;32m   1625\u001b[0m                         \u001b[0;31m# Check the pid and loop as waitpid has been known to\u001b[0m\u001b[0;34m\u001b[0m\u001b[0;34m\u001b[0m\u001b[0;34m\u001b[0m\u001b[0m\n\u001b[1;32m   1626\u001b[0m                         \u001b[0;31m# return 0 even without WNOHANG in odd situations.\u001b[0m\u001b[0;34m\u001b[0m\u001b[0;34m\u001b[0m\u001b[0;34m\u001b[0m\u001b[0m\n",
      "\u001b[0;32m~/miniconda3/envs/silverenv-dev/lib/python3.7/subprocess.py\u001b[0m in \u001b[0;36m_try_wait\u001b[0;34m(self, wait_flags)\u001b[0m\n\u001b[1;32m   1580\u001b[0m             \u001b[0;34m\"\"\"All callers to this function MUST hold self._waitpid_lock.\"\"\"\u001b[0m\u001b[0;34m\u001b[0m\u001b[0;34m\u001b[0m\u001b[0m\n\u001b[1;32m   1581\u001b[0m             \u001b[0;32mtry\u001b[0m\u001b[0;34m:\u001b[0m\u001b[0;34m\u001b[0m\u001b[0;34m\u001b[0m\u001b[0m\n\u001b[0;32m-> 1582\u001b[0;31m                 \u001b[0;34m(\u001b[0m\u001b[0mpid\u001b[0m\u001b[0;34m,\u001b[0m \u001b[0msts\u001b[0m\u001b[0;34m)\u001b[0m \u001b[0;34m=\u001b[0m \u001b[0mos\u001b[0m\u001b[0;34m.\u001b[0m\u001b[0mwaitpid\u001b[0m\u001b[0;34m(\u001b[0m\u001b[0mself\u001b[0m\u001b[0;34m.\u001b[0m\u001b[0mpid\u001b[0m\u001b[0;34m,\u001b[0m \u001b[0mwait_flags\u001b[0m\u001b[0;34m)\u001b[0m\u001b[0;34m\u001b[0m\u001b[0;34m\u001b[0m\u001b[0m\n\u001b[0m\u001b[1;32m   1583\u001b[0m             \u001b[0;32mexcept\u001b[0m \u001b[0mChildProcessError\u001b[0m\u001b[0;34m:\u001b[0m\u001b[0;34m\u001b[0m\u001b[0;34m\u001b[0m\u001b[0m\n\u001b[1;32m   1584\u001b[0m                 \u001b[0;31m# This happens if SIGCLD is set to be ignored or waiting\u001b[0m\u001b[0;34m\u001b[0m\u001b[0;34m\u001b[0m\u001b[0;34m\u001b[0m\u001b[0m\n",
      "\u001b[0;31mKeyboardInterrupt\u001b[0m: "
     ]
    }
   ],
   "source": [
    "subprocess.run(shlex.split(\"conda install -y conda-build==3.21.4 constructor==3.2.1\"))"
   ]
  },
  {
   "cell_type": "code",
   "execution_count": 6,
   "metadata": {},
   "outputs": [
    {
     "name": "stderr",
     "output_type": "stream",
     "text": [
      "WARNING: The conda.install module is deprecated and will be removed in a future release.\n"
     ]
    },
    {
     "name": "stdout",
     "output_type": "stream",
     "text": [
      "# prefix: /home/priscilla/miniconda3\n",
      "# files: 7864\n",
      "# success\n",
      "site-packages-1-py37_0.tar.bz2\n"
     ]
    },
    {
     "data": {
      "text/plain": [
       "CompletedProcess(args=['conda', 'package', '--pkg-name', 'site-packages', '--pkg-version', '1', '--pkg-build', '0'], returncode=0)"
      ]
     },
     "execution_count": 6,
     "metadata": {},
     "output_type": "execute_result"
    }
   ],
   "source": [
    "subprocess.run(shlex.split(test))"
   ]
  },
  {
   "cell_type": "code",
   "execution_count": 19,
   "metadata": {},
   "outputs": [
    {
     "name": "stdout",
     "output_type": "stream",
     "text": [
      "a\n",
      "b\n",
      "\n"
     ]
    }
   ],
   "source": [
    "import subprocess\n",
    "\n",
    "command = \"\"\"echo a; \n",
    "            echo b\"\"\"\n",
    "\n",
    "ret = subprocess.run(command, capture_output=True, shell=True)\n",
    "\n",
    "# before Python 3.7:\n",
    "# ret = subprocess.run(command, stdout=subprocess.PIPE, shell=True)\n",
    "\n",
    "print(ret.stdout.decode())"
   ]
  },
  {
   "cell_type": "code",
   "execution_count": 24,
   "metadata": {},
   "outputs": [
    {
     "name": "stdout",
     "output_type": "stream",
     "text": [
      "['conda update -n base conda', 'conda config --add channels conda-forge', 'conda create -n -y ', 'conda activate', 'conda config --set report_errors false', 'conda install pip', 'pip install', 'conda package --pkg-name site-packages --pkg-version 1 --pkg-build 0', 'conda activate base', 'conda env remove -n -y', 'bleh', 'blah', 'boo']\n"
     ]
    }
   ],
   "source": [
    "commands = [\n",
    "    \"conda update -n base conda\",\n",
    "    \"conda config --add channels conda-forge\",\n",
    "    \"conda create -n -y \",\n",
    "    \"conda activate\",\n",
    "    \"conda config --set report_errors false\",\n",
    "    \"conda install pip\",\n",
    "    \"pip install\",\n",
    "    \"conda package --pkg-name site-packages --pkg-version 1 --pkg-build 0\",\n",
    "    \"conda activate base\",\n",
    "    \"conda env remove -n -y\"\n",
    "]\n",
    "\n",
    "extra = [\"bleh\", \"blah\", \"boo\"]\n",
    "\n",
    "commands.extend(extra)\n",
    "\n",
    "print(commands)"
   ]
  },
  {
   "cell_type": "code",
   "execution_count": 22,
   "metadata": {},
   "outputs": [
    {
     "name": "stdout",
     "output_type": "stream",
     "text": [
      "a\n",
      "# conda environments:\n",
      "#\n",
      "base                  *  /home/priscilla/miniconda3\n",
      "depman-f044cd8c-0d07-4738-8739-ed3751839cc7     /home/priscilla/miniconda3/envs/depman-f044cd8c-0d07-4738-8739-ed3751839cc7\n",
      "silverenv-dev            /home/priscilla/miniconda3/envs/silverenv-dev\n",
      "                         /opt/cmri/conda\n",
      "\n",
      "total 131312\n",
      "drwx------  4 CORP\\priscilla CORP\\domain users      4096 Jan 30 13:01 .\n",
      "drwxrwxrwx 42 CORP\\priscilla CORP\\domain users      4096 Jan 30 09:52 ..\n",
      "drwxr-xr-x  2 CORP\\priscilla CORP\\domain users      4096 Jan 24 20:02 1_VAULT_PROD_OLD\n",
      "drwxr-xr-x  2 CORP\\priscilla CORP\\domain users      4096 Dec 13 10:28 ApiDiagrams-ROS2-1.0.0-Python\n",
      "-rw-r--r--  1 CORP\\priscilla CORP\\domain users     34371 Jan 19 18:19 extract_metadata_UND5-FAIL.log\n",
      "-rw-r--r--  1 CORP\\priscilla CORP\\domain users 134054365 Jan 30 13:01 site-packages-1-py37_0.tar.bz2\n",
      "-rw-r--r--  1 CORP\\priscilla CORP\\domain users     43384 Jan 30 13:32 subprocesstest.ipynb\n",
      "-rw-r--r--  1 CORP\\priscilla CORP\\domain users    291144 Jan 26 13:15 test.ipynb\n",
      "-rw-r--r--  1 CORP\\priscilla CORP\\domain users       145 Dec  8 23:04 test_py.py\n",
      "-rw-r--r--  1 CORP\\priscilla CORP\\domain users      3670 Dec 29 16:55 UnderstandPythonAPI.ipynb\n"
     ]
    },
    {
     "name": "stderr",
     "output_type": "stream",
     "text": [
      "WARNING: The conda.install module is deprecated and will be removed in a future release.\n"
     ]
    },
    {
     "name": "stdout",
     "output_type": "stream",
     "text": [
      "# prefix: /home/priscilla/miniconda3\n",
      "# files: 7864\n",
      "# success\n",
      "site-packages-1-py37_0.tar.bz2\n"
     ]
    },
    {
     "data": {
      "text/plain": [
       "CompletedProcess(args='\\n    echo a;\\n    conda env list;\\n    ls -la;\\n    conda package --pkg-name site-packages --pkg-version 1 --pkg-build 0;\\n', returncode=0)"
      ]
     },
     "execution_count": 22,
     "metadata": {},
     "output_type": "execute_result"
    }
   ],
   "source": [
    "test1 = \"\"\"\n",
    "    echo a;\n",
    "    conda env list;\n",
    "    ls -la;\n",
    "    conda package --pkg-name site-packages --pkg-version 1 --pkg-build 0;\n",
    "\"\"\"\n",
    "\n",
    "subprocess.run(test1, shell=True)"
   ]
  },
  {
   "cell_type": "code",
   "execution_count": 20,
   "metadata": {},
   "outputs": [
    {
     "name": "stdout",
     "output_type": "stream",
     "text": [
      "# conda environments:\n",
      "#\n",
      "base                  *  /home/priscilla/miniconda3\n",
      "depman-f044cd8c-0d07-4738-8739-ed3751839cc7     /home/priscilla/miniconda3/envs/depman-f044cd8c-0d07-4738-8739-ed3751839cc7\n",
      "silverenv-dev            /home/priscilla/miniconda3/envs/silverenv-dev\n",
      "                         /opt/cmri/conda\n",
      "\n"
     ]
    },
    {
     "data": {
      "text/plain": [
       "CompletedProcess(args='. $CONDA_PREFIX/etc/profile.d/conda.sh && conda env list', returncode=0)"
      ]
     },
     "execution_count": 20,
     "metadata": {},
     "output_type": "execute_result"
    }
   ],
   "source": [
    "cmds = [\n",
    "    [\"conda\", \"init\", \"bash\"],\n",
    "    [\"conda\", \"env\", \"list\"],\n",
    "    [\"echo\", \"hello\"]\n",
    "]\n",
    "subprocess.run(\". $CONDA_PREFIX/etc/profile.d/conda.sh && conda env list\", shell=True, check=True)"
   ]
  },
  {
   "cell_type": "code",
   "execution_count": 47,
   "metadata": {},
   "outputs": [
    {
     "ename": "CalledProcessError",
     "evalue": "Command '['cmri', 'Hello']' returned non-zero exit status 2.",
     "output_type": "error",
     "traceback": [
      "\u001b[0;31m---------------------------------------------------------------------------\u001b[0m",
      "\u001b[0;31mCalledProcessError\u001b[0m                        Traceback (most recent call last)",
      "\u001b[0;32m/tmp/ipykernel_27277/3371263020.py\u001b[0m in \u001b[0;36m<module>\u001b[0;34m\u001b[0m\n\u001b[1;32m      1\u001b[0m p1 = subprocess.run(\n\u001b[0;32m----> 2\u001b[0;31m     \u001b[0;34m[\u001b[0m\u001b[0;34m\"cmri\"\u001b[0m\u001b[0;34m,\u001b[0m \u001b[0;34m\"Hello\"\u001b[0m\u001b[0;34m]\u001b[0m\u001b[0;34m,\u001b[0m \u001b[0mcheck\u001b[0m\u001b[0;34m=\u001b[0m\u001b[0;32mTrue\u001b[0m\u001b[0;34m,\u001b[0m \u001b[0mcapture_output\u001b[0m\u001b[0;34m=\u001b[0m\u001b[0;32mTrue\u001b[0m\u001b[0;34m\u001b[0m\u001b[0;34m\u001b[0m\u001b[0m\n\u001b[0m\u001b[1;32m      3\u001b[0m )\n\u001b[1;32m      4\u001b[0m \u001b[0;34m\u001b[0m\u001b[0m\n\u001b[1;32m      5\u001b[0m \u001b[0mprint\u001b[0m\u001b[0;34m(\u001b[0m\u001b[0mp1\u001b[0m\u001b[0;34m.\u001b[0m\u001b[0mstderr\u001b[0m\u001b[0;34m.\u001b[0m\u001b[0mdecode\u001b[0m\u001b[0;34m(\u001b[0m\u001b[0;34m\"utf-8\"\u001b[0m\u001b[0;34m)\u001b[0m\u001b[0;34m)\u001b[0m\u001b[0;34m\u001b[0m\u001b[0;34m\u001b[0m\u001b[0m\n",
      "\u001b[0;32m~/miniconda3/envs/silverenv-dev/lib/python3.7/subprocess.py\u001b[0m in \u001b[0;36mrun\u001b[0;34m(input, capture_output, timeout, check, *popenargs, **kwargs)\u001b[0m\n\u001b[1;32m    485\u001b[0m         \u001b[0;32mif\u001b[0m \u001b[0mcheck\u001b[0m \u001b[0;32mand\u001b[0m \u001b[0mretcode\u001b[0m\u001b[0;34m:\u001b[0m\u001b[0;34m\u001b[0m\u001b[0;34m\u001b[0m\u001b[0m\n\u001b[1;32m    486\u001b[0m             raise CalledProcessError(retcode, process.args,\n\u001b[0;32m--> 487\u001b[0;31m                                      output=stdout, stderr=stderr)\n\u001b[0m\u001b[1;32m    488\u001b[0m     \u001b[0;32mreturn\u001b[0m \u001b[0mCompletedProcess\u001b[0m\u001b[0;34m(\u001b[0m\u001b[0mprocess\u001b[0m\u001b[0;34m.\u001b[0m\u001b[0margs\u001b[0m\u001b[0;34m,\u001b[0m \u001b[0mretcode\u001b[0m\u001b[0;34m,\u001b[0m \u001b[0mstdout\u001b[0m\u001b[0;34m,\u001b[0m \u001b[0mstderr\u001b[0m\u001b[0;34m)\u001b[0m\u001b[0;34m\u001b[0m\u001b[0;34m\u001b[0m\u001b[0m\n\u001b[1;32m    489\u001b[0m \u001b[0;34m\u001b[0m\u001b[0m\n",
      "\u001b[0;31mCalledProcessError\u001b[0m: Command '['cmri', 'Hello']' returned non-zero exit status 2."
     ]
    }
   ],
   "source": [
    "\n",
    "p1 = subprocess.run(\n",
    "    [\"cmri\", \"Hello\"], check=True, capture_output=True\n",
    ")\n",
    "\n",
    "print(p1.stderr.decode(\"utf-8\"))"
   ]
  },
  {
   "cell_type": "code",
   "execution_count": 10,
   "metadata": {},
   "outputs": [
    {
     "name": "stdout",
     "output_type": "stream",
     "text": [
      "Command is unrecognized by subprocess, check spelling and/or environment variables:\n",
      " [Errno 2] No such file or directory: 'unh': 'unh'\n",
      "\n",
      "FULL TRACEBACK: \n"
     ]
    },
    {
     "name": "stderr",
     "output_type": "stream",
     "text": [
      "Traceback (most recent call last):\n",
      "  File \"/tmp/ipykernel_2679/1436642733.py\", line 4, in <module>\n",
      "    [\"unh\", \"hello\"], check=True\n",
      "  File \"/home/priscilla/miniconda3/envs/silverenv-dev/lib/python3.7/subprocess.py\", line 472, in run\n",
      "    with Popen(*popenargs, **kwargs) as process:\n",
      "  File \"/home/priscilla/miniconda3/envs/silverenv-dev/lib/python3.7/subprocess.py\", line 775, in __init__\n",
      "    restore_signals, start_new_session)\n",
      "  File \"/home/priscilla/miniconda3/envs/silverenv-dev/lib/python3.7/subprocess.py\", line 1522, in _execute_child\n",
      "    raise child_exception_type(errno_num, err_msg, err_filename)\n",
      "FileNotFoundError: [Errno 2] No such file or directory: 'unh': 'unh'\n"
     ]
    }
   ],
   "source": [
    "import traceback\n",
    "try:\n",
    "    subprocess.run(\n",
    "        [\"unh\", \"hello\"], check=True\n",
    "    )\n",
    "except FileNotFoundError as exc:\n",
    "    print(\"Command is unrecognized by subprocess, check spelling and/or environment variables:\\n\", exc)\n",
    "    print(\"\\nFULL TRACEBACK: \")\n",
    "    traceback.print_exc()\n",
    "except subprocess.CalledProcessError as exc:\n",
    "    print(\"Command most likely has incorrect syntax for subprocess, ensure that all words within command is contained in a comma-separated list: \\n\", exc)"
   ]
  },
  {
   "cell_type": "code",
   "execution_count": 12,
   "metadata": {},
   "outputs": [
    {
     "name": "stdout",
     "output_type": "stream",
     "text": [
      "Collecting package metadata (current_repodata.json): ...working... done\n",
      "Solving environment: ...working... failed with repodata from current_repodata.json, will retry with next repodata source.\n",
      "Collecting package metadata (repodata.json): ...working... done\n",
      "Solving environment: ...working... done\n"
     ]
    },
    {
     "name": "stderr",
     "output_type": "stream",
     "text": [
      "\n",
      "\n",
      "==> WARNING: A newer version of conda exists. <==\n",
      "  current version: 4.12.0\n",
      "  latest version: 23.1.0\n",
      "\n",
      "Please update conda by running\n",
      "\n",
      "    $ conda update -n base -c defaults conda\n",
      "\n",
      "\n"
     ]
    },
    {
     "name": "stdout",
     "output_type": "stream",
     "text": [
      "\n",
      "## Package Plan ##\n",
      "\n",
      "  environment location: /home/priscilla/miniconda3/envs/testenv-depman\n",
      "\n",
      "  added / updated specs:\n",
      "    - alembic==1.3.1\n",
      "    - appdirs==1.4.3\n",
      "    - boto3==1.14.12\n",
      "    - cffi==1.14.0\n",
      "    - colorama==0.4.1\n",
      "    - cryptography==2.7\n",
      "    - cython[version='0.29.15,0.29.15']\n",
      "    - decorator==4.4.1\n",
      "    - flask-cors==3.0.8\n",
      "    - flask==2.0.1\n",
      "    - graphviz==2.40.1\n",
      "    - gunicorn==20.0.4\n",
      "    - ijson==3.1.3\n",
      "    - inflection==0.3.1\n",
      "    - jsonschema==3.0.1\n",
      "    - lxml==4.3.4\n",
      "    - matplotlib-base==3.1.3\n",
      "    - mysqlclient==1.4.4\n",
      "    - networkx==2.5.1\n",
      "    - numpy==1.21.5\n",
      "    - openpyxl==3.0.9\n",
      "    - pandas==1.3.0\n",
      "    - pillow==7.1.2\n",
      "    - psutil==5.6.7\n",
      "    - pymysql==0.9.3\n",
      "    - pytables==3.5.2\n",
      "    - python==3.7.3\n",
      "    - pyyaml==6.0\n",
      "    - requests==2.27.1\n",
      "    - scipy==1.2.1\n",
      "    - sqlalchemy[version='1.3.13,1.3.13']\n",
      "    - statsmodels==0.11.1\n",
      "    - supervisor==4.1.0\n",
      "    - tabulate==0.8.3\n",
      "    - xlrd==1.2.0\n",
      "    - xlsxwriter==1.2.1\n",
      "    - yaml==0.2.5\n",
      "\n",
      "\n",
      "The following packages will be downloaded:\n",
      "\n",
      "    package                    |            build\n",
      "    ---------------------------|-----------------\n",
      "    attrs-22.2.0               |     pyh71513ae_0          53 KB  conda-forge\n",
      "    blosc-1.21.3               |       hafa529b_0          39 KB  conda-forge\n",
      "    ca-certificates-2023.01.10 |       h06a4308_0         120 KB\n",
      "    certifi-2022.12.7          |     pyhd8ed1ab_0         147 KB  conda-forge\n",
      "    et_xmlfile-1.1.0           |     pyhd8ed1ab_0          10 KB  conda-forge\n",
      "    freetype-2.12.1            |       hca18f0e_1         611 KB  conda-forge\n",
      "    ijson-3.1.3                |     pyhd8ed1ab_1          26 KB  conda-forge\n",
      "    krb5-1.20.1                |       hf9c8cef_0         1.3 MB  conda-forge\n",
      "    ld_impl_linux-64-2.39      |       hcc3a1bd_1         675 KB  conda-forge\n",
      "    libcurl-7.87.0             |       h6312ad2_0         339 KB  conda-forge\n",
      "    libedit-3.1.20221030       |       h5eee18b_0         181 KB\n",
      "    libnghttp2-1.51.0          |       hdcd2b5c_0         608 KB  conda-forge\n",
      "    libpng-1.6.39              |       h753d276_0         276 KB  conda-forge\n",
      "    libtool-2.4.7              |       h27087fc_0         402 KB  conda-forge\n",
      "    lz4-c-1.9.4                |       hcb278e6_0         140 KB  conda-forge\n",
      "    mako-1.2.4                 |     pyhd8ed1ab_0          61 KB  conda-forge\n",
      "    mock-5.0.1                 |     pyhd8ed1ab_0          31 KB  conda-forge\n",
      "    ncurses-6.4                |       h6a678d5_0         914 KB\n",
      "    openssl-1.1.1s             |       h0b41bf4_1         1.9 MB  conda-forge\n",
      "    packaging-23.0             |     pyhd8ed1ab_0          40 KB  conda-forge\n",
      "    pytz-2022.7.1              |     pyhd8ed1ab_0         182 KB  conda-forge\n",
      "    sqlite-3.40.1              |       h5082296_0         1.2 MB\n",
      "    xz-5.2.10                  |       h5eee18b_1         429 KB\n",
      "    zipp-3.11.0                |     pyhd8ed1ab_0          15 KB  conda-forge\n",
      "    zstd-1.5.2                 |       h3eb15da_6         410 KB  conda-forge\n",
      "    ------------------------------------------------------------\n",
      "                                           Total:         9.9 MB\n",
      "\n",
      "The following NEW packages will be INSTALLED:\n",
      "\n",
      "  _libgcc_mutex      conda-forge/linux-64::_libgcc_mutex-0.1-conda_forge\n",
      "  _openmp_mutex      conda-forge/linux-64::_openmp_mutex-4.5-2_gnu\n",
      "  alembic            conda-forge/noarch::alembic-1.3.1-py_0\n",
      "  appdirs            conda-forge/noarch::appdirs-1.4.3-py_1\n",
      "  asn1crypto         conda-forge/noarch::asn1crypto-1.5.1-pyhd8ed1ab_0\n",
      "  attrs              conda-forge/noarch::attrs-22.2.0-pyh71513ae_0\n",
      "  blosc              conda-forge/linux-64::blosc-1.21.3-hafa529b_0\n",
      "  boto3              conda-forge/noarch::boto3-1.14.12-pyh9f0ad1d_0\n",
      "  botocore           conda-forge/noarch::botocore-1.17.63-pyh9f0ad1d_0\n",
      "  brotlipy           conda-forge/linux-64::brotlipy-0.7.0-py37h540881e_1004\n",
      "  bzip2              conda-forge/linux-64::bzip2-1.0.8-h7f98852_4\n",
      "  c-ares             conda-forge/linux-64::c-ares-1.18.1-h7f98852_0\n",
      "  ca-certificates    pkgs/main/linux-64::ca-certificates-2023.01.10-h06a4308_0\n",
      "  cairo              conda-forge/linux-64::cairo-1.16.0-hcf35c78_1003\n",
      "  certifi            conda-forge/noarch::certifi-2022.12.7-pyhd8ed1ab_0\n",
      "  cffi               conda-forge/linux-64::cffi-1.14.0-py37hd463f26_0\n",
      "  charset-normalizer conda-forge/noarch::charset-normalizer-2.0.12-pyhd8ed1ab_0\n",
      "  click              conda-forge/linux-64::click-8.1.3-py37h89c1867_0\n",
      "  colorama           conda-forge/noarch::colorama-0.4.1-py_0\n",
      "  cryptography       conda-forge/linux-64::cryptography-2.7-py37h72c5cf5_0\n",
      "  cycler             conda-forge/noarch::cycler-0.11.0-pyhd8ed1ab_0\n",
      "  cython             conda-forge/linux-64::cython-0.29.15-py37h3340039_1\n",
      "  decorator          conda-forge/noarch::decorator-4.4.1-py_0\n",
      "  docutils           conda-forge/linux-64::docutils-0.15.2-py37h89c1867_5\n",
      "  et_xmlfile         conda-forge/noarch::et_xmlfile-1.1.0-pyhd8ed1ab_0\n",
      "  expat              conda-forge/linux-64::expat-2.5.0-h27087fc_0\n",
      "  flask              conda-forge/noarch::flask-2.0.1-pyhd8ed1ab_0\n",
      "  flask-cors         conda-forge/noarch::flask-cors-3.0.8-py_0\n",
      "  fontconfig         conda-forge/linux-64::fontconfig-2.14.1-hc2a2eb6_0\n",
      "  freetype           conda-forge/linux-64::freetype-2.12.1-hca18f0e_1\n",
      "  fribidi            conda-forge/linux-64::fribidi-1.0.10-h36c2ea0_0\n",
      "  gettext            conda-forge/linux-64::gettext-0.21.1-h27087fc_0\n",
      "  glib               conda-forge/linux-64::glib-2.66.3-h58526e2_0\n",
      "  graphite2          pkgs/main/linux-64::graphite2-1.3.14-h295c915_1\n",
      "  graphviz           conda-forge/linux-64::graphviz-2.40.1-h0511662_2\n",
      "  gunicorn           conda-forge/linux-64::gunicorn-20.0.4-py37h89c1867_3\n",
      "  harfbuzz           conda-forge/linux-64::harfbuzz-2.4.0-h9f30f68_3\n",
      "  hdf5               conda-forge/linux-64::hdf5-1.10.5-nompi_h7c3c948_1111\n",
      "  icu                conda-forge/linux-64::icu-64.2-he1b5a44_1\n",
      "  idna               conda-forge/noarch::idna-3.4-pyhd8ed1ab_0\n",
      "  ijson              conda-forge/noarch::ijson-3.1.3-pyhd8ed1ab_1\n",
      "  importlib-metadata conda-forge/linux-64::importlib-metadata-4.11.4-py37h89c1867_0\n",
      "  inflection         conda-forge/noarch::inflection-0.3.1-py_1\n",
      "  itsdangerous       conda-forge/noarch::itsdangerous-2.1.2-pyhd8ed1ab_0\n",
      "  jinja2             conda-forge/noarch::jinja2-3.1.2-pyhd8ed1ab_1\n",
      "  jmespath           conda-forge/noarch::jmespath-0.10.0-pyh9f0ad1d_0\n",
      "  jpeg               conda-forge/linux-64::jpeg-9e-h166bdaf_2\n",
      "  jsonschema         conda-forge/linux-64::jsonschema-3.0.1-py37_0\n",
      "  keyutils           conda-forge/linux-64::keyutils-1.6.1-h166bdaf_0\n",
      "  kiwisolver         conda-forge/linux-64::kiwisolver-1.4.4-py37h7cecad7_0\n",
      "  krb5               conda-forge/linux-64::krb5-1.20.1-hf9c8cef_0\n",
      "  ld_impl_linux-64   conda-forge/linux-64::ld_impl_linux-64-2.39-hcc3a1bd_1\n",
      "  libblas            conda-forge/linux-64::libblas-3.9.0-13_linux64_openblas\n",
      "  libcblas           conda-forge/linux-64::libcblas-3.9.0-13_linux64_openblas\n",
      "  libcurl            conda-forge/linux-64::libcurl-7.87.0-h6312ad2_0\n",
      "  libedit            pkgs/main/linux-64::libedit-3.1.20221030-h5eee18b_0\n",
      "  libev              conda-forge/linux-64::libev-4.33-h516909a_1\n",
      "  libffi             conda-forge/linux-64::libffi-3.2.1-he1b5a44_1007\n",
      "  libgcc-ng          conda-forge/linux-64::libgcc-ng-12.2.0-h65d4601_19\n",
      "  libgfortran-ng     conda-forge/linux-64::libgfortran-ng-7.5.0-h14aa051_20\n",
      "  libgfortran4       conda-forge/linux-64::libgfortran4-7.5.0-h14aa051_20\n",
      "  libglib            conda-forge/linux-64::libglib-2.66.3-hbe7bbb4_0\n",
      "  libgomp            conda-forge/linux-64::libgomp-12.2.0-h65d4601_19\n",
      "  libiconv           conda-forge/linux-64::libiconv-1.17-h166bdaf_0\n",
      "  liblapack          conda-forge/linux-64::liblapack-3.9.0-13_linux64_openblas\n",
      "  libnghttp2         conda-forge/linux-64::libnghttp2-1.51.0-hdcd2b5c_0\n",
      "  libopenblas        pkgs/main/linux-64::libopenblas-0.3.18-hf726d26_0\n",
      "  libpng             conda-forge/linux-64::libpng-1.6.39-h753d276_0\n",
      "  libssh2            conda-forge/linux-64::libssh2-1.10.0-haa6b8db_3\n",
      "  libstdcxx-ng       conda-forge/linux-64::libstdcxx-ng-12.2.0-h46fd767_19\n",
      "  libtiff            conda-forge/linux-64::libtiff-4.2.0-hf544144_3\n",
      "  libtool            conda-forge/linux-64::libtool-2.4.7-h27087fc_0\n",
      "  libuuid            conda-forge/linux-64::libuuid-2.32.1-h7f98852_1000\n",
      "  libwebp-base       conda-forge/linux-64::libwebp-base-1.2.4-h166bdaf_0\n",
      "  libxcb             pkgs/main/linux-64::libxcb-1.15-h7f8727e_0\n",
      "  libxml2            conda-forge/linux-64::libxml2-2.9.10-hee79883_0\n",
      "  libxslt            conda-forge/linux-64::libxslt-1.1.33-h31b3aaa_0\n",
      "  libzlib            conda-forge/linux-64::libzlib-1.2.13-h166bdaf_4\n",
      "  lxml               conda-forge/linux-64::lxml-4.3.4-py37h7ec2d77_0\n",
      "  lz4-c              conda-forge/linux-64::lz4-c-1.9.4-hcb278e6_0\n",
      "  lzo                conda-forge/linux-64::lzo-2.10-h516909a_1000\n",
      "  mako               conda-forge/noarch::mako-1.2.4-pyhd8ed1ab_0\n",
      "  markupsafe         conda-forge/linux-64::markupsafe-2.1.1-py37h540881e_1\n",
      "  matplotlib-base    conda-forge/linux-64::matplotlib-base-3.1.3-py37h250f245_0\n",
      "  mock               conda-forge/noarch::mock-5.0.1-pyhd8ed1ab_0\n",
      "  mysql-connector-c  conda-forge/linux-64::mysql-connector-c-6.1.11-h6eb9d5d_1007\n",
      "  mysqlclient        conda-forge/linux-64::mysqlclient-1.4.4-py37he1b5a44_0\n",
      "  ncurses            pkgs/main/linux-64::ncurses-6.4-h6a678d5_0\n",
      "  networkx           conda-forge/noarch::networkx-2.5.1-pyhd8ed1ab_0\n",
      "  nomkl              conda-forge/noarch::nomkl-1.0-h5ca1d4c_0\n",
      "  numexpr            conda-forge/linux-64::numexpr-2.8.3-py37h85a3170_100\n",
      "  numpy              conda-forge/linux-64::numpy-1.21.5-py37h976b520_1\n",
      "  olefile            conda-forge/noarch::olefile-0.46-pyh9f0ad1d_1\n",
      "  openpyxl           conda-forge/noarch::openpyxl-3.0.9-pyhd8ed1ab_0\n",
      "  openssl            conda-forge/linux-64::openssl-1.1.1s-h0b41bf4_1\n",
      "  packaging          conda-forge/noarch::packaging-23.0-pyhd8ed1ab_0\n",
      "  pandas             conda-forge/linux-64::pandas-1.3.0-py37h219a48f_0\n",
      "  pango              conda-forge/linux-64::pango-1.42.4-h7062337_4\n",
      "  patsy              conda-forge/noarch::patsy-0.5.3-pyhd8ed1ab_0\n",
      "  pcre               conda-forge/linux-64::pcre-8.45-h9c3ff4c_0\n",
      "  pillow             conda-forge/linux-64::pillow-7.1.2-py37h718be6c_0\n",
      "  pip                conda-forge/noarch::pip-22.3.1-pyhd8ed1ab_0\n",
      "  pixman             conda-forge/linux-64::pixman-0.38.0-h516909a_1003\n",
      "  psutil             conda-forge/linux-64::psutil-5.6.7-py37h516909a_0\n",
      "  pycparser          conda-forge/noarch::pycparser-2.21-pyhd8ed1ab_0\n",
      "  pymysql            conda-forge/noarch::pymysql-0.9.3-py_0\n",
      "  pyopenssl          conda-forge/linux-64::pyopenssl-19.0.0-py37_0\n",
      "  pyparsing          conda-forge/noarch::pyparsing-3.0.9-pyhd8ed1ab_0\n",
      "  pyrsistent         conda-forge/linux-64::pyrsistent-0.18.1-py37h540881e_1\n",
      "  pysocks            conda-forge/linux-64::pysocks-1.7.1-py37h89c1867_5\n",
      "  pytables           conda-forge/linux-64::pytables-3.5.2-py37h9f153d1_2\n",
      "  python             conda-forge/linux-64::python-3.7.3-h357f687_2\n",
      "  python-dateutil    conda-forge/noarch::python-dateutil-2.8.2-pyhd8ed1ab_0\n",
      "  python-editor      conda-forge/noarch::python-editor-1.0.4-py_0\n",
      "  python_abi         conda-forge/linux-64::python_abi-3.7-2_cp37m\n",
      "  pytz               conda-forge/noarch::pytz-2022.7.1-pyhd8ed1ab_0\n",
      "  pyyaml             conda-forge/linux-64::pyyaml-6.0-py37h540881e_4\n",
      "  readline           pkgs/main/linux-64::readline-8.2-h5eee18b_0\n",
      "  requests           conda-forge/noarch::requests-2.27.1-pyhd8ed1ab_0\n",
      "  s3transfer         conda-forge/noarch::s3transfer-0.3.7-pyhd8ed1ab_0\n",
      "  scipy              conda-forge/linux-64::scipy-1.2.1-py37h09a28d5_1\n",
      "  setuptools         conda-forge/linux-64::setuptools-59.8.0-py37h89c1867_1\n",
      "  six                conda-forge/noarch::six-1.16.0-pyh6c4a22f_0\n",
      "  snappy             conda-forge/linux-64::snappy-1.1.9-hbd366e4_2\n",
      "  sqlalchemy         conda-forge/linux-64::sqlalchemy-1.3.13-py37h516909a_0\n",
      "  sqlite             pkgs/main/linux-64::sqlite-3.40.1-h5082296_0\n",
      "  statsmodels        conda-forge/linux-64::statsmodels-0.11.1-py37h8f50634_2\n",
      "  supervisor         conda-forge/linux-64::supervisor-4.1.0-py37hc8dfbb8_2\n",
      "  tabulate           conda-forge/noarch::tabulate-0.8.3-py_0\n",
      "  tk                 conda-forge/linux-64::tk-8.6.12-h27826a3_0\n",
      "  tornado            conda-forge/linux-64::tornado-6.2-py37h540881e_0\n",
      "  typing-extensions  conda-forge/noarch::typing-extensions-4.4.0-hd8ed1ab_0\n",
      "  typing_extensions  conda-forge/noarch::typing_extensions-4.4.0-pyha770c72_0\n",
      "  urllib3            conda-forge/noarch::urllib3-1.25.11-py_0\n",
      "  werkzeug           conda-forge/noarch::werkzeug-2.2.2-pyhd8ed1ab_0\n",
      "  wheel              conda-forge/noarch::wheel-0.38.4-pyhd8ed1ab_0\n",
      "  xlrd               conda-forge/noarch::xlrd-1.2.0-pyh9f0ad1d_1\n",
      "  xlsxwriter         conda-forge/noarch::xlsxwriter-1.2.1-py_0\n",
      "  xorg-kbproto       conda-forge/linux-64::xorg-kbproto-1.0.7-h7f98852_1002\n",
      "  xorg-libice        conda-forge/linux-64::xorg-libice-1.0.10-h7f98852_0\n",
      "  xorg-libsm         conda-forge/linux-64::xorg-libsm-1.2.3-hd9c2040_1000\n",
      "  xorg-libx11        conda-forge/linux-64::xorg-libx11-1.7.2-h7f98852_0\n",
      "  xorg-libxext       conda-forge/linux-64::xorg-libxext-1.3.4-h7f98852_1\n",
      "  xorg-libxpm        conda-forge/linux-64::xorg-libxpm-3.5.13-h7f98852_0\n",
      "  xorg-libxrender    conda-forge/linux-64::xorg-libxrender-0.9.10-h7f98852_1003\n",
      "  xorg-libxt         conda-forge/linux-64::xorg-libxt-1.2.1-h7f98852_2\n",
      "  xorg-renderproto   conda-forge/linux-64::xorg-renderproto-0.11.1-h7f98852_1002\n",
      "  xorg-xextproto     conda-forge/linux-64::xorg-xextproto-7.3.0-h7f98852_1002\n",
      "  xorg-xproto        conda-forge/linux-64::xorg-xproto-7.0.31-h7f98852_1007\n",
      "  xz                 pkgs/main/linux-64::xz-5.2.10-h5eee18b_1\n",
      "  yaml               conda-forge/linux-64::yaml-0.2.5-h7f98852_2\n",
      "  zipp               conda-forge/noarch::zipp-3.11.0-pyhd8ed1ab_0\n",
      "  zlib               conda-forge/linux-64::zlib-1.2.13-h166bdaf_4\n",
      "  zstd               conda-forge/linux-64::zstd-1.5.2-h3eb15da_6\n",
      "\n",
      "\n",
      "\n",
      "Downloading and Extracting Packages\n",
      "ncurses-6.4          | 914 KB    | ########## | 100% \n",
      "krb5-1.20.1          | 1.3 MB    | ########## | 100% \n",
      "lz4-c-1.9.4          | 140 KB    | ########## | 100% \n",
      "libtool-2.4.7        | 402 KB    | ########## | 100% \n",
      "sqlite-3.40.1        | 1.2 MB    | ########## | 100% \n",
      "zstd-1.5.2           | 410 KB    | ########## | 100% \n",
      "ld_impl_linux-64-2.3 | 675 KB    | ########## | 100% \n",
      "ijson-3.1.3          | 26 KB     | ########## | 100% \n",
      "attrs-22.2.0         | 53 KB     | ########## | 100% \n",
      "freetype-2.12.1      | 611 KB    | ########## | 100% \n",
      "libedit-3.1.20221030 | 181 KB    | ########## | 100% \n",
      "mako-1.2.4           | 61 KB     | ########## | 100% \n",
      "mock-5.0.1           | 31 KB     | ########## | 100% \n",
      "ca-certificates-2023 | 120 KB    | ########## | 100% \n",
      "et_xmlfile-1.1.0     | 10 KB     | ########## | 100% \n",
      "xz-5.2.10            | 429 KB    | ########## | 100% \n",
      "packaging-23.0       | 40 KB     | ########## | 100% \n",
      "openssl-1.1.1s       | 1.9 MB    | ########## | 100% \n",
      "blosc-1.21.3         | 39 KB     | ########## | 100% \n",
      "certifi-2022.12.7    | 147 KB    | ########## | 100% \n",
      "libcurl-7.87.0       | 339 KB    | ########## | 100% \n",
      "libpng-1.6.39        | 276 KB    | ########## | 100% \n",
      "pytz-2022.7.1        | 182 KB    | ########## | 100% \n",
      "libnghttp2-1.51.0    | 608 KB    | ########## | 100% \n",
      "zipp-3.11.0          | 15 KB     | ########## | 100% \n",
      "Preparing transaction: ...working... done\n",
      "Verifying transaction: ...working... done\n",
      "Executing transaction: ...working... done\n",
      "#\n",
      "# To activate this environment, use\n",
      "#\n",
      "#     $ conda activate testenv-depman\n",
      "#\n",
      "# To deactivate an active environment, use\n",
      "#\n",
      "#     $ conda deactivate\n",
      "\n"
     ]
    }
   ],
   "source": [
    "try:\n",
    "    subprocess.run(\n",
    "            ['conda', 'create', '-n', 'testenv-depman', '-y', \"python==3.7.3\", \"Cython==0.29.15\", \"Flask==2.0.1\", \"SQLAlchemy==1.3.13\", \"alembic==1.3.1\", \"appdirs==1.4.3\", \"boto3==1.14.12\", \"cffi==1.14.0\", \"colorama==0.4.1\", \"cryptography==2.7\", \"cython==0.29.15\", \"decorator==4.4.1\", \"flask-cors==3.0.8\", \"graphviz==2.40.1\", \"gunicorn==20.0.4\", \"ijson==3.1.3\", \"inflection==0.3.1\", \"jsonschema==3.0.1\", \"lxml==4.3.4\", \"matplotlib-base==3.1.3\", \"mysqlclient==1.4.4\", \"networkx==2.5.1\", \"numpy==1.21.5\", \"openpyxl==3.0.9\", \"pandas==1.3.0\", \"pillow==7.1.2\", \"psutil==5.6.7\", \"pymysql==0.9.3\", \"pytables==3.5.2\", \"pyyaml==6.0\", \"requests==2.27.1\", \"scipy==1.2.1\", \"sqlalchemy==1.3.13\", \"statsmodels==0.11.1\", \"supervisor==4.1.0\", \"tabulate==0.8.3\", \"xlrd==1.2.0\", \"xlsxwriter==1.2.1\", \"yaml==0.2.5\"],  check=True\n",
    "        )\n",
    "except subprocess.CalledProcessError as exc:\n",
    "    print(exc)"
   ]
  },
  {
   "cell_type": "code",
   "execution_count": 2,
   "metadata": {},
   "outputs": [
    {
     "name": "stdout",
     "output_type": "stream",
     "text": [
      "Collecting package metadata (current_repodata.json): ...working... done\n",
      "Solving environment: ...working... done\n"
     ]
    },
    {
     "name": "stderr",
     "output_type": "stream",
     "text": [
      "\n",
      "\n",
      "==> WARNING: A newer version of conda exists. <==\n",
      "  current version: 4.12.0\n",
      "  latest version: 23.1.0\n",
      "\n",
      "Please update conda by running\n",
      "\n",
      "    $ conda update -n base -c defaults conda\n",
      "\n",
      "\n"
     ]
    },
    {
     "name": "stdout",
     "output_type": "stream",
     "text": [
      "\n",
      "## Package Plan ##\n",
      "\n",
      "  environment location: /home/priscilla/miniconda3/envs/{env_name}\n",
      "\n",
      "\n",
      "\n",
      "Preparing transaction: ...working... done\n",
      "Verifying transaction: ...working... done\n",
      "Executing transaction: ...working... done\n",
      "#\n",
      "# To activate this environment, use\n",
      "#\n",
      "#     $ conda activate {env_name}\n",
      "#\n",
      "# To deactivate an active environment, use\n",
      "#\n",
      "#     $ conda deactivate\n",
      "\n"
     ]
    }
   ],
   "source": [
    "env_name = \"testenv\"\n",
    "\n",
    "try:\n",
    "    subprocess.run(\n",
    "            [\"conda\", \"create\", \"-n\", \"{env_name}\", \"-y\"],  check=True\n",
    "        )\n",
    "except subprocess.CalledProcessError as exc:\n",
    "    print(exc)"
   ]
  }
 ],
 "metadata": {
  "kernelspec": {
   "display_name": "silverenv-dev",
   "language": "python",
   "name": "python3"
  },
  "language_info": {
   "codemirror_mode": {
    "name": "ipython",
    "version": 3
   },
   "file_extension": ".py",
   "mimetype": "text/x-python",
   "name": "python",
   "nbconvert_exporter": "python",
   "pygments_lexer": "ipython3",
   "version": "3.7.3"
  },
  "orig_nbformat": 4,
  "vscode": {
   "interpreter": {
    "hash": "6b875d1da4c105dce47f01e56c9f0fa4799086b716b41172af94d9aa9828c428"
   }
  }
 },
 "nbformat": 4,
 "nbformat_minor": 2
}
