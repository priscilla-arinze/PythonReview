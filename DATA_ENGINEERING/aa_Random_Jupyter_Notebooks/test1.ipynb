{
 "cells": [
  {
   "cell_type": "code",
   "execution_count": 1,
   "metadata": {},
   "outputs": [],
   "source": [
    "import pandas as pd\n",
    "from pandas import DataFrame"
   ]
  },
  {
   "cell_type": "code",
   "execution_count": 2,
   "metadata": {},
   "outputs": [
    {
     "name": "stdout",
     "output_type": "stream",
     "text": [
      "C:\\Program Files (x86)\\Microsoft Visual Studio\\2018\\Community\\Common7\\IDE\\devenv\n"
     ]
    }
   ],
   "source": [
    "x = r'C:\\Program Files (x86)\\Microsoft Visual Studio\\{yr}\\Community\\Common7\\IDE\\devenv'.format(yr='2018')\n",
    "\n",
    "print(x)"
   ]
  },
  {
   "cell_type": "code",
   "execution_count": 18,
   "metadata": {},
   "outputs": [
    {
     "name": "stdout",
     "output_type": "stream",
     "text": [
      "None\n"
     ]
    }
   ],
   "source": [
    "import shutil\n",
    "\n",
    "print(shutil.which('devenv'))"
   ]
  },
  {
   "cell_type": "code",
   "execution_count": 23,
   "metadata": {},
   "outputs": [
    {
     "name": "stdout",
     "output_type": "stream",
     "text": [
      "D:\\Users\\priscillaw\\1_PROJECTS\\hephaestus\\windows\\CodeMRI Platform.sln /Rebuild Release\n"
     ]
    }
   ],
   "source": [
    "cmd2 = [\"D:\\\\Users\\\\priscillaw\\\\1_PROJECTS\\\\hephaestus\\\\windows\\\\CodeMRI Platform.sln\", \"/Rebuild\", \"Release\"]\n",
    "\n",
    "print(' '.join(cmd2))"
   ]
  },
  {
   "cell_type": "code",
   "execution_count": 22,
   "metadata": {},
   "outputs": [
    {
     "ename": "Exception",
     "evalue": "Visual Studio IDE is not installed and it is required in order to create an MSI. Please install Visual Studio 2017 or 2019.",
     "output_type": "error",
     "traceback": [
      "\u001b[1;31m---------------------------------------------------------------------------\u001b[0m",
      "\u001b[1;31mException\u001b[0m                                 Traceback (most recent call last)",
      "\u001b[1;32m~\\AppData\\Local\\Temp\\1\\ipykernel_12784\\2946319612.py\u001b[0m in \u001b[0;36m<module>\u001b[1;34m\u001b[0m\n\u001b[0;32m     21\u001b[0m         \u001b[1;32mraise\u001b[0m \u001b[0mException\u001b[0m\u001b[1;33m(\u001b[0m\u001b[1;34m\"Visual Studio IDE is not installed and it is required in order to create an MSI. Please install Visual Studio 2017 or 2019.\"\u001b[0m\u001b[1;33m)\u001b[0m\u001b[1;33m\u001b[0m\u001b[1;33m\u001b[0m\u001b[0m\n\u001b[0;32m     22\u001b[0m \u001b[1;33m\u001b[0m\u001b[0m\n\u001b[1;32m---> 23\u001b[1;33m \u001b[0mprint\u001b[0m\u001b[1;33m(\u001b[0m\u001b[0mdevenv_exe\u001b[0m\u001b[1;33m(\u001b[0m\u001b[1;33m)\u001b[0m\u001b[1;33m)\u001b[0m\u001b[1;33m\u001b[0m\u001b[1;33m\u001b[0m\u001b[0m\n\u001b[0m",
      "\u001b[1;32m~\\AppData\\Local\\Temp\\1\\ipykernel_12784\\2946319612.py\u001b[0m in \u001b[0;36mdevenv_exe\u001b[1;34m()\u001b[0m\n\u001b[0;32m     19\u001b[0m                     \u001b[1;32mreturn\u001b[0m \u001b[0mdevenv_path\u001b[0m\u001b[1;33m\u001b[0m\u001b[1;33m\u001b[0m\u001b[0m\n\u001b[0;32m     20\u001b[0m \u001b[1;33m\u001b[0m\u001b[0m\n\u001b[1;32m---> 21\u001b[1;33m         \u001b[1;32mraise\u001b[0m \u001b[0mException\u001b[0m\u001b[1;33m(\u001b[0m\u001b[1;34m\"Visual Studio IDE is not installed and it is required in order to create an MSI. Please install Visual Studio 2017 or 2019.\"\u001b[0m\u001b[1;33m)\u001b[0m\u001b[1;33m\u001b[0m\u001b[1;33m\u001b[0m\u001b[0m\n\u001b[0m\u001b[0;32m     22\u001b[0m \u001b[1;33m\u001b[0m\u001b[0m\n\u001b[0;32m     23\u001b[0m \u001b[0mprint\u001b[0m\u001b[1;33m(\u001b[0m\u001b[0mdevenv_exe\u001b[0m\u001b[1;33m(\u001b[0m\u001b[1;33m)\u001b[0m\u001b[1;33m)\u001b[0m\u001b[1;33m\u001b[0m\u001b[1;33m\u001b[0m\u001b[0m\n",
      "\u001b[1;31mException\u001b[0m: Visual Studio IDE is not installed and it is required in order to create an MSI. Please install Visual Studio 2017 or 2019."
     ]
    }
   ],
   "source": [
    "import shutil\n",
    "import os\n",
    "\n",
    "def devenv_exe():\n",
    "        \"\"\"\n",
    "        The path of the Visual Studio command line utility tool used to create MSI files.\n",
    "\n",
    "        Returns:\n",
    "            str: The path to the the Visual Studio command line utility tool used to create MSI files.\n",
    "        \"\"\"\n",
    "        if shutil.which('devenv'):\n",
    "            return shutil.which('devenv')\n",
    "        else:\n",
    "            vs_version_years = ['2017', '2018', '2019', '2022']\n",
    "\n",
    "            for year in vs_version_years:\n",
    "                devenv_path = r'C:\\Program Files (x86)\\Microsoft Visual Studio\\{yr}\\Community\\Common7\\IDE\\devev.exe'.format(yr=year)\n",
    "                if os.path.exists(devenv_path): \n",
    "                    return devenv_path\n",
    "\n",
    "        raise Exception(\"Visual Studio IDE is not installed and it is required in order to create an MSI. Please install Visual Studio 2017 or 2019.\")\n",
    "\n",
    "print(devenv_exe())"
   ]
  },
  {
   "cell_type": "code",
   "execution_count": 50,
   "metadata": {},
   "outputs": [
    {
     "data": {
      "text/plain": [
       "'C:\\\\Program Files (x86)\\\\Microsoft Visual Studio\\\\2017\\\\Community\\\\Common7\\\\IDE\\\\CommonExtensions\\\\Microsoft\\\\VSI'"
      ]
     },
     "execution_count": 50,
     "metadata": {},
     "output_type": "execute_result"
    }
   ],
   "source": [
    "import os\n",
    "\n",
    "os.path.dirname(\"C:\\\\Program Files (x86)\\\\Microsoft Visual Studio\\\\2017\\\\Community\\\\Common7\\\\IDE\\\\CommonExtensions\\\\Microsoft\\\\VSI\\\\DisableOutOfProcBuild\")"
   ]
  },
  {
   "cell_type": "code",
   "execution_count": 15,
   "metadata": {},
   "outputs": [
    {
     "name": "stdout",
     "output_type": "stream",
     "text": [
      "False\n"
     ]
    }
   ],
   "source": [
    "import os\n",
    "\n",
    "print(os.path.exists(os.path.normpath('C:\\\\Program Files (x86)\\\\Microsoft Visual Studio\\\\2017\\\\Community\\\\Common7\\\\IDE\\\\devenv')))"
   ]
  },
  {
   "cell_type": "code",
   "execution_count": 1,
   "metadata": {},
   "outputs": [
    {
     "name": "stdout",
     "output_type": "stream",
     "text": [
      "None\n"
     ]
    }
   ],
   "source": [
    "import shutil\n",
    "\n",
    "print(shutil.which('devenv'))"
   ]
  },
  {
   "cell_type": "code",
   "execution_count": 42,
   "metadata": {},
   "outputs": [
    {
     "name": "stdout",
     "output_type": "stream",
     "text": [
      "OUTPUT:  \n",
      "(windev) d:\\Users\\priscillaw\\Downloads>call echo CURRENT COMMAND: conda env list \n",
      "CURRENT COMMAND: conda env list\n",
      "\n",
      "(windev) d:\\Users\\priscillaw\\Downloads>call conda env list \n",
      "# conda environments:\n",
      "#\n",
      "base                     D:\\Users\\priscillaw\\miniconda3\n",
      "testenv                  D:\\Users\\priscillaw\\miniconda3\\envs\\testenv\n",
      "windev                *  D:\\Users\\priscillaw\\miniconda3\\envs\\windev\n",
      "\n",
      "\n",
      "(windev) d:\\Users\\priscillaw\\Downloads>call echo CURRENT COMMAND: echo hello \n",
      "CURRENT COMMAND: echo hello\n",
      "\n",
      "(windev) d:\\Users\\priscillaw\\Downloads>call echl hello   || exit /b 0 \n",
      "\n",
      "ERROR:  'echl' is not recognized as an internal or external command,\n",
      "operable program or batch file.\n",
      "\n"
     ]
    }
   ],
   "source": [
    "import subprocess\n",
    "\n",
    "x = subprocess.run(\"D:/Users/priscillaw/Documents/testerror.bat\", stdout=subprocess.PIPE, stderr=subprocess.PIPE, check=True)\n",
    "\n",
    "print(\"OUTPUT: \", x.stdout.decode('utf-8'))\n",
    "print(\"ERROR: \", x.stderr.decode('utf-8'))"
   ]
  },
  {
   "cell_type": "code",
   "execution_count": 1,
   "metadata": {},
   "outputs": [
    {
     "name": "stdout",
     "output_type": "stream",
     "text": [
      "not good:  ('inner exception: ', NameError(\"name 'prin' is not defined\"))\n",
      "executes regardless\n"
     ]
    },
    {
     "name": "stderr",
     "output_type": "stream",
     "text": [
      "Traceback (most recent call last):\n",
      "  File \"D:\\Users\\priscillaw\\AppData\\Local\\Temp\\1\\ipykernel_11356\\1247754325.py\", line 6, in bleh\n",
      "    prin(\"banana\")\n",
      "NameError: name 'prin' is not defined\n"
     ]
    },
    {
     "data": {
      "text/plain": [
       "False"
      ]
     },
     "execution_count": 1,
     "metadata": {},
     "output_type": "execute_result"
    }
   ],
   "source": [
    "import traceback\n",
    "\n",
    "def bleh():\n",
    "    try:\n",
    "        try:\n",
    "            prin(\"banana\")\n",
    "        except Exception as exc:\n",
    "            traceback.print_exc()\n",
    "            raise Exception(\"inner exception: \", exc)\n",
    "        print(\"execute?\")\n",
    "    except Exception as exc:\n",
    "        print(\"not good: \", exc)\n",
    "        return False\n",
    "    finally:\n",
    "        print(\"executes regardless\")\n",
    "\n",
    "bleh()"
   ]
  },
  {
   "cell_type": "code",
   "execution_count": 11,
   "metadata": {},
   "outputs": [
    {
     "name": "stdout",
     "output_type": "stream",
     "text": [
      "Writing constructor file:\n",
      "name: cmri\n",
      "version: 1\n",
      "\n",
      "ignore_duplicate_files: True\n",
      "\n",
      "channels:\n",
      "    - file:///d:/Users/priscillaw/1_PROJECTS/hephaestus/build/conda-dist/build_resources\n",
      "    - http://repo.anaconda.com/pkgs/main/\n",
      "    - http://repo.anaconda.com/pkgs/free/\n",
      "    - conda-forge\n",
      "\n",
      "channels_remap:\n",
      "    - src: file:///d:/Users/priscillaw/1_PROJECTS/hephaestus/build/conda-dist/build_resources\n",
      "      dest: https://conda.anaconda.org/conda-forge/\n",
      "specs:\n",
      "    - site-packages==1\n",
      "    - python==3.7.3  \n",
      "    - alembic==1.3.1  \n",
      "    - appdirs==1.4.3  \n",
      "    - colorama==0.4.1  \n",
      "    - cryptography==2.7  \n",
      "    - cython==0.29.15  \n",
      "    - graphviz==2.50.0  \n",
      "    - ijson==3.1.3  \n",
      "    - inflection==0.3.1  \n",
      "    - jsonschema==3.0.1  \n",
      "    - lxml==4.3.4  \n",
      "    - matplotlib-base==3.1.3  \n",
      "    - networkx==2.5.1  \n",
      "    - numpy==1.21.5  \n",
      "    - openpyxl==3.0.9  \n",
      "    - pandas==1.3.0  \n",
      "    - pillow==7.1.2  \n",
      "    - psutil==5.6.7  \n",
      "    - pytables==3.5.2  \n",
      "    - pywin32==223  \n",
      "    - pyyaml==6.0  \n",
      "    - requests==2.28.1  \n",
      "    - scipy==1.2.1  \n",
      "    - sqlalchemy==1.3.13  \n",
      "    - statsmodels==0.11.1  \n",
      "    - tabulate==0.8.3  \n",
      "    - xlrd==1.2.0  \n",
      "    - xlsxwriter==1.2.1  \n",
      "    - yaml==0.2.5\n"
     ]
    }
   ],
   "source": [
    "from textwrap import dedent\n",
    "\n",
    "conda_deps = [\"python==3.7.3\", \"alembic==1.3.1\", \"appdirs==1.4.3\", \"colorama==0.4.1\", \"cryptography==2.7\", \"cython==0.29.15\", \"graphviz==2.50.0\", \"ijson==3.1.3\", \"inflection==0.3.1\", \"jsonschema==3.0.1\", \"lxml==4.3.4\", \"matplotlib-base==3.1.3\", \"networkx==2.5.1\", \"numpy==1.21.5\", \"openpyxl==3.0.9\", \"pandas==1.3.0\", \"pillow==7.1.2\", \"psutil==5.6.7\", \"pytables==3.5.2\", \"pywin32==223\", \"pyyaml==6.0\", \"requests==2.28.1\", \"scipy==1.2.1\", \"sqlalchemy==1.3.13\", \"statsmodels==0.11.1\", \"tabulate==0.8.3\", \"xlrd==1.2.0\", \"xlsxwriter==1.2.1\", \"yaml==0.2.5\"]\n",
    "\n",
    "constructor_content = dedent(\"\"\"\n",
    "                    name: {name}\n",
    "                    version: {version}\n",
    "\n",
    "                    ignore_duplicate_files: True\n",
    "\n",
    "                    channels:\n",
    "                        - file://{repo}\n",
    "                        - http://repo.anaconda.com/pkgs/main/\n",
    "                        - http://repo.anaconda.com/pkgs/free/\n",
    "                        - conda-forge\n",
    "                        \n",
    "                    channels_remap:\n",
    "                        - src: file://{repo}\n",
    "                          dest: https://conda.anaconda.org/conda-forge/\n",
    "                    specs:\n",
    "                        - site-packages==1\n",
    "                    {deps}\n",
    "                    \"\"\").strip().format(\n",
    "                    name=\"cmri\",\n",
    "                    version=1,\n",
    "                    repo=\"/d:/Users/priscillaw/1_PROJECTS/hephaestus/build/conda-dist/build_resources\",\n",
    "                    deps='  \\n'.join(map('    - {}'.format, conda_deps)))\n",
    "\n",
    "print(\"Writing constructor file:\\n%s\" % constructor_content)"
   ]
  },
  {
   "cell_type": "code",
   "execution_count": 2,
   "metadata": {},
   "outputs": [],
   "source": [
    "import os\n",
    "\n",
    "x = os.path.join(os.getcwd(), 'new_folder')\n",
    "\n",
    "os.makedirs(x)"
   ]
  },
  {
   "cell_type": "code",
   "execution_count": 2,
   "metadata": {},
   "outputs": [],
   "source": [
    "file_list_columns = ['Filename','Extension','Language','Network ID','Network Group Size','Architecture Type - Core-Periphery',\n",
    "        'Architecture Type - Median','Cyclic Group Size','Cyclic Group ID','Core ID','Fan-In','Fan-Out','Visibility Fan-In','Visibility Fan-Out',\n",
    "        'Closeness Centrality','Degree Centrality','In Degree Centrality','Out Degree Centrality','Betweenness Centrality','Max Cyclomatic',\n",
    "        'Cyclomatic Type','Lines Of Code','Source Lines Of Code','Commment Ratio','Needs Focus Order','Directory Structure Order',\n",
    "        'Core Periphery Order','Median Order','Hierarchical Order','Declared Component Order','Actual Hierarchical Component Order',\n",
    "        'Component','Percent Duplicated LOC','Source Code Managed','Third Party','Generated','Test']"
   ]
  },
  {
   "cell_type": "code",
   "execution_count": 5,
   "metadata": {},
   "outputs": [
    {
     "name": "stdout",
     "output_type": "stream",
     "text": [
      "Filename == Filename\n",
      "Extension == Extension\n",
      "Language == Language\n",
      "Network ID == Network ID\n",
      "Network Group Size == Network Group Size\n",
      "Architecture Type - Core-Periphery == Architecture Type - Core-Periphery\n",
      "Architecture Type - Median == Architecture Type - Median\n",
      "Cyclic Group Size == Cyclic Group Size\n",
      "Cyclic Group ID == Cyclic Group ID\n",
      "Core ID == Core ID\n",
      "Fan-In == Fan-In\n",
      "Fan-Out == Fan-Out\n",
      "Visibility Fan-In == Visibility Fan-In\n",
      "Visibility Fan-Out == Visibility Fan-Out\n",
      "Closeness Centrality == Closeness Centrality\n",
      "Degree Centrality == Degree Centrality\n",
      "In Degree Centrality == In Degree Centrality\n",
      "Out Degree Centrality == Out Degree Centrality\n",
      "Betweenness Centrality == Betweenness Centrality\n",
      "Max Cyclomatic == Max Cyclomatic\n",
      "Cyclomatic Type == Cyclomatic Type\n",
      "Lines Of Code == Lines Of Code\n",
      "Source Lines Of Code == Source Lines Of Code\n",
      "Commment Ratio == Commment Ratio\n",
      "Needs Focus Order == Needs Focus Order\n",
      "Directory Structure Order == Directory Structure Order\n",
      "Core Periphery Order == Core Periphery Order\n",
      "Median Order == Median Order\n",
      "Hierarchical Order == Hierarchical Order\n",
      "Declared Component Order == Declared Component Order\n",
      "Actual Hierarchical Component Order == Actual Hierarchical Component Order\n",
      "Component == Component\n",
      "Percent Duplicated LOC == Percent Duplicated LOC\n",
      "Source Code Managed == Source Code Managed\n",
      "Third Party == Third Party\n",
      "Generated == Generated\n",
      "Test == Test\n"
     ]
    }
   ],
   "source": [
    "import openpyxl\n",
    "\n",
    "wb = openpyxl.load_workbook(\"TestWorkbook.xlsx\")\n",
    "\n",
    "ws = wb['Sheet1']\n",
    "\n",
    "for index, header in enumerate(file_list_columns):\n",
    "    print( str(ws.cell(row=1, column=index+1).value), '==', header )\n",
    "\n",
    "wb.close()"
   ]
  },
  {
   "cell_type": "code",
   "execution_count": 7,
   "metadata": {},
   "outputs": [],
   "source": [
    "data = {\n",
    "    \"Col1\": [1, 2, 3],\n",
    "    \"Col2\": [4, 5, 6],\n",
    "    \"Col3\": [7, 8, 9]\n",
    "}\n",
    "\n",
    "df = pd.DataFrame(data)"
   ]
  },
  {
   "cell_type": "code",
   "execution_count": 8,
   "metadata": {},
   "outputs": [],
   "source": [
    "#data = False\n",
    "\n",
    "if not data:\n",
    "    print(\"banana\")"
   ]
  },
  {
   "cell_type": "code",
   "execution_count": 1,
   "metadata": {},
   "outputs": [
    {
     "name": "stdout",
     "output_type": "stream",
     "text": [
      "ALLUSERSPROFILE: C:\\ProgramData\n",
      "APPDATA: D:\\Users\\priscillaw\\AppData\\Roaming\n",
      "AWS_EXECUTION_ENV: EC2\n",
      "CHROME_CRASHPAD_PIPE_NAME: \\\\.\\pipe\\LOCAL\\crashpad_8540_SUYIVGZVTXQMCFNN\n",
      "CMRI: python D:\\Users\\priscillaw\\1_PROJECTS\\thyra\\main.py\n",
      "CMRI_PMD_HOME: D:\\Users\\priscillaw\\CMRIDeps\\pmd\\pmd-bin-6.25.0\\bin\n",
      "CMRI_TOKEI_HOME: D:\\Users\\priscillaw\\CMRIDeps\\tokei\\tokei-12.1.2\\bin\n",
      "CMRI_VAULT: D:\\Users\\priscillaw\\1_VAULT\n",
      "CODE: D:\\Users\\priscillaw\\AppData\\Local\\Programs\\Microsoft VS Code\\Code.exe\n",
      "COMMONPROGRAMFILES: C:\\Program Files\\Common Files\n",
      "COMMONPROGRAMFILES(X86): C:\\Program Files (x86)\\Common Files\n",
      "COMMONPROGRAMW6432: C:\\Program Files\\Common Files\n",
      "COMPUTERNAME: WSAMZN-3MB1CGCB\n",
      "COMSPEC: C:\\Windows\\system32\\cmd.exe\n",
      "CONDA_DEFAULT_ENV: windev\n",
      "CONDA_EXE: D:\\Users\\priscillaw\\miniconda3\\Scripts\\conda.exe\n",
      "CONDA_EXES: \"D:\\Users\\priscillaw\\miniconda3\\condabin\\..\\Scripts\\conda.exe\"  \n",
      "CONDA_PREFIX: D:\\Users\\priscillaw\\miniconda3\\envs\\windev\n",
      "CONDA_PROMPT_MODIFIER: (windev) \n",
      "CONDA_PYTHON_EXE: D:\\Users\\priscillaw\\miniconda3\\python.exe\n",
      "CONDA_ROOT: D:\\Users\\priscillaw\\miniconda3\n",
      "CONDA_SHLVL: 1\n",
      "EC2LAUNCH_TELEMETRY: 1\n",
      "ELECTRON_RUN_AS_NODE: 1\n",
      "ENV2: conda activate windev\n",
      "ENV_CMRI_HOME: D:\\Users\\priscillaw\\1_PROJECTS\n",
      "FPS_BROWSER_APP_PROFILE_STRING: Internet Explorer\n",
      "FPS_BROWSER_USER_PROFILE_STRING: Default\n",
      "HOMEDRIVE: D:\n",
      "HOMEPATH: \\Users\\priscillaw\n",
      "JAVA_BIN: D:\\Users\\priscillaw\\CMRIDeps\\java\\openjdk-jre-14.0.1\\bin\n",
      "JAVA_HOME: D:\\Users\\priscillaw\\CMRIDeps\\java\\openjdk-jre-14.0.1\n",
      "JPY_INTERRUPT_EVENT: 1460\n",
      "LOCALAPPDATA: D:\\Users\\priscillaw\\AppData\\Local\n",
      "LOGONSERVER: \\\\AWS-E14AE8A3AA\n",
      "NUMBER_OF_PROCESSORS: 8\n",
      "ONEDRIVE: D:\\Users\\priscillaw\\OneDrive\n",
      "ORIGINAL_XDG_CURRENT_DESKTOP: undefined\n",
      "OS: Windows_NT\n",
      "PATH: d:\\Users\\priscillaw\\miniconda3\\envs\\windev;D:\\Users\\priscillaw\\miniconda3\\envs\\windev;D:\\Users\\priscillaw\\miniconda3\\envs\\windev\\Library\\mingw-w64\\bin;D:\\Users\\priscillaw\\miniconda3\\envs\\windev\\Library\\usr\\bin;D:\\Users\\priscillaw\\miniconda3\\envs\\windev\\Library\\bin;D:\\Users\\priscillaw\\miniconda3\\envs\\windev\\Scripts;D:\\Users\\priscillaw\\miniconda3\\envs\\windev\\bin;D:\\Users\\priscillaw\\miniconda3\\condabin;C:\\Windows\\system32;C:\\Windows;C:\\Windows\\System32\\Wbem;C:\\Windows\\System32\\WindowsPowerShell\\v1.0;C:\\Program Files\\Amazon\\cfn-bootstrap;D:\\Users\\priscillaw\\AppData\\Local\\Programs\\Git\\cmd;D:\\Users\\priscillaw\\miniconda3;D:\\Users\\priscillaw\\miniconda3\\Library;D:\\Users\\priscillaw\\miniconda3\\Library\\bin;D:\\Users\\priscillaw\\miniconda3\\Lib;D:\\Users\\priscillaw\\miniconda3\\Lib\\site-packages;D:\\Users\\priscillaw\\miniconda3\\Scripts;D:\\Users\\priscillaw\\CMRIDeps\\java\\openjdk-jre-14.0.1\\bin;D:\\Users\\priscillaw\\CMRIDeps\\pmd\\pmd-bin-6.25.0\\bin;D:\\Users\\priscillaw\\CMRIDeps\\tokei\\tokei-12.1.2\\bin;D:\\Users\\priscillaw\\CMRI_DEV;D:\\Users\\priscillaw\\CMRIDeps\\understand\\scitools\\bin\\pc-win64;D:\\Users\\priscillaw\\AppData\\Local\\Microsoft\\WindowsApps;D:\\Users\\priscillaw\\AppData\\Local\\Programs\\Microsoft VS Code\\bin;D:\\Users\\priscillaw\\miniconda3;D:\\Users\\priscillaw\\miniconda3\\Library\\bin;D:\\Users\\priscillaw\\miniconda3\\Library;D:\\Users\\priscillaw\\miniconda3\\Scripts;D:\\Users\\priscillaw\\miniconda3\\Lib;D:\\Users\\priscillaw\\miniconda3\\Lib\\site-packages;C:\\Program Files\\JetBrains\\PyCharm 2022.3.1\\bin;.;C:\\Windows\\system32;C:\\Windows;C:\\Windows\\System32\\Wbem;C:\\Windows\\System32\\WindowsPowerShell\\v1.0\\;C:\\Program Files\\Amazon\\cfn-bootstrap\\;D:\\Users\\priscillaw\\AppData\\Local\\Programs\\Git\\cmd;D:\\Users\\priscillaw\\miniconda3;D:\\Users\\priscillaw\\miniconda3\\Library;D:\\Users\\priscillaw\\miniconda3\\Library\\bin;D:\\Users\\priscillaw\\miniconda3\\Lib;D:\\Users\\priscillaw\\miniconda3\\Lib\\site-packages;D:\\Users\\priscillaw\\miniconda3\\Scripts;D:\\Users\\priscillaw\\CMRIDeps\\java\\openjdk-jre-14.0.1\\bin;D:\\Users\\priscillaw\\CMRIDeps\\pmd\\pmd-bin-6.25.0\\bin;D:\\Users\\priscillaw\\CMRIDeps\\tokei\\tokei-12.1.2\\bin;D:\\Users\\priscillaw\\CMRI_DEV;D:\\Users\\priscillaw\\CMRIDeps\\understand\\scitools\\bin\\pc-win64;D:\\Users\\priscillaw\\AppData\\Local\\Microsoft\\WindowsApps;D:\\Users\\priscillaw\\AppData\\Local\\Programs\\Microsoft VS Code\\bin;D:\\Users\\priscillaw\\miniconda3;D:\\Users\\priscillaw\\miniconda3\\Library\\bin;D:\\Users\\priscillaw\\miniconda3\\Library;D:\\Users\\priscillaw\\miniconda3\\Scripts;D:\\Users\\priscillaw\\miniconda3\\Lib;D:\\Users\\priscillaw\\miniconda3\\Lib\\site-packages;C:\\Program Files\\JetBrains\\PyCharm 2022.3.1\\bin;\n",
      "PATHEXT: .COM;.EXE;.BAT;.CMD;.VBS;.VBE;.JS;.JSE;.WSF;.WSH;.MSC\n",
      "PROCESSOR_ARCHITECTURE: AMD64\n",
      "PROCESSOR_IDENTIFIER: Intel64 Family 6 Model 85 Stepping 7, GenuineIntel\n",
      "PROCESSOR_LEVEL: 6\n",
      "PROCESSOR_REVISION: 5507\n",
      "PROGRAMDATA: C:\\ProgramData\n",
      "PROGRAMFILES: C:\\Program Files\n",
      "PROGRAMFILES(X86): C:\\Program Files (x86)\n",
      "PROGRAMW6432: C:\\Program Files\n",
      "PROMPT: (windev) $P$G\n",
      "PSMODULEPATH: C:\\Program Files\\WindowsPowerShell\\Modules;C:\\Windows\\system32\\WindowsPowerShell\\v1.0\\Modules;C:\\Program Files (x86)\\AWS Tools\\PowerShell\\\n",
      "PUBLIC: C:\\Users\\Public\n",
      "PYCHARM: C:\\Program Files\\JetBrains\\PyCharm 2022.3.1\\bin;\n",
      "PYDEVD_IPYTHON_COMPATIBLE_DEBUGGING: 1\n",
      "PYTHONIOENCODING: utf-8\n",
      "PYTHONPATH: D:\\Users\\priscillaw\\CMRIDeps\\understand\\scitools\\bin\\pc-win64\\Python;D:\\Users\\priscillaw\\1_PROJECTS\\silverthread;D:\\Users\\priscillaw\\CMRIDeps\\understand\\scitools\\bin\\pc-win64\\Python;D:\\Users\\priscillaw\\1_PROJECTS\\silverthread\n",
      "PYTHONUNBUFFERED: 1\n",
      "PYTHONUTF8: 1\n",
      "SESSIONNAME: Console\n",
      "SILVERTHREAD_HOME: D:\\Users\\priscillaw\\1_PROJECTS\\silverthread\n",
      "SOURCE_ROOT: D:\\Users\\priscillaw\\1_PROJECTS\n",
      "STXHD_ACCOUNT_ID: 697148468905\n",
      "STXHD_INSTANCE_ID: i-075a60f9b8112d45b\n",
      "STXHD_PERFORMANCE: SPEED\n",
      "STXHD_REGION: us-east-1\n",
      "SYSTEMDRIVE: C:\n",
      "SYSTEMROOT: C:\\Windows\n",
      "TEMP: D:\\Users\\priscillaw\\AppData\\Local\\Temp\\1\n",
      "THYRA_HOME: D:\\Users\\priscillaw\\1_PROJECTS\\thyra\n",
      "TMP: D:\\Users\\priscillaw\\AppData\\Local\\Temp\\1\n",
      "UND5: D:\\Users\\priscillaw\\CMRIDeps\\understand\\scitools\\bin\\pc-win64\n",
      "UNDERSTAND6_BASE: D:\\Users\\priscillaw\\AppData\\Local\\Programs\\SciTools\n",
      "UNDERSTAND6_BIN: D:\\Users\\priscillaw\\AppData\\Local\\Programs\\SciTools\\bin\\pc-win64\n",
      "UNDERSTAND6_PYTHON: D:\\Users\\priscillaw\\AppData\\Local\\Programs\\SciTools\\bin\\pc-win64\\Python\n",
      "UNDERSTAND_BASE: D:\\Users\\priscillaw\\CMRIDeps\\understand\\scitools\n",
      "UNDERSTAND_PYTHON: D:\\Users\\priscillaw\\CMRIDeps\\understand\\scitools\\bin\\pc-win64\\Python\n",
      "USERDNSDOMAIN: CORP.AMAZONWORKSPACES.COM\n",
      "USERDOMAIN: CORP\n",
      "USERDOMAIN_ROAMINGPROFILE: CORP\n",
      "USERNAME: priscillaw\n",
      "USERPROFILE: D:\\Users\\priscillaw\n",
      "VSCODE_AMD_ENTRYPOINT: vs/workbench/api/node/extensionHostProcess\n",
      "VSCODE_CODE_CACHE_PATH: D:\\Users\\priscillaw\\AppData\\Roaming\\Code\\CachedData\\97dec172d3256f8ca4bfb2143f3f76b503ca0534\n",
      "VSCODE_CWD: C:\\Windows\\system32\n",
      "VSCODE_HANDLES_UNCAUGHT_ERRORS: true\n",
      "VSCODE_IPC_HOOK: \\\\.\\pipe\\80a4119768ca0d1b807c74eaab9930fb-1.74.3-main-sock\n",
      "VSCODE_NLS_CONFIG: {\"locale\":\"en-us\",\"availableLanguages\":{},\"_languagePackSupport\":true}\n",
      "VSCODE_PID: 8540\n",
      "WINDIR: C:\\Windows\n",
      "_CONDA_OLD_CHCP: 437\n",
      "PYDEVD_USE_FRAME_EVAL: NO\n",
      "TERM: xterm-color\n",
      "CLICOLOR: 1\n",
      "PAGER: cat\n",
      "GIT_PAGER: cat\n",
      "MPLBACKEND: module://matplotlib_inline.backend_inline\n"
     ]
    }
   ],
   "source": [
    "import os\n",
    "\n",
    "for name, value in os.environ.items():\n",
    "    print(\"{0}: {1}\".format(name, value))"
   ]
  },
  {
   "cell_type": "code",
   "execution_count": 16,
   "metadata": {},
   "outputs": [
    {
     "name": "stdout",
     "output_type": "stream",
     "text": [
      "['Task-Workbook-Weighted-Metrics-React-18.2.0-Web.xlsx']\n"
     ]
    }
   ],
   "source": [
    "import os\n",
    "file_path = \"D:/Users/priscillaw/1_VAULT/reports/React/React-18.2.0/Web/test\"\n",
    "for filename in os.listdir(file_path):\n",
    "    if filename.startswith(\"Task-Workbook-Code-Duplication\"):\n",
    "        os.remove(os.path.join(file_path, filename))\n",
    "\n",
    "print(os.listdir(file_path))"
   ]
  },
  {
   "cell_type": "code",
   "execution_count": 23,
   "metadata": {},
   "outputs": [
    {
     "name": "stdout",
     "output_type": "stream",
     "text": [
      "A1\n",
      "B2\n",
      "C3\n",
      "D4\n",
      "E5\n",
      "F6\n",
      "G7\n",
      "H8\n",
      "I9\n",
      "J10\n",
      "K11\n"
     ]
    }
   ],
   "source": [
    "header_columns = ['Filename', 'Duplication Instance ID', 'Lines', 'Tokens', 'Start Line'\t\n",
    "                                'End Line', 'Start Column', 'End Column', 'FileIndex', 'Directory', 'File']\n",
    "cols = ['A', 'B', 'C', 'D', 'E', 'F', 'G', 'H', 'I', 'J', 'K']\n",
    "\n",
    "\n",
    "for index, cell in enumerate(cols):\n",
    "    x = cell + str(index+1)\n",
    "    print(x)\n"
   ]
  },
  {
   "cell_type": "code",
   "execution_count": 24,
   "metadata": {},
   "outputs": [
    {
     "data": {
      "text/plain": [
       "False"
      ]
     },
     "execution_count": 24,
     "metadata": {},
     "output_type": "execute_result"
    }
   ],
   "source": [
    "1==2"
   ]
  },
  {
   "cell_type": "code",
   "execution_count": 4,
   "metadata": {},
   "outputs": [
    {
     "data": {
      "text/html": [
       "<div>\n",
       "<style scoped>\n",
       "    .dataframe tbody tr th:only-of-type {\n",
       "        vertical-align: middle;\n",
       "    }\n",
       "\n",
       "    .dataframe tbody tr th {\n",
       "        vertical-align: top;\n",
       "    }\n",
       "\n",
       "    .dataframe thead th {\n",
       "        text-align: right;\n",
       "    }\n",
       "</style>\n",
       "<table border=\"1\" class=\"dataframe\">\n",
       "  <thead>\n",
       "    <tr style=\"text-align: right;\">\n",
       "      <th></th>\n",
       "      <th>Col1</th>\n",
       "      <th>Col2</th>\n",
       "      <th>Col3</th>\n",
       "    </tr>\n",
       "  </thead>\n",
       "  <tbody>\n",
       "    <tr>\n",
       "      <th>0</th>\n",
       "      <td>1</td>\n",
       "      <td>4</td>\n",
       "      <td>7</td>\n",
       "    </tr>\n",
       "    <tr>\n",
       "      <th>1</th>\n",
       "      <td>2</td>\n",
       "      <td>5</td>\n",
       "      <td>8</td>\n",
       "    </tr>\n",
       "    <tr>\n",
       "      <th>2</th>\n",
       "      <td>3</td>\n",
       "      <td>6</td>\n",
       "      <td>9</td>\n",
       "    </tr>\n",
       "  </tbody>\n",
       "</table>\n",
       "</div>"
      ],
      "text/plain": [
       "   Col1  Col2  Col3\n",
       "0     1     4     7\n",
       "1     2     5     8\n",
       "2     3     6     9"
      ]
     },
     "execution_count": 4,
     "metadata": {},
     "output_type": "execute_result"
    }
   ],
   "source": [
    "df"
   ]
  },
  {
   "cell_type": "code",
   "execution_count": 8,
   "metadata": {},
   "outputs": [],
   "source": [
    "x = 3"
   ]
  },
  {
   "cell_type": "code",
   "execution_count": 13,
   "metadata": {},
   "outputs": [],
   "source": [
    "def get_file_data():\n",
    "    data0 = {\n",
    "        \"Col1\": [1, 2, 3],\n",
    "        \"Col2\": [4, 5, 6],\n",
    "        \"Col3\": [7, 8, 9]\n",
    "    }\n",
    "\n",
    "    df0 = pd.DataFrame(data0)\n",
    "\n",
    "    if x % 2 == 0:\n",
    "        return data0\n",
    "    else:\n",
    "        return False"
   ]
  },
  {
   "cell_type": "code",
   "execution_count": 15,
   "metadata": {},
   "outputs": [],
   "source": [
    "def process_file_data(data1):\n",
    "    if not data1:\n",
    "        return \"No data\"\n",
    "    else:\n",
    "        return data1"
   ]
  },
  {
   "cell_type": "code",
   "execution_count": 16,
   "metadata": {},
   "outputs": [
    {
     "data": {
      "text/plain": [
       "'No data'"
      ]
     },
     "execution_count": 16,
     "metadata": {},
     "output_type": "execute_result"
    }
   ],
   "source": [
    "process_file_data(get_file_data())"
   ]
  },
  {
   "attachments": {},
   "cell_type": "markdown",
   "metadata": {},
   "source": [
    "<hr>"
   ]
  },
  {
   "cell_type": "code",
   "execution_count": 28,
   "metadata": {},
   "outputs": [],
   "source": [
    "x = 3"
   ]
  },
  {
   "cell_type": "code",
   "execution_count": 29,
   "metadata": {},
   "outputs": [
    {
     "data": {
      "text/plain": [
       "'No data'"
      ]
     },
     "execution_count": 29,
     "metadata": {},
     "output_type": "execute_result"
    }
   ],
   "source": [
    "def get_file_data():\n",
    "    data0 = {\n",
    "        \"Col1\": [1, 2, 3],\n",
    "        \"Col2\": [4, 5, 6],\n",
    "        \"Col3\": [7, 8, 9]\n",
    "    }\n",
    "\n",
    "    df0 = pd.DataFrame(data0)\n",
    "\n",
    "    if x % 2 == 0:\n",
    "        return data0\n",
    "    else:\n",
    "        return False\n",
    "\n",
    "\n",
    "def process_file_data(data1: DataFrame):\n",
    "    if data1 == False:\n",
    "        return \"No data\"\n",
    "    else:\n",
    "        return data1\n",
    "\n",
    "\n",
    "process_file_data(get_file_data())"
   ]
  }
 ],
 "metadata": {
  "kernelspec": {
   "display_name": "windev",
   "language": "python",
   "name": "python3"
  },
  "language_info": {
   "codemirror_mode": {
    "name": "ipython",
    "version": 3
   },
   "file_extension": ".py",
   "mimetype": "text/x-python",
   "name": "python",
   "nbconvert_exporter": "python",
   "pygments_lexer": "ipython3",
   "version": "3.7.15"
  },
  "orig_nbformat": 4,
  "vscode": {
   "interpreter": {
    "hash": "e6e2b6170c96a6c1e16e4dfcfea50f1a8c5dd00d04acd239aaf991367abb7a97"
   }
  }
 },
 "nbformat": 4,
 "nbformat_minor": 2
}
