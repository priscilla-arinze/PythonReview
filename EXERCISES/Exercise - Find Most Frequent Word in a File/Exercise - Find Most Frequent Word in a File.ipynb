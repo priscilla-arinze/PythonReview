{
 "cells": [
  {
   "cell_type": "markdown",
   "metadata": {},
   "source": [
    "# Exercise - Find Most Frequent Word in a File\n",
    "\n",
    "Shows most frequent word in the 2007 classic award-winnning documentary, Bee Movie"
   ]
  },
  {
   "cell_type": "code",
   "execution_count": 5,
   "metadata": {},
   "outputs": [
    {
     "name": "stdout",
     "output_type": "stream",
     "text": [
      "Now opening entire-bee-movie-script.txt...\n"
     ]
    }
   ],
   "source": [
    "#entire-bee-movie-script.txt\n",
    "name = input('Enter file name:')\n",
    "print(\"Now opening \"+ name +\"...\")\n",
    "handle = open(name)"
   ]
  },
  {
   "cell_type": "markdown",
   "metadata": {},
   "source": [
    "### Create dictionary that shows word counts for each word in text file:"
   ]
  },
  {
   "cell_type": "code",
   "execution_count": 6,
   "metadata": {},
   "outputs": [],
   "source": [
    "counts = dict()\n",
    "\n",
    "for line in handle:\n",
    "    words = line.split()\n",
    "\n",
    "    for word in words:\n",
    "        counts[word] = counts.get(word, 0) + 1 # get new word & assign value to 0 OR add 1 to current value for existing words"
   ]
  },
  {
   "cell_type": "markdown",
   "metadata": {},
   "source": [
    "### Iterate through list of both key & value in newly created dictionary\n",
    "\n",
    "#### Go through each word & count frequency & assign the highest number found & the key of the number"
   ]
  },
  {
   "cell_type": "code",
   "execution_count": 7,
   "metadata": {},
   "outputs": [],
   "source": [
    "high_count_num = None\n",
    "high_count_word = None\n",
    "\n",
    "for word, count in counts.items():\n",
    "    if high_count_num is None or count > high_count_num:\n",
    "        high_count_word = word\n",
    "        high_count_num = count"
   ]
  },
  {
   "cell_type": "markdown",
   "metadata": {},
   "source": [
    "### Most frequent word is..."
   ]
  },
  {
   "cell_type": "code",
   "execution_count": 8,
   "metadata": {},
   "outputs": [
    {
     "name": "stdout",
     "output_type": "stream",
     "text": [
      "a 241\n"
     ]
    }
   ],
   "source": [
    "print(high_count_word, high_count_num)"
   ]
  }
 ],
 "metadata": {
  "interpreter": {
   "hash": "3b806cc711b465e66e8252dff191d8681f8b41038e9cbc25fa942edafd26a2d7"
  },
  "kernelspec": {
   "display_name": "Python 3.9.10 ('base')",
   "language": "python",
   "name": "python3"
  },
  "language_info": {
   "codemirror_mode": {
    "name": "ipython",
    "version": 3
   },
   "file_extension": ".py",
   "mimetype": "text/x-python",
   "name": "python",
   "nbconvert_exporter": "python",
   "pygments_lexer": "ipython3",
   "version": "3.9.10"
  },
  "orig_nbformat": 4
 },
 "nbformat": 4,
 "nbformat_minor": 2
}
