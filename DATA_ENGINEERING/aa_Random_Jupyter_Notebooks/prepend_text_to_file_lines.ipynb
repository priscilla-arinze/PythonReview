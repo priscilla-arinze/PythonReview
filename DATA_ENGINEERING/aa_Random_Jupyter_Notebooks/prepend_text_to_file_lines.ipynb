{
 "cells": [
  {
   "cell_type": "code",
   "execution_count": 2,
   "metadata": {},
   "outputs": [],
   "source": [
    "prelist = \"/home/priscilla2/1_PROJECTS/aa_MODERNIZE/ROS/comm/prelist.txt\"\n",
    "postlist = \"/home/priscilla2/1_PROJECTS/aa_MODERNIZE/ROS/comm/postlist.txt\"\n",
    "\n",
    "prelist2 = \"/home/priscilla2/1_PROJECTS/aa_MODERNIZE/ROS/comm/prelist2.txt\"\n",
    "postlist2 = \"/home/priscilla2/1_PROJECTS/aa_MODERNIZE/ROS/comm/postlist2.txt\""
   ]
  },
  {
   "cell_type": "code",
   "execution_count": 3,
   "metadata": {},
   "outputs": [],
   "source": [
    "def prepend_text_to_file(file_path, new_file_path):\n",
    "    # Open the original file for reading\n",
    "    with open(file_path, 'r') as original_file:\n",
    "        # Create a new file to write the modified content\n",
    "        with open(new_file_path, 'w') as modified_file:\n",
    "            # Read each line from the original file\n",
    "            for line in original_file:\n",
    "                # Prepend the desired text to each line\n",
    "                modified_line = \"humble/\" + line\n",
    "\n",
    "                # Write the modified line to the new file\n",
    "                modified_file.write(modified_line)\n",
    "\n",
    "    # Close both files\n",
    "    original_file.close()\n",
    "    modified_file.close()\n",
    "\n",
    "\n",
    "prepend_text_to_file(prelist, prelist2)\n",
    "prepend_text_to_file(postlist, postlist2)\n"
   ]
  }
 ],
 "metadata": {
  "kernelspec": {
   "display_name": "linuxdev",
   "language": "python",
   "name": "python3"
  },
  "language_info": {
   "codemirror_mode": {
    "name": "ipython",
    "version": 3
   },
   "file_extension": ".py",
   "mimetype": "text/x-python",
   "name": "python",
   "nbconvert_exporter": "python",
   "pygments_lexer": "ipython3",
   "version": "3.7.3"
  },
  "orig_nbformat": 4
 },
 "nbformat": 4,
 "nbformat_minor": 2
}
