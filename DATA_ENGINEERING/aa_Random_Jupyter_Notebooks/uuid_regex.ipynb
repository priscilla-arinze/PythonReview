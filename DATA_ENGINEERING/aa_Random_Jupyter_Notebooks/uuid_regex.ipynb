{
 "cells": [
  {
   "cell_type": "code",
   "execution_count": 15,
   "metadata": {},
   "outputs": [],
   "source": [
    "import subprocess\n",
    "import sys\n",
    "import re"
   ]
  },
  {
   "cell_type": "code",
   "execution_count": 62,
   "metadata": {},
   "outputs": [
    {
     "name": "stdout",
     "output_type": "stream",
     "text": [
      "['UUID                                  ', '', 'EC22C775-5880-6C2A-7616-BAF53752A983']\n",
      "UUID                                  \n",
      "\n",
      "EC22C775-5880-6C2A-7616-BAF53752A983\n"
     ]
    }
   ],
   "source": [
    "x = subprocess.run('wmic csproduct get uuid', shell=True, capture_output=True, check=True, encoding=\"utf-8\").stdout.strip()\n",
    "\n",
    "print(x.split('\\n'))"
   ]
  },
  {
   "cell_type": "code",
   "execution_count": 85,
   "metadata": {},
   "outputs": [
    {
     "name": "stdout",
     "output_type": "stream",
     "text": [
      "EC22C775-5880-6C2A-7616-BAF53752A983\n"
     ]
    }
   ],
   "source": [
    "print(x)\n",
    "pattern = re.findall(r'[a-fA-F0-9\\-]{36}', x)[0]\n",
    "\n",
    "print(pattern)"
   ]
  },
  {
   "cell_type": "code",
   "execution_count": 81,
   "metadata": {},
   "outputs": [
    {
     "name": "stdout",
     "output_type": "stream",
     "text": [
      "['UUID']\n"
     ]
    }
   ],
   "source": [
    "pattern2 = re.findall(r'^[A-Z]{4}', x)\n",
    "\n",
    "print(pattern2)"
   ]
  },
  {
   "cell_type": "code",
   "execution_count": 80,
   "metadata": {},
   "outputs": [
    {
     "name": "stdout",
     "output_type": "stream",
     "text": [
      "UUID                                  \n",
      "\n",
      "EC22C775-5880-6C2A-7616-BAF53752A983\n"
     ]
    }
   ],
   "source": [
    "print(x)"
   ]
  },
  {
   "cell_type": "code",
   "execution_count": 56,
   "metadata": {},
   "outputs": [
    {
     "name": "stdout",
     "output_type": "stream",
     "text": [
      "['UUID                                  ', '', 'EC22C775-5880-6C2A-7616-BAF53752A983']\n"
     ]
    }
   ],
   "source": [
    "x = subprocess.run('wmic csproduct get uuid', shell=True, capture_output=True, check=True, encoding=\"utf-8\").stdout.strip()\n",
    "\n",
    "print(x.split('\\n'))"
   ]
  },
  {
   "cell_type": "code",
   "execution_count": 61,
   "metadata": {},
   "outputs": [
    {
     "name": "stdout",
     "output_type": "stream",
     "text": [
      "EC22C775-5880-6C2A-7616-BAF53752A983\n"
     ]
    }
   ],
   "source": [
    "x1 = x.split('\\n')\n",
    "y1 = [i.strip() for i in x1 if len(i.strip()) == 36][0]\n",
    "\n",
    "print(y1)"
   ]
  },
  {
   "cell_type": "code",
   "execution_count": 14,
   "metadata": {},
   "outputs": [
    {
     "name": "stdout",
     "output_type": "stream",
     "text": [
      "['UUID', 'EC22C775-5880-6C2A-7616-BAF53752A983', '']\n"
     ]
    }
   ],
   "source": [
    "y = ['UUID                                  ', '', 'EC22C775-5880-6C2A-7616-BAF53752A983', '', '    ']\n",
    "\n",
    "y1 = [i.strip() for i in y if len(i)>0]\n",
    "\n",
    "print(y1)"
   ]
  },
  {
   "cell_type": "code",
   "execution_count": 53,
   "metadata": {},
   "outputs": [
    {
     "name": "stdout",
     "output_type": "stream",
     "text": [
      "['UUID']\n",
      "EC22C775-5880-6C2A-7616-BAF53752A983\n"
     ]
    }
   ],
   "source": [
    "z = ['UUID                                  ', '', 'EC22C775-5880-6C2A-7616-BAF53752A983', '', '    ']\n",
    "\n",
    "pattern = re.findall(r'^[a-zA-Z0-9\\-]*', z[0])\n",
    "print(pattern)\n",
    "\n",
    "y2 = [i.strip() for i in y if re.findall(r'^[a-zA-Z0-9-]*', i)[0]][1]\n",
    "\n",
    "print(y2)"
   ]
  },
  {
   "cell_type": "code",
   "execution_count": 55,
   "metadata": {},
   "outputs": [
    {
     "name": "stdout",
     "output_type": "stream",
     "text": [
      "36\n"
     ]
    }
   ],
   "source": [
    "print(len(y2))"
   ]
  },
  {
   "cell_type": "code",
   "execution_count": 37,
   "metadata": {},
   "outputs": [
    {
     "name": "stdout",
     "output_type": "stream",
     "text": [
      "38\n"
     ]
    }
   ],
   "source": [
    "print(len(z[0]))"
   ]
  },
  {
   "cell_type": "code",
   "execution_count": 5,
   "metadata": {},
   "outputs": [
    {
     "name": "stdout",
     "output_type": "stream",
     "text": [
      "Please copy the following segment and send it to your system administrator for licensing Silverthread software:\n",
      "\n",
      "\n",
      "\n"
     ]
    }
   ],
   "source": [
    "def run(cmd):\n",
    "    try:\n",
    "        return subprocess.run(cmd, shell=True, capture_output=True, check=True, encoding=\"utf-8\") \\\n",
    "                .stdout \\\n",
    "                .strip()\n",
    "    except:\n",
    "        return None\n",
    "\n",
    "def get_fingerprint() -> str:\n",
    "    if sys.platform == 'win32' or sys.platform == 'cygwin' or sys.platform == 'msys':\n",
    "        return run('wmic csproduct get uuid') \\\n",
    "            .split('\\n')[1].strip()\n",
    "    \n",
    "\n",
    "print(\n",
    "    \"Please copy the following segment and send it to your system administrator for licensing Silverthread software:\\n\"\n",
    ")\n",
    "print(get_fingerprint())\n",
    "print()"
   ]
  }
 ],
 "metadata": {
  "kernelspec": {
   "display_name": "modernize",
   "language": "python",
   "name": "python3"
  },
  "language_info": {
   "codemirror_mode": {
    "name": "ipython",
    "version": 3
   },
   "file_extension": ".py",
   "mimetype": "text/x-python",
   "name": "python",
   "nbconvert_exporter": "python",
   "pygments_lexer": "ipython3",
   "version": "3.10.0"
  },
  "orig_nbformat": 4
 },
 "nbformat": 4,
 "nbformat_minor": 2
}
