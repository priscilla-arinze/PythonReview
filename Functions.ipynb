{
 "cells": [
  {
   "cell_type": "markdown",
   "metadata": {},
   "source": [
    "# Functions"
   ]
  },
  {
   "cell_type": "code",
   "execution_count": 4,
   "metadata": {},
   "outputs": [
    {
     "name": "stdout",
     "output_type": "stream",
     "text": [
      "Gordon Ramsey moment\n",
      "Gordon Ramsey moment\n",
      "Gordon Ramsey moment\n"
     ]
    }
   ],
   "source": [
    "def beefwellington():\n",
    "    print(\"Gordon Ramsey moment\")\n",
    "\n",
    "beefwellington()\n",
    "beefwellington()\n",
    "beefwellington()"
   ]
  },
  {
   "cell_type": "code",
   "execution_count": 5,
   "metadata": {},
   "outputs": [
    {
     "name": "stdout",
     "output_type": "stream",
     "text": [
      "Gordon Ramsey moment\n",
      "669.29\n",
      "527\n",
      "11067\n"
     ]
    }
   ],
   "source": [
    "def bitcoin_to_usd(btcValue):\n",
    "    amount = btcValue * 527\n",
    "    print(amount)\n",
    "\n",
    "beefwellington()\n",
    "bitcoin_to_usd(1.27)\n",
    "bitcoin_to_usd(1)\n",
    "bitcoin_to_usd(21)"
   ]
  },
  {
   "cell_type": "code",
   "execution_count": 6,
   "metadata": {},
   "outputs": [
    {
     "name": "stdout",
     "output_type": "stream",
     "text": [
      "Priscilla: The Court™ has sentenced you to being legally bound and obligated to live in Ohio for eternity\n"
     ]
    }
   ],
   "source": [
    "import random\n",
    "\n",
    "\n",
    "def randomizedPunishment():\n",
    "    funPunishmentOptions = [\n",
    "        'being required to eat the entire Empire State Building, crumb by crumb',\n",
    "        'being required by law to cosplay in a very ill-fitting giraffe costume every 4.5 hours',\n",
    "        'being legally bound and obligated to live in Ohio for eternity',\n",
    "        'only being allowed to tell the time by completing a complex multivariable calculus problem every single time',\n",
    "        'being legally required to wear shoes with multiple pebbles in each shoe',\n",
    "        'being legally bound to have the American Emergency Alarm System (EAS) sound be your ringtone and all notification sounds, on full volume'\n",
    "    ]\n",
    "\n",
    "    name = input(\"Enter your first name: \")\n",
    "\n",
    "    randNum = random.randint(0, 5)\n",
    "\n",
    "    print(name+\": The Court™ has sentenced you to \"+funPunishmentOptions[randNum])\n",
    "\n",
    "\n",
    "randomizedPunishment()"
   ]
  },
  {
   "cell_type": "code",
   "execution_count": 7,
   "metadata": {},
   "outputs": [
    {
     "name": "stdout",
     "output_type": "stream",
     "text": [
      "Ronald McDonald: The Court™ has sentenced you to being legally required to wear shoes with multiple pebbles in each shoe\n"
     ]
    }
   ],
   "source": [
    "randomizedPunishment()"
   ]
  },
  {
   "cell_type": "code",
   "execution_count": 8,
   "metadata": {},
   "outputs": [
    {
     "name": "stdout",
     "output_type": "stream",
     "text": [
      "Squidward: The Court™ has sentenced you to being legally bound to have the American Emergency Alarm System (EAS) sound be your ringtone and all notification sounds, on full volume\n"
     ]
    }
   ],
   "source": [
    "randomizedPunishment()"
   ]
  },
  {
   "cell_type": "code",
   "execution_count": 9,
   "metadata": {},
   "outputs": [
    {
     "name": "stdout",
     "output_type": "stream",
     "text": [
      "Gordon Ramsey moment\n"
     ]
    }
   ],
   "source": [
    "beefwellington()"
   ]
  },
  {
   "cell_type": "markdown",
   "metadata": {},
   "source": [
    "### Default parameter values:"
   ]
  },
  {
   "cell_type": "code",
   "execution_count": 10,
   "metadata": {},
   "outputs": [
    {
     "name": "stdout",
     "output_type": "stream",
     "text": [
      "go\n",
      "slow down or floor it, your choice\n",
      "go\n"
     ]
    }
   ],
   "source": [
    "def get_traffic_light(traffic_light='green'):\n",
    "    if traffic_light == 'green':\n",
    "        action = \"go\"\n",
    "    elif traffic_light == 'yellow':\n",
    "        action = \"slow down or floor it, your choice\"\n",
    "    elif traffic_light == 'green':\n",
    "        action = \"stop\"\n",
    "\n",
    "    print(action)\n",
    "\n",
    "get_traffic_light('green')\n",
    "get_traffic_light('yellow')\n",
    "get_traffic_light()"
   ]
  },
  {
   "cell_type": "markdown",
   "metadata": {},
   "source": [
    "### Variable Scope"
   ]
  },
  {
   "cell_type": "code",
   "execution_count": 11,
   "metadata": {},
   "outputs": [
    {
     "name": "stdout",
     "output_type": "stream",
     "text": [
      "7823\n",
      "7823\n"
     ]
    },
    {
     "ename": "NameError",
     "evalue": "name 'b' is not defined",
     "output_type": "error",
     "traceback": [
      "\u001b[1;31m---------------------------------------------------------------------------\u001b[0m",
      "\u001b[1;31mNameError\u001b[0m                                 Traceback (most recent call last)",
      "\u001b[1;32m~\\AppData\\Local\\Temp\\ipykernel_19396\\3359396945.py\u001b[0m in \u001b[0;36m<module>\u001b[1;34m\u001b[0m\n\u001b[0;32m     11\u001b[0m \u001b[0mohio\u001b[0m\u001b[1;33m(\u001b[0m\u001b[1;33m)\u001b[0m\u001b[1;33m\u001b[0m\u001b[1;33m\u001b[0m\u001b[0m\n\u001b[0;32m     12\u001b[0m \u001b[1;33m\u001b[0m\u001b[0m\n\u001b[1;32m---> 13\u001b[1;33m \u001b[0mprint\u001b[0m\u001b[1;33m(\u001b[0m\u001b[0mb\u001b[0m\u001b[1;33m)\u001b[0m \u001b[1;31m### Variables created inside functions can only be used within that function (e.g. b)\u001b[0m\u001b[1;33m\u001b[0m\u001b[1;33m\u001b[0m\u001b[0m\n\u001b[0m",
      "\u001b[1;31mNameError\u001b[0m: name 'b' is not defined"
     ]
    }
   ],
   "source": [
    "a = 7823 ### Variables outside of function can be used \"globally\" (across diferent functions) (e.g. a)\n",
    "\n",
    "def applesauce():\n",
    "    b = \"tax evasion\"\n",
    "    print(a)\n",
    "\n",
    "def ohio():\n",
    "    print(a)\n",
    "\n",
    "applesauce()\n",
    "ohio()\n",
    "\n",
    "print(b) ### Variables created inside functions can only be used within that function (e.g. b)\n"
   ]
  },
  {
   "cell_type": "markdown",
   "metadata": {},
   "source": [
    "### Keyword Arguments"
   ]
  },
  {
   "cell_type": "code",
   "execution_count": 12,
   "metadata": {},
   "outputs": [
    {
     "name": "stdout",
     "output_type": "stream",
     "text": [
      "Priscilla transformed into a 2003 honda civic\n",
      "Squidward ate a nuclear bomb\n",
      "Priscilla transformed into Ohio\n",
      "Ted 'Zodiac Killer' Cruz danced on a 2003 honda civic\n"
     ]
    }
   ],
   "source": [
    "def dumb_sentence(name='Priscilla', action='transformed into', item='a 2003 honda civic'):\n",
    "    print(name, action, item)\n",
    "\n",
    "dumb_sentence()\n",
    "dumb_sentence('Squidward', 'ate', 'a nuclear bomb')\n",
    "dumb_sentence(item='Ohio')\n",
    "dumb_sentence(action='danced on', name=\"Ted 'Zodiac Killer' Cruz\")"
   ]
  },
  {
   "cell_type": "markdown",
   "metadata": {},
   "source": [
    "### Flexible Number of Arguments"
   ]
  },
  {
   "cell_type": "code",
   "execution_count": 13,
   "metadata": {},
   "outputs": [
    {
     "name": "stdout",
     "output_type": "stream",
     "text": [
      "3\n",
      "76\n",
      "89484019299\n"
     ]
    }
   ],
   "source": [
    "def add_numbers(*args): # 'args' is just a variable, can be named anything, but common practice\n",
    "    total = 0\n",
    "\n",
    "    for a in args:\n",
    "        total += a\n",
    "\n",
    "    print(total)\n",
    "\n",
    "add_numbers(3)    \n",
    "add_numbers(21, 17, 38)\n",
    "add_numbers(90876, 5, 23, 89483928394, 1)\n"
   ]
  },
  {
   "cell_type": "markdown",
   "metadata": {},
   "source": [
    "### Unpacking List of Arguments"
   ]
  },
  {
   "cell_type": "code",
   "execution_count": 14,
   "metadata": {},
   "outputs": [
    {
     "name": "stdout",
     "output_type": "stream",
     "text": [
      "-419.0 years left to live\n",
      "-419.0 years left to live\n",
      "94.5 years left to live\n"
     ]
    }
   ],
   "source": [
    "def health_calculator(age, apples_ate, cigs_smoked):\n",
    "    answer = (100-age) + (apples_ate * 3.5) - (cigs_smoked * 2)\n",
    "    print(answer, \"years left to live\")\n",
    "\n",
    "\n",
    "squidwards_data = [73, 4, 230]\n",
    "priscillas_data = [23, 5, 0]\n",
    "\n",
    "health_calculator(squidwards_data[0], squidwards_data[1], squidwards_data[2])\n",
    "health_calculator(*squidwards_data) # unpacking list (regardless of list size)\n",
    "health_calculator(*priscillas_data) # npacking list (regardless of list size)"
   ]
  }
 ],
 "metadata": {
  "interpreter": {
   "hash": "3b806cc711b465e66e8252dff191d8681f8b41038e9cbc25fa942edafd26a2d7"
  },
  "kernelspec": {
   "display_name": "Python 3.9.10 ('base')",
   "language": "python",
   "name": "python3"
  },
  "language_info": {
   "codemirror_mode": {
    "name": "ipython",
    "version": 3
   },
   "file_extension": ".py",
   "mimetype": "text/x-python",
   "name": "python",
   "nbconvert_exporter": "python",
   "pygments_lexer": "ipython3",
   "version": "3.9.10"
  },
  "orig_nbformat": 4
 },
 "nbformat": 4,
 "nbformat_minor": 2
}
