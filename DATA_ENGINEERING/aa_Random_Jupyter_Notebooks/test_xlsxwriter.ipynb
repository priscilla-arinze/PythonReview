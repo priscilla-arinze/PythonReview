{
 "cells": [
  {
   "cell_type": "code",
   "execution_count": 1,
   "metadata": {},
   "outputs": [],
   "source": [
    "import xlsxwriter\n",
    "\n",
    "av = [\n",
    "    (2017, \"toyota\", \"corolla\", True, 0),\n",
    "    (2005, \"nissan\", \"altima\", False, 1), \n",
    "    (2000, \"ford\", \"explorer\", True, 1),\n",
    "    (2017, \"volkswagen\", \"jetta\", True, 1)\n",
    "]\n",
    "cols = [\"year\", \"make\", \"model\", \"random_bool\", \"random_num\"]"
   ]
  },
  {
   "cell_type": "code",
   "execution_count": 2,
   "metadata": {},
   "outputs": [
    {
     "data": {
      "text/plain": [
       "[(2017, 'toyota', 'corolla', True, 0), (2000, 'ford', 'explorer', True, 1)]"
      ]
     },
     "execution_count": 2,
     "metadata": {},
     "output_type": "execute_result"
    }
   ],
   "source": [
    "l = [t for t in av if t[3]==True]\n",
    "\n",
    "l"
   ]
  },
  {
   "cell_type": "code",
   "execution_count": 4,
   "metadata": {},
   "outputs": [
    {
     "data": {
      "text/plain": [
       "[(2005, 'nissan', 'altima', False, 1), (2000, 'ford', 'explorer', True, 1)]"
      ]
     },
     "execution_count": 4,
     "metadata": {},
     "output_type": "execute_result"
    }
   ],
   "source": [
    "s = {2000, 2005}\n",
    "\n",
    "k = [t for t in av if t[0] in s]\n",
    "\n",
    "k"
   ]
  },
  {
   "cell_type": "code",
   "execution_count": 3,
   "metadata": {},
   "outputs": [],
   "source": [
    "\n",
    "workbook = xlsxwriter.Workbook(\"test_excel.xlsx\")\n",
    "worksheet = workbook.add_worksheet()\n",
    "bold = workbook.add_format({\"bold\": 1})\n",
    "\n",
    "\n",
    "## header\n",
    "worksheet.write_row('A1', cols, bold)\n",
    "\n",
    "## rows\n",
    "for row, line in enumerate(av):\n",
    "    for col, cell in enumerate(line):\n",
    "        worksheet.write(row+1, col, cell)\n",
    "\n",
    "\n",
    "\n",
    "worksheet.autofit()\n",
    "workbook.close()"
   ]
  },
  {
   "cell_type": "code",
   "execution_count": 9,
   "metadata": {},
   "outputs": [
    {
     "data": {
      "text/plain": [
       "['year',\n",
       " 'make',\n",
       " 'model',\n",
       " 'random_bool',\n",
       " 'random_num',\n",
       " (2017, 'toyota', 'corolla', True, 0),\n",
       " (2005, 'nissan', 'altima', False, 1),\n",
       " (2000, 'ford', 'explorer', True, 1),\n",
       " (2017, 'toyota', 'corolla', True, 0),\n",
       " (2005, 'nissan', 'altima', False, 1),\n",
       " (2000, 'ford', 'explorer', True, 1)]"
      ]
     },
     "execution_count": 9,
     "metadata": {},
     "output_type": "execute_result"
    }
   ],
   "source": [
    "cols.extend(av)\n",
    "\n",
    "cols"
   ]
  },
  {
   "cell_type": "code",
   "execution_count": null,
   "metadata": {},
   "outputs": [],
   "source": []
  }
 ],
 "metadata": {
  "kernelspec": {
   "display_name": "modernize",
   "language": "python",
   "name": "python3"
  },
  "language_info": {
   "codemirror_mode": {
    "name": "ipython",
    "version": 3
   },
   "file_extension": ".py",
   "mimetype": "text/x-python",
   "name": "python",
   "nbconvert_exporter": "python",
   "pygments_lexer": "ipython3",
   "version": "3.10.0"
  },
  "orig_nbformat": 4
 },
 "nbformat": 4,
 "nbformat_minor": 2
}
