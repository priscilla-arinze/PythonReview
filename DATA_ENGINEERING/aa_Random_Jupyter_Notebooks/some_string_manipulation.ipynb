{
 "cells": [
  {
   "cell_type": "code",
   "execution_count": 9,
   "metadata": {},
   "outputs": [],
   "source": [
    "ex1 = \"C:\\\\Windows\\\\System32\\\\cmd.exe /c type D:\\\\Users\\\\priscillaw\\\\1_MOD\\\\1_MODERNIZE\\\\tests\\\\test_data\\\\test_workspaceempty.txt\"\n",
    "ex2 = [\"C:\\\\Windows\\\\System32\\\\cmd.exe\", \"/c\", \"type\", \"D:\\\\Users\\\\priscillaw\\\\1_MOD\\\\1_MODERNIZE\\\\tests\\\\test_data\\\\test_workspaceempty.txt\"]\n",
    "ex3 = (\"C:\\\\Windows\\\\System32\\\\cmd.exe\",)"
   ]
  },
  {
   "cell_type": "code",
   "execution_count": 22,
   "metadata": {},
   "outputs": [
    {
     "name": "stdout",
     "output_type": "stream",
     "text": [
      "['C:\\\\Windows\\\\System32\\\\cmd.exe /c type D:\\\\Users\\\\priscillaw\\\\1_MOD\\\\1_MODERNIZE\\\\tests\\\\test_data\\\\test_workspaceempty.txt']\n",
      "[['C:\\\\Windows\\\\System32\\\\cmd.exe', '/c', 'type', 'D:\\\\Users\\\\priscillaw\\\\1_MOD\\\\1_MODERNIZE\\\\tests\\\\test_data\\\\test_workspaceempty.txt']]\n",
      "[('C:\\\\Windows\\\\System32\\\\cmd.exe',)]\n"
     ]
    }
   ],
   "source": [
    "print([ex1])\n",
    "print([ex2])\n",
    "print([ex3])"
   ]
  },
  {
   "cell_type": "code",
   "execution_count": 30,
   "metadata": {},
   "outputs": [
    {
     "name": "stdout",
     "output_type": "stream",
     "text": [
      "['C:\\\\Windows\\\\System32\\\\cmd.exe', '/c', 'type', 'D:\\\\Users\\\\priscillaw\\\\1_MOD\\\\1_MODERNIZE\\\\tests\\\\test_data\\\\test_workspaceempty.txt']\n",
      "['C:\\\\Windows\\\\System32\\\\cmd.exe', '/c', 'type', 'D:\\\\Users\\\\priscillaw\\\\1_MOD\\\\1_MODERNIZE\\\\tests\\\\test_data\\\\test_workspaceempty.txt']\n",
      "('C:\\\\Windows\\\\System32\\\\cmd.exe',)\n"
     ]
    }
   ],
   "source": [
    "if isinstance(ex1, str):\n",
    "    print(ex1.split())\n",
    "else:\n",
    "    print(\"not a string\")\n",
    "\n",
    "print(ex2)\n",
    "print(ex3)"
   ]
  },
  {
   "cell_type": "code",
   "execution_count": 31,
   "metadata": {},
   "outputs": [
    {
     "name": "stdout",
     "output_type": "stream",
     "text": [
      "bleh bl;eh blebhsshk\n",
      "['bleh', 'bl;eh', 'blebhsshk']\n"
     ]
    }
   ],
   "source": [
    "x = \"bleh bl;eh blebhsshk\"\n",
    "\n",
    "y = x\n",
    "print(y)\n",
    "\n",
    "if isinstance(x, str):\n",
    "    y = x.split()\n",
    "\n",
    "print(y)"
   ]
  },
  {
   "cell_type": "code",
   "execution_count": 24,
   "metadata": {},
   "outputs": [
    {
     "name": "stdout",
     "output_type": "stream",
     "text": [
      "C:\\Windows\\System32\\cmd.exe /c type D:\\Users\\priscillaw\\1_MOD\\1_MODERNIZE\\tests\\test_data\\test_workspaceempty.txt\n",
      "C:\\Windows\\System32\\cmd.exe/ctypeD:\\Users\\priscillaw\\1_MOD\\1_MODERNIZE\\tests\\test_data\\test_workspaceempty.txt\n",
      "C:\\Windows\\System32\\cmd.exe\n"
     ]
    }
   ],
   "source": [
    "print(\"\".join(ex1))\n",
    "print(\"\".join(ex2))\n",
    "print(\"\".join(ex3))"
   ]
  },
  {
   "cell_type": "code",
   "execution_count": 6,
   "metadata": {},
   "outputs": [],
   "source": [
    "import frida\n",
    "\n",
    "f_device = frida.get_local_device()\n",
    "\n",
    "env = {\n",
    "    \"BR_AUDIT_WORKSPACE_ROOT\": \"D:\\\\Users\\\\priscillaw\\\\1_MOD\\\\1_MODERNIZE\\\\tests\\\\test_data\\\\test_workspace\",\n",
    "    \"BR_AUDIT_LOG_DIR\": \"D:\\\\Users\\\\priscillaw\\\\1_MOD\\\\1_MODERNIZE\\\\tests\\\\test_data\\logs\",\n",
    "    \"BR_MODULE_NAME\": \"test_module_name\",\n",
    "    \"BR_AUDIT_DEBUG\": \"0\",\n",
    "    \"BR_AUDIT_TRACE\": \"0\",\n",
    "}"
   ]
  },
  {
   "cell_type": "code",
   "execution_count": 29,
   "metadata": {},
   "outputs": [],
   "source": [
    "spcmd = ex1.split()\n",
    "\n",
    "try:\n",
    "    pid = f_device.spawn(ex2, env=env, stdio=\"pipe\")\n",
    "except Exception as ex:\n",
    "    print(f\"oops: {ex}\")"
   ]
  }
 ],
 "metadata": {
  "kernelspec": {
   "display_name": "base",
   "language": "python",
   "name": "python3"
  },
  "language_info": {
   "codemirror_mode": {
    "name": "ipython",
    "version": 3
   },
   "file_extension": ".py",
   "mimetype": "text/x-python",
   "name": "python",
   "nbconvert_exporter": "python",
   "pygments_lexer": "ipython3",
   "version": "3.10.11"
  },
  "orig_nbformat": 4
 },
 "nbformat": 4,
 "nbformat_minor": 2
}
