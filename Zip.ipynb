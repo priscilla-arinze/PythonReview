{
 "cells": [
  {
   "cell_type": "markdown",
   "metadata": {},
   "source": [
    "# Zip()\n",
    "\n",
    "A way to associate 2 lists/tuples of equal length together"
   ]
  },
  {
   "cell_type": "code",
   "execution_count": 1,
   "metadata": {},
   "outputs": [],
   "source": [
    "state_full = ['California', 'Ohio', 'Nevada', 'Colorado']\n",
    "state_abbrev = ['CA', 'OH', 'NV', 'CO']"
   ]
  },
  {
   "cell_type": "code",
   "execution_count": 3,
   "metadata": {},
   "outputs": [
    {
     "name": "stdout",
     "output_type": "stream",
     "text": [
      "<zip object at 0x0000025E20D84900>\n"
     ]
    }
   ],
   "source": [
    "states = zip(state_full, state_abbrev)\n",
    "\n",
    "# Basicially is a list of tuples [('California', 'Ohio', 'Nevada', 'Colorado'), ('CA', 'OH', 'NV', 'CO')]"
   ]
  },
  {
   "cell_type": "code",
   "execution_count": 4,
   "metadata": {},
   "outputs": [
    {
     "name": "stdout",
     "output_type": "stream",
     "text": [
      "California - CA\n",
      "Ohio - OH\n",
      "Nevada - NV\n",
      "Colorado - CO\n"
     ]
    }
   ],
   "source": [
    "for a, b in states:\n",
    "    print(a, \"-\", b)"
   ]
  }
 ],
 "metadata": {
  "kernelspec": {
   "display_name": "Python 3.9.10 ('base')",
   "language": "python",
   "name": "python3"
  },
  "language_info": {
   "codemirror_mode": {
    "name": "ipython",
    "version": 3
   },
   "file_extension": ".py",
   "mimetype": "text/x-python",
   "name": "python",
   "nbconvert_exporter": "python",
   "pygments_lexer": "ipython3",
   "version": "3.9.10"
  },
  "orig_nbformat": 4,
  "vscode": {
   "interpreter": {
    "hash": "3b806cc711b465e66e8252dff191d8681f8b41038e9cbc25fa942edafd26a2d7"
   }
  }
 },
 "nbformat": 4,
 "nbformat_minor": 2
}
