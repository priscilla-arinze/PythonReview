{
 "cells": [
  {
   "cell_type": "markdown",
   "metadata": {},
   "source": [
    "# For Loops"
   ]
  },
  {
   "cell_type": "code",
   "execution_count": null,
   "metadata": {},
   "outputs": [
    {
     "name": "stdout",
     "output_type": "stream",
     "text": [
      "cheese\n",
      "6\n",
      "tuna\n",
      "4\n",
      "rice\n",
      "4\n",
      "beef\n",
      "4\n"
     ]
    }
   ],
   "source": [
    "foods = ['cheese', 'tuna', 'rice', 'beef']\n",
    "\n",
    "for f in foods:\n",
    "    print(f)\n",
    "    print(len(f))"
   ]
  },
  {
   "cell_type": "code",
   "execution_count": null,
   "metadata": {},
   "outputs": [
    {
     "name": "stdout",
     "output_type": "stream",
     "text": [
      "cheese\n",
      "6\n",
      "tuna\n",
      "4\n"
     ]
    }
   ],
   "source": [
    "foods = ['cheese', 'tuna', 'rice', 'beef']\n",
    "\n",
    "for f in foods[:2]:\n",
    "    print(f)\n",
    "    print(len(f))"
   ]
  },
  {
   "cell_type": "code",
   "execution_count": 2,
   "metadata": {},
   "outputs": [
    {
     "name": "stdout",
     "output_type": "stream",
     "text": [
      "I am now 1 million dollars in student loan debt.\n",
      "I am now 2 million dollars in student loan debt.\n",
      "I am now 3 million dollars in student loan debt.\n",
      "I am now 4 million dollars in student loan debt.\n",
      "I am now 5 million dollars in student loan debt.\n",
      "I am now 6 million dollars in student loan debt.\n",
      "I am now 7 million dollars in student loan debt.\n",
      "I am now 8 million dollars in student loan debt.\n",
      "I am now 9 million dollars in student loan debt.\n",
      "I am now 10 million dollars in student loan debt.\n"
     ]
    }
   ],
   "source": [
    "for i in range(10):\n",
    "    print(\"I am now \"+str(i+1)+\" million dollars in student loan debt.\")"
   ]
  },
  {
   "cell_type": "code",
   "execution_count": null,
   "metadata": {},
   "outputs": [
    {
     "name": "stdout",
     "output_type": "stream",
     "text": [
      "5\n",
      "6\n",
      "7\n",
      "8\n",
      "9\n",
      "10\n",
      "11\n"
     ]
    }
   ],
   "source": [
    "for i in range(5,12):\n",
    "    print(i)"
   ]
  },
  {
   "cell_type": "markdown",
   "metadata": {},
   "source": [
    "### Third number in range is how much to count by within the first two numbers; e.g. count by 5"
   ]
  },
  {
   "cell_type": "code",
   "execution_count": null,
   "metadata": {},
   "outputs": [
    {
     "name": "stdout",
     "output_type": "stream",
     "text": [
      "10\n",
      "15\n",
      "20\n",
      "25\n",
      "30\n",
      "35\n"
     ]
    }
   ],
   "source": [
    "for i in range(10, 40, 5):\n",
    "    print(i)"
   ]
  },
  {
   "cell_type": "markdown",
   "metadata": {},
   "source": [
    "### Finding smallest value\n",
    "\n",
    "*Hint: store first variable & go based on of that*"
   ]
  },
  {
   "cell_type": "code",
   "execution_count": null,
   "metadata": {},
   "outputs": [
    {
     "name": "stdout",
     "output_type": "stream",
     "text": [
      "Begin\n",
      "9 --> 9\n",
      "41 --> 9\n",
      "12 --> 9\n",
      "3 --> 3\n",
      "74 --> 3\n",
      "15 --> 3\n",
      "End; Smallest number = 3\n"
     ]
    }
   ],
   "source": [
    "smallest = None\n",
    "\n",
    "print('Begin')\n",
    "\n",
    "for value in [9, 41, 12, 3, 74, 15]:\n",
    "    if smallest == None:\n",
    "        smallest = value\n",
    "    elif value < smallest:\n",
    "        smallest = value\n",
    "    print(value, \"-->\", smallest)\n",
    "\n",
    "print('End; Smallest number =', smallest)"
   ]
  },
  {
   "cell_type": "markdown",
   "metadata": {},
   "source": [
    "### Break statement:"
   ]
  },
  {
   "cell_type": "code",
   "execution_count": null,
   "metadata": {},
   "outputs": [
    {
     "name": "stdout",
     "output_type": "stream",
     "text": [
      "0\n",
      "1\n",
      "2\n",
      "3\n",
      "4\n",
      "5\n",
      "6\n",
      "7\n",
      "8 is the magic number!\n"
     ]
    }
   ],
   "source": [
    "magicNumber = 8\n",
    "\n",
    "for n in range(101):\n",
    "    if n is magicNumber:\n",
    "        print(n, \"is the magic number!\")\n",
    "        break # stop loop when condition is true\n",
    "        print(\"swag like ohio\")\n",
    "    else:\n",
    "        print(n)"
   ]
  },
  {
   "cell_type": "code",
   "execution_count": null,
   "metadata": {},
   "outputs": [
    {
     "name": "stdout",
     "output_type": "stream",
     "text": [
      "0\n",
      "4\n",
      "8\n",
      "12\n",
      "16\n",
      "20\n",
      "24\n",
      "28\n",
      "32\n",
      "36\n",
      "40\n",
      "44\n",
      "48\n",
      "52\n",
      "56\n",
      "60\n",
      "64\n",
      "68\n",
      "72\n",
      "76\n",
      "80\n",
      "84\n",
      "88\n",
      "92\n",
      "96\n",
      "100\n"
     ]
    }
   ],
   "source": [
    "# Mini-project: Print numbers divisible by 4 within a range of 0 to 100\n",
    "\n",
    "for i in range(101):\n",
    "    if i % 4 == 0:\n",
    "        print(i)"
   ]
  },
  {
   "cell_type": "markdown",
   "metadata": {},
   "source": [
    "### Continue statement:"
   ]
  },
  {
   "cell_type": "code",
   "execution_count": 3,
   "metadata": {},
   "outputs": [
    {
     "name": "stdout",
     "output_type": "stream",
     "text": [
      "Here are the jersey numbers still available: \n",
      "ohio doesn't exist\n",
      "1\n",
      "ohio doesn't exist\n",
      "3\n",
      "ohio doesn't exist\n",
      "4\n",
      "ohio doesn't exist\n",
      "6\n",
      "ohio doesn't exist\n",
      "7\n",
      "ohio doesn't exist\n",
      "8\n",
      "ohio doesn't exist\n",
      "9\n",
      "ohio doesn't exist\n",
      "10\n",
      "ohio doesn't exist\n",
      "11\n",
      "ohio doesn't exist\n",
      "13\n",
      "ohio doesn't exist\n",
      "14\n",
      "ohio doesn't exist\n",
      "15\n",
      "ohio doesn't exist\n",
      "16\n",
      "ohio doesn't exist\n",
      "18\n",
      "ohio doesn't exist\n",
      "19\n"
     ]
    }
   ],
   "source": [
    "numbersTaken = [2, 5, 12, 33, 17]\n",
    "\n",
    "print(\"Here are the jersey numbers still available: \")\n",
    "\n",
    "for n in range(1, 20):\n",
    "    if n in numbersTaken:\n",
    "        continue # once condition is true, skip that condition and re-run loop until end\n",
    "    print(\"ohio doesn't exist\")\n",
    "    print(n)"
   ]
  }
 ],
 "metadata": {
  "interpreter": {
   "hash": "3b806cc711b465e66e8252dff191d8681f8b41038e9cbc25fa942edafd26a2d7"
  },
  "kernelspec": {
   "display_name": "Python 3.9.10 ('base')",
   "language": "python",
   "name": "python3"
  },
  "language_info": {
   "codemirror_mode": {
    "name": "ipython",
    "version": 3
   },
   "file_extension": ".py",
   "mimetype": "text/x-python",
   "name": "python",
   "nbconvert_exporter": "python",
   "pygments_lexer": "ipython3",
   "version": "3.9.10"
  },
  "orig_nbformat": 4
 },
 "nbformat": 4,
 "nbformat_minor": 2
}
