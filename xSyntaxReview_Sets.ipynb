{
 "cells": [
  {
   "cell_type": "markdown",
   "metadata": {},
   "source": [
    "# Sets\n",
    "\n",
    "Considerations:\n",
    "1. No duplicate items are allowed in sets\n",
    "2. Items in sets are not in any order\n",
    "3. Items within set must be immutable (e.g. strings, numbers, etc); they cannot be lists or dictionaries"
   ]
  },
  {
   "cell_type": "code",
   "execution_count": null,
   "metadata": {},
   "outputs": [
    {
     "name": "stdout",
     "output_type": "stream",
     "text": [
      "set()\n",
      "{'dolphin'}\n",
      "{'divorce papers', 'cat', 'turtle', 'dolphin', 'frog'}\n"
     ]
    }
   ],
   "source": [
    "animals = set()\n",
    "\n",
    "print(animals)\n",
    "\n",
    "animals.add(\"dolphin\")\n",
    "\n",
    "print(animals)\n",
    "\n",
    "list_of_animals = ['cat', 'turtle', 'divorce papers', 'frog']\n",
    "\n",
    "animals.update(list_of_animals)\n",
    "\n",
    "print(animals)"
   ]
  },
  {
   "cell_type": "code",
   "execution_count": null,
   "metadata": {},
   "outputs": [
    {
     "name": "stdout",
     "output_type": "stream",
     "text": [
      "{'cereal', 'milk', 'peanut butter', 'muffins', 'cookies'}\n",
      "stop buying milk\n"
     ]
    }
   ],
   "source": [
    "groceries = {'cereal', 'milk', 'peanut butter', 'muffins', 'milk', 'cookies'}\n",
    "\n",
    "print(groceries)\n",
    "\n",
    "if 'milk' in groceries:\n",
    "    print(\"stop buying milk\")\n",
    "else:\n",
    "    print(\"buy milk so it can waste away in the fridge\")"
   ]
  }
 ],
 "metadata": {
  "interpreter": {
   "hash": "3b806cc711b465e66e8252dff191d8681f8b41038e9cbc25fa942edafd26a2d7"
  },
  "kernelspec": {
   "display_name": "Python 3.9.10 ('base')",
   "language": "python",
   "name": "python3"
  },
  "language_info": {
   "name": "python",
   "version": "3.9.10"
  },
  "orig_nbformat": 4
 },
 "nbformat": 4,
 "nbformat_minor": 2
}
