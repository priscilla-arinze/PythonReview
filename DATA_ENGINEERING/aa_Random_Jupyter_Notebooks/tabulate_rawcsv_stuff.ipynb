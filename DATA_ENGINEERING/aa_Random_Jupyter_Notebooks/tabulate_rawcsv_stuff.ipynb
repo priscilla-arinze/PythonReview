{
 "cells": [
  {
   "cell_type": "code",
   "execution_count": 1,
   "metadata": {},
   "outputs": [],
   "source": [
    "from tabulate import tabulate\n",
    "from tabulate import tabulate_formats\n",
    "import subprocess\n",
    "import pandas as pd\n",
    "import csv"
   ]
  },
  {
   "cell_type": "code",
   "execution_count": 2,
   "metadata": {},
   "outputs": [
    {
     "name": "stdout",
     "output_type": "stream",
     "text": [
      "['asciidoc', 'double_grid', 'double_outline', 'fancy_grid', 'fancy_outline', 'github', 'grid', 'heavy_grid', 'heavy_outline', 'html', 'jira', 'latex', 'latex_booktabs', 'latex_longtable', 'latex_raw', 'mediawiki', 'mixed_grid', 'mixed_outline', 'moinmoin', 'orgtbl', 'outline', 'pipe', 'plain', 'presto', 'pretty', 'psql', 'rounded_grid', 'rounded_outline', 'rst', 'simple', 'simple_grid', 'simple_outline', 'textile', 'tsv', 'unsafehtml', 'youtrack']\n"
     ]
    }
   ],
   "source": [
    "print(tabulate_formats)"
   ]
  },
  {
   "cell_type": "code",
   "execution_count": 3,
   "metadata": {},
   "outputs": [],
   "source": [
    "rows = [\n",
    "    (1, 1, 1, 1),\n",
    "    (2, 2, 2, 2),\n",
    "    (3, 3, 3, 3),\n",
    "    (4, 4, 4, 4)\n",
    "]\n",
    "\n",
    "cols = [\"col1\", \"col2\", \"col3\", \"col4\"]"
   ]
  },
  {
   "cell_type": "code",
   "execution_count": 35,
   "metadata": {},
   "outputs": [],
   "source": [
    "rows2 = [\n",
    "    (1, 1, 1, \"/bin/sh  -c  . /home/ubuntu/humble-0428/build/examples_rclpy_minimal_publisher/colcon_command_prefix_setup_py.sh && env\"),\n",
    "    (2, 2, 2, \"/usr/bin/python3  setup.py  --help-commands\"),\n",
    "    (3, 3, 3, \"/bin/sh  -c  . /home/ubuntu/humble-0428/build/examples_rclpy_minimal_publisher/colcon_command_prefix_setup_py.sh && env\"),\n",
    "    (4, 4, 4, \"/usr/bin/python3  /usr/bin/colcon  build  --symlink-install  --packages-select  examples_rclpy_minimal_publisher\")\n",
    "]\n",
    "\n",
    "cols2 = [\"col1\", \"col2\", \"col3\", \"col4\"]"
   ]
  },
  {
   "cell_type": "code",
   "execution_count": 36,
   "metadata": {},
   "outputs": [],
   "source": [
    "out = tabulate(rows2, headers=cols2, tablefmt=\"tsv\", showindex=False)"
   ]
  },
  {
   "cell_type": "code",
   "execution_count": 37,
   "metadata": {},
   "outputs": [],
   "source": [
    "def raw_csv_to_stdout(tabulate_tsv_output: str):\n",
    "    \"\"\"\n",
    "    Given the string TSV output from tabulate(), this function will convert from the TSV format \n",
    "    and will output the raw CSV format to STDOUT.\n",
    "\n",
    "    Parameters:\n",
    "        tabulate_tsv_output (str): The output given when calling tabulate( ... tablefmt=\"tsv\" ... ).\n",
    "    \"\"\"\n",
    "\n",
    "    tabulate_output_split = tabulate_tsv_output.replace(\"\\t\", \",\").split(\"\\n\")\n",
    "    print(\"tabulate_output_split:\", tabulate_output_split)\n",
    "\n",
    "    # csv_list = [line.strip().replace(\" \", \"\").split(\",\") for line in tabulate_output_split]\n",
    "    csv_list = [line.split(\",\") for line in tabulate_output_split]\n",
    "    csv_list_stripped = [[cell.strip() for cell in row] for row in csv_list]\n",
    "    print(\"csv_list:\", csv_list)\n",
    "\n",
    "    for r in csv_list_stripped:\n",
    "        print(','.join(r))"
   ]
  },
  {
   "cell_type": "code",
   "execution_count": 38,
   "metadata": {},
   "outputs": [],
   "source": [
    "import re\n",
    "\n",
    "def raw_csv_to_stdout(tabulate_tsv_output: str):\n",
    "    \"\"\"\n",
    "    Given the string TSV output from tabulate(), this function will convert from the TSV format \n",
    "    and will output the raw CSV format to STDOUT.\n",
    "\n",
    "    Parameters:\n",
    "        tabulate_tsv_output (str): The output given when calling tabulate( ... tablefmt=\"tsv\" ... ).\n",
    "    \"\"\"\n",
    "    csv_list = [re.split(r'\\t|\\n', line.strip()) for line in tabulate_tsv_output.splitlines()]\n",
    "    csv_list_stripped = [[cell.strip() for cell in row] for row in csv_list]\n",
    "\n",
    "    csv_output = '\\n'.join([','.join(row) for row in csv_list_stripped])\n",
    "    print(csv_output)"
   ]
  },
  {
   "cell_type": "code",
   "execution_count": 39,
   "metadata": {},
   "outputs": [
    {
     "name": "stdout",
     "output_type": "stream",
     "text": [
      "col1,col2,col3,col4\n",
      "1,1,1,/bin/sh  -c  . /home/ubuntu/humble-0428/build/examples_rclpy_minimal_publisher/colcon_command_prefix_setup_py.sh && env\n",
      "2,2,2,/usr/bin/python3  setup.py  --help-commands\n",
      "3,3,3,/bin/sh  -c  . /home/ubuntu/humble-0428/build/examples_rclpy_minimal_publisher/colcon_command_prefix_setup_py.sh && env\n",
      "4,4,4,/usr/bin/python3  /usr/bin/colcon  build  --symlink-install  --packages-select  examples_rclpy_minimal_publisher\n"
     ]
    }
   ],
   "source": [
    "raw_csv_to_stdout(out)"
   ]
  },
  {
   "cell_type": "code",
   "execution_count": 4,
   "metadata": {},
   "outputs": [],
   "source": [
    "# tblfmt = \"fancy_grid\"\n",
    "tblfmt = \"tsv\""
   ]
  },
  {
   "cell_type": "code",
   "execution_count": 5,
   "metadata": {},
   "outputs": [
    {
     "name": "stdout",
     "output_type": "stream",
     "text": [
      "  col1,  col2,  col3,  col4\n",
      "     1,     1,     1,     1\n",
      "     2,     2,     2,     2\n",
      "     3,     3,     3,     3\n",
      "     4,     4,     4,     4\n",
      "\n",
      "\n",
      "\n",
      "  col1,  col2,  col3,  col4\n",
      "     1,     1,     1,     1\n",
      "     2,     2,     2,     2\n",
      "     3,     3,     3,     3\n",
      "     4,     4,     4,     4\n"
     ]
    }
   ],
   "source": [
    "out = tabulate(rows, headers=cols, tablefmt=tblfmt, showindex=False)\n",
    "\n",
    "x = out.replace(\"\\t\", \",\")\n",
    "result = ','.join(out.split(\"\\t\"))\n",
    "\n",
    "print(x)\n",
    "print(\"\\n\\n\")\n",
    "print(result)"
   ]
  },
  {
   "cell_type": "code",
   "execution_count": 69,
   "metadata": {},
   "outputs": [
    {
     "name": "stdout",
     "output_type": "stream",
     "text": [
      "[['col1', 'col2', 'col3', 'col4'], ['1', '1', '1', '1'], ['2', '2', '2', '2'], ['3', '3', '3', '3'], ['4', '4', '4', '4']]\n"
     ]
    }
   ],
   "source": [
    "out2 = [i.strip().replace(\" \", \"\").split(\",\") for i in x.split(\"\\n\")]\n",
    "\n",
    "print(out2)"
   ]
  },
  {
   "cell_type": "code",
   "execution_count": 70,
   "metadata": {},
   "outputs": [],
   "source": [
    "with open('/home/priscilla2/Documents/test.csv', 'w') as f:\n",
    "    writer = csv.writer(f)\n",
    "    for r in out2:\n",
    "        writer.writerow(r)"
   ]
  },
  {
   "cell_type": "code",
   "execution_count": 71,
   "metadata": {},
   "outputs": [
    {
     "name": "stdout",
     "output_type": "stream",
     "text": [
      "col1,col2,col3,col4\n",
      "1,1,1,1\n",
      "2,2,2,2\n",
      "3,3,3,3\n",
      "4,4,4,4\n"
     ]
    }
   ],
   "source": [
    "import sys\n",
    "\n",
    "# TODO (Windows ONLY): will probably add a \"\\n\" after each new line\n",
    "writer = csv.writer(sys.stdout)\n",
    "\n",
    "for r in out2:\n",
    "    writer.writerow(r)"
   ]
  },
  {
   "cell_type": "code",
   "execution_count": 38,
   "metadata": {},
   "outputs": [
    {
     "name": "stdout",
     "output_type": "stream",
     "text": [
      "col1,  col2,  col3,  col4\n",
      "     1,     1,     1,     1\n",
      "     2,     2,     2,     2\n",
      "     3,     3,     3,     3\n",
      "     4,     4,     4,     4\n"
     ]
    },
    {
     "data": {
      "text/plain": [
       "CompletedProcess(args=['echo', 'col1,  col2,  col3,  col4\\n     1,     1,     1,     1\\n     2,     2,     2,     2\\n     3,     3,     3,     3\\n     4,     4,     4,     4'], returncode=0)"
      ]
     },
     "execution_count": 38,
     "metadata": {},
     "output_type": "execute_result"
    }
   ],
   "source": [
    "subprocess.run([\"echo\", x.strip()])"
   ]
  },
  {
   "attachments": {},
   "cell_type": "markdown",
   "metadata": {},
   "source": [
    "<hr>\n",
    "<hr>\n",
    "<hr>"
   ]
  },
  {
   "cell_type": "code",
   "execution_count": 82,
   "metadata": {},
   "outputs": [
    {
     "name": "stdout",
     "output_type": "stream",
     "text": [
      "['  col1,  col2,  col3,  col4', '     1,     1,     1,     1', '     2,     2,     2,     2', '     3,     3,     3,     3', '     4,     4,     4,     4']\n",
      "[['col1', 'col2', 'col3', 'col4'], ['1', '1', '1', '1'], ['2', '2', '2', '2'], ['3', '3', '3', '3'], ['4', '4', '4', '4']]\n",
      "col1,col2,col3,col4\n",
      "1,1,1,1\n",
      "2,2,2,2\n",
      "3,3,3,3\n",
      "4,4,4,4\n"
     ]
    }
   ],
   "source": [
    "from tabulate import tabulate\n",
    "import csv\n",
    "import sys\n",
    "\n",
    "\n",
    "data = [\n",
    "    (1, 1, 1, 1),\n",
    "    (2, 2, 2, 2),\n",
    "    (3, 3, 3, 3),\n",
    "    (4, 4, 4, 4)\n",
    "]\n",
    "\n",
    "cols = [\"col1\", \"col2\", \"col3\", \"col4\"]\n",
    "\n",
    "\n",
    "\n",
    "\n",
    "tblfmt3 = \"tsv\"\n",
    "\n",
    "tabulate_output: str = tabulate(rows, headers=cols, tablefmt=tblfmt3, showindex=False)\n",
    "\n",
    "tabulate_output_split = tabulate_output.replace(\"\\t\", \",\").split(\"\\n\")\n",
    "csv_list = [line.strip().replace(\" \", \"\").split(\",\") for line in tabulate_output_split]\n",
    "\n",
    "print(tabulate_output_split)\n",
    "print(csv_list)\n",
    "\n",
    "\n",
    "\n",
    "# TODO (Windows ONLY): will probably add a \"\\n\" after each new line\n",
    "writer = csv.writer(sys.stdout)\n",
    "\n",
    "for r in csv_list:\n",
    "    writer.writerow(r)"
   ]
  },
  {
   "cell_type": "code",
   "execution_count": 6,
   "metadata": {},
   "outputs": [],
   "source": [
    "from tabulate import tabulate_formats\n",
    "import copy\n",
    "\n",
    "def full_tabulate_formats():\n",
    "    \"\"\"\n",
    "    Returns a complete list of tabulate formats, including additional formats such as 'rawcsv'.\n",
    "\n",
    "    Returns:\n",
    "        List (all_formats): Contains all of the tabulate formats, including additional formats such as 'rawcsv'.\n",
    "    \"\"\"\n",
    "\n",
    "    base_formats: list = copy.deepcopy(tabulate_formats)\n",
    "    print(base_formats)\n",
    "    \n",
    "    additional_formats = \"rawcsv\"\n",
    "    all_formats = base_formats.append(additional_formats)\n",
    "    print(all_formats)\n",
    "\n",
    "    return all_formats"
   ]
  },
  {
   "cell_type": "code",
   "execution_count": 7,
   "metadata": {},
   "outputs": [
    {
     "name": "stdout",
     "output_type": "stream",
     "text": [
      "['asciidoc', 'double_grid', 'double_outline', 'fancy_grid', 'fancy_outline', 'github', 'grid', 'heavy_grid', 'heavy_outline', 'html', 'jira', 'latex', 'latex_booktabs', 'latex_longtable', 'latex_raw', 'mediawiki', 'mixed_grid', 'mixed_outline', 'moinmoin', 'orgtbl', 'outline', 'pipe', 'plain', 'presto', 'pretty', 'psql', 'rounded_grid', 'rounded_outline', 'rst', 'simple', 'simple_grid', 'simple_outline', 'textile', 'tsv', 'unsafehtml', 'youtrack']\n",
      "None\n",
      "None\n"
     ]
    }
   ],
   "source": [
    "print(full_tabulate_formats())"
   ]
  },
  {
   "cell_type": "code",
   "execution_count": 22,
   "metadata": {},
   "outputs": [
    {
     "name": "stdout",
     "output_type": "stream",
     "text": [
      "None\n"
     ]
    }
   ],
   "source": [
    "base = []\n",
    "\n",
    "for x in tabulate_formats:\n",
    "    base.append(x)\n",
    "\n",
    "base = copy.deepcopy(base)\n",
    "base2 = base.append(base)\n",
    "print(base2)"
   ]
  },
  {
   "cell_type": "code",
   "execution_count": 24,
   "metadata": {},
   "outputs": [
    {
     "name": "stdout",
     "output_type": "stream",
     "text": [
      "['asciidoc', 'double_grid', 'double_outline', 'fancy_grid', 'fancy_outline', 'github', 'grid', 'heavy_grid', 'heavy_outline', 'html', 'jira', 'latex', 'latex_booktabs', 'latex_longtable', 'latex_raw', 'mediawiki', 'mixed_grid', 'mixed_outline', 'moinmoin', 'orgtbl', 'outline', 'pipe', 'plain', 'presto', 'pretty', 'psql', 'rounded_grid', 'rounded_outline', 'rst', 'simple', 'simple_grid', 'simple_outline', 'textile', 'tsv', 'unsafehtml', 'youtrack', 'rawcsv']\n"
     ]
    }
   ],
   "source": [
    "x = tabulate_formats + [\"rawcsv\"]\n",
    "\n",
    "print(x)"
   ]
  },
  {
   "cell_type": "code",
   "execution_count": 25,
   "metadata": {},
   "outputs": [
    {
     "name": "stdout",
     "output_type": "stream",
     "text": [
      "['asciidoc', 'double_grid', 'double_outline', 'fancy_grid', 'fancy_outline', 'github', 'grid', 'heavy_grid', 'heavy_outline', 'html', 'jira', 'latex', 'latex_booktabs', 'latex_longtable', 'latex_raw', 'mediawiki', 'mixed_grid', 'mixed_outline', 'moinmoin', 'orgtbl', 'outline', 'pipe', 'plain', 'presto', 'pretty', 'psql', 'rounded_grid', 'rounded_outline', 'rst', 'simple', 'simple_grid', 'simple_outline', 'textile', 'tsv', 'unsafehtml', 'youtrack']\n"
     ]
    }
   ],
   "source": [
    "print(tabulate_formats)"
   ]
  }
 ],
 "metadata": {
  "kernelspec": {
   "display_name": "modernize",
   "language": "python",
   "name": "python3"
  },
  "language_info": {
   "codemirror_mode": {
    "name": "ipython",
    "version": 3
   },
   "file_extension": ".py",
   "mimetype": "text/x-python",
   "name": "python",
   "nbconvert_exporter": "python",
   "pygments_lexer": "ipython3",
   "version": "3.10.0"
  },
  "orig_nbformat": 4
 },
 "nbformat": 4,
 "nbformat_minor": 2
}
